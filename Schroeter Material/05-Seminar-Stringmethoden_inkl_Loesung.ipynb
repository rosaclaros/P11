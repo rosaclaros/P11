{
 "cells": [
  {
   "cell_type": "markdown",
   "metadata": {},
   "source": [
    "**Seminar 'Einführung in die prozedurale und objektorientierte Programmierung mit Python'**\n",
    "\n",
    "![Figure progr](https://www.dh-lehre.gwi.uni-muenchen.de/wp-content/uploads/img/python1819/icons8-buch-48.png)\n",
    "\n",
    "# Thema 5: Stringmethoden\n",
    "\n",
    "> Diese Sitzung beschäftigt sich mit der systematischen Verarbeitung von Texten. Stringmethoden sind die wichtigsten Operatoren, wenn es um die Verarbeitung von Texten geht.\n",
    "\n",
    "## Wichtige Stringmethoden\n",
    "\n",
    "In diesem Kapitel sollen einige Stringoperationen gezeigt werden, die eine zentrale Bedeutung bei der Verarbeitung von Texten aufweisen. Mithilfe dieser Stringoperationen können Texte systematisch zerlegt, Teilstrings gesucht und ersetzt oder auch entfernt werden. Für die Formatierung eines Fließtextes - beispielsweise in ein brauchbares Datenbankformat - sind folgende String-Methoden unerlässlich.\n",
    "\n",
    "**Anmerkung:** Die Angabe der Argumente in eckigen Klammern ([ ]) bedeutet, dass die Übergabe von Argumenten an dieser Stelle optional ist. Manche Stringmethoden können somit auch ohne Argumente aufgerufen werden.\n",
    "\n",
    "\n",
    "### **Methoden zum Trennen von Strings**\n",
    "\n",
    " | Methode/Beispiel | Beschreibung | \n",
    " | --- | --- | \n",
    " |`s.split([sep, maxsplit])` | Teilt den inhalt der Variablen `s` beim Vorkommen von `sep`. Die Suche beginnt am String-Anfang. Wenn Sie keine Zeichen als Argument angeben, erfolgt die Zerlegung am Leerzeichen. Sie können als zweites Argument `maxsplit` eine Zahl übergeben die festlegt, wie häufig die Zerlegung maximal stattfinden soll. |\n",
    " |`s.rsplit([sep, maxsplit])` | Teilt den Inhalt der Variablen `s` beim Vorkommen von `sep`. Die Suche beginnt am String-Ende. Es gelten die selben Bedingungen wie bei `s.split()`. |\n",
    " |`s.splitlines([keepends])` | Teilt den Inhalt der Variablen `s` beim Vorkommen von Zeilenvorschüben (`\"\\n\"`). Sollen die trennenden Zeilenvorschübe an den Enden der Zeilen erhalten bleiben, muss für den optionalen Parameter `keepends` der Wert `True` übergeben werden. |"
   ]
  },
  {
   "cell_type": "markdown",
   "metadata": {},
   "source": [
    "---\n",
    "#### .split([sep, maxsplit])"
   ]
  },
  {
   "cell_type": "code",
   "execution_count": null,
   "metadata": {},
   "outputs": [],
   "source": [
    "s = \"Hallo, das ist ein Text, den wir trennen wollen.\"\n",
    "\n",
    "# Beispiel 1:\n",
    "s_new1 = s.split() # Zerlegung am Leerzeichen\n",
    "print(s_new1)\n",
    "\n",
    "# Beispiel 2:\n",
    "s_new2 = s.split(\", \") # Zerlegung an Kommata, .split mit Argument 1\n",
    "print(s_new2)\n",
    "\n",
    "# Beispiel 3:\n",
    "s_new3 = s.split(\", \", 1) # Zerlegung am Komma, .split mit Argument 1 & 2\n",
    "print(s_new3)\n",
    "\n",
    "# Beispiel 4:\n",
    "s_new3 = s.split(maxsplit = 1) # Zerlegung am Leerzeichen, .split mit Argument 2\n",
    "print(s_new3)"
   ]
  },
  {
   "cell_type": "markdown",
   "metadata": {},
   "source": [
    "---\n",
    "#### .rsplit([sep, maxsplit])"
   ]
  },
  {
   "cell_type": "code",
   "execution_count": null,
   "metadata": {},
   "outputs": [],
   "source": [
    "s = \"Hallo, das ist ein Text, den wir trennen wollen.\"\n",
    "\n",
    "# Beispiel 1:\n",
    "s_new1 = s.rsplit() # Zerlegung am Leerzeichen\n",
    "print(s_new1)\n",
    "\n",
    "# Beispiel 2:\n",
    "s_new2 = s.rsplit(\", \") # Zerlegung an Kommata, .split mit Argument 1\n",
    "print(s_new2)\n",
    "\n",
    "# Beispiel 3:\n",
    "s_new3 = s.rsplit(\", \", 1) # Zerlegung am Komma, .rsplit mit Argument 1 & 2\n",
    "print(s_new3)\n",
    "\n",
    "# Beispiel 4:\n",
    "s_new3 = s.rsplit(maxsplit = 1) # Zerlegung am Leerzeichen, .split mit Argument 2\n",
    "print(s_new3)"
   ]
  },
  {
   "cell_type": "markdown",
   "metadata": {},
   "source": [
    "---\n",
    "#### .splitlines([keepends])"
   ]
  },
  {
   "cell_type": "code",
   "execution_count": null,
   "metadata": {},
   "outputs": [],
   "source": [
    "s = \"Hallo\\nDas ist ein Text\\nBitte behalte meine Newlines\\n\"\n",
    "\n",
    "# Beispiel 1:\n",
    "s_new1 = s.splitlines() # Zerlegung an \\n\n",
    "print(s_new1)\n",
    "\n",
    "# Beispiel 2:\n",
    "s_new2 = s.splitlines(True) # Zerlegung an \\n ; \\n wird behalten\n",
    "print(s_new2)"
   ]
  },
  {
   "cell_type": "markdown",
   "metadata": {},
   "source": [
    "---\n",
    "### Methoden zum Finden von Teilstrings\n",
    "\n",
    "| Methode/Beispiel | Beschreibung | \n",
    "| --- | --- |\n",
    "|`s.find(sub, [start, end])` | Sucht den (Teil)string `sub` im string `s`. Die Suche Beginnt am String-Anfang. Mit der Übergabe der optionalen Parameter `start` und `end` lässt sich die Suche eingrenzen und es wird nur der Teilstring `s[start:end]` betrachtet (das Element `s[end]` ist hierbei in der Betrachtung nicht mehr enthalten).|\n",
    "|`s.rfind(sub, [start, end])` | Sucht den (Teil)string `sub` im string `s`. Die Suche Beginnt am String-Ende. Es gelten die selben Bedingungen wie bei `s.find()`.|\n",
    "|`s.count(sub, [start, end])` | Zählt die Vorkommen von `sub` im string `s`.|"
   ]
  },
  {
   "cell_type": "markdown",
   "metadata": {},
   "source": [
    "---\n",
    "#### .find(sub, [start, end])"
   ]
  },
  {
   "cell_type": "code",
   "execution_count": null,
   "metadata": {},
   "outputs": [],
   "source": [
    "s = \"Hallo ich bin ein Text! Finde das 'e'!\"\n",
    "\n",
    "# Beispiel 1:\n",
    "ergebnis = s.find(\"e\")\n",
    "print(s.find(\"e\")) # Ausgabe der Position des zuerst gefundenen 'e', von vorne gesucht\n",
    "\n",
    "#Beispiel 2:\n",
    "print(s.find(\"e\", 15, 30)) # Ausgabe der Position des zuerst gefundenen 'e', gesucht wird von Position 15 bis 29."
   ]
  },
  {
   "cell_type": "markdown",
   "metadata": {},
   "source": [
    "---\n",
    "#### .rfind(sub, [start, end])"
   ]
  },
  {
   "cell_type": "code",
   "execution_count": null,
   "metadata": {},
   "outputs": [],
   "source": [
    "s = \"Hallo ich bin ein Text! Finde das 'e'!\"\n",
    "\n",
    "# Beispiel 1:\n",
    "print(s.rfind(\"e\")) # Ausgabe der Position des zuerst gefundenen 'e', von hinten gesucht\n",
    "\n",
    "# Beispiel 2:\n",
    "print(s.rfind(\"e\", 15, 30)) # Ausgabe der Position des zuerst gefundenen 'e', gesucht wird von Position 29 bis 15."
   ]
  },
  {
   "cell_type": "markdown",
   "metadata": {},
   "source": [
    "---\n",
    "#### .count(sub, [start, end])"
   ]
  },
  {
   "cell_type": "code",
   "execution_count": null,
   "metadata": {},
   "outputs": [],
   "source": [
    "s = \"Hallo ich bin ein Text mit extreeeeeeem vielen e! Finde alle 'e'!\"\n",
    "\n",
    "# Beispiel 1:\n",
    "print(s.count(\"e\")) # Ausgabe der Anzahl aller 'e'\n",
    "\n",
    "# Beispiel 2:\n",
    "print(s.count(\"e\", 26, 40)) # Ausgabe der Anzahl aller 'e', gezählt wird von Position 26 bis 39"
   ]
  },
  {
   "cell_type": "markdown",
   "metadata": {},
   "source": [
    "---\n",
    "### Methoden zum Ersetzen von Teil-Strings\n",
    "\n",
    "| Methode/Beispiel | Beschreibung | \n",
    " | --- | --- |\n",
    " | `s.replace(old, new, [count])` | Ersetzt die Vorkommen von `old` in `s` durch `new`. Mit der Übergabe des optionalen Parameters `count` lässt sich die maximale Ersetzungszahl festlegen.|\n",
    " |`s.lower()` | Ersetzt alle Großbuchstaben in `s` durch entsprechende Kleinbuchstaben.|\n",
    " |`s.upper()` | Ersetzt alle Kleinbuchstaben in `s` durch entsprechende Großbuchstaben.|\n",
    " "
   ]
  },
  {
   "cell_type": "markdown",
   "metadata": {},
   "source": [
    "---\n",
    "#### .replace(old, new, [count])"
   ]
  },
  {
   "cell_type": "code",
   "execution_count": null,
   "metadata": {},
   "outputs": [],
   "source": [
    "s = \"Halo, ich bin ein Text. Ich wil zwei l!\"\n",
    "\n",
    "# Beispiel 1:\n",
    "s_new1 = s.replace(\"l\", \"ll\") # Ersetzen aller 'l' durch 'll'\n",
    "print(s_new1)\n",
    "\n",
    "# Beispiel 2:\n",
    "s_new2 = s.replace(\"l\", \"ll\", 2) # Ersetzen der ersten beiden 'l' durch 'll'\n",
    "print(s_new2)"
   ]
  },
  {
   "cell_type": "markdown",
   "metadata": {},
   "source": [
    "---\n",
    "#### .lower() *und* s.upper()"
   ]
  },
  {
   "cell_type": "code",
   "execution_count": null,
   "metadata": {},
   "outputs": [],
   "source": [
    "s = \"Hallo, ich bin ein Beispieltext.\"\n",
    "\n",
    "# Beispiel .lower():\n",
    "print(s.lower())\n",
    "\n",
    "# Beispiel .upper():\n",
    "print(s.upper())"
   ]
  },
  {
   "cell_type": "markdown",
   "metadata": {},
   "source": [
    "---\n",
    "### Methoden zum Entfernen bestimmter Zeichen am String-Anfang und String-Ende\n",
    "\n",
    "| Methode/Beispiel | Beschreibung | \n",
    " | --- | --- | \n",
    " | `s.strip([chars])` | Entfernt Zeichen `chars` am Anfang und am Ende von `s`. Werden keine Zeichen als Argument angegeben, werden alle Whitespaces (Leerzeichen, Newlines, Tabulatoren, ...) entfernt.| \n",
    " | `s.lstrip([chars])` | Entfernt Zeichen `chars` am linken Ende von `s`. Es gelten die selben Bedingungen wie bei `s.strip()`| \n",
    " | `s.rstrip([chars])` | Entfernt Zeichen `chars` am rechten Ende von `s`. Es gelten die selben Bedingungen wie bei `s.strip()`|\n"
   ]
  },
  {
   "cell_type": "markdown",
   "metadata": {},
   "source": [
    "---\n",
    "#### .strip([chars])"
   ]
  },
  {
   "cell_type": "code",
   "execution_count": null,
   "metadata": {},
   "outputs": [],
   "source": [
    "s = \"000Das ist ein Text mit Formatierungsproblemen.0\\n\\t\"\n",
    "\n",
    "# Vergleichen Sie die Outputs:\n",
    "# print(s)\n",
    "# repr(): Möglichkeit, die vollständige Stringrepräsentation eines Objekts auf die Konsole auszugeben\n",
    "# print(repr(s)) # so sieht man beispielsweise auch Tabulatorenzeichen oder Newlines als Stringzeichen im String\n",
    "\n",
    "# Beispiel 1:\n",
    "s_new1 = s.strip() # .strip ohne Argument: Entfernung \\n und \\t\n",
    "print(s_new1)\n",
    "\n",
    "#  Beispiel 2:\n",
    "s_new2 = s_new1.strip(\"0\") # Entfernung der 0 an beiden Enden in s_new1\n",
    "print(s_new2)\n",
    "\n",
    "# Beispiel 3:\n",
    "s_new3 = s.strip(\"0\") # Nur wenn das zu \"stripende\" Zeichen außen am Wortrand steht, kann es entfernt werden\n",
    "print(s_new3)"
   ]
  },
  {
   "cell_type": "markdown",
   "metadata": {},
   "source": [
    "---\n",
    "#### .lstrip([chars])"
   ]
  },
  {
   "cell_type": "code",
   "execution_count": null,
   "metadata": {},
   "outputs": [],
   "source": [
    "s = \"000Das ist ein Text mit Formatierungsproblemen.0\\n\"\n",
    "\n",
    "# Beispiel 1:\n",
    "s_new1 = s.lstrip() # .strip ohne Argument: Entfernung von \\n auf der linken Seite des strings\n",
    "print(s_new1)\n",
    "\n",
    "#  Beispiel 2:\n",
    "s_new2 = s_new1.lstrip(\"0\") #Entfernung der 0 auf der linken Seite des strings\n",
    "print(s_new2)"
   ]
  },
  {
   "cell_type": "markdown",
   "metadata": {},
   "source": [
    "---\n",
    "#### .rstrip([chars])"
   ]
  },
  {
   "cell_type": "code",
   "execution_count": null,
   "metadata": {},
   "outputs": [],
   "source": [
    "s = \"000Das ist ein Text mit Formatierungsproblemen.0\\n\"\n",
    "\n",
    "# Beispiel 1:\n",
    "s_new1 = s.rstrip() # .strip ohne Argument: Entfernung von \\n auf der rechten Seite des strings\n",
    "print(s_new1)\n",
    "\n",
    "#  Beispiel 2:\n",
    "s_new2 = s_new1.rstrip(\"0\") #Entfernung der 0 auf der rechten Seite des strings\n",
    "print(s_new2)"
   ]
  },
  {
   "cell_type": "markdown",
   "metadata": {},
   "source": [
    "### Methode zur Verkettung von Elementen in sequenziellen Datentypen zu einem String\n",
    "\n",
    "| Methode/Beispiel | Beschreibung | \n",
    " | --- | --- |\n",
    " |`s.join(seq)` | Verkettet die Elemente der Sequenz `seq` zu einem neuen String, wobei `s` als Trennzeichen dient. Der Parameter `seq` ist hierbei ein beliebiges iterierbares Objekt, dessen Elemente alle Strings sein müssen.|\n",
    " "
   ]
  },
  {
   "cell_type": "markdown",
   "metadata": {},
   "source": [
    "---\n",
    "#### .join(seq)"
   ]
  },
  {
   "cell_type": "code",
   "execution_count": null,
   "metadata": {},
   "outputs": [],
   "source": [
    "##### Beispiel 1:\n",
    "liste = [\"Max\", \"Lara\", \"Tobias\", \"Horst\", \"Sepp\"]\n",
    "string = \", \".join(liste) # Verkettung aller Listenelemente zu einem neuen String mit dem Trennzeichen \", \"\n",
    "print(string)\n",
    "\n",
    "##### Beispiel 2:\n",
    "text  = \"Hallo\"\n",
    "buchstaben = \" - \".join(text) # Verkettung der Elemente des Strings \"Hallo\" zu einem neuen String mit dem Trennzeichen \" - \"\n",
    "print(buchstaben)\n",
    "\n",
    "##### Beispiel 3:\n",
    "liste = [\"www\", \".\", \"lmu-muenchen\", \".\", \"de\"]\n",
    "website = \"\".join(liste) # Verkettung aller Listenelemente zu einem neuen String mit leerem Trennzeichen\n",
    "print(website)"
   ]
  },
  {
   "cell_type": "markdown",
   "metadata": {},
   "source": [
    "---\n",
    "### Formatierung von Strings: Die `.format()`-Methode\n",
    "\n",
    "Die Konkatenation von Strings und Variablen kann mithilfe der `format()`-Methode erleichtert werden. Hierzu wird die Methode auf einen beliebigen String angewendet, im String fungiert die Zeichenkombination `{}` als Platzhalter. Für jeden Platzhalter wird der Methode ein Argument übergeben, welches in der Platzhalterreihenfolge in den String eingebaut wird:\n",
    "\n",
    "`\"... {x} ... {y} ... {z} ...\".format(x,y,z)`\n",
    "\n",
    "Im Folgenden ein Beispiel:"
   ]
  },
  {
   "cell_type": "code",
   "execution_count": null,
   "metadata": {},
   "outputs": [],
   "source": [
    "ph_1 = \"Peter Huber\"\n",
    "ph_2 = \"Goethestraße 3b\"\n",
    "ph_3 = \"80939 München\" \n",
    "\n",
    "print(\"Herr {} wohnt in der {} in {}\".format(ph_1, ph_2, ph_3))\n",
    "print(\"Herr {name} wohnt in der {strasse} in {ort}\".format(name = \"Franz Huber\", strasse = ph_2, ort = ph_3))\n"
   ]
  },
  {
   "cell_type": "markdown",
   "metadata": {},
   "source": [
    "### Beispiel: Zerlegung und Tokenisierung eines Fließtextes\n",
    "\n",
    "Der folgende Text wird schrittweise allein mithilfe der `replace()`, `strip()` und `split()`-Methoden in einen tokenisierten Fließtext umgewandelt. Damit die doppelten Hochkommata `\"` nicht als Funktionszeichen berücksichtigt werden, kommen zur Maskierung des Strings einfache Hochkommata `'` zum Einsatz. Der Text lautet:\n",
    "\n",
    "> \"Die Zauberformel lautet: Wechselseitiges Wohlwollen\", sagt der Philosoph und Bestseller-Autor Wilhelm Schmid (\"Gelassenheit\"). \"Ich muss nur selber wissen, was ich will, dann kann ich auch dem Anderen wohlwollen.\" Für Schmid, \"seit 35 Jahren mit Freuden mit ein und derselben Frau zusammen\", macht bereits die bloße Kontinuität einer Beziehung Sinn. - **SZ** *'Mach\\`s wie die Queen'*"
   ]
  },
  {
   "cell_type": "code",
   "execution_count": null,
   "metadata": {},
   "outputs": [],
   "source": [
    "text_sz = '\"Die Zauberformel lautet: Wechselseitiges Wohlwollen\", sagt der Philosoph und Bestseller-Autor Wilhelm Schmid (\"Gelassenheit\"). \"Ich muss nur selber wissen, was ich will, dann kann ich auch dem Anderen wohlwollen.\" Für Schmid, \"seit 35 Jahren mit Freuden mit ein und derselben Frau zusammen\", macht bereits die bloße Kontinuität einer Beziehung Sinn.'\n",
    "\n",
    "text_sz_format = text_sz.replace('\"', ' \" ')\n",
    "text_sz_format = text_sz_format.replace('(', '( ')\n",
    "text_sz_format = text_sz_format.replace(')', ' )')\n",
    "text_sz_format = text_sz_format.replace(':', ' :')\n",
    "text_sz_format = text_sz_format.replace('.', ' .')\n",
    "text_sz_format = text_sz_format.replace(',', ' ,')\n",
    "text_sz_format = text_sz_format.replace('  ', ' ') # Entfernung doppelter Leerzeichen aus dem Text\n",
    "text_sz_format = text_sz_format.strip()\n",
    "text_sz_format = text_sz_format.split(\" \")\n",
    "\n",
    "print(text_sz_format)"
   ]
  },
  {
   "cell_type": "markdown",
   "metadata": {},
   "source": [
    "### Übungsaufgabe:\n",
    "Die Datei `Der_gestiefelte_Kater.txt` Enthält das entsprechende Märchen der Gebrüder Grimm. Leider wurde die Textdatei aber manipuliert, sodass es erst nach einer Bereinigung des Textes möglich ist, das komplette Märchen per `print()`Befehl in seiner Originalform auszugeben.\n",
    "Schreiben Sie ein Programm, welches\n",
    "- die Datei `Der_gestiefelte_Kater.txt` einliest,\n",
    "- zählt, wie oft das Wort `NERVIGERSTRINGTOREPLACE⎵` im Text vorkommt, und dieses ersetzt,\n",
    "- den nun teilbereinigten Text in Wörter zerlegt (*Tip: An dieser Stelle schon überlegen, ob für die Print-Ausgabe später Absätze benötigt werden!*), \n",
    "- von den betroffenen Wörtern nun den Substring `123` entfernt (*Tip: Hier muss eine Schleife benutzt werden, welche über die Wörter iteriert!*),\n",
    "- den nun bereinigten Text mit Leerzeichen aneinandergereiht ausgibt\n",
    "- und unter die Ausgabe des kompletten Textes per `format()`-Methode folgende Bemerkung mit den Informationen über das heutige Datum und deinen Namen schreibt:`Dieser Text wurde am ... bearbeitet von ...`.\n"
   ]
  },
  {
   "cell_type": "code",
   "execution_count": null,
   "metadata": {},
   "outputs": [],
   "source": [
    "# Lösungsvorschlag:\n",
    "\n",
    "r_pointer = open(\"./seminar-material/05-material-seminar/Der_gestiefelte_Kater.txt\", \"r\", encoding=\"utf-8\") # Textdatei öffnen\n",
    "Der_gestiefelte_Kater = r_pointer.read() # Textdatei als Ganzes einlesen\n",
    "r_pointer.close() # Textdatei schließen\n",
    "\n",
    "print(\"So oft kommr NERVIGERSTRINGTOREPLACE vor:\" , Der_gestiefelte_Kater.count(\"NERVIGERSTRINGTOREPLACE \"))\n",
    "Der_gestiefelte_Kater = Der_gestiefelte_Kater.replace(\"NERVIGERSTRINGTOREPLACE \", \"\")\n",
    "Der_gestiefelte_Kater = Der_gestiefelte_Kater.replace(\"NERVIGERSTRINGTOREPLACE\", \"\")\n",
    "\n",
    "Der_gestiefelte_Kater_Zeilen = Der_gestiefelte_Kater.splitlines() # Absätze des ganzen Textes voneinander trennen\n",
    "Der_gestiefelte_Kater_Final = [] # Leere Liste erstellen, in die nachher die einzelnen bereinigten Wörter eingefüllt werden\n",
    "\n",
    "for zeile in Der_gestiefelte_Kater_Zeilen: # Absatzweise den Text bearbeiten ...\n",
    "    wörter_pro_zeile = zeile.split() # ... und in jeder Zeile die Wörter voneinander trennen.\n",
    "    \n",
    "    for wort in wörter_pro_zeile: # jedes Wort inerhalb einer Zeile bereinigen ...\n",
    "        wort = wort.strip(\"\\ufeff123\") \n",
    "        wort = wort.strip(\"123\")\n",
    "        Der_gestiefelte_Kater_Final.append(wort) # ... und in die finale Liste einfüllen\n",
    "    \n",
    "    Der_gestiefelte_Kater_Final.append(\"\\n\") # nachdem ein Absatz fertig bearbeitet ist, wird ein \"\\n\" in die finale Liste eingefüllt, um die Absätze später wieder erzeugen zu können.\n",
    "    \n",
    "datum = \"25.11.2021\" # Befüllen der Variablen für den .format-print\n",
    "autor = \"Veronika Gacia\"\n",
    "\n",
    "Der_gestiefelte_Kater_Final = \" \".join(Der_gestiefelte_Kater_Final) #Alle Elemente der finalen Liste mit Leerzeichen aneinanderreihen\n",
    "print(Der_gestiefelte_Kater_Final)\n",
    "print(\"Dieser Text wurde am {} bearbeitet von {}.\".format(datum, autor)) # .format-print"
   ]
  }
 ],
 "metadata": {
  "celltoolbar": "Raw Cell Format",
  "kernelspec": {
   "display_name": "Python 3 (ipykernel)",
   "language": "python",
   "name": "python3"
  },
  "language_info": {
   "codemirror_mode": {
    "name": "ipython",
    "version": 3
   },
   "file_extension": ".py",
   "mimetype": "text/x-python",
   "name": "python",
   "nbconvert_exporter": "python",
   "pygments_lexer": "ipython3",
   "version": "3.11.5"
  }
 },
 "nbformat": 4,
 "nbformat_minor": 2
}
