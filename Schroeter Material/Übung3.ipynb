{
 "cells": [
  {
   "cell_type": "code",
   "execution_count": 2,
   "id": "75986de8",
   "metadata": {},
   "outputs": [
    {
     "name": "stdout",
     "output_type": "stream",
     "text": [
      "Please enter the first number: 40\n",
      "Please enter the second number: 1\n",
      "Would you like to sum, subtract, multiply or divide the numbers?: subtract\n",
      "Please enter the desired name for the output file (including .txt): gogo.txt\n",
      "40 - 1 = 39\n"
     ]
    }
   ],
   "source": [
    "number1 = int(input(\"Please enter the first number: \"))\n",
    "number2 = int(input(\"Please enter the second number: \"))\n",
    "action = input(\"Would you like to sum, subtract, multiply or divide the numbers?: \")\n",
    "file_name = input(\"Please enter the desired name for the output file (including .txt): \")\n",
    "\n",
    "with open(file_name, 'a') as file:\n",
    "    if \"sum\" in action.lower():\n",
    "        if number1 < 0 or number2 < 0:\n",
    "            result = \"We do not accept negative numbers.\"\n",
    "        else:\n",
    "            number3 = number1 + number2\n",
    "            result = f\"{number1} + {number2} = {number3}\"\n",
    "\n",
    "    elif \"subtract\" in action.lower():\n",
    "        if number1 < 0 or number2 < 0:\n",
    "            result = \"Negative numbers are not accepted.\"\n",
    "        else:\n",
    "            number4 = number1 - number2\n",
    "            result = f\"{number1} - {number2} = {number4}\"\n",
    "\n",
    "    elif \"multiply\" in action.lower():\n",
    "        if number1 < 0 or number2 < 0:\n",
    "            result = \"We do not accept negative numbers.\"\n",
    "        else:\n",
    "            number5 = number1 * number2\n",
    "            result = f\"{number1} * {number2} = {number5}\"\n",
    "\n",
    "    elif \"divide\" in action.lower():\n",
    "        if number1 == 0 or number2 == 0:\n",
    "            result = \"Zero cannot be divided.\"\n",
    "        else:\n",
    "            number6 = number1 // number2\n",
    "            result = f\"{number1} // {number2} = {number6}\"\n",
    "\n",
    "    else:\n",
    "        result = \"Invalid action. Please indicate 'sum', 'subtract', 'multiply', or 'divide'.\"\n",
    "\n",
    "    print(result)  # Print the result to the console.\n",
    "    file.write('\\n' + result)  # Write the result to the file.\n"
   ]
  },
  {
   "cell_type": "code",
   "execution_count": null,
   "id": "6d31f4b3",
   "metadata": {},
   "outputs": [],
   "source": []
  }
 ],
 "metadata": {
  "kernelspec": {
   "display_name": "Python 3 (ipykernel)",
   "language": "python",
   "name": "python3"
  },
  "language_info": {
   "codemirror_mode": {
    "name": "ipython",
    "version": 3
   },
   "file_extension": ".py",
   "mimetype": "text/x-python",
   "name": "python",
   "nbconvert_exporter": "python",
   "pygments_lexer": "ipython3",
   "version": "3.11.5"
  }
 },
 "nbformat": 4,
 "nbformat_minor": 5
}
