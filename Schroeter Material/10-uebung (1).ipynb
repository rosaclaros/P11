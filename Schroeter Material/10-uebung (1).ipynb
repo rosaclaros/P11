{
 "cells": [
  {
   "cell_type": "markdown",
   "metadata": {},
   "source": [
    "**Seminar 'Einführung in die prozedurale und objektorientierte Programmierung mit Python'**\n",
    "\n",
    "# Übung zu Thema 10: Objektorientierung II"
   ]
  },
  {
   "cell_type": "markdown",
   "metadata": {},
   "source": [
    "### Aufgabe 1: Erweiterung der Klasse 'Student'\n",
    "\n",
    "Erweitern Sie ihr Programm aus der letzten Hausaufgabe um folgende Punkte:\n",
    "\n",
    "1. Erstellen Sie zu Ihrem Programmcode aus Aufgabe 1 der letzten Hausaufgabe eine Klasse `Person`, die die Attribute `vorname` und `nachname` erhält und schreiben Sie **getter-** und **setter- Methoden** für die Attribute.<br><br>\n",
    " \n",
    "2. Lassen Sie nun die Klasse `Student` von der Klasse `Person` erben und passen sie die Init-Methode dementsprechend an.<br><br>\n",
    "\n",
    "3. Erstellen Sie nun eine Klasse `Dozent`, die ebenfalls von der Klasse `Person` **erbt**. Zusätzlich soll diese Klasse noch die privaten Attribute `titel` (für den akademischen Titel, den eine Instanz dieser Klasse trägt) und `personalnummer` besitzen. <br><br>\n",
    "\n",
    "4. Erweitern Sie das Programm nun noch um den optionalen Teil aus der letzten Hausaufgabe (Aufgabe 1):\n",
    "\n",
    "    * Erstellen Sie eine Klasse `Lehrveranstaltung`, die die privaten Attribute `titel`, `semester` und `dozent` besitzt. Außerdem soll die Klasse nun ein Attribut teilnehmer bekommen, das alle Studenten, die die Lehrveranstaltung besuchen, enthalten soll. \n",
    "    \n",
    "    * Legen Sie wiederum **getter-** und **setter- Methoden** für diese Attribute an.\n",
    "\n",
    "    * Erweitern Sie das Attribut `lehrveranstaltungen` sowie alle davon betroffenen Methoden der Klasse `Student` nun so, dass sie mit Instanzen der Klasse `Lehrveranstaltung` besetzt werden können. Achten Sie zudem darauf, dass in diesen Methoden nun auch immer die Teilnehmerlisten der jeweiligen Lehrveranstaltung aktualisiert werden.<br><br>\n",
    "    \n",
    "    * Schreiben Sie wieder eine Ausgabe-Methode, die die Informationen zu einer Lehrveranstaltung ausgibt. Es sollen alle Attribute sowie die Attribute des zugewiesenen Dozenten (`titel`, `vorname`, `nachname` und `personalnummer`) ausgegeben werden. Zudem sollen die Informationen ihrer Teilnehmer (`vorname`, `nachname` sowie `matrikelnummer`) ausgegeben werden.\n",
    "\n",
    "Optional:\n",
    "    Alle Klassen können in externen Modulen untergebracht werden."
   ]
  },
  {
   "cell_type": "code",
   "execution_count": null,
   "metadata": {},
   "outputs": [],
   "source": [
    "# Aufgabe 1\n",
    "\n",
    "# Ihr Skript\n"
   ]
  }
 ],
 "metadata": {
  "kernelspec": {
   "display_name": "Python 3",
   "language": "python",
   "name": "python3"
  },
  "language_info": {
   "codemirror_mode": {
    "name": "ipython",
    "version": 3
   },
   "file_extension": ".py",
   "mimetype": "text/x-python",
   "name": "python",
   "nbconvert_exporter": "python",
   "pygments_lexer": "ipython3",
   "version": "3.7.3"
  }
 },
 "nbformat": 4,
 "nbformat_minor": 2
}
