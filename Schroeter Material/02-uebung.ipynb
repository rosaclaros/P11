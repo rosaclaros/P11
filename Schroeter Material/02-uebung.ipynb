{
 "cells": [
  {
   "cell_type": "markdown",
   "metadata": {},
   "source": [
    "**Seminar 'Einführung in die prozedurale und objektorientierte Programmierung mit Python'**\n",
    "\n",
    "# Übung zu Thema 2: Listen, Listenoperationen & Dateiverarbeitung"
   ]
  },
  {
   "cell_type": "markdown",
   "metadata": {},
   "source": [
    "### Aufgabe 1: Dateiverarbeitung\n",
    "Programmieren Sie ein Skript zum Einlesen einer Datei (*Namensliste.txt*) mit anschließender Ausgabe des Inhaltes.\n",
    "\n",
    "Das Skript soll Folgendes enthalten:\n",
    "- Möglichkeit zur **manuellen Eingabe** des Dateinamens\n",
    "- **Einlesen** und Speicherung des Dateiinhaltes\n",
    "- **Ausgabe** des gesamten Inhaltes der Datei\n",
    "\n",
    "Anmerkung: Die Datei soll sich im jupyter-Ordner Dokumente befinden."
   ]
  },
  {
   "cell_type": "code",
   "execution_count": null,
   "metadata": {
    "collapsed": true
   },
   "outputs": [],
   "source": [
    "# Aufgabe 1\n",
    "import io\n",
    "\n",
    "r_pointer = io.open(\"/users/ran\")\n",
    "\n",
    "\n",
    "\n",
    "#IHR SKRIPT"
   ]
  },
  {
   "cell_type": "markdown",
   "metadata": {},
   "source": [
    "### Aufgabe 2: Anwahl von Listenelementen\n",
    "Wählen Sie aus der unteren Liste folgende **Elemente** an und geben Sie die entsprechenden Werte aus:\n",
    "- Zahlen: 2,4,6,10,12,15,16\n",
    "- Strings: *Haus*, *ist*, *nicht*\n",
    "- Booletisch: False, True"
   ]
  },
  {
   "cell_type": "code",
   "execution_count": 1,
   "metadata": {},
   "outputs": [],
   "source": [
    "# Aufgabe 2\n",
    "\n",
    "liste = [1,2,[3,4,5,[6,7],8],9,10,[[11,False,12],13,14],15,\"Haus\",[\"Baum\",\"ist\",[\"nicht\"],\n",
    "        True],16]\n"
   ]
  },
  {
   "cell_type": "markdown",
   "metadata": {},
   "source": [
    "### Aufgabe 3: Dictionary erstellen und abfragen\n",
    "Erstellen Sie ein Dictionary Ihres Stundenplanes.\n",
    "\n",
    "Der Stundenplan soll folgende Strukturierungsmerkmale enthalten:\n",
    "- **Wochentage** (Index)\n",
    "- **Ordnungsnummer**, pro Wochentag bei 1 neu beginnend (Index)\n",
    "- **Veranstaltungstitel** (Wert)\n",
    "- **Veranstaltungszeitpunkt** (Wert)\n",
    "\n",
    "Das Dictionary soll es erlauben, alle Veranstaltungen für jeden Wochentag zusammen mit dem Veranstaltungszeitpunkt abzufragen. Zusätzlich soll es für jeden Wochentag möglich sein zu bestimmen, welches die erste, zweite etc. Veranstaltung ist."
   ]
  },
  {
   "cell_type": "code",
   "execution_count": null,
   "metadata": {
    "collapsed": true
   },
   "outputs": [],
   "source": [
    "# Aufgabe 3\n",
    "\n",
    "#IHR DICTIONARY"
   ]
  },
  {
   "cell_type": "markdown",
   "metadata": {},
   "source": [
    "### Aufgabe 4: Liste manipulieren\n",
    "Bereinigen Sie alle Fehler aus der unten stehenden Liste.\n",
    "\n",
    "Das Originalzitat von Goethe:\n",
    "\n",
    ">*Es ist nicht genug zu wissen - man muss auch anwenden. Es ist nicht genug zu wollen - man muss auch tun.*\n",
    "\n",
    "Bereinigen Sie die im folgenden präsentierte tokenisierte und nach Sätzen getrennte Liste, so dass sie exakt dem Originalzitat entspricht. Es existieren mehrere Lösungswege, setzen sie die bekannten **Listenoperationen** und **Listenmethoden** ein."
   ]
  },
  {
   "cell_type": "code",
   "execution_count": null,
   "metadata": {
    "collapsed": true
   },
   "outputs": [],
   "source": [
    "# Aufgabe 4\n",
    "\n",
    "zitat = [[\"Es\",\"ist\",\"nicht\",\"zu\",\"wissen\",\"-\",\"man\",\"muss\",\"es\",\"auch\",\"anwenden\",\".\"],\n",
    "         [\"Es\",\"its\",\"nicht\",\"genug\",\"zu\",\"wollen\",\"-\",\"man\",\"mus\",\"auch\"]]"
   ]
  }
 ],
 "metadata": {
  "kernelspec": {
   "display_name": "Python 3 (ipykernel)",
   "language": "python",
   "name": "python3"
  },
  "language_info": {
   "codemirror_mode": {
    "name": "ipython",
    "version": 3
   },
   "file_extension": ".py",
   "mimetype": "text/x-python",
   "name": "python",
   "nbconvert_exporter": "python",
   "pygments_lexer": "ipython3",
   "version": "3.11.5"
  }
 },
 "nbformat": 4,
 "nbformat_minor": 2
}
