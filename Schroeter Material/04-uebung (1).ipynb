{
 "cells": [
  {
   "cell_type": "markdown",
   "metadata": {},
   "source": [
    "**Seminar 'Einführung in die prozedurale und objektorientierte Programmierung mit Python'**\n",
    "\n",
    "# Übung zu Thema 4: Schleifen & Stapelverarbeitung\n",
    "\n",
    "### Aufgabe 1 : Zählschleifen mit for und while\n",
    "\n",
    "Gegeben ist die folgende Liste:\n",
    "\n",
    "`obstliste = [\"Apfel\", \"Birne\", \"Orange\", \"Banane\", \"Kirsche\", \"Himbeere\", \"Erdbeere\", \"Kiwi\", \"Mango\", \"Mandarine\"]`\n",
    "\n",
    "Das Skript soll folgende Aufgaben übernehmen:\n",
    "- Die Stringliste mit einer **for-Schleife** durchgehen und jedes Element in die Konsole ausgeben.\n",
    "- Mit einer **for-Schleife** die Zahlen 1-10 vor dem jeweiligen Listenelement in der Ausgabe ausgeben.\n",
    "- Das gleiche Ergebnis mit **while** erzielen.\n",
    "\n",
    "**optional:** Versuchen Sie die beiden erstellten Schleifen mit Hilfe von **range()** abzuwandeln.\n",
    "\n",
    "so soll der Output am Ende aussehen: \n",
    "\n",
    "`1 Apfel\n",
    "2 Birne\n",
    "3 Orange\n",
    "...`"
   ]
  },
  {
   "cell_type": "code",
   "execution_count": 15,
   "metadata": {},
   "outputs": [],
   "source": [
    "# Aufgabe 1a:\n",
    "\n",
    "# Skript"
   ]
  },
  {
   "cell_type": "markdown",
   "metadata": {},
   "source": [
    "### Aufgabe 2: Bedingungsgesteuerte Schleifen mit while\n",
    "\n",
    "Programm zum Erraten einer Zahl:\n",
    "Verwenden Sie eine while-Schleife, um so lange einen User-Input nachzufragen, bis die korrekte Zahl erraten wurde.\n",
    "Das Skript soll Folgendes enthalten:\n",
    "- Funktion zur **Eingabe** zum Erraten der Zahl\n",
    "- Eine **Variable `input_valid`**, die Sie zu Beginn des Programmes auf `False`setzen\n",
    "- Eine **while-Schleife**, in welcher der User-Input mit der zu erratenden Zahl abgeglichen wird\n",
    "- Die **while-Schleife** endet erst, wenn der Input richtig war"
   ]
  },
  {
   "cell_type": "code",
   "execution_count": null,
   "metadata": {},
   "outputs": [],
   "source": [
    "# Aufgabe 1b:\n",
    "\n",
    "#Skript"
   ]
  },
  {
   "cell_type": "markdown",
   "metadata": {},
   "source": [
    "### Aufgabe 3: Automatische Satzanalyse\n",
    "\n",
    "Erweitern Sie das Skript \"Satz und Nebensatz\" aus der Sitzung zum Thema \"Konditionale Kontrollstrukturen\" so, dass es nicht manuell eingegeben Sätze verarbeitet, sondern alle Sätze der Textdatei `satzbewertung.txt`. Die Ergebnisse der Bewertung sollen in eine Textdatei mit dem Namen `evaluation.txt` geschrieben werden.\n",
    "\n",
    "Das Skript soll Folgendes enthalten:\n",
    "- **Einlesefunktion** für die Textdatei `satzbewertung.txt`\n",
    "- Skript zur **Satzbewertung** (siehe Skriptbeispiel zum Thema 3) aller Sätze nach den Parametern: `1. Deklarativsatz / Interrogativsatz / Exklamativsatz; 2. Hypotaktisch / Parataktisch / mit Parenthese`\n",
    "- Funktion zur **Ausgabe** der Satzbewertung in die Textdatei `evaluation.txt`\n",
    "\n",
    "**OPTIONAL**: Optimieren Sie das Skriptbeispiel mithilfe von Schleifen."
   ]
  },
  {
   "cell_type": "code",
   "execution_count": 2,
   "metadata": {},
   "outputs": [],
   "source": [
    "# Aufgabe 2:\n",
    "\n",
    "# Skript"
   ]
  },
  {
   "cell_type": "markdown",
   "metadata": {},
   "source": [
    "### Aufgabe 4: Stapelverarbeitung\n",
    "\n",
    "Schreiben Sie ein Skript, welches die Textdatei `satzbewertung.txt` ausliest, und jeden einzelnen Satz in eine eigenständige Textdatei schreibt nach dem Muster:\n",
    "\n",
    "`1_satz.txt`, `2_satz.txt`, `3_satz.txt` etc.\n",
    "\n",
    "Machen Sie im nächsten Schritt diesen 'Zerlegungsprozess' rückgängig, indem Sie das `glob`-Paket verwenden, um die Inhalte der eben geschrieben Textdateien (`1_satz.txt`, `2_satz.txt`, `3_satz.txt` etc.) wieder zu einer einzigen Datei `satzsynthese.txt` zu vereinigen.\n",
    "\n",
    "Das Skript soll Folgendes enthalten:\n",
    "- **Einlesefunktion** für die Textdatei `satzbewertung.txt`\n",
    "- Skript zu **Verteilung der eingelesenen Sätze** auf Textdateien nach dem Muster `1_satz.txt`, `2_satz.txt`, `3_satz.txt` etc.\n",
    "- Skript zum **automatischen Einlesen** aller geschriebener Textdateien.\n",
    "- Funktion zu **Ausgabe** der eingelesenen Daten in eine Textdatei `satzsynthese.txt`"
   ]
  },
  {
   "cell_type": "code",
   "execution_count": null,
   "metadata": {},
   "outputs": [],
   "source": [
    "# Aufgabe 3:\n",
    "\n",
    "# Skript"
   ]
  },
  {
   "cell_type": "markdown",
   "metadata": {},
   "source": [
    "### Aufgabe 5: Stoppwortliste\n",
    "\n",
    "Schreiben Sie ein Skript, welches die Textdatei `satzbewertung.txt` ausliest. Lesen Sie zudem die Datei `stoppwoerter.txt` ein und zählen Sie, wie viele Stoppwörter in der Datei `satzbewertung.txt` vorkommen. \n",
    "\n",
    "\n",
    "Das Skript soll Folgendes enthalten:\n",
    "- **Einlesefunktion** für die Textdatei `satzbewertung.txt`\n",
    "- **Einlesefunktion** für die Textdatei `stoppwoerter.txt`\n",
    "\n",
    "- Skript zur Zählung der Stoppwörter in `satzbewertung.txt`\n",
    "- Ausgabe der Anzahl der vorkommenden Stoppwörter"
   ]
  },
  {
   "cell_type": "code",
   "execution_count": null,
   "metadata": {},
   "outputs": [],
   "source": [
    "# Aufgabe 4:\n",
    "\n",
    "# Skript"
   ]
  }
 ],
 "metadata": {
  "kernelspec": {
   "display_name": "Python 3",
   "language": "python",
   "name": "python3"
  },
  "language_info": {
   "codemirror_mode": {
    "name": "ipython",
    "version": 3
   },
   "file_extension": ".py",
   "mimetype": "text/x-python",
   "name": "python",
   "nbconvert_exporter": "python",
   "pygments_lexer": "ipython3",
   "version": "3.8.3"
  }
 },
 "nbformat": 4,
 "nbformat_minor": 2
}
