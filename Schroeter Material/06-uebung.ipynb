{
 "cells": [
  {
   "cell_type": "markdown",
   "metadata": {},
   "source": [
    "**Seminar 'Einführung in die prozedurale und objektorientierte Programmierung mit Python'**\n",
    "\n",
    "# Übung zu Thema 6: Reguläre Ausdrücke\n",
    "\n",
    "### Aufgabe 1: Mail-Adressen-Prüfung\n",
    "\n",
    "Schreiben Sie ein Programm, welches eingegebene Mailadressen mit Hilfe eines regulären Ausdrucks auf deren Echtheit testet. Es sollen nur E-Mail-Adressen akzeptiert werden, die dem Muster Vorname.Nachname@emaildienst.laenderkuerzel entsprechen.\n",
    "Die Mailadresse Max.Mustermann@web.de soll also beispielsweise akzeptiert werden, obsalat123@hallo.bliblablubb hingegen nicht.\n",
    "\n",
    "- Entspricht die eingegebene E-Mail-Adresse nicht dem gewünschten Muster, soll der Benutzer erneut zur Eingabe aufgefordert werden.\n",
    "- Wurde eine akzeptierte Mailadresse eingegeben, sollen E-Mail-Adresse, Vorname und Nachname gemeinsam in einer Variable gespeichert werden (Stichwort: *Tupel*).\n",
    "\n",
    "Ihr Skript sollte Folgendes enthalten:\n",
    "- Möglichkeit zur **Eingabe** einer E-Mail-Adresse.\n",
    "- **Schleife** zum testen der Eingabe auf Akzeptanz (gegebenenfalls erneute Eingabeaufforderung).\n",
    "- **Test** der eingegebenen Mailadresse mit Hilfe eines **regulären Ausdrucks**.\n",
    "- **Speicherung** von akzeptierten E-Mail-Adressen, Namen, und Vornamen.\n",
    "\n",
    "**Anmerkung:** Wählen Sie gerne einige Ihnen bekannte E-Mail-Dienste und Länderkürzel aus, um sich die Aufgabe zu erleichtern."
   ]
  },
  {
   "cell_type": "code",
   "execution_count": null,
   "metadata": {},
   "outputs": [],
   "source": [
    "# Aufgabe 1:\n",
    "\n",
    "# IHR SKRIPT"
   ]
  },
  {
   "cell_type": "markdown",
   "metadata": {},
   "source": [
    "### Aufgabe 2: Datum anpassen\n",
    "\n",
    "In den USA wird in der klassischen Schreibweise der Monat dem Tag vorangestellt. Das Muster einer Datumsangabe ist somit **MM-DD-YYYY**. Die Datumsangabe *03-12-2001* bedeutet also: *12. März 2001* (und nicht etwa *03. Dezember 2001*).\n",
    "In der Datei `date_us.txt` finden sich einige Datumsangaben in dieser us-amerikanischen Schreibweise.\n",
    "\n",
    "Nehmen Sie sich die Datumsangaben mit regulären Ausdrücken vor und verändern Sie deren Struktur zu der in Deutschland üblichen. Aus `12-17-2020` soll `17.12.2020` werden:\n",
    "- vertauschen Sie dafür die Positionen von Monat und Tag und \n",
    "- ersetzen Sie das Trennzeichen `-` durch `.`.\n",
    "\n",
    "Das Skript soll Folgendes enthalten:\n",
    "- **Einlesen** der Datei `date_us.txt`\n",
    "- Skriptbestandteile zur **Durchführung der Änderungen** mithilfe von regulären Ausdrücken\n",
    "- **Ausgabe** des abgeänderten Datums auf die Konsole"
   ]
  },
  {
   "cell_type": "code",
   "execution_count": null,
   "metadata": {},
   "outputs": [],
   "source": [
    "# Aufgabe 2:\n",
    "\n",
    "# IHR SKRIPT"
   ]
  },
  {
   "cell_type": "markdown",
   "metadata": {},
   "source": [
    "### Aufgabe 3: Programm vervollständigen (Erkennung von Kfz-Kennzeichen)\n",
    "\n",
    "Ergänzen Sie den vorgegebenen Code zu Aufgabe 1 des letzten Übungsblattes. An den Stellen mit Kommentar `# TODO` ist jeweils eine Zeile Code einzufügen bzw. zu ergänzen.\n",
    "\n",
    "... hier noch einmal die Aufgabenstellung aus Übung 07 / Aufgabe 01:\n",
    "\n",
    "- Iterieren sie mit Hilfe einer Schleife über die Liste und prüfen Sie, ob es sich beim jeweiligen Listeneintrag um ein gültiges Kfz-Kennzeichen handelt.\n",
    "\n",
    "- Ein gültiges Kfz-Kennzeichen ist definiert durch: \n",
    "    - ein <i> Unterscheidungszeichen </i> aus einem, zwei oder drei Großbuchstaben, gefolgt von\n",
    "    - einem <i>Bindestrich</i>, gefolgt von\n",
    "    - einer <i>Erkennungsnummer</i> aus einem oder zwei Großbuchstaben gefolgt von\n",
    "    - einer bis max. vier Ziffern ohne führende Nullen.\n",
    "    \n",
    "- Zählen Sie, wie viele Kennzeichen gülitg sind und wie viele nicht.\n",
    "\n",
    "Das Skript soll Folgendes enthalten:\n",
    "- **Einlesefunktion** für die Textdatei `kennzeichen.txt`\n",
    "- **Schleife** zum Durchlaufen der Liste\n",
    "- **Bereinigung** jedes Listeneintrags von Whitespace-Charactern\n",
    "- **Test**, ob der Listeneintrag ein zulässiges Kennzeichen ist mit **Zählung** der korrekten Kennzeichen\n",
    "\n"
   ]
  },
  {
   "cell_type": "code",
   "execution_count": null,
   "metadata": {},
   "outputs": [],
   "source": [
    "# Aufgabe 3:\n",
    "\n",
    "import # TODO\n",
    "r_pointer = open(\"kennzeichen.txt\",\"r\",encoding=\"utf8\")\n",
    "# TODO\n",
    "# TODO\n",
    "\n",
    "count = 0\n",
    "\n",
    "for kennzeichen in kennzeichen_liste:\n",
    "    # TODO\n",
    "    \n",
    "    if re.search(r\"\",kennzeichen): # TODO\n",
    "        # TODO\n",
    "        # TODO\n",
    "    else:\n",
    "        # TODO\n",
    "    \n",
    "# TODO"
   ]
  }
 ],
 "metadata": {
  "kernelspec": {
   "display_name": "Python 3 (ipykernel)",
   "language": "python",
   "name": "python3"
  },
  "language_info": {
   "codemirror_mode": {
    "name": "ipython",
    "version": 3
   },
   "file_extension": ".py",
   "mimetype": "text/x-python",
   "name": "python",
   "nbconvert_exporter": "python",
   "pygments_lexer": "ipython3",
   "version": "3.9.12"
  }
 },
 "nbformat": 4,
 "nbformat_minor": 2
}
