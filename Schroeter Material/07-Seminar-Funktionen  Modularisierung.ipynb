{
 "cells": [
  {
   "cell_type": "markdown",
   "metadata": {},
   "source": [
    "**Seminar 'Einführung in die prozedurale und objektorientierte Programmierung mit Python'**\n",
    "\n",
    "![Figure progr](https://www.dh-lehre.gwi.uni-muenchen.de/wp-content/uploads/img/python1819/icons8-buch-48.png)\n",
    "\n",
    "# Thema 7: Funktionen & Modularisierung\n",
    "\n",
    "> Da Sie nun die wichtigsten Programmiergrundlagen beherrschen, werden Sie nun zwei Konzepte erlernen, mit denen Sie sich Ihre Arbeit erleichtern können. Mithilfe eigener Funktionen können Sie häufig verwendete Programmbestandteile beliebig oft ausführen, ohne sie jedes Mal neu schreiben zu müssen. Sie lernen in dieser Stunde auch, wie Sie ihre Funktionen als externe Module abspeichern, die im Anschluss in all ihren Projekten zum Einsatz kommen können.\n",
    "\n",
    "## Eigene Funktionen\n",
    "\n",
    "Funktionen sind Ihnen bereits aus den früheren Sitzungen bekannt, denn in Python gibt es einige vordefinierte Funktionen, die dem Programmierer / der Programmiererin jederzeit (ohne ein Modul zu importieren) zur Verfügung stehen. Built-in Funktionen, die wir in diesem Seminar bereits häufig verwendet haben sind beispielsweise die Funktionen `len()` oder `range()`.\n",
    "**Exkurs:** Hier finden Sie eine vollständige Liste aller in Python zur Verfügung stehenden Built-in Funktionen: https://docs.python.org/3/library/functions.html\n",
    "\n",
    "Funktionen bestehen stets aus dem **Funktionsnamen** und einer Reihe von **(optionalen) Argumenten bzw. Parametern**, die an die Funktion übergeben werden können. So besteht die Funktion `range(start, stop, step)` aus dem Funktionsnamen sowie den drei Argumenten für den Startwert, den Stopwert sowie dem Zählungsabstand. \n",
    "\n",
    "Welche Verarbeitungsschritte innerhalb der Funktion ablaufen, können Sie nicht sehen, da lediglich der Ausgabewert zurückgegeben wird. Bei der Verwendung von Funktionen spricht man auch von Abstraktion, da Sie sich auf die wesentlichen Schritte Ihres Programmentwurfes konzentrieren können ohne die Notwendigkeit, sich jedes Mal in den Details der Programmgestaltung zu verlieren. Mithilfe eigener Funktionen können Sie sich die Arbeit erheblich erleichtern und Ihren Code wesentlich übersichtlicher gestalten.\n",
    "\n",
    "### Definition der Funktion\n",
    "\n",
    "Um eine eigene Funktion zu schreiben, müssen Sie sie definieren. Hierzu legen Sie zunächst den **Funktionsnamen** fest und im Anschluss daran, welche und wieviele **Argumente** Sie an die Funktion übergeben wollen. Sie definieren eine Funktion mithilfe des Schlüsselwortes `def` vor der Funktionsbezeichnung, der Funktionskörper wird im klassischen Python-Einrückungssystem geschrieben. Eine Funktion muss stets definiert werden bevor sie aufgerufen werden kann."
   ]
  },
  {
   "cell_type": "code",
   "execution_count": null,
   "metadata": {},
   "outputs": [],
   "source": [
    "#Definition einer Funktion\n",
    "\n",
    "#def Funktionsname(Argumente):\n",
    "    #Funktionskoerper\n"
   ]
  },
  {
   "cell_type": "markdown",
   "metadata": {},
   "source": [
    "Funktionen müssen immer einen Wert zurückgeben, können aber mit oder ohne **Rückgabewert** definiert werden. \n",
    " - Jede Funktion gibt automatisch `None` zurück, wenn der Rückgabewert nicht ausdrücklich angegeben wurde.\n",
    " - In manchen Fällen allerdings werden die Ergebnisse der Funktion für den weiteren Programmverlauf benötigt und sollen weiter verarbeitet werden. Hier macht es Sinn Funktionen zu definieren, welche am Ende des Funktionskörpers mithilfe des `return`-Statements das Ergebnis des Funktionsaufrufes zurückliefern."
   ]
  },
  {
   "cell_type": "code",
   "execution_count": null,
   "metadata": {},
   "outputs": [],
   "source": [
    "# Funktionen mit oder ohne Rückgabewert\n",
    "def mini_return():\n",
    "    inhalt = \"Hallo ich bin mini_return\"\n",
    "    return inhalt # Rückgabe des Wertes der Variable \"inhalt\"    \n",
    "\n",
    "def mini_print():\n",
    "    print(\"Hallo ich bin mini_print\") #Ausgabe eines Wertes innerhalb der Funktion\n",
    "\n",
    "# Aufrufen einer Funktion mit Rückgabewet:\n",
    "\n",
    "wort = mini_return() # Da mini_return() einen Wert zurückgibt, kann dieser gespeichert werden\n",
    "print(wort)\n",
    "\n",
    "# Aufrufen einer Funktion ohne Rückgabewert:\n",
    "\n",
    "wort = mini_print() # Da mini_print() keinen Wert zurückgibt, wird an dieser Stelle das print-Statement der Funktion ausgeführt\n",
    "print(wort) # die Variable \"wort\" enthält somit den Wert \"None\"\n",
    "mini_print() # Idealer Aufruf einer Funktion ohne Rückgabewert"
   ]
  },
  {
   "cell_type": "markdown",
   "metadata": {},
   "source": [
    "Im folgenden Beispiel sehen Sie eine Funktion, die zwei an sie übergebene Argumente auf Gleichheit überprüft. Am Ende des Funktionskörpers wird mithilfe des `return`-Statements das Ergebnis des Funktionsaufrufes zurückgeliefert, es kann beispielsweise in eine Variable gespeichert werden:"
   ]
  },
  {
   "cell_type": "code",
   "execution_count": null,
   "metadata": {},
   "outputs": [],
   "source": [
    "# SCRIPT: Vergleichsfunktion\n",
    "\n",
    "# Definition der Funktion:\n",
    "def vergleiche(einga, eingb):\n",
    "\n",
    "    #Pruefen der Gleichheit:\n",
    "    if einga is eingb:   #Wenn gleich\n",
    "        ausgabe = \"Beide Eingaben sind identisch.\"\n",
    "    else:   #Wenn ungleich\n",
    "        ausgabe = \"Die Eingaben sind ungleich.\"\n",
    "\n",
    "    return ausgabe\n",
    "\n",
    "#Aufruf der Funktion im Script:\n",
    "\n",
    "test1 = \"Johannes\"\n",
    "test2 = \"Johannes\"\n",
    "\n",
    "test3 = \"125\"\n",
    "test4 = \"126\"\n",
    "\n",
    "#Erster Vergleich mit anschliessender Ausgabe:\n",
    "ergebnis1 = vergleiche(test1, test2)\n",
    "print(ergebnis1)\n",
    "\n",
    "#Zweiter Vergleich mit anschliessender Ausgabe:\n",
    "ergebnis2 = vergleiche(test3, test4)\n",
    "print(ergebnis2)"
   ]
  },
  {
   "cell_type": "markdown",
   "metadata": {},
   "source": [
    "### Namensräume: Lokale und globale Variablen\n",
    "\n",
    "Unter einem Namensraum versteht man einen Raum (oder Gebiet) innerhalb eines Programmes, in dem ein Name (z.B. von Variablen und Funktionen) gültig ist. Namensräume verhindern Namenskonflikte und machen es so möglich, dass in verschiedenen Modulen beispielsweise gleiche Namen für Variablen, Funktionen usw. verwendet werden können. In Python hat jede Funktion ihren eigenen lokalen Namensraum. Wenn wir uns in einem Python-Programm befinden, existiert neben diesen lokalen Namensräumen der Funktionen immer auch der globale Namensraum des gesammten Programms.\n",
    "\n",
    "Um effektiv mit Funktionen arbeiten zu können, müssen also zwei Arten von Variablen unterschieden werden: \n",
    "- **Globale Variablen**, die in ihrem gesamten Programm (auch innerhalb der Funktionen) gültig sind: Werden, wie bereits bekannt im Hauptprogramm außerhalb von Funktionen definiert.\n",
    "- **Lokale Variablen**, die nur innerhalb einer Funktion verwendet werden, und auf die Sie außerhalb der jeweiligen Funktion nicht zugreifen können: Alle Variablen, die sie per klassischer Variablendeklaration innerhalb einer Funktion erstellen sind lokal.\n",
    "\n",
    "Im untenstehenden Beispiel sind die Variablen `c`, `ergebnis_add` und `ergebnis_mult` **globale Variablen**, da sie überall im gesamten Programm Gültigkeit besitzen.\n",
    "\n",
    "Hingegen sind die sind die Variablen `a`, `b` und `ergebnis` **lokale Variablen** der Funktion `addition`, die nur innerhalb der Funktion gültig sind. Versuchen Sie auf diese Variablen außerhalb der Funktion zuzugreifen, erhalten Sie die Fehlermeldung, dass die Variable nicht definiert ist."
   ]
  },
  {
   "cell_type": "code",
   "execution_count": null,
   "metadata": {},
   "outputs": [],
   "source": [
    "#Definition der Funktion \"addition\":\n",
    "def addition(a, b):\n",
    "    ergebnis = a + b\n",
    "    return ergebnis\n",
    "\n",
    "#Definition der Funktion \"multiplikation\", die auch auf die globale Variable c zugreift:\n",
    "def multiplikation(a, b):\n",
    "    ergebnis = a * b * c\n",
    "    return ergebnis\n",
    "\n",
    "#Hauptprogramm:\n",
    "#die globale Variable c\n",
    "c = 2\n",
    "\n",
    "#Aufruf der Funktionen und Abspeichern deren Rückgabewerte in Variablen\n",
    "ergebnis_add = addition(1,c)\n",
    "ergebnis_mult = multiplikation(1,2)\n",
    "\n",
    "#print der befüllten Variablen\n",
    "print(ergebnis_add)\n",
    "print(ergebnis_mult)\n",
    "    \n",
    "#Aufruf einer lokalen Variable auf globaler Ebene --> name 'ergebnis' is not defined\n",
    "print(ergebnis)"
   ]
  },
  {
   "cell_type": "markdown",
   "metadata": {},
   "source": [
    "Sie können **globale Variablen** bei Bedarf aber auch innerhalb von Funktionen erstellen. Dazu muss im Funktionskörper das Schlüsselwort `global` verwendet werden, gefolgt von einer oder mehreren lokalen Referenzen (Variablen):"
   ]
  },
  {
   "cell_type": "code",
   "execution_count": null,
   "metadata": {},
   "outputs": [],
   "source": [
    "#Definition der Funktion \"f\":\n",
    "def f():\n",
    "    #Erstellen & befüllen einer globalen Variable s (da diese bereits global existierte, wird sie überschrieben):\n",
    "    global s\n",
    "    s = \"Diese Variable wurde in der Funktion befüllt.\"\n",
    "    \n",
    "s = \"Diese Variable wurde außerhalb der Funktion befüllt\"\n",
    "\n",
    "#print der Variable s (ohne vorherigen Funktionsaufruf)\n",
    "print(s)\n",
    "\n",
    "#Aufruf der Funktion \"f\":\n",
    "f()\n",
    "\n",
    "#print der Variable s (mit vorherigem Funktionsaufruf)\n",
    "print(s)"
   ]
  },
  {
   "cell_type": "markdown",
   "metadata": {},
   "source": [
    "### Argumente\n",
    "\n",
    "Die Reihenfolge, in der die Argumente an die Funktion übergeben werden, entspricht exakt der Reihenfolge, die Sie bei der Definition der Funktion angegeben haben. Die Zahl und die Bezeichnung der Argumente kann frei gewählt werden, auf die jeweiligen Werte der Argumente greifen Sie innerhalb der Funktion durch den Argumentnamen zu, der eine lokale Variable darstellt. Neben den bereits bekannten obligatorischen Argumenten gibt es noch optionale Argumente, denen Sie einen Standard-Wert mitgeben müssen:"
   ]
  },
  {
   "cell_type": "code",
   "execution_count": null,
   "metadata": {},
   "outputs": [],
   "source": [
    "# SCRIPT: Funktion mit optionalen Argumenten (Funktion zur Addition)\n",
    "#Definition der Funktion:\n",
    "def addition(x, y, z=\"Das Ergebnis lautet:\"): #z-Argument mit Standardwert\n",
    "    summe = x + y\n",
    "    ausgabe = z + \" \" + str(summe)\n",
    "    return ausgabe\n",
    "\n",
    "#Ohne optionales Argument\n",
    "add_1 = addition(2, 5)\n",
    "print(add_1)\n",
    "\n",
    "#Mit optionalem Argument\n",
    "add_2 = addition(2, 5, \"Wir haben:\")\n",
    "print(add_2)"
   ]
  },
  {
   "cell_type": "markdown",
   "metadata": {},
   "source": [
    "Auch können Funktionen ohne Argumente definiert werden (die hier definierte Funktion benötigt kein `return`-Statement, da sie lediglich Eingaben aufnimmt und diese als Ausgabe schreibt, ohne weitere Werte zurückzuliefern):"
   ]
  },
  {
   "cell_type": "code",
   "execution_count": null,
   "metadata": {},
   "outputs": [],
   "source": [
    "#Definition einer Funktion ohne Argumente:\n",
    "def literaturfunktion():\n",
    "    titel = input(\"Geben Sie bitte den Titel ein: \")\n",
    "    autor = input(\"Geben Sie bitte den Autorennamen ein: \")\n",
    "    jahr = input(\"Bitte geben Sie das Jahr ein: \")\n",
    "\n",
    "\n",
    "    print(\"AUSGABE: \" + autor + \" (\" + jahr + \"): \" + titel + \".\")\n",
    "    \n",
    "\n",
    "#Aufruf der Funktion:\n",
    "literaturfunktion()"
   ]
  },
  {
   "cell_type": "markdown",
   "metadata": {},
   "source": [
    "## Modularisierung\n",
    "\n",
    "Module haben Sie bereits früher in ihre Skripte eingebunden. Nach dem selben Prinzip können Sie auch bei Modulen verfahren, die Sie selbst geschrieben haben. Wenn Sie eine Reihe von nützlichen Funktionen erstellt haben, so empfiehlt es sich, diese in eine eigene Python-Datei (mit der Endung `.py`) zu speichern, und diese als Modul in ihre aktuellen Skripte einzubinden. Liegen aktuelles Skript und die zu importierende Datei im selben Verzeichnis, kann die Einbindung (wie bereits bekannt) durch das Import-Statement erfolgen, wobei Sie die Dateiendung `.py` nicht mit angeben müssen. Im folgenden Beispiel wurde die Funktion zur Addition in die Datei `myfunctions.py` gespeichert, das Skript befindet sich im selben Verzeichnis. Um die Funktion aus dem Modul aufzurufen, muss vor den Funktionsnamen das entsprechende Präfix gestellt werden:"
   ]
  },
  {
   "cell_type": "code",
   "execution_count": null,
   "metadata": {},
   "outputs": [],
   "source": [
    "#Importieren von myfunctions.py\n",
    "import myfunctions as myf\n",
    "\n",
    "#Aufrufen der Funktion mit Praefix:\n",
    "add_1 = myf.addition(2, 5)\n",
    "print(add_1)    #AUSGABE: Das Ergebnis lautet: 7"
   ]
  },
  {
   "cell_type": "markdown",
   "metadata": {},
   "source": [
    "Module werden immer an genau der Position in den Programmcode eingebunden, an der sie im Skript importiert werden. Sollen Funktionen also an einer bestimmten Stelle verwendet werden, müssen Sie vor dieser Stelle eingebunden werden, da der Code linear Zeile für Zeile verarbeitet wird und sonst das Problem besteht, dass die Funktion möglicherweise beim Funktionsaufruf noch nicht zur Verfügung steht."
   ]
  }
 ],
 "metadata": {
  "kernelspec": {
   "display_name": "Python 3 (ipykernel)",
   "language": "python",
   "name": "python3"
  },
  "language_info": {
   "codemirror_mode": {
    "name": "ipython",
    "version": 3
   },
   "file_extension": ".py",
   "mimetype": "text/x-python",
   "name": "python",
   "nbconvert_exporter": "python",
   "pygments_lexer": "ipython3",
   "version": "3.11.5"
  }
 },
 "nbformat": 4,
 "nbformat_minor": 2
}
