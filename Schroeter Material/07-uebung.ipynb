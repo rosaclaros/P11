{
 "cells": [
  {
   "cell_type": "markdown",
   "metadata": {},
   "source": [
    "**Seminar 'Einführung in die prozedurale und objektorientierte Programmierung mit Python'**\n",
    "\n",
    "# Übung zu Thema 7: Funktionen & Modularisierung\n",
    "\n",
    "### Aufgabe 1: Modul mit Funktion zur automatischen Satzanalyse\n",
    "\n",
    "Aus den Seminarhandouts und den bisherigen Übungen kennen Sie bereits das Skript zur automatischen Satzanalyse wohlgeformter Sätze. Wandeln Sie dieses Skript in eine Funktion um, welcher als Parameter ein einzelner wohlgeformter Satz übergeben wird. Speichern Sie diese Funktion in eine externe Python-Datei (py). Binden Sie im Anschluss die externe Datei ein, und wenden Sie die Funktion auf alle Sätze der Textdatei `satzbewertung.txt` an (vergleichbar Aufgabe 3 aus der Übung zu Thema 4).\n",
    "\n",
    "Die Datei (.py) mit der definierten Funktion soll Folgendes enthalten:\n",
    "- **Funktion (mit 1 Parameter)** zur Analyse von Sätzen nach den Parametern: `1. Deklarativsatz / Interrogativsatz / Exklamativsatz; 2. Hypotaktisch / Parataktisch / mit Parenthese`\n",
    "- **Zurücklieferung** (`return`) der Ergebnisse aus der Funktion\n",
    "\n",
    "Das Skript (an dieser Stelle) soll Folgendes enthalten:\n",
    "- `import`-Statement zum **einbinden** der extern definierten Funktion.\n",
    "- **Einlesemöglichkeit** für die Textdatei `satzbewertung.txt`\n",
    "- Anwendung der **Funktion** auf alle Sätze der Textdatei\n",
    "- Möglichkeit zur **Ausgabe** der Satzbewertung in die Textdatei `evaluation.txt`\n",
    "\n",
    "**HINWEIS:** Verwenden Sie für die Hausaufgabe *PyCharm* (wer Lust hat, kann sich diesen Editor gerne hier installieren: https://www.jetbrains.com/pycharm/promo/?utm_source=bing&utm_medium=cpc&utm_campaign=EMEA_en_DE_PyCharm_Branded&utm_term=PyCharm&utm_content=PyCharm_branded&gclid=CIbGoLCUsuYCFQ3rGwodFW8PUQ&gclsrc=ds) oder einen anderen beliebigen Editor (z.B. den *Sublime-Text-Editor* - Hier können Sie die Funktion, sobald sie im Notebook funktioniert, hineinkopieren und dann als Python-Datei abspeichern).\n",
    "\n",
    "**HINWEISE ZUM VORGEHEN (OPTIONAL)**\n",
    "- Beginnen Sie nicht direkt mit der Datei, in welche Sie die Funktion schreiben, sondern testen Sie zunächst den Algorithmus zur Satzanalyse grundlegend an dieser Stelle.\n",
    "- Funktioniert der Algorithmus (was sie an einigen Beispielen testen sollten), dann fassen Sie den erstellten Code in eine Funktion. Testen Sie die Funktion an dieser Stelle, ob sie immer noch die gewünschten Ergebnisse produziert.\n",
    "- Erst wenn die Funktion einwandfrei funktioniert, speichern Sie Sie in die externe Datei mit dem `.py`-Suffix.\n",
    "- Schreiben Sie als Letztes das Skript, welches an dieser Stelle Stelle die Textdatei `satzbewertung.txt` einliest, eine Schleife zur Anwendung der Funktion auf die einzelnen Sätze der Textdatei bereitstellt, und das Ergebnis wiederum in die Textdatei `evaluation.txt` schreibt."
   ]
  },
  {
   "cell_type": "code",
   "execution_count": null,
   "metadata": {},
   "outputs": [],
   "source": [
    "# Aufgabe 1:\n",
    "\n",
    "# Ihr Skript"
   ]
  },
  {
   "cell_type": "markdown",
   "metadata": {},
   "source": [
    "### Aufgabe 2: Modul mit Funktion zur Tokenisierung von Sätzen\n",
    "\n",
    "Schreiben Sie eine Funktion, welche in der Lage ist, beliebige Fließtexte als Worttokens zurückzuliefern. Die Funktion soll über zwei Parameter verfügen:\n",
    "\n",
    "1. Ein **obligatorischer Parameter**, an welchen der zu tokenisierende Fließtext übergeben wird.\n",
    "2. Ein **optionaler Parameter**, mit dessen Hilfe eingestellt werden kann, ob Satzzeichen als eigenständige Tokens erhalten bleiben sollen, oder ob sie aus der tokenisierten Liste entfernt werden sollen. Den **Default-Zustand** soll eine tokenisierte Liste ohne Satzzeichen darstellen.\n",
    "\n",
    "Die Funktion speichern Sie in eine externe Datei (.py), welche sich auf Wunsch als Modul in beliebige Skripte einbinden lässt. Der Einsatz von regulären Ausdrücken bietet sich an, es können aber auch beliebige andere Methoden zur Tokenisierung gewählt werden, so lange das Ergebnis den gewünschten Vorgaben entspricht.\n",
    "\n",
    "Die Funktion in der Datei (.py) soll Folgendes enthalten:\n",
    "- Algorithmus-Variante zur Tokenisierung von Fließtexten mit **Erhalt der Satzzeichen**.\n",
    "- Algorithmus-Variante zur Tokenisierung von Fließtexten mit **Löschen der Satzzeichen** als Default.\n",
    "- Zurücklieferung des tokenisierten Fließtextes aus der Funktion.\n",
    "\n",
    "\n",
    "**HINWEIS:** Testen Sie die Funktion an authentischen Daten, die Sie an Texten z.B. aus Online-Zeitungen gewinnen können. Binden Sie Pakete wie `re` direkt in den Funktionskörper ein, damit nicht die Gefahr besteht, dass sie nicht aktiv sind, wenn sie benötigt werden. Auch in dieser Aufgabe erweist sich die Verwendung von *PyCharm* als weniger umständlich.\n",
    "\n",
    "**HINWEISE ZUM VORGEHEN**\n",
    "- Auch hier beginnen Sie nicht direkt damit, die Funktion zu schreiben.\n",
    "- Als ersten Schritt benötigen Sie eine Textdatei, anhand derer Sie Ihre weiteren Schritte testen.\n",
    "- Im Grunde müssen Sie zwei unterschiedliche Arten der Tokenisierung verfassen, welche von einander unabhängig sind:\n",
    "    1. Schreiben Sie zunächst einen regulären Ausdruck, welcher den Fließtext tokenisiert (= jedes Wort in eine Liste schreibt) und die Satzzeichen nicht erhält. Zur Zerlegung könne Sie sowohl die RE-Funktionen `findall()` als auch `split()` verwenden. Liefert die Methode die gewünschten Ergebnisse, gehen Sie zur zweiten Methode.\n",
    "    2. Finden Sie eine Möglichkeit, den Fließtext zu tokenisieren, aber alle Satzzeichen sollen als eigenständige Listeneinträge erhalten bleiben. Sie können hierzu reguläre Ausdrücke verwenden, oder eine Reihe von klassischen Stringfunktionen wie relpace() und split(). Sie sind fertig, wenn die Methode die gewünschten Ergebnisse liefert.\n",
    "- Bauen Sie nun beide Methoden in die Funktion ein, und machen Sie sie durch ein Konditional anwählbar: Der optionale Parameter kann beispielsweise den Default-Wert `False` aufweisen und im Konditional dann die Tokenisierung ohne Satzzeichen auslösen, wird hingegen ein `True` als optionaler Parameter mitgegeben, so wird die Tokenisierung mit Satzzeichen ausgelöst.\n",
    "- Testen Sie am Ende, ob die Funktion wie gewünscht funktioniert."
   ]
  },
  {
   "cell_type": "code",
   "execution_count": null,
   "metadata": {},
   "outputs": [],
   "source": [
    "# Aufgabe 2:\n",
    "\n",
    "# Ihr Skript"
   ]
  }
 ],
 "metadata": {
  "kernelspec": {
   "display_name": "Python 3",
   "language": "python",
   "name": "python3"
  },
  "language_info": {
   "codemirror_mode": {
    "name": "ipython",
    "version": 3
   },
   "file_extension": ".py",
   "mimetype": "text/x-python",
   "name": "python",
   "nbconvert_exporter": "python",
   "pygments_lexer": "ipython3",
   "version": "3.8.3"
  }
 },
 "nbformat": 4,
 "nbformat_minor": 2
}
