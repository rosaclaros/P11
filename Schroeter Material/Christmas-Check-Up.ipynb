{
 "cells": [
  {
   "cell_type": "markdown",
   "metadata": {},
   "source": [
    "**Seminar 'Einführung in die prozedurale und objektorientierte Programmierung mit Python'**\n",
    "\n",
    "![Figure progr](https://www.dh-lehre.gwi.uni-muenchen.de/wp-content/uploads/img/python1819/icons8-einmachglas-48.png)\n",
    "\n",
    "# Christmas Check Up\n",
    "\n",
    "> Diese Übungssammlung fasst alle bisher vermittelten Übungssarten zusammen und dient als Grundlage zur Klausurvorbereitung.\n",
    "> Inhaltliche Grundlage sind die Themen 4 bis 7.\n",
    "> Beachten Sie, dass es bei den meisten Aufgaben mehrere richtige Lösungsansätze gibt."
   ]
  },
  {
   "cell_type": "markdown",
   "metadata": {},
   "source": [
    "## Übungen zum Thema *Schleifen*"
   ]
  },
  {
   "cell_type": "markdown",
   "metadata": {},
   "source": [
    "### Aufgabe 1: for-Schleifen-Basics mit Liste\n",
    "\n",
    "Schreiben Sie **eine for-Schleife**, die jedes Element aus der Liste `geschenke` ausdruckt."
   ]
  },
  {
   "cell_type": "code",
   "execution_count": null,
   "metadata": {},
   "outputs": [],
   "source": [
    "# Aufgabe 1\n",
    "\n",
    "geschenke_1 = [\"Ein Buch\", \"Schokolade\", \"Socken\", \"Pullover\"]\n",
    "\n",
    "# Ihr Skript"
   ]
  },
  {
   "cell_type": "markdown",
   "metadata": {},
   "source": [
    "### Aufgabe 2: for-Schleifen-Basics mit Dictionary\n",
    "\n",
    "Schreiben Sie **drei for-Schleifen**, die erste soll alle Namen (`keys`), die zweite alle Geschenke(`values`) und die dritte schließlich die Zuordnung von Namen zu Geschenken (`paare`) aus dem dictionary `geschenkeplan` ausdrucken."
   ]
  },
  {
   "cell_type": "code",
   "execution_count": null,
   "metadata": {},
   "outputs": [],
   "source": [
    "# Aufgabe 2\n",
    "\n",
    "geschenkeplan = {\"Papa\":\"Ein Buch\", \"Oma\":\"Schokolade\", \"Opa\":\"Socken\", \"Mama\":\"Pullover\"}\n",
    "\n",
    "# for-Schleife zum ausdrucken aller keys:\n",
    "# Ihr Skript\n",
    "\n",
    "# for-Schleife zum ausdrucken aller values:\n",
    "# Ihr Skript\n",
    "\n",
    "# for-Schleife zum ausdrucken aller keys mit values:\n",
    "# Ihr Skript"
   ]
  },
  {
   "cell_type": "markdown",
   "metadata": {},
   "source": [
    "### Aufgabe 3: Schleifen-Basics mit range()\n",
    "\n",
    "Schreiben Sie **eine Schleife**, die mit Hilfe der range-Funktion alle ungeraden Zahlen zwischen 0 und 20 ausgibt. "
   ]
  },
  {
   "cell_type": "code",
   "execution_count": null,
   "metadata": {},
   "outputs": [],
   "source": [
    "# Aufgabe 3\n",
    "\n",
    "# Ihr Skript"
   ]
  },
  {
   "cell_type": "markdown",
   "metadata": {},
   "source": [
    "### Aufgabe 4: geschachtelte for-Schleife\n",
    "\n",
    "Gegeben ist die variable `geschichte`, die eine **Liste** enthält, in welcher wiederum **mehrere Listen** stecken, die jeweils einen Satz beinhalten. Schreiben Sie eine geschachtelte for-Schleife, welche folgende Funktionen erfüllt:\n",
    "\n",
    "- **Durchlaufen** der \"großen Liste\" `geschichte`.\n",
    "- Hierbei soll **jeder Satz** der Liste `geschichte` als ganzes (**als ein String**) ausgegeben werden.\n",
    "- Die Wörter jedes Satzes sollen also **nicht einzeln** ausgegeben werden."
   ]
  },
  {
   "cell_type": "code",
   "execution_count": 1,
   "metadata": {},
   "outputs": [
    {
     "ename": "SyntaxError",
     "evalue": "invalid syntax (3673434975.py, line 10)",
     "output_type": "error",
     "traceback": [
      "\u001b[1;36m  File \u001b[1;32m\"C:\\Users\\di68vol\\AppData\\Local\\Temp\\ipykernel_4568\\3673434975.py\"\u001b[1;36m, line \u001b[1;32m10\u001b[0m\n\u001b[1;33m    'Schneehöhle', 'schaufeln.']]sa\u001b[0m\n\u001b[1;37m                                 ^\u001b[0m\n\u001b[1;31mSyntaxError\u001b[0m\u001b[1;31m:\u001b[0m invalid syntax\n"
     ]
    }
   ],
   "source": [
    "# Aufgabe 4\n",
    "\n",
    "geschichte = [['Wie', 'eine', 'dicke,', 'flockige', 'Decke', 'liegt', 'der', 'Schnee', 'auf', 'den', 'Straßen.'],\n",
    "        ['Die', 'Hausdächer', 'sehen', 'aus,', 'als', 'hätten', 'sie', 'sich', 'weiße,', 'funkelnde', 'Mützen', 'aufgesetzt',\n",
    "        'und', 'wie', 'aus', 'Zuckerguss', 'geformt', 'hängen', 'spitze', 'Eiszapfen', 'von', 'den', 'Dachrändern.'],\n",
    "        ['Sogar', 'die', 'dünnen', 'Zaunpfosten', 'tragen', 'eine', 'lustige', 'Schneeperücke.'],\n",
    "        ['Schnell', 'werden', 'die', 'Schlitten', 'und', 'Skier', 'aus', 'den', 'Kellern', 'geholt.'],\n",
    "        ['Alle', 'freuen', 'sich', 'darauf,', 'im', 'watteweichen', 'Schnee', 'herumtoben', 'zu', 'dürfen.'],\n",
    "        ['Jetzt', 'kann', 'man', 'endlich', 'wieder', 'eine', 'Schneeballschlacht', 'machen', 'oder', 'sich', 'eine', 'tiefe',\n",
    "        'Schneehöhle', 'schaufeln.']]sa\n",
    "\n",
    "# Ihr Skript"
   ]
  },
  {
   "cell_type": "markdown",
   "metadata": {},
   "source": [
    "### Aufgabe 5: while-Schleifen-Basics mit Liste\n",
    "\n",
    "Schreiben Sie **eine while-Schleife**, die jedes Element aus der Liste `geschenke` ausdruckt."
   ]
  },
  {
   "cell_type": "code",
   "execution_count": 2,
   "metadata": {},
   "outputs": [],
   "source": [
    "# Aufgabe 5\n",
    "\n",
    "geschenke_2 = [\"Ein Buch\", \"Schokolade\", \"Socken\", \"Pullover\"]\n",
    "\n",
    "# Ihr Skript"
   ]
  },
  {
   "cell_type": "markdown",
   "metadata": {},
   "source": [
    "### Aufgabe 6: while-Schleife ergänzen\n",
    "\n",
    "Das untenstehende Programm fordert den Benutzer auf, ein Passwort einzugeben. **Ergänzen Sie das Skript um eine while-Schleife**, die bewirkt, dass die Eingabe-Aufforderung solange wiederholt wird, bis das richtige Passwort eingegeben wurde. Beachten Sie dabei die **Einrückungskonventionen** von Python."
   ]
  },
  {
   "cell_type": "code",
   "execution_count": 3,
   "metadata": {},
   "outputs": [
    {
     "name": "stdout",
     "output_type": "stream",
     "text": [
      "Geben Sie ihr Passwort ein >> sadas\n",
      "Das Passwort war leider falsch.\n"
     ]
    }
   ],
   "source": [
    "# Aufgabe 6\n",
    "\n",
    "# Ihr Skript\n",
    "\n",
    "passwort = \"1234\"\n",
    "passwort_eingabe = input(\"Geben Sie ihr Passwort ein >> \")\n",
    "\n",
    "if passwort_eingabe == passwort:\n",
    "    print(\"das Passwort war richtig.\")\n",
    "    \n",
    "else: print(\"Das Passwort war leider falsch.\")\n"
   ]
  },
  {
   "cell_type": "markdown",
   "metadata": {},
   "source": [
    "### Aufgabe 7: break\n",
    "\n",
    "Das Passwort-Skript aus Aufgabe 6 kann auch mit einer **Kombination aus \"Endlos-Schleife\" und dem Statement `break`** funktionieren. Ergänzen Sie hierfür in den vier durch `# TODO` gekennzeichneten Zeilen Code."
   ]
  },
  {
   "cell_type": "code",
   "execution_count": null,
   "metadata": {},
   "outputs": [],
   "source": [
    "# Aufgabe 7\n",
    "\n",
    "passwort = \"1234\"\n",
    "\n",
    "while True: \n",
    "    passwort_eingabe = input(\"Geben Sie ihr Passwort ein >> \")\n",
    "    # TODO\n",
    "        # TODO\n",
    "    # TODO\n",
    "        \n",
    "# TODO"
   ]
  },
  {
   "cell_type": "markdown",
   "metadata": {},
   "source": [
    "### Aufgabe 8: break vs. continue\n",
    "\n",
    "**Beschreiben Sie** anhand der beiden untenstehenden Schleifen den Unterschied zwischen `break` und `continue`. Nutzen Sie hierfür die Kommentarfunktion."
   ]
  },
  {
   "cell_type": "code",
   "execution_count": null,
   "metadata": {},
   "outputs": [],
   "source": [
    "# Aufgabe 8\n",
    "\n",
    "print(\"------------- Schleife mit break: -------------\")\n",
    "\n",
    "for letter in \"Weihnachtsmann\":\n",
    "    if letter == \"s\":\n",
    "        break\n",
    "    print(letter)\n",
    "    \n",
    "# Ihre Beschreibung: \n",
    "    \n",
    "    \n",
    "print(\"------------- Schleife mit continue: -------------\")\n",
    "\n",
    "for letter in \"Weihnachtsmann\":\n",
    "    if letter == \"s\":\n",
    "        continue\n",
    "    print(letter)\n",
    "    \n",
    "# Ihre Beschreibung:"
   ]
  },
  {
   "cell_type": "markdown",
   "metadata": {},
   "source": [
    "### Aufgabe 9: Alterseinstufung #2\n",
    "Erweitern Sie das Programm \"Alterseinstufung\" aus dem Mid Term Check Up.\n",
    "\n",
    "Nun soll ein Programm zur Unterstützung des Barpersonals geschrieben werden, das anhand des Alters der Kunden das Ihnen zugängliche Getränkeangebot ausgiebt.\n",
    "Die Getränkeliste ist in einem Dictionary zusammen mit dem Freigabealter angegeben.\n",
    "\n",
    "\n",
    "- Schreiben Sie zusätzlich zur vorgegebenen Alterseinstufung eine `for`-Schleife, die über das Dictionary iteriert\n",
    "- Am Ende des Programms soll dann eine Liste mit Getränken ausgegeben werden\n",
    "\n"
   ]
  },
  {
   "cell_type": "code",
   "execution_count": null,
   "metadata": {},
   "outputs": [],
   "source": [
    "# Aufgabe 9\n",
    "\n",
    "# Ihr Skript"
   ]
  },
  {
   "cell_type": "markdown",
   "metadata": {},
   "source": [
    "## Übungen zum Thema *Stringmethoden*"
   ]
  },
  {
   "cell_type": "markdown",
   "metadata": {},
   "source": [
    "### Aufgabe 10: Textstring bereinigen und Tokenisieren\n",
    "\n",
    "Bereinigen und zerteilen Sie den String `string_1` mit Stringmethoden so, dass ein Ausdruck am Ende so aussieht:\n",
    "`['Hallo', ',', 'Ich', 'bin', 'der', 'Weihnachtsmann', '.', 'Ich', 'bring', 'euch', 'schöne', 'Geschenke', '.']`"
   ]
  },
  {
   "cell_type": "code",
   "execution_count": null,
   "metadata": {},
   "outputs": [],
   "source": [
    "# Aufgabe 10\n",
    "string_1 = \"Hallo,\\n Ich äääähm bin äääähm der äääähm Weihnachtsmann.\\n Ich äääähm bring äääähm euch äääähm schöne äääähm Geschenke.\\n\"\n",
    "\n",
    "# Ihr Skript"
   ]
  },
  {
   "cell_type": "markdown",
   "metadata": {},
   "source": [
    "### Aufgabe 11: Verkettung von Listenelementen\n",
    "\n",
    "Setzen Sie eine Stringmethode ein, um die Elemente des strings `string_2` voneinander getrennt durch das Zeichen `*` auszugeben. (Output: `F*R*O*H*E* *W*E*I*H*N*A*C*H*T*E*N`)"
   ]
  },
  {
   "cell_type": "code",
   "execution_count": null,
   "metadata": {},
   "outputs": [],
   "source": [
    "# Aufgabe 11\n",
    "string_2 = \"FROHE WEIHNACHTEN\"\n",
    "\n",
    "# Ihr Skript"
   ]
  },
  {
   "cell_type": "markdown",
   "metadata": {},
   "source": [
    "### Aufgabe 12: Die format()-Methode\n",
    "\n",
    "Schreiben Sie ein kleines Skript, das die format()-Methode nutzt, um einen String in der Form `'Der Weihnachtsmann wohnt am Nordpol.'` auszugeben. Name und Wohnort sollen hierbei einsetzbar sein."
   ]
  },
  {
   "cell_type": "code",
   "execution_count": null,
   "metadata": {},
   "outputs": [],
   "source": [
    "# Aufgabe 12\n",
    "\n",
    "# Ihr Skript"
   ]
  },
  {
   "cell_type": "markdown",
   "metadata": {},
   "source": [
    "## Übungen zum Thema *Reguläre Ausdrücke*"
   ]
  },
  {
   "cell_type": "markdown",
   "metadata": {},
   "source": [
    "### Aufgabe 13: Wörter finden mit RegEx\n",
    "\n",
    "Finden Sie **jeweils mit Hilfe eines regulären Ausdrucks** alle geforterten Wörter/Muster aus dem String `nach_weihnachts_text` und geben sie aus."
   ]
  },
  {
   "cell_type": "code",
   "execution_count": null,
   "metadata": {},
   "outputs": [],
   "source": [
    "# Aufgabe 13\n",
    "import re\n",
    "\n",
    "nach_weihnachts_text = \"Der Nikolaus und der Weihnachtsmann sind am 25. Dezember wie jedes Jahr reif für die Insel und gönnen sich erst einmal für 4000 € pro Nase einen 100%ig entspannenden 3-Wochen-Urlaub auf Gran Canaria.\"\n",
    "\n",
    "# Regulärer Ausdruck, der alle Wörter mit 3 Buchstaben findet\n",
    "\n",
    "# Ihr Skript\n",
    "\n",
    "\n",
    "# Regulärer Ausdruck, der die Teil-Strings \"25. Dezember\" und \"3-Wochen\" findet\n",
    "\n",
    "# Ihr Skript\n",
    "\n",
    "\n",
    "# Regulärer Ausdruck, der alle Nomen findet findet\n",
    "\n",
    "# Ihr Skript\n",
    "\n",
    "\n",
    "# Regulärer Ausdruck, der alle Zahlen im String findet\n",
    "\n",
    "# Ihr Skript\n",
    "\n",
    "\n",
    "# Regulärer Ausdruck, der den Teil-String \"4000 € pro Nase\" findet\n",
    "\n",
    "# Ihr Skript\n",
    "\n",
    "\n",
    "# Regulärer Ausdruck, der die Teil-Strings \"100%ig entspannenden\" und \"3-Wochen-Urlaub\" findet\n",
    "\n",
    "# Ihr Skript"
   ]
  },
  {
   "cell_type": "markdown",
   "metadata": {},
   "source": [
    "### Aufgabe 14: Gruppierung mit RegEx\n",
    "\n",
    "Nutzen Sie die Möglichkeit **mit regulären Ausdrücken nach Gruppen von Strings** suchen zu können. Schreiben Sie ein kleines Skript, das im String `prozente` alle **Teilstrings mit Prozentangaben** findet und nach dem folgenden Muster ausgibt:\n",
    "\n",
    "`Original: 1,4 Prozent`\n",
    "\n",
    "`Bearbeitet: Prozentwert = 1,4`"
   ]
  },
  {
   "cell_type": "code",
   "execution_count": null,
   "metadata": {},
   "outputs": [],
   "source": [
    "# Aufgabe 14\n",
    "import re\n",
    "\n",
    "prozente = \"Mit Unterstützung des HDE wurde 2018 vom ifes Institut der FOM Hochschule eine breit angelegte Verbraucherbefragung zum Einkaufsverhalten im Weihnachtsgeschäft durchgeführt. Demnach wollen die Menschen in Deutschland 2018 durchschnittlich 472 Euro für Weihnachtsgeschenke ausgeben. Dieser Wert liegt leicht über die 466 Euro des Vorjahres (+1,4 Prozent mehr). Männer geben durchschnittlich 480,80 Euro für Weihnachtsgeschenke aus und und kaufen sie erst kurz vor Weihnachten ein. Frauen geben mit 463,3 Euro über 3 Prozent weniger für Weihnachtsgeschenke aus als Männer. Über ein Drittel der weiblichen Verbraucher besorgen ihre Geschenke in den ersten beiden Wochen im Dezember. Am häufigsten (71,6 Prozent) werden die Partner beschenkt, gefolgt von Verwandten (63,3 Prozent) und Eltern (61,3 Prozent). Die Hälfte der befragten Verbraucher gibt für Weihnachtsgeschenke über 300 Euro aus. Mehr als 20 Prozent gibt mehr als 500,- Euro aus. Auf der Geschenke-Beliebtheitsskala ganz oben stehen die Geschenkgutscheine (51 Prozent), gefolgt von Kosmetik (44 Prozent), Büchern und Konzert- sowie Theaterkarten (beide 42 Prozent), Uhren, Schmuck (40 Prozent) bzw. Spielwaren (38 Prozent). Die meisten Kunden kaufen ihre Weihnachtsgeschenke in Städten. Dabei liegen die innerstädtischen Einkaufszentren oder Fachgeschäfte und Warenhäuser in der Gunst der Verbraucher vorne.\"\n",
    "\n",
    "# Ihr Skript"
   ]
  },
  {
   "cell_type": "markdown",
   "metadata": {},
   "source": [
    "### Aufgabe 15: Ersetzen mit RegEx\n",
    "\n",
    "**Ersetzen** Sie im String `nonsens` alle **Teilstrings, die kein Nomen** sind durch den String \"blablabla\". "
   ]
  },
  {
   "cell_type": "code",
   "execution_count": null,
   "metadata": {},
   "outputs": [],
   "source": [
    "# Aufgabe 15\n",
    "import re\n",
    "\n",
    "nonsens = \"Der Nikolaus und der Weihnachtsmann sind am 25. Dezember wie jedes Jahr reif für die Insel.\"\n",
    "\n",
    "# Ihr Skript"
   ]
  },
  {
   "cell_type": "markdown",
   "metadata": {},
   "source": [
    "### Aufgabe 16: IP-Adressen finden\n",
    "\n",
    "Nutzen Sie einen regulären Ausdruck um den folgenden Auszug aus einem Netzwerkanalysetool nach allen darin enthaltenen IP-Adressen (fett markiert) zu durchsuchen.\n",
    "\n",
    "Jan 13 05:49:47: ACCEPT service dns from **74.125.189.23** to firewall(pub-nic-dns), prefix: \"none\" (in: eth0 **74.125.189.23**(00:80:38:fa:8a:7e):51027 -> **140.105.63.158**(00:00:76:fe:75:e2):53 UDP len:80 ttl:49)\n",
    "Jan 13 16:46:49: ACCEPT service http from **209.58.83.178** to firewall(pub-nic), prefix: \"none\" (in: eth0 **209.58.83.178**(f0:dc:e2:a1:1a:39):58395 -> **140.105.63.164**(00:e0:33:f4:04:0d):80 TCP flags: ****S* len:60 ttl:47)"
   ]
  },
  {
   "cell_type": "code",
   "execution_count": null,
   "metadata": {},
   "outputs": [],
   "source": [
    "# Aufgabe 16\n",
    "\n",
    "# Ihr Skript"
   ]
  },
  {
   "cell_type": "markdown",
   "metadata": {},
   "source": [
    "## Übungen zum Thema *Funktionen & Modularisierung*"
   ]
  },
  {
   "cell_type": "markdown",
   "metadata": {},
   "source": [
    "### Aufgabe 17: Definieren der Funktion netto_to_brutto(...)\n",
    "\n",
    "Gegeben ist der folgende Programmcode, welcher den unten vermerkten Output liefert. Definieren Sie die verwendete Funktion `netto_to_brutto()` mit allen erforderlichen Argumenten und Rückgabewerten."
   ]
  },
  {
   "cell_type": "code",
   "execution_count": null,
   "metadata": {},
   "outputs": [],
   "source": [
    "datum = '31.12.2021'\n",
    "\n",
    "preis_1 = netto_to_brutto(150.50, \"$\")\n",
    "preis_2 = netto_to_brutto(100)\n",
    "\n",
    "print('''\\nLieber Kunde,\\n\\n\n",
    "Die Berechnung der Bruttokosten ergab die folgenden Belastungen:\n",
    "\\n{} und {}\\n\\nBitte überweisen Sie die genannten Beträge bis zum {}.'''.format(preis_1, preis_2, datum))"
   ]
  },
  {
   "cell_type": "markdown",
   "metadata": {},
   "source": [
    "**Output:**\n",
    "\n",
    "Lieber Kunde,\n",
    "\n",
    "\n",
    "Die Berechnung der Bruttokosten ergab die folgenden Belastungen:\n",
    "\n",
    "179.095$ und 119.0€\n",
    "\n",
    "Bitte überweisen Sie die genannten Beträge bis zum 31.12.2021."
   ]
  },
  {
   "cell_type": "code",
   "execution_count": null,
   "metadata": {},
   "outputs": [],
   "source": [
    "# Aufgabe 17\n",
    "\n",
    "# Ihr Skript"
   ]
  },
  {
   "cell_type": "markdown",
   "metadata": {},
   "source": [
    "## ... wenn Sie alle Aufgaben aus dem Christmas Check Up bearbeitet haben:"
   ]
  },
  {
   "cell_type": "code",
   "execution_count": 3,
   "metadata": {},
   "outputs": [
    {
     "name": "stdout",
     "output_type": "stream",
     "text": [
      "                                   s$$$$$$s\n",
      "                                 $$s     s$$s\n",
      "                             s$$$$$$$$$ss  s$$\n",
      "                           $$h??????????s$$s s$\n",
      "                          $$s?????s?????????s$s$\n",
      "                          $s$$$$s$s$$$s???????s$\n",
      "                           $$   $s$s s $$s?????s$\n",
      "                             $ss  $  ss $ $$s???s$\n",
      "                            $$$s s $$s     s$$s?$s$s\n",
      "                            $S  s  s$s$s$s      $ s$s\n",
      "                             $s   s    s$s s$$$s s  $\n",
      "                            $$s$$$$$$s     $    s$s$$s$$$s\n",
      "                          s$s              $ $$s   $s???s$s\n",
      "                          $$         ss    $$      $s??$$s\n",
      "                         s$                $  s    s$s$s\n",
      "                        s$s     s         $s $       $s$s\n",
      "                      s$ $                $ $s        $ $s\n",
      "                     s$ s$               $$ ss         $ $s\n",
      "                   s$$  $$s     $s      s$  $          $ $s\n",
      "                  $$s   $s$            s$   $s         $s $s\n",
      "                s$s     $ $s         s$$    $s         s$  s\n",
      "              s$$s      $  $$s     s$$s     $s         ss  $\n",
      "              $$s       $s  s$$s$$$$s       $s         $s  $\n",
      "              $s        s$   s     s      s$s          $   $s\n",
      "             s$$$$$$$s   $s  $    s$      $s           $  s$$s\n",
      "           s$$s??????s$$ $$  $s    $     s$           $s  s $$$$$$$s\n",
      "          s$??????????es$ s$ s$    $s   s$           ss  $s$s   s$ks$s\n",
      "          $s?s$$$ss$$s?s$  s$ $s   s$  s$sss         s s$$$s    s$???s\n",
      "          $s?$    s  $s$s   s$ $s  s$$$s??ss$$$s   s$$$$s     s$????$\n",
      "          ss$s$s  $  $  s$$$s ss$s   $s?????????s$$$ $$s      s$????s$\n",
      "           $$s  $s$$$s     s$$s$$ $$$s???????????is$$       s$$????s$\n",
      "          s$ s                   s$$$$?s$s$$s?????ss       s$s????s$\n",
      "          s$ s$$$s            s$$s   s$$s  s$?????$      s$$????s$$\n",
      "            $$   s$s               s$s      $$ss$$s   ss$$s????s$s\n",
      "            $s $$  $$s              $s     s$s    s$$$s??????s$$s\n",
      "            $   s$s s$s            s$s$$s  s$$$$$$s???????s$$s\n",
      "           s$        s$s       s$$s   s$ $$s???????????s$$$s\n",
      "          $$          s$$$$$$$$$s  s$$ $ss?????????s$$$s $\n",
      "         $s              ssssss   s$s  $ s$$$$$$$$$s    $\n",
      "        $s                             $$             s$$\n",
      "       $$\n",
      "                             $$               $\n",
      "      ss                               s$               s$s\n",
      "     $s                                 $$               sss$s\n",
      "    s$           F  R  O  H  E  S       s$s             $shs$\n",
      "    $s                                    $$$s      s$$$ss???$\n",
      "   s$                                    $$??s$$$$$$$s??????s$\n",
      "   s$                                    $?s????????????????$s\n",
      "  s$s                                    $s$s??????????s$$$$s\n",
      " s$                 F  E  S  T           s$ s$$$$$$$s$$s  s$\n",
      "s$                                         $  $            $s\n",
      "$s                                         $  $s           $s\n",
      "$                                         $s s$$s          s$\n",
      "$s                                      s$$ $$s             $\n",
      "s$s                                    $s                  $$\n",
      "  s$$$$s                               s$s           s$$$$$$s\n",
      "       s$$$$$$$$$ss   s$$$$$ss      ss$$$$$$$s s$$$$$$ ssssss\n",
      "                 s$$$$s     s$$$$$$$$s      sssss\n"
     ]
    }
   ],
   "source": [
    "weihnachtsbotschaft = \"                                   s$$$$$$s\\n                                 $$s     s$$s\\n                             s$$$$$$$$$ss  s$$\\n                           $$h??????????s$$s s$\\n                          $$s?????s?????????s$s$\\n                          $s$$$$s$s$$$s???????s$\\n                           $$   $s$s s $$s?????s$\\n                             $ss  $  ss $ $$s???s$\\n                            $$$s s $$s     s$$s?$s$s\\n                            $S  s  s$s$s$s      $ s$s\\n                             $s   s    s$s s$$$s s  $\\n                            $$s$$$$$$s     $    s$s$$s$$$s\\n                          s$s              $ $$s   $s???s$s\\n                          $$         ss    $$      $s??$$s\\n                         s$                $  s    s$s$s\\n                        s$s     s         $s $       $s$s\\n                      s$ $                $ $s        $ $s\\n                     s$ s$               $$ ss         $ $s\\n                   s$$  $$s     $s      s$  $          $ $s\\n                  $$s   $s$            s$   $s         $s $s\\n                s$s     $ $s         s$$    $s         s$  s\\n              s$$s      $  $$s     s$$s     $s         ss  $\\n              $$s       $s  s$$s$$$$s       $s         $s  $\\n              $s        s$   s     s      s$s          $   $s\\n             s$$$$$$$s   $s  $    s$      $s           $  s$$s\\n           s$$s??????s$$ $$  $s    $     s$           $s  s $$$$$$$s\\n          s$??????????es$ s$ s$    $s   s$           ss  $s$s   s$ks$s\\n          $s?s$$$ss$$s?s$  s$ $s   s$  s$sss         s s$$$s    s$???s\\n          $s?$    s  $s$s   s$ $s  s$$$s??ss$$$s   s$$$$s     s$????$\\n          ss$s$s  $  $  s$$$s ss$s   $s?????????s$$$ $$s      s$????s$\\n           $$s  $s$$$s     s$$s$$ $$$s???????????is$$       s$$????s$\\n          s$ s                   s$$$$?s$s$$s?????ss       s$s????s$\\n          s$ s$$$s            s$$s   s$$s  s$?????$      s$$????s$$\\n            $$   s$s               s$s      $$ss$$s   ss$$s????s$s\\n            $s $$  $$s              $s     s$s    s$$$s??????s$$s\\n            $   s$s s$s            s$s$$s  s$$$$$$s???????s$$s\\n           s$        s$s       s$$s   s$ $$s???????????s$$$s\\n          $$          s$$$$$$$$$s  s$$ $ss?????????s$$$s $\\n         $s              ssssss   s$s  $ s$$$$$$$$$s    $\\n        $s                             $$             s$$\\n       $$\\n                             $$               $\\n      ss                               s$               s$s\\n     $s                                 $$               sss$s\\n    s$           F  R  O  H  E  S       s$s             $shs$\\n    $s                                    $$$s      s$$$ss???$\\n   s$                                    $$??s$$$$$$$s??????s$\\n   s$                                    $?s????????????????$s\\n  s$s                                    $s$s??????????s$$$$s\\n s$                 F  E  S  T           s$ s$$$$$$$s$$s  s$\\ns$                                         $  $            $s\\n$s                                         $  $s           $s\\n$                                         $s s$$s          s$\\n$s                                      s$$ $$s             $\\ns$s                                    $s                  $$\\n  s$$$$s                               s$s           s$$$$$$s\\n       s$$$$$$$$$ss   s$$$$$ss      ss$$$$$$$s s$$$$$$ ssssss\\n                 s$$$$s     s$$$$$$$$s      sssss\"\n",
    "print(weihnachtsbotschaft)"
   ]
  }
 ],
 "metadata": {
  "kernelspec": {
   "display_name": "Python 3 (ipykernel)",
   "language": "python",
   "name": "python3"
  },
  "language_info": {
   "codemirror_mode": {
    "name": "ipython",
    "version": 3
   },
   "file_extension": ".py",
   "mimetype": "text/x-python",
   "name": "python",
   "nbconvert_exporter": "python",
   "pygments_lexer": "ipython3",
   "version": "3.9.13"
  }
 },
 "nbformat": 4,
 "nbformat_minor": 2
}
