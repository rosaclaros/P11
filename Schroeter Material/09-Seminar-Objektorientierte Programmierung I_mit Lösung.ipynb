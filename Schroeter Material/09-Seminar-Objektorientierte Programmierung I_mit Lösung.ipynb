{
 "cells": [
  {
   "cell_type": "markdown",
   "metadata": {},
   "source": [
    "**Seminar 'Einführung in die prozedurale und objektorientierte Programmierung mit Python'**\n",
    "\n",
    "![Figure progr](https://www.dh-lehre.gwi.uni-muenchen.de/wp-content/uploads/img/python1819/icons8-buch-48.png)\n",
    "\n",
    "# Thema 9: Objektorientierte Programmierung I\n",
    "\n",
    "> Der Inhalt dieser Sitzung soll eine Einführung in das Konzept der **objektorientierten** Programmierung geben. Im Folgenden lernen Sie, wie  Objekte anhand von Klassen beschrieben werden können und wie sich neue Instanzen solcher Objekte erzeugen lassen. Zudem wird das Konzept der **Datenkapselung** erläutert.\n",
    "\n",
    "## Objektorientierung\n",
    "Der Begriff Objektorientierung beschreibt ein Programmierparadigma, mit dem die Konsistenz von Datenobjekten gesichert werden kann und das die Wiederverwendbarkeit von Quellcode verbessert. Diese Vorteile werden dadurch erreicht, dass man Datenstrukturen und die dazugehörigen Operationen zu einem selbst definierten Objekt zusammenfasst und den Zugriff auf diese Strukturen nur über bestimmte Schnittstellen erlaubt.\n",
    "\n",
    "## Klassen und Objekte\n",
    "\n",
    "Eine Klasse beschreibt einen Typ von realen oder abstrakten Objekten. Dementsprechend kann man eine Klasse als Objekttyp sehen, der eine Art Bauplan für ein bestimmtes Objekt darstellt. Beispielsweise könnte eine Klasse \"Pflanze\" eben solche Gewächse beschreiben, die Klasse \"Automobil\" definiert, wie ein Auto aussieht und die Klasse \"Hund\" beschreibt eine allgemeine Definition eines Hundes. \n",
    "\n",
    "### Attribute \n",
    "\n",
    "Die Eigenschaften, die Objekte beschreiben, werden **Attribute** genannt:\n",
    "\n",
    "Die Klasse \"Hund\" könnte etwa die Attribute \"Alter\", \"Größe\", \"Rasse\" und \"Name\" haben, die Klasse \"Pflanze\" würde beispielsweise die Attribute \"Größe\", \"Anzahl der Bätter\", \"Name\", \"Wasserstand\" besitzen und die Klasse \"Automobil\" besäße die Attribute \"Marke\", \"Sitzplätze\", \"Pferdestärken\" usw.\n",
    "\n",
    "\n",
    "### Methoden\n",
    "\n",
    "Objekte können jedoch nicht nur bestimmte Attribute definieren, sondern sie können auch Funktionen beinhalten, die etwa zur Manipulation ihrer Attribute genutzt werden. Die Funktionen einer Klasse werden  **Methoden** genannt:\n",
    "\n",
    "Die Klasse \"Pflanze\" könnte zum Beispiel eine Methode \"gießen\" haben, mit der der Wasserstand einer Pflanze wieder aufgefüllt werden könnte. Die Klasse \"Automobil\" hätte Methoden \"tanken\" oder \"fahren\" und die Klasse \"Hund\" hätte zum Beispiel die Methoden \"streicheln\", \"füttern\" oder \"hol_stöckchen\".   \n",
    "\n",
    "\n",
    "## Ein erstes Beispiel\n",
    "\n",
    "Als Beispiel soll nun die Klasse \"Hund\" dienen. Beim Anlegen einer neuen Klasse bildet ähnlich wie bei einer Funktion das Schlüsselwort `class` zusammen mit dem Klassennamen (in diesem Fall \"Hund\") sowie dem `:` den Kopf, die Anweisungen, die nachfolgend in Einrückung geschrieben werden, den Körper. Eine minimale Klasse kann erstellt werden, wenn im Körper der Klassendefinition nur das Schlüsselwort `pass` steht, was eine leere minimale Klassendefintion erzeugt:\n"
   ]
  },
  {
   "cell_type": "code",
   "execution_count": 1,
   "metadata": {},
   "outputs": [],
   "source": [
    "class Hund:     # Definition einer minimalen Klasse Hund\n",
    "    pass"
   ]
  },
  {
   "cell_type": "markdown",
   "metadata": {},
   "source": [
    "### Erzeugung von Objekten\n",
    "\n",
    "Wird nun den beiden Variablen die Klassendefinition in Funktionsnotation mit `()` zugewiesen, werden so zwei neue Objekte dieser Klasse **instanziiert**. Die beiden Variablen \"hund_1\" und \"hund_2\" stellen somit **Referenzen** auf zwei **Instanzen** der Klasse \"Hund\" dar. \n"
   ]
  },
  {
   "cell_type": "code",
   "execution_count": 2,
   "metadata": {},
   "outputs": [],
   "source": [
    "hund_1 = Hund() # Instanziierung eines neuen Objekts der Klasse \"Hund\"\n",
    "hund_2 = Hund() # Instanziierung eines neuen Objekts der Klasse \"Hund\""
   ]
  },
  {
   "cell_type": "markdown",
   "metadata": {},
   "source": [
    "Wird eine dritte Referenz \"hund_3\" angelegt, die auf \"hund_1\" verweist, liefert ein Vergleich dieser beiden Variablen **true** zurück. Ein Vergleich der Variablen \"hund_1\" und \"hund_2\" liefert jedoch **false** zurück, da beide Variablen auf verschiedene Objektinstanzen verweisen."
   ]
  },
  {
   "cell_type": "code",
   "execution_count": 3,
   "metadata": {},
   "outputs": [
    {
     "name": "stdout",
     "output_type": "stream",
     "text": [
      "True\n",
      "False\n"
     ]
    }
   ],
   "source": [
    "hund_3 = hund_1\n",
    "\n",
    "print(hund_1 == hund_3)\n",
    "print(hund_1 == hund_2)"
   ]
  },
  {
   "cell_type": "markdown",
   "metadata": {},
   "source": [
    "### Die Methode \\__init__\n",
    "\n",
    "Bei der Instanziierung neuer Objekte wird im Hintergrund eine sog. magische Methode `__init__(self)` aufgerufen. Mit Hilfe dieser Methode können Attribute bei der Erzeugung einer neuen Instanz an diese übergeben werden. Zwar kann die `__init__` - Methode überall im Klassenkörper stehen, der Konvention entsprechend steht sie aber immer als erstes nach dem Kopf: "
   ]
  },
  {
   "cell_type": "code",
   "execution_count": 5,
   "metadata": {},
   "outputs": [],
   "source": [
    "class Hund:\n",
    "    def __init__(self,name,alter,rasse,groesse):\n",
    "        self.name = name\n",
    "        self.alter = alter\n",
    "        self.rasse = rasse\n",
    "        self.groesse = groesse\n",
    "        \n",
    "hund_1 = Hund(\"Susi\",1,\"Cocker-Spaniel\",38)\n",
    "hund_2 = Hund(\"Strolch\",2,\"Mischling\",70)"
   ]
  },
  {
   "cell_type": "markdown",
   "metadata": {},
   "source": [
    "Die `__init__` - Methode erhält nebem dem Parameter `self` weitere Parameter, die die Attribute des erzeugten Objekts besetzen. Zwar können die Übergabeparameter beliebig benannt werden, es ist jedoch guter Stil, sie gleich den Klassenattributen zu benennen.\n",
    "\n",
    "Werden zusäzliche Paramter in der `__init__` - Methode verlangt, so müssen diese auch alle besetzt werden. Der Aufruf `hund_x = Hund()` würde demnach nun einen Fehler liefern, da nicht alle Parameter gesetzt wurden. \n",
    "\n",
    "Der Parameter `self` muss jedoch nicht übergeben werden, er stellt eine Referenz auf das aktuell erzeugte Objekt (also sich selbst) dar. Auch dieser Parameter kann beliebig benannt werden, es ist jedoch ebenfalls oft missverständlich, dies zu tun.\n",
    "\n",
    "Wenn im Funktionskörper also eine Zuweisung durch `self` erfolgt, dann wird damit ein Attribut mit einem Wert besetzt. Attribute eines Objekts werden dementsprechend immer mit `.` angesprochen. Innerhalb einer Klasse mit Hilfe von `self`, außerhalb durch den Variablennamen:"
   ]
  },
  {
   "cell_type": "code",
   "execution_count": 6,
   "metadata": {},
   "outputs": [
    {
     "name": "stdout",
     "output_type": "stream",
     "text": [
      "Susi\n",
      "Strolch\n",
      "70\n"
     ]
    }
   ],
   "source": [
    "print(hund_1.name)\n",
    "print(hund_2.name)\n",
    "print(hund_2.groesse)"
   ]
  },
  {
   "cell_type": "markdown",
   "metadata": {},
   "source": [
    "### Methoden einer Klasse\n",
    "\n",
    "Neben der `__init__` - Methode können nach der bereits bekannten Schreibweise weitere Funktionen bzw. Methoden definiert werden. Der Aufruf einer dieser Methoden erfolgt wieder mittels des `.` Operators:"
   ]
  },
  {
   "cell_type": "code",
   "execution_count": 7,
   "metadata": {},
   "outputs": [
    {
     "name": "stdout",
     "output_type": "stream",
     "text": [
      "Bello\n",
      "*Fiep!\n"
     ]
    }
   ],
   "source": [
    "class Hund:\n",
    "    def __init__(self,name,alter,rasse,groesse):\n",
    "        self.name = name\n",
    "        self.alter = alter\n",
    "        self.rasse = rasse\n",
    "        self.groesse = groesse\n",
    "        \n",
    "    def streicheln(self):\n",
    "        print (\"*Fiep!\")\n",
    "        \n",
    "hund_1 = Hund(\"Bello\",10,\"Dackel\",20)\n",
    "\n",
    "print(hund_1.name)\n",
    "hund_1.streicheln()\n"
   ]
  },
  {
   "cell_type": "markdown",
   "metadata": {},
   "source": [
    "Im folgenden erhält die Klasse \"Hund\" nun noch einige weitere Methoden, die die Verwendung von `self` illustrieren:"
   ]
  },
  {
   "cell_type": "code",
   "execution_count": 8,
   "metadata": {},
   "outputs": [
    {
     "name": "stdout",
     "output_type": "stream",
     "text": [
      "'Hund' konnte das Stöckchen nicht finden, er wirkt erschöpft.\n",
      "'Hund' konnte das Stöckchen nicht finden, er wirkt erschöpft.\n",
      "*Knurr!\n",
      "*Mampf!\n",
      "*Fiep!\n",
      "'Hund' heißt jetzt: 'Beethoven'\n",
      "Ich heiße Beethoven !\n",
      "Ich heiße Fiffi !\n"
     ]
    }
   ],
   "source": [
    "import random\n",
    "\n",
    "class Hund:\n",
    "    \n",
    "    art = \"Canis lupus\"\n",
    "    \n",
    "    def __init__(self,name,alter,rasse,groesse):\n",
    "        self.name = name\n",
    "        self.alter = alter\n",
    "        self.rasse = rasse\n",
    "        self.groesse = groesse\n",
    "        self.hunger = 0\n",
    "        \n",
    "    def streicheln(self):\n",
    "        if self.hunger >= 10:\n",
    "            print(\"*Knurr!\")\n",
    "        elif self.hunger < 10 and self.hunger > 0:\n",
    "            print(\"*Lechz!\")\n",
    "        else:\n",
    "            print(\"*Fiep!\")\n",
    "    \n",
    "    def hol_stoeckchen(self):\n",
    "        if random.randint(1, 10) >= 5:\n",
    "            print(\"'\"+self.name  + \"' hat das Stöckchen gefunden\")\n",
    "            self.hunger += 1\n",
    "        else:\n",
    "            print(\"'\"+self.name + \"' konnte das Stöckchen nicht finden, er wirkt erschöpft.\")\n",
    "            self.hunger += 5\n",
    "            \n",
    "    def fuettern(self):\n",
    "        print(\"*Mampf!\")\n",
    "        self.hunger = 0 \n",
    "    \n",
    "    def umbenennen(self,name_neu):\n",
    "        print(\"'\"+self.name  + \"' heißt jetzt: '\"+name_neu+\"'\")\n",
    "        self.name = name_neu\n",
    "    \n",
    "    def wie_heißt_du(self):\n",
    "        print(\"Ich heiße \"+self.name+\" !\")\n",
    "        \n",
    "        \n",
    "hund_1 = Hund(\"Hund\",24,\"Basset\",38)\n",
    "hund_2 = Hund(\"Fiffi\",2,\"Rottweiler\",50)\n",
    "\n",
    "hund_1.hol_stoeckchen()\n",
    "hund_1.hol_stoeckchen()\n",
    "hund_1.streicheln()\n",
    "hund_1.fuettern()\n",
    "hund_1.streicheln()\n",
    "hund_1.umbenennen(\"Beethoven\")\n",
    "hund_1.wie_heißt_du()\n",
    "hund_2.wie_heißt_du()"
   ]
  },
  {
   "cell_type": "markdown",
   "metadata": {},
   "source": [
    "Mit der erweiterten Beispielklasse lassen sich nun Objekte vom Typ \"Hund\" erzeugen, deren Attribute (etwa der Hunger des jeweiligen Hundes) durch die Methoden, die auf das Objekt aufgerufen werden, verändert werden. \n",
    "\n",
    "Bei der Variablen \"art\" handelt es sich im Gegensatz zu den anderen Variablen, die in der `__init__`- Methode besetzt werden, nicht um eine **Instanzvariable** sondern um eine **Klassenvariable**, was bedeutet, dass Sie von allen Instanzen dieser Klasse geteilt wird.\n",
    "\n",
    "**Achtung:** Klassenvariablen sollten nur für Daten verwendet werden, die wirklich auf alle Instanzen einer Klasse gleichermaßen zutreffen!"
   ]
  },
  {
   "cell_type": "code",
   "execution_count": 9,
   "metadata": {},
   "outputs": [
    {
     "name": "stdout",
     "output_type": "stream",
     "text": [
      "Canis lupus\n",
      "Canis lupus\n"
     ]
    }
   ],
   "source": [
    "print(hund_1.art)\n",
    "print(hund_2.art)"
   ]
  },
  {
   "cell_type": "markdown",
   "metadata": {},
   "source": [
    "## Datenkapselung\n",
    "\n",
    "Bisher konnten die Attribute und Methoden eines instanziierten Objekts durch den `.` Operator von außerhalb angesprochen und verändert werden. Es konnte z.B. Folgendes geschehen:\n",
    "\n"
   ]
  },
  {
   "cell_type": "code",
   "execution_count": 10,
   "metadata": {},
   "outputs": [
    {
     "name": "stdout",
     "output_type": "stream",
     "text": [
      "Augustus\n"
     ]
    }
   ],
   "source": [
    "hund_3 = Hund(\"Caesar\",3,\"Terrier\",59 )\n",
    "\n",
    "hund_3.name = \"Augustus\" # Veränderung des Namens von hund_3\n",
    "\n",
    "print(hund_3.name) # Ausgabe des Namens von hund_3\n",
    "\n",
    "\n",
    "hund_3.fuettern = 2 # Überschreiben der Funktion \"fuettern\" mit einer Ganzzahl\n",
    "#hund_3.fuettern() # führt zu einem Fehler, da fuettern keine Funktion mehr ist\n"
   ]
  },
  {
   "cell_type": "markdown",
   "metadata": {},
   "source": [
    "Dieses Operationen sind eigentlich aber nicht im Sinne der objektorientieren Programmierung. Denn dort spielt das Konzept der **Datenkapselung** eine wichtige Rolle. Dadurch soll erreicht werden, dass die Daten eines Objekts also dessen Attribute und Methoden nicht mehr vom Benutzer der Klasse gelesen oder geändert werden können, sondern nur durch die Benutzung der dafür vorgesehenen Methoden.\n",
    "\n",
    "Im obigen Beispiel konnte etwa der Name eines Hundes mit der Methode `umbenennen(name)` geändert werden, was zulässig ist. Die Rasse des Hundes konnte jedoch nur durch einen direkten Zugriff auf das entsprechende Attribut verändert werden.\n",
    "\n",
    "### Private, Public und Protected\n",
    "\n",
    "Um den externen Zugriff auf die Attribute eines Objekts zu verhindern, gibt es in der objektorientierten Programmierung drei Zugriffsarten, die regeln, ob Attribute oder Methoden von außen gelesen oder sogar überschrieben werden können: \n",
    "\n",
    "1. **public** : Ein Attribut oder eine Methode darf von außen gelesen und auch überschrieben werden.\n",
    "2. **protected**: Ein Attribut oder eine Methode darf von außen nur gelesen werden.\n",
    "3. **private**: Ein Attribut oder eine Methode kann weder von außen gelesen noch geschrieben werden. \n",
    "\n",
    "Von Haus aus sind, wie Sie bereits gesehen haben, alle Attribute öffentlich bzw. **public**. Wollen Sie sie vor dem Überschreiben schützen, sie also **protected** machen, kann ein `_` vor den Namen des Attributs/Methode geschrieben werden. Soll das Attributs oder die Methode zudem auch nicht mehr von außen lesbar sein, müssen zwei `__` vorangestellt werden, um sie als **private** zu kennzeichnen. \n",
    "\n",
    "Die Klasse \"Hund\" sieht um private Attribute erweitert so aus. Die einzige Methode, die nach wie vor \"private\" ist, bleibt die \"magische\" `__init__`- Methode, alle anderen Methoden sind dem Benutzer der Klasse zugänglich."
   ]
  },
  {
   "cell_type": "code",
   "execution_count": null,
   "metadata": {},
   "outputs": [],
   "source": [
    "import random\n",
    "\n",
    "class Hund:\n",
    "    \n",
    "    art = \"Canis lupus\"\n",
    "    \n",
    "    def __init__(self,name,alter,rasse,groesse):\n",
    "        self.__name = name\n",
    "        self.__alter = alter\n",
    "        self.__rasse = rasse\n",
    "        self.__groesse = groesse\n",
    "        self.__hunger = 0\n",
    "        \n",
    "    def streicheln(self):\n",
    "        if self.__hunger >= 10:\n",
    "            print(\"*Knurr!\")\n",
    "        elif self.__hunger < 10 and self.__hunger > 0:\n",
    "            print(\"*Lechz!\")\n",
    "        else:\n",
    "            print(\"*Fiep!\")\n",
    "    \n",
    "    def hol_stoeckchen(self):\n",
    "        if random.randint(1, 10) >= 5:\n",
    "            print(\"'\"+self.__name  + \"' hat das Stöckchen gefunden\")\n",
    "            self.__hunger += 1\n",
    "        else:\n",
    "            print(\"'\"+self.__name + \"' konnte das Stöckchen nicht finden, er wirkt erschöpft.\")\n",
    "            self.__hunger += 5\n",
    "            \n",
    "    def fuettern(self):\n",
    "        print(\"*Mampf!\")\n",
    "        self.__hunger = 0 \n",
    "    \n",
    "    def umbenennen(self,name):\n",
    "        print(\"'\"+self.__name  + \"' heißt jetzt: '\"+name+\"'\")\n",
    "        self.__name = name\n",
    "    \n",
    "    def wie_heißt_du(self):\n",
    "        print(\"Ich heiße \"+self.__name+\" !\")\n",
    "        \n",
    "hund_1 = Hund(\"Hund\",24,\"Basset\",38)\n",
    "hund_1.umbenennen(\"Beethoven\")\n",
    "hund_1.wie_heißt_du()\n",
    "\n",
    "hund_1.__name=\"Brutus\" # schlägt fehl, da name nun von außen nicht mehr zugänglich ist.\n",
    "#print(hund_1.__name)\n",
    "\n",
    "hund_1.wie_heißt_du()"
   ]
  },
  {
   "cell_type": "markdown",
   "metadata": {},
   "source": [
    "Der Name des Hundes bleibt nun Beethoven nach der Umbenennung durch `umbenennen(name)`, obwohl anschließend versucht wird, diesen per Direktzugriff auf das Attribut des Objekts zu verändern. Da \"name\" nun aber **private** ist, funktioniert dies nicht mehr!"
   ]
  },
  {
   "cell_type": "markdown",
   "metadata": {},
   "source": [
    "### Getter- und Setter-Methoden\n",
    "\n",
    "Um nur die Informationen, die den Benutzern der Klasse zugänglich gemacht werden sollen, trotzdem ansprechbar zu halten, müssen sog. **getter-** oder **setter-Methoden** geschrieben werden, die es erlauben, bestimmte Informationen von außen zu lesen oder zu verändern. \n",
    "\n",
    "- Eine **getter-** Methode liefert den Wert eines Attributs zurück.\n",
    "- Eine **setter-** Methode ändert den Wert eines Attributs ab. \n",
    "\n",
    "Die Klasse \"Hund\" sieht um getter- und setter-Methoden erweitert so aus: "
   ]
  },
  {
   "cell_type": "code",
   "execution_count": null,
   "metadata": {},
   "outputs": [],
   "source": [
    "import random\n",
    "\n",
    "class Hund:\n",
    "    \n",
    "    art = \"Canis lupus\"\n",
    "    \n",
    "    def __init__(self,name,alter,rasse,groesse):\n",
    "        self.__name = name\n",
    "        self.__alter = alter\n",
    "        self.__rasse = rasse\n",
    "        self.__groesse = groesse\n",
    "        self.__hunger = 0\n",
    "        \n",
    "    def __del__(self):\n",
    "        print(\"das Objekt wurde zerstört\")\n",
    "    \n",
    "    # getter - und setter - Methoden:\n",
    "    \n",
    "    def get_name(self): # liefert den Namen des Hundes zurück\n",
    "        return self.__name\n",
    "    \n",
    "    def set_name(self,name): # ändert den Namen des Hundes (früher Funktion \"umbenennen\")\n",
    "        print(\"'\"+self.__name  + \"' heißt jetzt: '\"+name+\"'\")\n",
    "        self.__name = name\n",
    "        \n",
    "    def get_alter(self):\n",
    "        return self.__alter\n",
    "    \n",
    "    def get_groesse(self):\n",
    "        return self.__groesse\n",
    "    \n",
    "    def get_rasse(self):\n",
    "        return self.__rasse\n",
    "    \n",
    "    # dem Benutzer zugängliche Methoden:\n",
    "    \n",
    "    def streicheln(self):\n",
    "        if self.__hunger >= 10:\n",
    "            print(\"*Knurr!\")\n",
    "        elif self.__hunger < 10 and self.__hunger > 0:\n",
    "            print(\"*Lechz!\")\n",
    "        else:\n",
    "            print(\"*Fiep!\")\n",
    "        \n",
    "    def hol_stoeckchen(self):\n",
    "        if random.randint(1, 10) >= 5:\n",
    "            print(\"'\"+self.__name  + \"' hat das Stöckchen gefunden\")\n",
    "            self.__hunger += 1\n",
    "        else:\n",
    "            print(\"'\"+self.__name + \"' konnte das Stöckchen nicht finden, er wirkt erschöpft.\")\n",
    "            self.__hunger += 5\n",
    "            \n",
    "    def fuettern(self):\n",
    "        print(\"*Mampf!\")\n",
    "        self.__hunger = 0 \n",
    "        \n",
    "    def wie_heißt_du(self):\n",
    "        print(\"Ich heiße \"+self.__name+\" !\")\n",
    "    \n",
    "    \n",
    "hund_1 = Hund(\"Hund\",24,\"Basset\",38)\n",
    "#hund_1.get_name()\n",
    "#hund_1.set_name(\"Beethoven\")\n",
    "#hund_1.get_name()"
   ]
  },
  {
   "cell_type": "markdown",
   "metadata": {},
   "source": [
    "Beachten Sie, dass die einzige setter-Methode `set_name(name)` ist, was der früheren Methode `umbenennen(name)` entspricht. Zudem gibt es nun vier weitere getter-Methoden, die es dem Benutzer erlauben, Informationen über das jeweilige Objekt auszulesen. Der \"hunger\" jedes Hundes bleibt dem Benutzer jedoch verborgen, da es dafür keine getter-Methode gibt."
   ]
  },
  {
   "cell_type": "markdown",
   "metadata": {},
   "source": [
    "### Übungsaufgabe: Verschiedene Klassen erstellen\n",
    "\n",
    "Orientieren Sie sich an den genannten Beispielen zu Beginn dieses Skriptes und erstellen Sie zur Übung eine (oder mehrere) der folgenden Klassen mit den entsprechenden Attributen und Methoden:\n",
    "- `Konto`\n",
    "- `Auto`\n",
    "- `Pflanze`"
   ]
  },
  {
   "cell_type": "code",
   "execution_count": null,
   "metadata": {},
   "outputs": [],
   "source": [
    "class Konto:\n",
    "    \n",
    "    art = \"Girokonto\"\n",
    "    \n",
    "    def __init__(self,kontonummer,kontostand,auftragslimit,kontoinhaber):\n",
    "        self.kontonummer = kontonummer\n",
    "        self.kontostand = kontostand\n",
    "        self.auftragslimit = auftragslimit\n",
    "        self.kontoinhaber = kontoinhaber\n",
    "        \n",
    "    def einzahlen(self):\n",
    "        betrag = input(\"Wieviel Geld möchten Sie einzahlen?\")\n",
    "        betrag = float(betrag)\n",
    "        self.kontostand += betrag\n",
    "        \n",
    "    def ueberweisen(self,ue_betrag,IBAN,empfaenger):\n",
    "        if ue_betrag < self.kontostand:\n",
    "            if ue_betrag < self.auftragslimit:\n",
    "                self.kontostand -= ue_betrag\n",
    "            else:\n",
    "                print(\"So viel dürfen Sie nicht überweisen!\")\n",
    "        else:\n",
    "            print(\"Sie werden ihr Konto mit dieser Überweisung überziehen!\")\n",
    "    \n",
    "konto_1 = Konto(1234,100.10,3000,\"Hans Huber\")\n",
    "print(konto_1.kontoinhaber)\n",
    "\n",
    "#konto_1.einzahlen()\n",
    "\n",
    "konto_1.ueberweisen(100,\"12312312\",\"Fritz\")\n",
    "\n",
    "print(konto_1.kontostand)"
   ]
  },
  {
   "cell_type": "code",
   "execution_count": null,
   "metadata": {},
   "outputs": [],
   "source": [
    "class Auto:\n",
    "    \n",
    "    art = \"PKW\"\n",
    "    \n",
    "    def __init__(self,inhaber,marke,kennzeichen,ps,baujahr,kilometerzähler,tankanzeige):\n",
    "        self.inhaber = inhaber\n",
    "        self.kennzeichen = kennzeichen\n",
    "        self.ps = ps\n",
    "        self.baujahr = baujahr\n",
    "        self.kilometerzähler = kilometerzähler\n",
    "        self.tankanzeige = tankanzeige\n",
    "        \n",
    "    def fahren(self,kilometerzahl):\n",
    "        if self.tankanzeige >= 0:\n",
    "            self.kilometerzähler += kilometerzahl\n",
    "            spritverbrauch = (kilometerzahl/100)*8\n",
    "            self.tankanzeige -= spritverbrauch    \n",
    "        else: \n",
    "            print(\"Bitte Tanken!\")\n",
    "            \n",
    "    def tanken(self):\n",
    "        self.tankanzeige = 50\n",
    "\n",
    "auto_1 = Auto(\"Anna Musterfrau\",\"BMW\",\"M AB 1234\",120,2016,80000,50)\n",
    "\n",
    "print(auto_1.tankanzeige)\n",
    "\n",
    "auto_1.fahren(100)\n",
    "print(auto_1.tankanzeige)\n",
    "print(auto_1.kilometerzähler)"
   ]
  },
  {
   "cell_type": "code",
   "execution_count": null,
   "metadata": {},
   "outputs": [],
   "source": [
    "class Pflanze:\n",
    "    \n",
    "    art = \"Zimmerpflanze\"\n",
    "    \n",
    "    def __init__(self,name,standort,sonnenbedarf,groesse):\n",
    "        self.name = name\n",
    "        self.standort = standort\n",
    "        self.sonnenbedarf = sonnenbedarf\n",
    "        self.groesse = groesse\n",
    "        self.wasserstand = 0\n",
    "        \n",
    "    def giessen(self):\n",
    "        self.wasserstand += 5\n",
    "        \n",
    "    def sonnenschein(self):\n",
    "        self.wasserstand -= 5\n",
    "        self.groesse += 1\n",
    "        if self.wasserstand < 5:\n",
    "            print(\"Bitte giessen!\")\n",
    "\n",
    "pflanze_1 = Pflanze(\"Farn\",\"Halbschatten\",2,30)\n",
    "    \n",
    "print(pflanze_1.wasserstand)\n",
    "\n",
    "pflanze_1.giessen()\n",
    "print(pflanze_1.wasserstand)\n",
    "\n",
    "pflanze_1.sonnenschein()"
   ]
  }
 ],
 "metadata": {
  "kernelspec": {
   "display_name": "Python 3 (ipykernel)",
   "language": "python",
   "name": "python3"
  },
  "language_info": {
   "codemirror_mode": {
    "name": "ipython",
    "version": 3
   },
   "file_extension": ".py",
   "mimetype": "text/x-python",
   "name": "python",
   "nbconvert_exporter": "python",
   "pygments_lexer": "ipython3",
   "version": "3.11.5"
  }
 },
 "nbformat": 4,
 "nbformat_minor": 2
}
