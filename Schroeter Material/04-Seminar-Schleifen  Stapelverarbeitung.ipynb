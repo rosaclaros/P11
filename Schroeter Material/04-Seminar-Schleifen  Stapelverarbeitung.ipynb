{
 "cells": [
  {
   "cell_type": "markdown",
   "metadata": {},
   "source": [
    "**Seminar 'Einführung in die prozedurale und objektorientierte Programmierung mit Python'**\n",
    "\n",
    "![Figure progr](https://www.dh-lehre.gwi.uni-muenchen.de/wp-content/uploads/img/python1819/icons8-buch-48.png)\n",
    "\n",
    "# Thema 4: Schleifen & Stapelverarbeitung\n",
    "\n",
    "> Diese Stunde beschäftigt sich mit einem der mächtigsten Programmierkonzepte: den Schleifen. Schleifen zählen wie die Konditionale zu den **Kontrollstrukturen** von Python. Sie ermöglichen es, einen Programmcode beliebig oft auszuführen und auf diese Weise z.B. große Datenmengen seqeuentiell zu verarbeiten. Schleifen sind für die Textlinguistik absolut unerlässlich. Zusätzlich lernen Sie, wie Sie mehrere Dateien in einem Ordner automatisch der Reihe nach als sogenannten Stapel verarbeiten.\n",
    "\n",
    "## Schleifen\n",
    "\n",
    "Mithilfe von Schleifen ist es möglich, bestimmte Programmoperationen immer wieder neu auszuführen, um so zum Beispiel große Textmengen nach bestimmten Kriterien auszuwerten und in große Protokoll- & Annotationsdateien zu schreiben. Python kennt zwei Schleifentypen, die im Folgenden genauer vorgestellt werden sollen: `for`-Schleifen und `while`-Schleifen.\n",
    "\n",
    "### for-Schleife\n",
    "\n",
    "`for`-Schleifen bestehen wie Konditionale aus zwei Teilen: einem **Schleifenkopf** und einem **Schleifenrumpf**. Im Schleifenrumpf steht der Code, der mithilfe der Schleife wiederholt ausgeführt werden soll. Im Schleifenkopf befinden sich die sogenannten *Laufzeitbedingungen* der Schleife. In Python ist dies bei der `for`-Schleife ein Test auf Enthaltensein eines Elementes in einer Sequenz. Die Syntax für den Schleifenkopf lautet:\n",
    "\n",
    "```\n",
    "for Iterierende_Variable in Sequenz:\n",
    "\tCode im Schleifenrumpf\n",
    "```\n",
    "\n",
    "Wie auch bei der `if`-,`else`- oder `elif`-Anweisung wird auch hier der Schleifenrumpf stets eingerückt.\n",
    "\n",
    "Als **Sequenzen** gelten alle zusammengesetzten Datentypen (Listen, Tupel, Mengen und Dictionaries) und auch Strings. Deshalb werden diese Datentypen auch als *sequenzielle Datentypen* bezeichnet. Wird eine solche Sequenz in den Schleifenkopf einer `for`-Schleife geschrieben, wird sie von Anfang bis Ende durchlaufen. Bei jedem Schleifendurchlauf wird das aktuelle Element aus der Liste durch die **iterierende Variable** angesprochen:"
   ]
  },
  {
   "cell_type": "code",
   "execution_count": 1,
   "metadata": {},
   "outputs": [
    {
     "name": "stdout",
     "output_type": "stream",
     "text": [
      "Das\n",
      "...\n",
      "ist\n",
      "...\n",
      "die\n",
      "...\n",
      "Liste\n",
      "...\n"
     ]
    }
   ],
   "source": [
    "#Definition einer Liste:\n",
    "liste = [\"Das\", \"ist\", \"die\", \"Liste\"]\n",
    "\n",
    "for wort in liste: #Durchlaufen der Liste \"liste\" bis zum Ende, die iterierende Variable hat den Variablennamen \"wort\".\n",
    "    print(wort)#Ausgabe des jeweils aktuellen Listenelements (Wert in der Variable \"wort\" pro Schleifendurchlauf).\n",
    "    print(\"...\")"
   ]
  },
  {
   "cell_type": "markdown",
   "metadata": {},
   "source": [
    "Wenn mittles einer `for`-Schleife über einen **String** iteriert wird ist das aktuelle Element jedes Schleifendurchlaufs ein Zeichen aus der Zeichenkette:"
   ]
  },
  {
   "cell_type": "code",
   "execution_count": 3,
   "metadata": {},
   "outputs": [
    {
     "name": "stdout",
     "output_type": "stream",
     "text": [
      "H\n",
      "bla bla\n",
      "a\n",
      "bla bla\n",
      "l\n",
      "bla bla\n",
      "l\n",
      "bla bla\n",
      "o\n",
      "bla bla\n",
      " \n",
      "bla bla\n",
      "W\n",
      "bla bla\n",
      "e\n",
      "bla bla\n",
      "l\n",
      "bla bla\n",
      "t\n",
      "bla bla\n",
      "hallo Welt\n",
      "po\n"
     ]
    }
   ],
   "source": [
    "satz = \"Hallo Welt\"\n",
    "\n",
    "for buchstabe in satz:\n",
    "    print(buchstabe)\n",
    "    print(\"bla bla\")\n",
    "    \n",
    "satztwo = [\"hallo Welt\"]\n",
    "\n",
    "for x in satztwo:\n",
    "    print(x)\n",
    "    print(\"po\")"
   ]
  },
  {
   "cell_type": "markdown",
   "metadata": {},
   "source": [
    "**Tupel** und **Mengen** lassen sich ebenfalls mit einer `for`-Schleife verarbeiten:"
   ]
  },
  {
   "cell_type": "code",
   "execution_count": 6,
   "metadata": {},
   "outputs": [
    {
     "name": "stdout",
     "output_type": "stream",
     "text": [
      "a\n",
      "b\n",
      "c\n",
      "....\n",
      "1\n",
      "lala\n",
      "2\n",
      "lala\n",
      "3\n",
      "lala\n",
      "4\n",
      "lala\n",
      "lolo\n"
     ]
    }
   ],
   "source": [
    "tupel = ('a','b','c')\n",
    "\n",
    "for elem in tupel:\n",
    "    print(elem)\n",
    "    \n",
    "print('....')\n",
    "menge = {1,2,3,4}\n",
    "\n",
    "for elem in menge:\n",
    "    print(elem)\n",
    "    print(\"lala\")\n",
    "    \n",
    "print(\"lolo\")"
   ]
  },
  {
   "cell_type": "markdown",
   "metadata": {},
   "source": [
    "Auch **Dictionaries** können mit einer `for`-Schleife durchlaufen werden. Die iterierende Variable wird jedoch wieder mit den **Schlüsseln** des Dictionaries besetzt und nicht mit dessen Werten:"
   ]
  },
  {
   "cell_type": "code",
   "execution_count": 16,
   "metadata": {},
   "outputs": [
    {
     "name": "stdout",
     "output_type": "stream",
     "text": [
      "Hund\n",
      "Elefant\n",
      "Biene\n"
     ]
    }
   ],
   "source": [
    "tiere = {\"Hund\":\"Hasso\",\"Elefant\":\"Stampfi\",\"Biene\":\"Willy\"}\n",
    "\n",
    "#Iteration über die Schlüssel des Dictionaries:\n",
    "for tier in tiere:\n",
    "    print (tier)"
   ]
  },
  {
   "cell_type": "markdown",
   "metadata": {},
   "source": [
    "Um bei der Iteration über die Schlüssel die einzelnen **Werte** des Dictionaries im Schleifenkörper auszugeben, kann wie üblich der **Index-Operator** benutzt werden. Somit wird das Dicitionary also nacheinander nach jedem Wert eines Schlüssels abgefragt:"
   ]
  },
  {
   "cell_type": "code",
   "execution_count": 17,
   "metadata": {},
   "outputs": [
    {
     "name": "stdout",
     "output_type": "stream",
     "text": [
      "Hasso\n",
      "Stampfi\n",
      "Willy\n"
     ]
    }
   ],
   "source": [
    "#Zugriff auf die Werte des Dictionaries über Index:\n",
    "for x in tiere:\n",
    "    print (tiere[x])"
   ]
  },
  {
   "cell_type": "markdown",
   "metadata": {},
   "source": [
    "#### Spezielle Methoden beim Iterieren über Dictionaries\n",
    "Unter Verwendung der `values()`-Methode kann man **direkt über die Werte** eines Dictionaries iterieren:"
   ]
  },
  {
   "cell_type": "code",
   "execution_count": 19,
   "metadata": {},
   "outputs": [
    {
     "name": "stdout",
     "output_type": "stream",
     "text": [
      "Hasso\n",
      "Stampfi\n",
      "Willy\n"
     ]
    }
   ],
   "source": [
    "#Iteration über die Werte des Dictionaries:\n",
    "for a in tiere.values():\n",
    "    print(a)"
   ]
  },
  {
   "cell_type": "markdown",
   "metadata": {},
   "source": [
    "Mit der `items()`-Methode kann **über die Schlüssel-Werte-Paare** eines Dictionaries iteriert werden:"
   ]
  },
  {
   "cell_type": "code",
   "execution_count": 13,
   "metadata": {},
   "outputs": [
    {
     "name": "stdout",
     "output_type": "stream",
     "text": [
      "('Hund', 'Hasso')\n",
      "('Elefant', 'Stampfi')\n",
      "('Biene', 'Willy')\n",
      "('Reh', 'Bambi')\n",
      "('Kater', 'Garfield')\n"
     ]
    }
   ],
   "source": [
    "tiere = {\"Hund\":\"Hasso\",\"Elefant\":\"Stampfi\",\"Biene\":\"Willy\",\"Reh\":\"Bambi\",\"Kater\":\"Garfield\"}\n",
    "#Iteration über Schlüssel-Wert-Paare des Dictionaries:\n",
    "for paar in tiere.items():\n",
    "    print (paar)"
   ]
  },
  {
   "cell_type": "markdown",
   "metadata": {},
   "source": [
    "Die Elemente der von der `items()`-Funktion generierten Schlüssel-Wert-Tupel können innerhalb der Schleife über den **Tupelindex** oder über **Schleifenvariablen** angesprochen werden:"
   ]
  },
  {
   "cell_type": "code",
   "execution_count": 24,
   "metadata": {},
   "outputs": [
    {
     "name": "stdout",
     "output_type": "stream",
     "text": [
      "Hund : Hasso\n",
      "\n",
      "\n",
      "Elefant : Stampfi\n",
      "\n",
      "\n",
      "Biene : Willy\n",
      "\n",
      "\n",
      "\n",
      "\n",
      "Hund : Hasso\n",
      "\n",
      "\n",
      "Elefant : Stampfi\n",
      "\n",
      "\n",
      "Biene : Willy\n",
      "\n",
      "\n"
     ]
    }
   ],
   "source": [
    "#Zugriff auf Elemente der Schlüssel-Wert-Paar-Tupel mit Tupel-Index:    \n",
    "for paar in tiere.items():\n",
    "    print (paar[0], \":\", paar[1])\n",
    "    print(\"\\n\")\n",
    "\n",
    "print(\"\\n\")\n",
    "\n",
    "#Zugriff auf Elemente der Schlüssel-Wert-Paar-Tupel mit Schleifenvariablen:    \n",
    "for b, c in tiere.items():\n",
    "    print (b, \":\", c)\n",
    "    print(\"\\n\")"
   ]
  },
  {
   "cell_type": "markdown",
   "metadata": {},
   "source": [
    "### Start- & Endwert beim Schleifendurchlauf: Die range()-Funktion  \n",
    "\n",
    "Ähnlich wie in vielen anderen Programmiersprachen kann auch in Python eine Zahlensequenz definiert werden, anhand derer eine Sequenz durchlaufen wird. Zahlensequenzen können mithilfe der Funktion `range()` erzeugt werden:\n",
    "\n",
    "`range(Startwert, Endwert-1, Schrittgrösse)`\n",
    "\n",
    "Der **Endwert** der Range liegt immer 1 unter dem angegebenen Wert. Startwert und Schrittgröße sind optionale Argumente:\n",
    "* Wird der **Startwert** nicht angegeben, so beginnt die Range automatisch bei 0.\n",
    "* Wird die **Schrittgrösse** nicht angegeben, so liegt diese automatisch bei +1."
   ]
  },
  {
   "cell_type": "code",
   "execution_count": 25,
   "metadata": {},
   "outputs": [
    {
     "name": "stdout",
     "output_type": "stream",
     "text": [
      "Nur Startwert\n",
      "range(3): Das\n",
      "range(3): ist\n",
      "range(3): die\n",
      "\n",
      "Startwert und Endwert\n",
      "range(1, 3): ist\n",
      "range(1, 3): die\n",
      "\n",
      "Startwert, Endwert und Schrittgröße\n",
      "range(0, 3, +2): Das\n",
      "range(0, 3, +2): die\n"
     ]
    }
   ],
   "source": [
    "#Definition einer Liste:\n",
    "liste = [\"Das\", \"ist\", \"die\", \"Liste\"]\n",
    "\n",
    "print(\"Nur Startwert\")\n",
    "for zahl in range(3):\n",
    "    print(\"range(3):\", liste[zahl])\n",
    "\n",
    "print(\"\\nStartwert und Endwert\")\n",
    "for zahl in range(1, 3):\n",
    "    print(\"range(1, 3):\", liste[zahl])\n",
    "\n",
    "print(\"\\nStartwert, Endwert und Schrittgröße\")\n",
    "for zahl in range(0, 4, +2):\n",
    "    print(\"range(0, 2, +2):\", liste[zahl])"
   ]
  },
  {
   "cell_type": "markdown",
   "metadata": {},
   "source": [
    "Um die Ausgabe einer Schleife in eine Datei zu speichern, kann folgendes Beispielskript verwendet werden. Dies ist oft sinnvoll, wenn sehr viele Ergebnisse zu erwarten sind:"
   ]
  },
  {
   "cell_type": "code",
   "execution_count": 26,
   "metadata": {},
   "outputs": [
    {
     "name": "stdout",
     "output_type": "stream",
     "text": [
      "Bis wohin soll gezaehlt werden? 50\n",
      "Zahlen bis 50 erfolgreich geschrieben.\n"
     ]
    }
   ],
   "source": [
    "###SCRIPT: Gerade und ungerade Zahlen###\n",
    "#Importieren der benoetigten Module am Skriptanfang:\n",
    "\n",
    "\n",
    "maximum = int(input(\"Bis wohin soll gezaehlt werden? \"))+1\n",
    "\n",
    "#Das Setzen des Pointers sollte ausserhalb der Schleife erfolgen:\n",
    "r_pointer = open(\"pythontext_schleife.txt\", \"w\", encoding=\"utf8\")\n",
    "\n",
    "for zahl in range(1, maximum, +1):\n",
    "\n",
    "    if zahl%2 == 0:\t#Modulo: Wenn Zahl gerade dann ist der Rest der Division 0.\n",
    "        r_pointer.write(\"Die Zahl \" + str(zahl) + \" ist gerade.\\n\")\n",
    "    else:\n",
    "        r_pointer.write(\"Die Zahl \" + str(zahl) + \" ist ungerade.\\n\")\n",
    "\n",
    "#Das Schliessen des Pointers sollte ausserhalb der Schleife erfolgen:\n",
    "r_pointer.close()\t#Schliessen\n",
    "#Report des Ergebnisses:\n",
    "print(\"Zahlen bis\", maximum-1, \"erfolgreich geschrieben.\")"
   ]
  },
  {
   "cell_type": "markdown",
   "metadata": {},
   "source": [
    "### Verschachtelung von Schleifen (Nesting)\n",
    "\n",
    "Analog zur Verschachtelung von Konditionalen können auch Schleifen innerhalb von Schleifen ausgführt werden (Nesting von Schleifen). Diese Verwendung ist für die Formatierung von Text in der Korpuslinguistik Standard:"
   ]
  },
  {
   "cell_type": "code",
   "execution_count": 35,
   "metadata": {},
   "outputs": [
    {
     "name": "stdout",
     "output_type": "stream",
     "text": [
      "SatzNr: 1 WortNr: 1 Wort: Das\n",
      "SatzNr: 1 WortNr: 2 Wort: ist\n",
      "SatzNr: 1 WortNr: 3 Wort: der\n",
      "SatzNr: 1 WortNr: 4 Wort: erste\n",
      "SatzNr: 1 WortNr: 5 Wort: .\n",
      "SatzNr: 2 WortNr: 1 Wort: Und\n",
      "SatzNr: 2 WortNr: 2 Wort: das\n",
      "SatzNr: 2 WortNr: 3 Wort: hier\n",
      "SatzNr: 2 WortNr: 4 Wort: der\n",
      "SatzNr: 2 WortNr: 5 Wort: Zweite\n",
      "SatzNr: 2 WortNr: 6 Wort: !\n",
      "SatzNr: 3 WortNr: 1 Wort: Dann\n",
      "SatzNr: 3 WortNr: 2 Wort: der\n",
      "SatzNr: 3 WortNr: 3 Wort: dritte\n",
      "SatzNr: 3 WortNr: 4 Wort: !\n"
     ]
    }
   ],
   "source": [
    "# Erzeugung einer zweidimensionalen Liste\n",
    "text = [\n",
    "    [\n",
    "        \"Das\", \n",
    "        \"ist\", \n",
    "        \"der\", \n",
    "        \"erste\",\n",
    "        \".\"\n",
    "    ],\n",
    "    [\n",
    "        \"Und\", \n",
    "        \"das\", \n",
    "        \"hier\",\n",
    "        \"der\", \n",
    "        \"Zweite\", \n",
    "        \"!\"\n",
    "    ],\n",
    "    [\n",
    "        \"Dann\", \n",
    "        \"das\", \n",
    "        \"dritte\", \n",
    "        \"!\"\n",
    "    ]\n",
    "]\n",
    "\n",
    "# Setzen zweier Counter\n",
    "counter_satz = 1\n",
    "counter_wort = 1\n",
    "\n",
    "# Konstruktion der äußeren Schleife\n",
    "for x in text:  # Verarbeitung auf Satzebene\n",
    "    for y in x:  # Verarbeitung auf Wortebene\n",
    "        print(\"SatzNr:\", counter_satz, \"WortNr:\", counter_wort, \"Wort:\", y)\n",
    "        counter_wort += 1  # Hochsetzen des Counters für Wort\n",
    "    counter_satz += 1  # Hochsetzen des Counters für Satz\n",
    "    counter_wort = 1   # Zurücksetzen des Wort-Counters für den nächsten Satz\n"
   ]
  },
  {
   "cell_type": "markdown",
   "metadata": {},
   "source": [
    "### while-Schleife\n",
    "\n",
    "Auch `while`-Schleifen bestehen aus einem Schleifenkopf und einem Schleifenrumpf. Der Unterschied zur `for`-Schleife liegt  in den Laufzeitbedingungen, die bei `while`-Schleifen alle Arten von booleschen Ausdrücken darstellen. Die Schleife läuft, bis die Bedingung im Schleifenkopf falsch wird. \n",
    "\n",
    "Im folgenden Beispiel wird die Wörterliste durchlaufen, so lange der Schleifeninhalt nicht das Wort *'die'* enthält:"
   ]
  },
  {
   "cell_type": "code",
   "execution_count": 37,
   "metadata": {},
   "outputs": [
    {
     "name": "stdout",
     "output_type": "stream",
     "text": [
      "Das\n",
      "ist\n",
      "o\n",
      "R\n"
     ]
    }
   ],
   "source": [
    "#Definition einer Liste:\n",
    "liste = [\"Das\", \"ist\", \"o\", \"R\", \"die\", \"Liste\"]\n",
    "\n",
    "n = 0 #Setzen eines Counters fuer den Listenindex\n",
    "while liste[n] != \"die\": #Bedingung: Aktuelles Listenitem ungleich 'die'\n",
    "    print(liste[n])\n",
    "    n = n+1 #Hochsetzen des Listenindex\n",
    "    "
   ]
  },
  {
   "cell_type": "markdown",
   "metadata": {},
   "source": [
    "`while`- und `for`-Schleifen können mit einem `else`-Statement verbunden werden. Das `else`-Statement wird ausgeführt, wenn die Schleife verlassen wird:"
   ]
  },
  {
   "cell_type": "code",
   "execution_count": 1,
   "metadata": {},
   "outputs": [
    {
     "name": "stdout",
     "output_type": "stream",
     "text": [
      "Das\n",
      "ist\n",
      "Das gesuchte Wort war in der Liste. Sie wird ab Position 2 nicht mehr durchsucht.\n"
     ]
    }
   ],
   "source": [
    "#Definition einer Liste:\n",
    "liste = [\"Das\", \"ist\", \"die\", \"Liste\"]\n",
    "\n",
    "n = 0 #Setzen eines Counters fuer den Listenindex\n",
    "while liste[n] != \"die\": #Bedingung: Aktuelles Listenitem ungleich 'die'\n",
    "    print(liste[n])\n",
    "    n = n+1 #Hochsetzen des Listenindex\n",
    "else:\n",
    "    print(\"Das gesuchte Wort war in der Liste. Sie wird ab Position\", n, \"nicht mehr durchsucht.\")"
   ]
  },
  {
   "cell_type": "markdown",
   "metadata": {},
   "source": [
    "Um eine potentiell endlose Schleife zu konstruieren, können Sie Bedingungen im Schleifenkopf einsetzen, die immer wahr bleiben:"
   ]
  },
  {
   "cell_type": "code",
   "execution_count": null,
   "metadata": {},
   "outputs": [],
   "source": [
    "## Eine endlose Schleife mit Tautologie:\n",
    "#while 1 == 1:\n",
    "#    print(\"Das endet nie.\")\n",
    "\n",
    "## Einfache Schreibweise fuer endlose Schleifen:\n",
    "#while True:\n",
    "    #print(\"Das endet nie.\")"
   ]
  },
  {
   "cell_type": "markdown",
   "metadata": {},
   "source": [
    "Vermeiden Sie die Konstruktion endloser Schleifen ohne weitere Kontrollmechanismen! Endlosschleifen werden laufen, bis gewisse Sicherheitsprotokolle von Python den Prozess beenden, oder bis Ihr Computer abstürzt. Editoren wie PyCharm bietet Ihnen die Möglichkeit, endlose Schleifen abzubrechen."
   ]
  },
  {
   "cell_type": "markdown",
   "metadata": {},
   "source": [
    "### Schleifenkontrolle: break & continue\n",
    "\n",
    "Der Programmablauf innerhalb einer Schleife lässt sich durch zwei Statements kontrollieren, dem `break`- und dem `continue`-Statement. Beide Statements werden in der Regel im Rahmen von Konditionalen eingesetzt:\n",
    "\n",
    "* `break`: beendet die Schleife unmittelbar am Punkt des `break`-Statements. Es werden keine weiteren Schleifendurchläufe ausgeführt, das Script wird nach dem Schleifenrumpf fortgesetzt.\n",
    "* `continue`: beendet den aktuellen Schleifendurchlauf am Punkt des `continue`-Statements. Weiterer Code im Schleifenrumpf wird nicht mehr ausgeführt, der nächste Schleifendurchlauf wird aber gestartet und läuft normal.\n",
    "\n",
    "Im folgenden Skript wird das `continue`-Statement eingesetzt, um aus einer Tokenliste leere Zeilen zu entfernen. Dazu wird zunächst die Datei mit der Tokenliste aufgerufen und der Inhalt in eine Liste gespeichert. Die Liste wird mit einer `for`-Schleife durchlaufen und die einzelnen Tokens in eine neue Datei geschrieben. Wenn es sich um eine leere Zeile handelt, die lediglich aus einem Zeilenumbruch besteht, wird der Schreibprozess übersprungen und zum nächsten Token gegangen. Da alle Schreibprozesse mit leeren Zeilen übersprungen wurden, enthält die resultierende Datei keine Leerzeilen mehr:"
   ]
  },
  {
   "cell_type": "code",
   "execution_count": 2,
   "metadata": {},
   "outputs": [
    {
     "ename": "FileNotFoundError",
     "evalue": "[Errno 2] No such file or directory: './Seminar/schleife_break_cont.txt'",
     "output_type": "error",
     "traceback": [
      "\u001b[1;31m---------------------------------------------------------------------------\u001b[0m",
      "\u001b[1;31mFileNotFoundError\u001b[0m                         Traceback (most recent call last)",
      "Cell \u001b[1;32mIn[2], line 5\u001b[0m\n\u001b[0;32m      1\u001b[0m \u001b[38;5;66;03m###SCRIPT: Entfernung von Leerzeilen aus Tokenliste###\u001b[39;00m\n\u001b[0;32m      2\u001b[0m \u001b[38;5;66;03m#Aktive Module:\u001b[39;00m\n\u001b[0;32m      3\u001b[0m \n\u001b[0;32m      4\u001b[0m \u001b[38;5;66;03m#Oeffnen der Datei\u001b[39;00m\n\u001b[1;32m----> 5\u001b[0m r_pointer \u001b[38;5;241m=\u001b[39m \u001b[38;5;28mopen\u001b[39m(\u001b[38;5;124m\"\u001b[39m\u001b[38;5;124m./Seminar/schleife_break_cont.txt\u001b[39m\u001b[38;5;124m\"\u001b[39m, \u001b[38;5;124m\"\u001b[39m\u001b[38;5;124mr\u001b[39m\u001b[38;5;124m\"\u001b[39m, encoding\u001b[38;5;241m=\u001b[39m\u001b[38;5;124m\"\u001b[39m\u001b[38;5;124mutf8\u001b[39m\u001b[38;5;124m\"\u001b[39m) \u001b[38;5;66;03m#Oeffnen\u001b[39;00m\n\u001b[0;32m      6\u001b[0m textinhalt \u001b[38;5;241m=\u001b[39m r_pointer\u001b[38;5;241m.\u001b[39mreadlines()\t\u001b[38;5;66;03m#Auslesen\u001b[39;00m\n\u001b[0;32m      7\u001b[0m r_pointer\u001b[38;5;241m.\u001b[39mclose()\n",
      "File \u001b[1;32m~\\anaconda3\\Lib\\site-packages\\IPython\\core\\interactiveshell.py:286\u001b[0m, in \u001b[0;36m_modified_open\u001b[1;34m(file, *args, **kwargs)\u001b[0m\n\u001b[0;32m    279\u001b[0m \u001b[38;5;28;01mif\u001b[39;00m file \u001b[38;5;129;01min\u001b[39;00m {\u001b[38;5;241m0\u001b[39m, \u001b[38;5;241m1\u001b[39m, \u001b[38;5;241m2\u001b[39m}:\n\u001b[0;32m    280\u001b[0m     \u001b[38;5;28;01mraise\u001b[39;00m \u001b[38;5;167;01mValueError\u001b[39;00m(\n\u001b[0;32m    281\u001b[0m         \u001b[38;5;124mf\u001b[39m\u001b[38;5;124m\"\u001b[39m\u001b[38;5;124mIPython won\u001b[39m\u001b[38;5;124m'\u001b[39m\u001b[38;5;124mt let you open fd=\u001b[39m\u001b[38;5;132;01m{\u001b[39;00mfile\u001b[38;5;132;01m}\u001b[39;00m\u001b[38;5;124m by default \u001b[39m\u001b[38;5;124m\"\u001b[39m\n\u001b[0;32m    282\u001b[0m         \u001b[38;5;124m\"\u001b[39m\u001b[38;5;124mas it is likely to crash IPython. If you know what you are doing, \u001b[39m\u001b[38;5;124m\"\u001b[39m\n\u001b[0;32m    283\u001b[0m         \u001b[38;5;124m\"\u001b[39m\u001b[38;5;124myou can use builtins\u001b[39m\u001b[38;5;124m'\u001b[39m\u001b[38;5;124m open.\u001b[39m\u001b[38;5;124m\"\u001b[39m\n\u001b[0;32m    284\u001b[0m     )\n\u001b[1;32m--> 286\u001b[0m \u001b[38;5;28;01mreturn\u001b[39;00m io_open(file, \u001b[38;5;241m*\u001b[39margs, \u001b[38;5;241m*\u001b[39m\u001b[38;5;241m*\u001b[39mkwargs)\n",
      "\u001b[1;31mFileNotFoundError\u001b[0m: [Errno 2] No such file or directory: './Seminar/schleife_break_cont.txt'"
     ]
    }
   ],
   "source": [
    "###SCRIPT: Entfernung von Leerzeilen aus Tokenliste###\n",
    "#Aktive Module:\n",
    "\n",
    "#Oeffnen der Datei\n",
    "r_pointer = open(\"./Seminar/schleife_break_cont.txt\", \"r\", encoding=\"utf8\") #Oeffnen\n",
    "textinhalt = r_pointer.readlines()\t#Auslesen\n",
    "r_pointer.close()\n",
    "\n",
    "#Schreiben der bereinigten Datei\n",
    "w_pointer = open(\"./Seminar/schleife_break_cont.txt\", \"w\", encoding=\"utf8\") #Oeffnen\n",
    "\n",
    "#Setzen zweier Counter fuer die Schleife:\n",
    "counter_zeile = 0 #IDs fuer die einzelnen Worttokens\n",
    "counter_cont = 0 #Zaehlt entfernte Leerzeilen\n",
    "\n",
    "for zeile in textinhalt:\n",
    "\n",
    "    counter_zeile = counter_zeile+1 #Inkrementieren des ID-Counters\n",
    "\n",
    "    if zeile == \"\\n\": #Wenn eine Zeile nur aus einem Zeilenumbruch \\n besteht:\n",
    "        counter_cont = counter_cont+1\n",
    "        continue #Springen zum naechsten Schleifendurchlauf\n",
    "#ANMERKUNG: nach dem continue-Statement wird der Code nicht weiter ausgefuehrt. Der Write-Vorgang wird im aktuellen Durchlauf nicht gestartet.\n",
    "    print(str(counter_zeile) + \"\\t\" + zeile+\"\\n\")\n",
    "    w_pointer.write(str(counter_zeile) + \"\\t\" + zeile)\n",
    "\n",
    "w_pointer.close() #Schliessen\n",
    "\n",
    "#Zusammenfassung des Skriptes: Entfernte Leerzeilen.\n",
    "print(\"Entfernte Leerzeilen:\", counter_cont)\n",
    "\n",
    "#Ausgabe des Dateiinhalts:\n",
    "print(\"\\nDateiinhalt:\")\n",
    "r_pointer = open(\"./Seminar/schleife_break_cont.txt\", \"r\", encoding=\"utf8\")\n",
    "dateiinhalt = r_pointer.read()\n",
    "print(dateiinhalt)\n",
    "r_pointer.close() #Schliessen"
   ]
  },
  {
   "cell_type": "markdown",
   "metadata": {},
   "source": [
    "---\n",
    "In diesem kurzen Skript sehen Sie die Funktionsweise des `break`-Statements. Es dient dazu, Schleifen zu verlassen:"
   ]
  },
  {
   "cell_type": "code",
   "execution_count": 3,
   "metadata": {},
   "outputs": [
    {
     "name": "stdout",
     "output_type": "stream",
     "text": [
      "Geben Sie bitte das Wort 'Haus' ein: dsd\n",
      "Sie haben ein falsches Wort eingegeben!\n",
      "Geben Sie bitte das Wort 'Haus' ein: Haus\n",
      "Ihre Eingabe war korrekt.\n"
     ]
    }
   ],
   "source": [
    "###SCRIPT: Wiederholte Eingabe###\n",
    "while True: #Im Grunde eine Endlosschleife, da aber in jedem Durchlauf eine Eingabe erwartet wird unproblematisch.\n",
    "    eingabewort = input(\"Geben Sie bitte das Wort 'Haus' ein: \")\n",
    "    if eingabewort == \"Haus\":\n",
    "        break\n",
    "    print(\"Sie haben ein falsches Wort eingegeben!\")\n",
    "\n",
    "print(\"Ihre Eingabe war korrekt.\")"
   ]
  },
  {
   "cell_type": "code",
   "execution_count": null,
   "metadata": {},
   "outputs": [],
   "source": [
    "# Beispiel: Passworteingabe\n",
    "\n",
    "passwort = \"geheim123\"\n",
    "try_counter = 3\n",
    "\n",
    "while True:\n",
    "    passwortversuch = input(\"Geben Sie Ihr Passwort ein: \")\n",
    "    try_counter = try_counter-1\n",
    "    if try_counter >= 0:\n",
    "        if passwortversuch == passwort:\n",
    "            print(\" .... login .... \")\n",
    "            break\n",
    "        print(\"Falsches Passwort, Sie haben noch\", try_counter, \"Versuche.\\nBitte nochmal eingeben: \")\n",
    "        \n",
    "    else:\n",
    "        print(\"ihr Computer wird jetzt zerstört !!!!!!!!!!!\")\n",
    "        break\n",
    "\n"
   ]
  },
  {
   "cell_type": "markdown",
   "metadata": {},
   "source": [
    "## Stapelverarbeitung (Verarbeitung mehrerer Dateien)\n",
    "\n",
    "Häufig werden Sie nicht nur eine Textdatei gleicher Formatierung einlesen, sondern Dutzende oder gar Hunderte. Um die Dateien einzulesen, verwenden Sie das Modul `glob`, welches Ihnen eine Liste mit allen Dateinamen eines Ordners liefert, auf den das Suchmuster in der globalen Suchfunktion passt:\n",
    "\n",
    "`glob(SUCHMUSTER)`\n",
    "\n",
    "Im Folgenden Beispiel wird eine Liste mit allen Dateinamen im aktuellen Verzeichnis des Skriptes erstellt. Die Dateien selbst werden mithilfe eines Suchmusters ermittelt, bei dem vor der Dateiendung `.txt` der Platzhalter `*` für einen beliebigen Dateinamen steht:"
   ]
  },
  {
   "cell_type": "code",
   "execution_count": null,
   "metadata": {},
   "outputs": [],
   "source": [
    "#Importieren des Modules glob und Zuweisung einer Abkürzung:\n",
    "import glob as g\n",
    "\n",
    "#Erstellung der Dateiliste, Verwendung von * als Platzhalter:\n",
    "dateiliste = g.glob(\"*.txt\")\n",
    "\n",
    "print(dateiliste)\n",
    "#AUSGABE: Ausgabe sind alle .txt-Dateien im Verzeichnis."
   ]
  }
 ],
 "metadata": {
  "kernelspec": {
   "display_name": "Python 3 (ipykernel)",
   "language": "python",
   "name": "python3"
  },
  "language_info": {
   "codemirror_mode": {
    "name": "ipython",
    "version": 3
   },
   "file_extension": ".py",
   "mimetype": "text/x-python",
   "name": "python",
   "nbconvert_exporter": "python",
   "pygments_lexer": "ipython3",
   "version": "3.11.5"
  }
 },
 "nbformat": 4,
 "nbformat_minor": 2
}
