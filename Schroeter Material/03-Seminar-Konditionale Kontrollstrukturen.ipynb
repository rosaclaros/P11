{
 "cells": [
  {
   "cell_type": "markdown",
   "metadata": {},
   "source": [
    "**Seminar 'Einführung in die prozedurale und objektorientierte Programmierung mit Python'**\n",
    "\n",
    "![Figure progr](https://www.dh-lehre.gwi.uni-muenchen.de/wp-content/uploads/img/python1819/icons8-buch-48.png)\n",
    "\n",
    "# Thema 3: Konditionale Kontrollstrukturen\n",
    "\n",
    "> Konditionale stehen im Zentrum der heutigen Sitzung. Bei Konditionalen handelt es sich um ein zentrales Programmierkonzept aller modernen Programmiersprachen: Es sind **Programmschalter**, die in der Lage sind, den Informationsfluss nach gewissen **Bedingungen** zu steuern. Um Konditionale anwenden zu können, muss zugleich ein Verständnis von Vergleichsoperatoren erworben werden. Konditionale zählen zu den **Kontrollstrukturen** einer Programmiersprache.\n",
    "\n",
    "Konditionale in Python bestehen aus mindestens zwei Komponenten: Einer Bedingung und dem Codeblock, der ausgeführt werden soll, wenn die Bedingung wahr ist. Die Bedingung wird durch Vergleichsoperatoren formuliert.\n",
    "\n",
    "## Atomare Vergleichsoperationen\n",
    "Python kennt eine Reihe von Vergleichsoperatoren, welche die Steuerung von Konditionalen ermöglichen. Ein atomarer Vergleich besteht aus zwei Werten, die miteinander verglichen werden sollen. Das Ergebnis eines Vergleichs ist dabei stets ein boolescher Wert, also `True` oder `False`."
   ]
  },
  {
   "cell_type": "markdown",
   "metadata": {},
   "source": [
    "### Folgende Vergleichsoperationen können für **Zahlen** (INT, FLOAT, BOOL) durchgeführt werden:\n",
    "\n",
    "**Test auf Gleichheit** `==` (doppeltes =)"
   ]
  },
  {
   "cell_type": "code",
   "execution_count": 2,
   "metadata": {},
   "outputs": [
    {
     "name": "stdout",
     "output_type": "stream",
     "text": [
      "True\n",
      "True\n",
      "True\n",
      "False\n",
      "True\n"
     ]
    }
   ],
   "source": [
    "print(125 == 125)\n",
    "print(125 == 125.0)\n",
    "print(1 == True)\n",
    "print(125 == 130)\n",
    "print(\"125\" == 125)"
   ]
  },
  {
   "cell_type": "markdown",
   "metadata": {},
   "source": [
    "**Test auf Identität** `is`\n",
    "\n",
    "Beim Test auf Identität wird überprüft, ob die überprüften Elemente identisch sind (auf dasselbe Objekt verweisen)."
   ]
  },
  {
   "cell_type": "code",
   "execution_count": 3,
   "metadata": {},
   "outputs": [
    {
     "name": "stdout",
     "output_type": "stream",
     "text": [
      "True\n",
      "False\n",
      "False\n",
      "False\n",
      "False\n"
     ]
    },
    {
     "name": "stderr",
     "output_type": "stream",
     "text": [
      "<>:1: SyntaxWarning: \"is\" with a literal. Did you mean \"==\"?\n",
      "<>:2: SyntaxWarning: \"is\" with a literal. Did you mean \"==\"?\n",
      "<>:3: SyntaxWarning: \"is\" with a literal. Did you mean \"==\"?\n",
      "<>:4: SyntaxWarning: \"is\" with a literal. Did you mean \"==\"?\n",
      "<>:5: SyntaxWarning: \"is\" with a literal. Did you mean \"==\"?\n",
      "<>:1: SyntaxWarning: \"is\" with a literal. Did you mean \"==\"?\n",
      "<>:2: SyntaxWarning: \"is\" with a literal. Did you mean \"==\"?\n",
      "<>:3: SyntaxWarning: \"is\" with a literal. Did you mean \"==\"?\n",
      "<>:4: SyntaxWarning: \"is\" with a literal. Did you mean \"==\"?\n",
      "<>:5: SyntaxWarning: \"is\" with a literal. Did you mean \"==\"?\n",
      "<ipython-input-3-2b068c13433f>:1: SyntaxWarning: \"is\" with a literal. Did you mean \"==\"?\n",
      "  print(125 is 125)\n",
      "<ipython-input-3-2b068c13433f>:2: SyntaxWarning: \"is\" with a literal. Did you mean \"==\"?\n",
      "  print(125 is 125.0)\n",
      "<ipython-input-3-2b068c13433f>:3: SyntaxWarning: \"is\" with a literal. Did you mean \"==\"?\n",
      "  print(1 is True)\n",
      "<ipython-input-3-2b068c13433f>:4: SyntaxWarning: \"is\" with a literal. Did you mean \"==\"?\n",
      "  print(125 is 130)\n",
      "<ipython-input-3-2b068c13433f>:5: SyntaxWarning: \"is\" with a literal. Did you mean \"==\"?\n",
      "  print(\"125\" is 125)\n"
     ]
    }
   ],
   "source": [
    "print(125 is 125)\n",
    "print(125 is 125.0)\n",
    "print(1 is True)\n",
    "print(125 is 130)\n",
    "print(\"125\" is 125)"
   ]
  },
  {
   "cell_type": "markdown",
   "metadata": {},
   "source": [
    "**Achtung - Besonderheit bei Python:**\n",
    "\n",
    "*CPython* (die Hauptimplementierung von Python) kann einige Objekte wiederverwenden, um die Leistung zu verbessern. Zum Beispiel werden beim Start von Python standardmäßig `int`-Objekte für die Zahlen -5 bis 256 erstellt. Andere Python-Implementierungen wie *MicroPython* tun dies nicht unbedingt.\n",
    "\n",
    "Deshalb ergibt der Test auf Identität mit `is` bei `int`-Objekten mit gleichen Werten zwischen -5 und 256 immer `true`. Hier verweisen alle Zahlenwerte auf das selbe (vorangelegte) Objekt und es genügt für einen erfolgreichen `is`-Vergleich, dass die Werte der Objekte identisch sind."
   ]
  },
  {
   "cell_type": "code",
   "execution_count": 4,
   "metadata": {},
   "outputs": [
    {
     "name": "stdout",
     "output_type": "stream",
     "text": [
      "True\n"
     ]
    }
   ],
   "source": [
    "a = 20\n",
    "b = 20\n",
    "print (a is b)"
   ]
  },
  {
   "cell_type": "markdown",
   "metadata": {},
   "source": [
    "Bei zwei separat angelegten `int`-Objekten mit gleichen Werten unter -5 oder über 256 ergibt der Test auf Identität mit `is` jedoch `false`:"
   ]
  },
  {
   "cell_type": "code",
   "execution_count": 5,
   "metadata": {},
   "outputs": [
    {
     "name": "stdout",
     "output_type": "stream",
     "text": [
      "False\n"
     ]
    }
   ],
   "source": [
    "a = 2000\n",
    "b = 2000\n",
    "print (a is b)"
   ]
  },
  {
   "cell_type": "markdown",
   "metadata": {},
   "source": [
    "Zur Wiederholung: So kann man selbst Variablen anlegen, die auf das selbe Objekt verweisen:"
   ]
  },
  {
   "cell_type": "code",
   "execution_count": 6,
   "metadata": {},
   "outputs": [
    {
     "name": "stdout",
     "output_type": "stream",
     "text": [
      "True\n"
     ]
    }
   ],
   "source": [
    "a = b = 2000\n",
    "print (a is b)"
   ]
  },
  {
   "cell_type": "markdown",
   "metadata": {},
   "source": [
    "**Test auf Ungleichheit** `!=`"
   ]
  },
  {
   "cell_type": "code",
   "execution_count": 7,
   "metadata": {},
   "outputs": [
    {
     "name": "stdout",
     "output_type": "stream",
     "text": [
      "False\n",
      "False\n",
      "False\n",
      "True\n",
      "True\n"
     ]
    }
   ],
   "source": [
    "print(125 != 125)\n",
    "print(125 != 125.0)\n",
    "print(1 != True)\n",
    "print(125 != 130)\n",
    "print(\"125\" != 125)"
   ]
  },
  {
   "cell_type": "markdown",
   "metadata": {},
   "source": [
    "**Test auf Nicht-Identität** `is not`\n",
    "\n",
    "Wie beim Test auf Identität werden hier sowohl Werte als auch Datentypen vergleichend geprüft."
   ]
  },
  {
   "cell_type": "code",
   "execution_count": 8,
   "metadata": {},
   "outputs": [
    {
     "name": "stdout",
     "output_type": "stream",
     "text": [
      "False\n",
      "True\n",
      "True\n",
      "True\n",
      "True\n"
     ]
    },
    {
     "name": "stderr",
     "output_type": "stream",
     "text": [
      "<>:1: SyntaxWarning: \"is not\" with a literal. Did you mean \"!=\"?\n",
      "<>:2: SyntaxWarning: \"is not\" with a literal. Did you mean \"!=\"?\n",
      "<>:3: SyntaxWarning: \"is not\" with a literal. Did you mean \"!=\"?\n",
      "<>:4: SyntaxWarning: \"is not\" with a literal. Did you mean \"!=\"?\n",
      "<>:5: SyntaxWarning: \"is not\" with a literal. Did you mean \"!=\"?\n",
      "<>:1: SyntaxWarning: \"is not\" with a literal. Did you mean \"!=\"?\n",
      "<>:2: SyntaxWarning: \"is not\" with a literal. Did you mean \"!=\"?\n",
      "<>:3: SyntaxWarning: \"is not\" with a literal. Did you mean \"!=\"?\n",
      "<>:4: SyntaxWarning: \"is not\" with a literal. Did you mean \"!=\"?\n",
      "<>:5: SyntaxWarning: \"is not\" with a literal. Did you mean \"!=\"?\n",
      "<ipython-input-8-96f2c8733f7d>:1: SyntaxWarning: \"is not\" with a literal. Did you mean \"!=\"?\n",
      "  print(525 is not 525)\n",
      "<ipython-input-8-96f2c8733f7d>:2: SyntaxWarning: \"is not\" with a literal. Did you mean \"!=\"?\n",
      "  print(125 is not 125.0)\n",
      "<ipython-input-8-96f2c8733f7d>:3: SyntaxWarning: \"is not\" with a literal. Did you mean \"!=\"?\n",
      "  print(1 is not True)\n",
      "<ipython-input-8-96f2c8733f7d>:4: SyntaxWarning: \"is not\" with a literal. Did you mean \"!=\"?\n",
      "  print(125 is not 130)\n",
      "<ipython-input-8-96f2c8733f7d>:5: SyntaxWarning: \"is not\" with a literal. Did you mean \"!=\"?\n",
      "  print(\"125\" is not 125)\n"
     ]
    }
   ],
   "source": [
    "print(525 is not 525)\n",
    "print(125 is not 125.0)\n",
    "print(1 is not True)\n",
    "print(125 is not 130)\n",
    "print(\"125\" is not 125)"
   ]
  },
  {
   "cell_type": "markdown",
   "metadata": {},
   "source": [
    "**Test auf kleiner als** `<` "
   ]
  },
  {
   "cell_type": "code",
   "execution_count": 10,
   "metadata": {},
   "outputs": [
    {
     "name": "stdout",
     "output_type": "stream",
     "text": [
      "True\n",
      "False\n",
      "True\n",
      "False\n",
      "True\n"
     ]
    }
   ],
   "source": [
    "print(120 < 125)\n",
    "print(125 < 120)\n",
    "print(120 < 120.1)\n",
    "print(120 < 120)"
   ]
  },
  {
   "cell_type": "markdown",
   "metadata": {},
   "source": [
    "**Test auf kleiner/gleich als** `<=` "
   ]
  },
  {
   "cell_type": "code",
   "execution_count": 11,
   "metadata": {},
   "outputs": [
    {
     "name": "stdout",
     "output_type": "stream",
     "text": [
      "True\n",
      "False\n",
      "True\n",
      "True\n"
     ]
    }
   ],
   "source": [
    "print(120 <= 125)\n",
    "print(125 <= 120)\n",
    "print(120 <= 120.1)\n",
    "print(120 <= 120)"
   ]
  },
  {
   "cell_type": "markdown",
   "metadata": {},
   "source": [
    "**Test auf größer als** `>` "
   ]
  },
  {
   "cell_type": "code",
   "execution_count": 12,
   "metadata": {},
   "outputs": [
    {
     "name": "stdout",
     "output_type": "stream",
     "text": [
      "False\n",
      "True\n",
      "False\n",
      "False\n"
     ]
    }
   ],
   "source": [
    "print(120 > 125)\n",
    "print(125 > 120)\n",
    "print(120 > 120.1)\n",
    "print(120 > 120)"
   ]
  },
  {
   "cell_type": "markdown",
   "metadata": {},
   "source": [
    "**Test auf größer/gleich als** `>=` "
   ]
  },
  {
   "cell_type": "code",
   "execution_count": 13,
   "metadata": {},
   "outputs": [
    {
     "name": "stdout",
     "output_type": "stream",
     "text": [
      "False\n",
      "True\n",
      "False\n",
      "True\n"
     ]
    }
   ],
   "source": [
    "print(120 >= 125)\n",
    "print(125 >= 120)\n",
    "print(120 >= 120.1)\n",
    "print(120 >= 120)"
   ]
  },
  {
   "cell_type": "markdown",
   "metadata": {},
   "source": [
    "### Auch **Strings** können mithilfe von Vergleichsoperatoren untersucht werden. Folgende Vergleichsoperationen können durchgeführt werden:\n",
    "\n",
    "**Test auf Gleichheit:** `==`"
   ]
  },
  {
   "cell_type": "code",
   "execution_count": 14,
   "metadata": {},
   "outputs": [
    {
     "name": "stdout",
     "output_type": "stream",
     "text": [
      "True\n",
      "False\n"
     ]
    }
   ],
   "source": [
    "print(\"Wort 1\" == \"Wort 1\")\n",
    "print(\"Wort 1\" == \"Wort 2\")"
   ]
  },
  {
   "cell_type": "markdown",
   "metadata": {},
   "source": [
    "**Test auf Ungleichheit** `!=`"
   ]
  },
  {
   "cell_type": "code",
   "execution_count": 15,
   "metadata": {},
   "outputs": [
    {
     "name": "stdout",
     "output_type": "stream",
     "text": [
      "False\n",
      "True\n"
     ]
    }
   ],
   "source": [
    "print(\"Wort 1\" != \"Wort 1\")\n",
    "print(\"Wort 1\" != \"Wort 2\")"
   ]
  },
  {
   "cell_type": "code",
   "execution_count": 18,
   "metadata": {
    "scrolled": true
   },
   "outputs": [
    {
     "name": "stdout",
     "output_type": "stream",
     "text": [
      "True\n"
     ]
    }
   ],
   "source": [
    "print(len(\"Tschüss\") > len(\"Hallo\"))"
   ]
  },
  {
   "cell_type": "markdown",
   "metadata": {},
   "source": [
    "**Test auf Enthaltensein eines Strings im anderen:** `in`\n",
    "\n",
    "Der Test prüft, ob der vom Operator aus links liegende String im rechten String enthalten ist. Das Verfahren ist sensitiv für Groß- und Kleinschreibung!"
   ]
  },
  {
   "cell_type": "code",
   "execution_count": 19,
   "metadata": {},
   "outputs": [
    {
     "name": "stdout",
     "output_type": "stream",
     "text": [
      "True\n",
      "False\n"
     ]
    }
   ],
   "source": [
    "print(\"das\" in \"Ja, das ist ein Satz.\")\n",
    "print(\"das\" in \"Das ist ein Satz.\")"
   ]
  },
  {
   "cell_type": "markdown",
   "metadata": {},
   "source": [
    "**Test auf Nicht-Enthaltensein eines Strings im anderen:** `not in`\n",
    "\n",
    "Entspricht dem Test auf Enthaltensein."
   ]
  },
  {
   "cell_type": "code",
   "execution_count": 20,
   "metadata": {},
   "outputs": [
    {
     "name": "stdout",
     "output_type": "stream",
     "text": [
      "False\n",
      "True\n"
     ]
    }
   ],
   "source": [
    "print(\"das\" not in \"Ja, das ist ein Satz.\")\n",
    "print(\"das\" not in \"Das ist ein Satz.\")"
   ]
  },
  {
   "cell_type": "markdown",
   "metadata": {},
   "source": [
    "Das Enthaltensein von Elementen in **Listen**, **Dictionaries**, **Mengen** und **Tupeln** kann ebenfalls mit `in` bzw. `not in` geprüft werden:\n",
    "\n",
    "**Test auf Enthaltensein / Nicht-Enthaltensein eines Elements:**"
   ]
  },
  {
   "cell_type": "code",
   "execution_count": 25,
   "metadata": {},
   "outputs": [
    {
     "name": "stdout",
     "output_type": "stream",
     "text": [
      "True\n",
      "True\n",
      "False\n",
      "True\n",
      "True\n",
      "True\n"
     ]
    }
   ],
   "source": [
    "print(\"Hund\" in [\"Der\",\"Hund\",\"hat\",\"zugebissen\"])\n",
    "print(1 in (1,2,3))\n",
    "print(40 in {49,41,42})\n",
    "print('Adresse' in {'Adresse':'Kaiserstraße 43','Vorname':'Heinz','Nachname':'Müller'})\n",
    "\n",
    "mein_dict = {'Adresse':'Kaiserstraße 43','Vorname':'Heinz','Nachname':'Müller'}\n",
    "print(mein_dict['Adresse'] == 'Kaiserstraße 43')\n",
    "\n",
    "dictionary = {'Adresse':'Kaiserstraße 43', 'Vorname':'Heinz','Nachname':'Müller'}\n",
    "print(dictionary['Vorname'] == \"Heinz\")"
   ]
  },
  {
   "cell_type": "code",
   "execution_count": 28,
   "metadata": {},
   "outputs": [
    {
     "name": "stdout",
     "output_type": "stream",
     "text": [
      "False True\n"
     ]
    }
   ],
   "source": [
    "tiere = [\"Hund\", \"Katze\", \"Maus\", \"Affe\", \"Elefant\"]\n",
    "ergebnis_test = tiere[0] == \"Katze\"\n",
    "ergebnis_test_2 = \"Katze\" in tiere\n",
    "print(ergebnis_test, ergebnis_test_2)"
   ]
  },
  {
   "cell_type": "code",
   "execution_count": 30,
   "metadata": {},
   "outputs": [
    {
     "name": "stdout",
     "output_type": "stream",
     "text": [
      "True True\n"
     ]
    }
   ],
   "source": [
    "mein_dict = {'Adresse':'Kaiserstraße 43','Vorname':'Heinz','Nachname':'Müller'}\n",
    "ergebnis_adresse = mein_dict['Adresse'] == 'Kaiserstraße 43'\n",
    "ergebnis_adresse_2 = \"Adresse\" in mein_dict\n",
    "print(ergebnis_adresse, ergebnis_adresse_2)"
   ]
  },
  {
   "cell_type": "markdown",
   "metadata": {},
   "source": [
    "## Verknüpfte Vergleichsoperationen\n",
    "\n",
    "Atomare Vergleichsoperationen können durch Konnektoren verbunden werden. Es existieren die Konnektoren `and`, `or` sowie die Negation einer Konnexion durch `not`. Die Bedingungen für das Wahrsein und Falschsein der verknüpften Aussagen entsprechen denjenigen aus der Vorlesung zur Aussagenlogik. Der gesamte Ausdruck wird wahr, wenn folgende Wahrheitsbedingungen erfüllt sind:\n",
    "\n",
    "Für das logische `and` gilt:\n",
    "\n",
    "| `O1`  | `O2` | `O1 and O2` |\n",
    "| :------------- | :-------------: | :------------- |\n",
    "| true  | true  | **true** |\n",
    "| true  | false  | **false** |\n",
    "| false  | true  | **false** |\n",
    "| false  | false  | **false** |\n",
    "\n",
    "Für das logische `or` gilt:\n",
    "\n",
    "| `O1`  | `O2` | `O1 or O2` |\n",
    "| :------------- | :-------------: | :------------- |\n",
    "| true  | true  | **true** |\n",
    "| true  | false  | **true** |\n",
    "| false  | true  | **true** |\n",
    "| false  | false  | **false** |\n",
    "\n",
    "Der Ausdruck `not` verkehrt den Wahrheitswert einer Aussage:\n",
    "\n",
    "| `O`  | `not O` |\n",
    "| :------------- | :-------------: |\n",
    "| true  | **false**  |\n",
    "| false  | **true**  |\n",
    "\n",
    "\n",
    "Mit Hilfe dieser Vergleichsoperatoren lassen sich beliebig komplexe Wahrheitsbedingungen für Gesamtaussagen konstruieren:"
   ]
  },
  {
   "cell_type": "code",
   "execution_count": 31,
   "metadata": {},
   "outputs": [
    {
     "name": "stdout",
     "output_type": "stream",
     "text": [
      "True\n",
      "False\n",
      "True\n",
      "True\n",
      "True\n"
     ]
    }
   ],
   "source": [
    "print(\"das\" in \"Das ist ein Satz.\" or \"Das\" in \"Das ist ein Satz.\")\n",
    "# ANMERKUNG: Obwohl das erste Statement falsch ist, ist beim Operator 'or' die komplette Aussage wahr,\n",
    "# da Statementzwei wahr ist\n",
    "\n",
    "print(\"das\" in \"Das ist ein Satz\" and \"Das\" in \"Das ist ein Satz\")\n",
    "#ANMERKUNG: Beide Statements muessen wahr sein damit die Gesamtaussage wahr ist.\n",
    "\n",
    "print(not \"das\" in \"Das ist ein Satz\" and \"Das\" in \"Das ist ein Satz\")\n",
    "#ANMERKUNG: Der Negator macht beide Statements wahr.\n",
    "\n",
    "print(\"Das\" in \"Das ist ein Satz\" and \"Sat\" in \"Das ist ein Satz\")\n",
    "#ANMERKUNG: Beide Strings sind im Vergleichssatz enthalten, also ist die Gesamtaussage wahr.\n",
    "\n",
    "print(\"Hund\" in [\"Der\",\"Hund\",\"ist\",\"nass\"] and 16 in (14,15,16) and \"Adresse\" in {\"Adresse\":\"Ringstraße 32\"})\n",
    "#ANMERKUNG: Sowohl Liste, Tupel und Dictionary enhalten das geprüfte Element, also ist die Gesamtaussage wahr."
   ]
  },
  {
   "cell_type": "code",
   "execution_count": null,
   "metadata": {},
   "outputs": [],
   "source": [
    "# Zoom-Umfrage: Logisches und/oder \n",
    "\n",
    "#print(1 == 3 or 2 > 1)\n",
    "\n",
    "#print(10 > 1 and 1 < 10)\n",
    "\n",
    "#print(2 > 1  and not 1 == 3)"
   ]
  },
  {
   "cell_type": "markdown",
   "metadata": {},
   "source": [
    "Vergleichsoperationen können auch mit Hilfe von Klammersetzung in einander verschachtelt werden, die Wahrheitswerte der Aussagen werden von innen nach außen ermittelt:"
   ]
  },
  {
   "cell_type": "code",
   "execution_count": 32,
   "metadata": {},
   "outputs": [
    {
     "name": "stdout",
     "output_type": "stream",
     "text": [
      "True\n",
      "True\n"
     ]
    }
   ],
   "source": [
    "print((1 < 5 and (5 > 5 or 1 == 1 )) or (\"T\" in \"Test\"))\n",
    "print(\"T\" in \"Test\")"
   ]
  },
  {
   "cell_type": "code",
   "execution_count": 33,
   "metadata": {},
   "outputs": [
    {
     "name": "stdout",
     "output_type": "stream",
     "text": [
      "Hase\n",
      "Hase\n"
     ]
    }
   ],
   "source": [
    "liste_1 = [{\"Name\":\"Hase\", \"Fell\":\"braun\"}, \"Hund\"]\n",
    "dictionary_1 = {\"Tier\":{\"Name\":\"Hase\", \"Fell\":\"braun\"}, \"Futter\": \"Klee\"}\n",
    "\n",
    "print(liste_1[0]['Name'])\n",
    "print(dictionary_1[\"Tier\"][\"Name\"])"
   ]
  },
  {
   "cell_type": "markdown",
   "metadata": {},
   "source": [
    "## Codeblöcke in Python\n",
    "\n",
    "Im Gegensatz zu den meisten anderen Programmiersprachen weist Python eine Besonderheit auf, was das Schreiben des Programmcodes anbelangt: **Python ist sensitiv für Einrückungen, die mit der Tabulator-Taste gemacht werden.** Der Code in Python wird hierarchisch von oben nach unten verarbeitet, je weiter ein Codeblock eingerückt ist, umso niedriger ist er in der Hierarchie. Diese besondere Schreibweise soll das nachträgliche Verstehen des Codes verbessern und ihn leichter lesbar machen. Zum ersten Mal werden Sie mit dem Einrückverfahren konfrontiert, wenn sie mit Konditionalen arbeiten. Ein typischer Programmcode für Konditionale ist in zwei Hierarchiestufen untergliedert (Pseudocode):\n",
    "\n",
    "```\n",
    "...Programmverlauf...\n",
    "\n",
    "if Vergleichsoperation:\n",
    "\n",
    "\tMache Aktion\n",
    "\t\n",
    "...Programmverlauf...\n",
    "```\n",
    "\n",
    "Der eingerückte Programmteil `Mache Aktion` befindet sich im Skopus des Konditionals. Er wird nur ausgeführt, wenn die Vergleichsoperation wahr ist. Konditionale bestimmen also, ob und zu welchen Bedingungen die Skriptbestandteile in ihrem Skopus ausgeführt werden. PyCharm und Jupyter wird derartige Einrückungen automatisch vornehmen, seien Sie jedoch trotzdem vorsichtig und kontrollieren Sie ihren Programmcode genau.\n",
    "\n",
    "## Konditionale Programmschalter\n",
    "\n",
    "Ein klassisches Konditional besteht aus\n",
    "- einem **if-Statement**,\n",
    "- einer Vergleichsoperation und\n",
    "- einem Stück Programmcode, der nur dann ausgeführt wird, wenn die Vergleichsoperation wahr ist.\n",
    "\n",
    "Die Syntax eines Konditionals kann an einem einfachen Beispiel verdeutlicht werden:"
   ]
  },
  {
   "cell_type": "code",
   "execution_count": 39,
   "metadata": {},
   "outputs": [
    {
     "name": "stdout",
     "output_type": "stream",
     "text": [
      "Das Wort ist im Satz enthalten!\n"
     ]
    }
   ],
   "source": [
    "if \"Der\" in \"Der Hund ist da.\":\n",
    "    print(\"Das Wort ist im Satz enthalten!\")"
   ]
  },
  {
   "cell_type": "markdown",
   "metadata": {},
   "source": [
    "Der Computer führt zunächst die Vergleichsoperation aus und führt im Anschluss den eingerückten Programmcode aus, wenn die Vergleichsoperation wahr ist. Natürlich können auch Variablen in der Vergleichsoperation verwendet werden:"
   ]
  },
  {
   "cell_type": "code",
   "execution_count": 41,
   "metadata": {},
   "outputs": [
    {
     "name": "stdout",
     "output_type": "stream",
     "text": [
      "Der vorgegebene Satz lautet: In diesem Hauptseminar werden wir programmieren lernen.\n",
      "Geben Sie das Wort ein, welches gesucht werden soll: wir\n",
      "Das Wort ist im Satz enthalten!\n",
      "Sie haben eingegeben: wir\n"
     ]
    }
   ],
   "source": [
    "# SCRIPT: Ist ein Wort im Satz? if\n",
    "\n",
    "print(\"Der vorgegebene Satz lautet: In diesem Hauptseminar werden wir programmieren lernen.\")\n",
    "satz = \"In diesem Hauptseminar werden wir programmieren lernen.\" #Speicherung des Satzes in einer Variable.\n",
    "wort = input(\"Geben Sie das Wort ein, welches gesucht werden soll: \") #Eingabe des Wortes\n",
    "\n",
    "if wort in satz:\n",
    "    print(\"Das Wort ist im Satz enthalten!\")\n",
    "    print(\"Sie haben eingegeben:\", wort)"
   ]
  },
  {
   "cell_type": "markdown",
   "metadata": {},
   "source": [
    "Wird das Wort nicht gefunden, erfolgen keine weiteren Aktionen.\n",
    "\n",
    "Möchten Sie festlegen, was geschehen soll, wenn die Vergleichsoperation falsch ist, verwenden sie ein **else-Statement** nach dem if-Statement. if- und else-Statement müssen sich auf der gleichen Hierarchieebene befinden:"
   ]
  },
  {
   "cell_type": "code",
   "execution_count": 44,
   "metadata": {},
   "outputs": [
    {
     "name": "stdout",
     "output_type": "stream",
     "text": [
      "Das Wort ist im Satz enthalten!\n"
     ]
    }
   ],
   "source": [
    "# SCRIPT: Einfaches if-else\n",
    "\n",
    "if \"Der\" in \"Der Hund ist da.\": #Wenn Bedingung wahr\n",
    "    print(\"Das Wort ist im Satz enthalten!\")\n",
    "\n",
    "else: #Wenn Bedingung falsch\n",
    "    print(\"Leider ist das Wort nicht im Satz enthalten.\")"
   ]
  },
  {
   "cell_type": "markdown",
   "metadata": {},
   "source": [
    "Oder die komplexere Variante mit dem obigen Skript:"
   ]
  },
  {
   "cell_type": "code",
   "execution_count": 47,
   "metadata": {},
   "outputs": [
    {
     "name": "stdout",
     "output_type": "stream",
     "text": [
      "Der vorgegebene Satz lautet: In diesem Hauptseminar werden wir programmieren lernen.\n",
      "Geben Sie das Wort ein, welches gesucht werden soll: 5\n",
      "Leider ist das Wort '5' ist nicht im Satz enthalten!\n",
      "Zum Spaß eine Messung der Buchstabenzahl Ihrer Eingabe:\n",
      "Das Wort '5' hat 1 Buchstaben.\n",
      "Und die Ausgabe des ersten und letzten Buchstabens:\n",
      "Erster Buchstabe: 5 / Letzter Buchstabe: 5\n"
     ]
    }
   ],
   "source": [
    "# SCRIPT: Ist ein Wort im Satz? if-else\n",
    "\n",
    "print(\"Der vorgegebene Satz lautet: In diesem Hauptseminar werden wir programmieren lernen.\")\n",
    "satz = \"In diesem Hauptseminar werden wir programmieren lernen.\" #Speicherung des Satzes in einer Variable.\n",
    "wort = input(\"Geben Sie das Wort ein, welches gesucht werden soll: \") #Eingabe des Wortes\n",
    "\n",
    "if wort in satz:\n",
    "    print(\"Das Wort ist im Satz enthalten!\")\n",
    "    print(\"Sie haben eingegeben:\", wort)\n",
    "\n",
    "else:\n",
    "    print(\"Leider ist das Wort '\" + wort + \"' ist nicht im Satz enthalten!\")\n",
    "\n",
    "#Nicht eingerueckter Programmcode wird nach dem Konditional normal ausgefuehrt:\n",
    "print(\"Zum Spaß eine Messung der Buchstabenzahl Ihrer Eingabe:\")\n",
    "print(\"Das Wort '\" + wort + \"' hat\", len(wort), \"Buchstaben.\")\n",
    "print(\"Und die Ausgabe des ersten und letzten Buchstabens:\")\n",
    "print(\"Erster Buchstabe: \" + wort[0] + \" / Letzter Buchstabe: \" + wort[-1])"
   ]
  },
  {
   "cell_type": "markdown",
   "metadata": {},
   "source": [
    "Mit dem **if - elif - Statement** ist es möglich, mehrere Vergleichsoperationen der Reihe nach abzuprüfen und die entsprechenden Programmteile im Anschluss auszuführen. Wird eine Vergleichsoperation True, so werden alle weiteren Operationen nicht mehr ausgeführt."
   ]
  },
  {
   "cell_type": "code",
   "execution_count": 49,
   "metadata": {},
   "outputs": [
    {
     "name": "stdout",
     "output_type": "stream",
     "text": [
      "Eine ziemlich kleine Zahl.\n"
     ]
    }
   ],
   "source": [
    "# SCRIPT: if-elif-Statements\n",
    "zahl = 5\n",
    "\n",
    "if zahl >= 50: #Erste Vergleichsoperation\n",
    "    print(\"Die Zahl ist ziemlich groß.\")\n",
    "\n",
    "elif zahl < 50 and zahl > 25: #Zweite Vergleichsoperation\n",
    "    print(\"Die Zahl liegt zwischen 50 und 25.\")\n",
    "\n",
    "elif zahl <= 25 and zahl > 5: #Dritte Vergleichsoperation\n",
    "    print(\"Eine ziemlich kleine Zahl.\")\n",
    "\n",
    "elif zahl < 5: #Vierte Vergleichsoperation\n",
    "    print(\"Die Zahl ist kleiner als 5\")\n",
    "    \n",
    "else:\n",
    "    print(\"Die Zahl war wahrscheinlich 5.\")"
   ]
  },
  {
   "cell_type": "markdown",
   "metadata": {},
   "source": [
    "### Verschachtelung von Konditionalen (Nesting)\n",
    "\n",
    "Konditionale erlauben sogenanntes 'Nesting', also das Anbringen hierarchisch tiefer stehender Konditionale innerhalb hierarchisch höher stehender Konditionale. Wird die Vergleichsoperation auf der höheren Ebene wahr, so werden die hierarchisch tiefer stehenden Konditionale durchlaufen:"
   ]
  },
  {
   "cell_type": "code",
   "execution_count": 52,
   "metadata": {},
   "outputs": [
    {
     "name": "stdout",
     "output_type": "stream",
     "text": [
      "Geben Sie bitte eine Zahl ein zwischen 100 und 0: 0\n",
      "Die Zahl liegt nicht zwischen 100 und 0! Darauf haben wir keine Lust!\n"
     ]
    }
   ],
   "source": [
    "# SCRIPT: Zahl durch 5 mit Abrundung\n",
    "zahl = int(input(\"Geben Sie bitte eine Zahl ein zwischen 100 und 0: \"))\n",
    "\n",
    "if zahl < 100 and zahl > 0:\t#Erste Ebene: Testen ob Zahl zwischen 100 und 0\n",
    "\n",
    "    if (zahl//5) < 10:\t#Zweite Ebene: Division durch 5 mit Bewertung der Zahl.\n",
    "        print(\"Ihre Zahl war kleiner als 50.\")\n",
    "        print(zahl, \"durch 5 abgerundet ergibt:\", (zahl//5))\n",
    "\n",
    "    elif (zahl//5) >= 10:\n",
    "        print(\"Ihre Zahl war groesser oder gleich 50.\")\n",
    "        print(zahl, \"durch 5 abgerundet ergibt:\", (zahl//5))\n",
    "\n",
    "    else:\n",
    "        print(\"Irgendwas ist hier gewaltig schief gelaufen.\")\n",
    "\n",
    "else:\n",
    "    print(\"Die Zahl liegt nicht zwischen 100 und 0! Darauf haben wir keine Lust!\")"
   ]
  },
  {
   "cell_type": "markdown",
   "metadata": {},
   "source": [
    "### Kleines Skriptbeispiel: Satz und Nebensatz\n",
    "\n",
    "Folgendes Skript überprüft rein formal anhand der Satzzeichen, ob es sich um einen vollständigen Satz handelt und wenn ja, ob er Nebensätze oder Parenthesen enthält. Am Ende gibt es eine kurze Bewertung des eingegebenen Satzes aus."
   ]
  },
  {
   "cell_type": "code",
   "execution_count": 54,
   "metadata": {},
   "outputs": [
    {
     "name": "stdout",
     "output_type": "stream",
     "text": [
      "Geben Sie bitte einen Satz ein: Heute ist ein schöner Tag, denn die Sonne scheint.\n",
      "Deklarativsatz, hypotaktisch; Anzahl der Zeichen: 50\n"
     ]
    }
   ],
   "source": [
    "# SCRIPT: Satz und Nebensatz\n",
    "satz = input(\"Geben Sie bitte einen Satz ein: \")\n",
    "\n",
    "if \".\" in satz or \"?\" in satz or \"!\" in satz: #Erste Ebene: Satzpruefung.\n",
    "    if \",\" in satz: #Zweite Ebene: Komplexitaetspruefung\n",
    "        komplex = \", hypotaktisch\"\n",
    "\n",
    "        if \".\" in satz: #Dritte Ebene: Satztyp\n",
    "            typ = \"Deklarativsatz\"\n",
    "        elif \"?\" in satz:\n",
    "            typ = \"Interrogativsatz\"\n",
    "        elif \"!\" in satz:\n",
    "            typ = \"Imperativsatz\"\n",
    "\n",
    "    elif \"-\" in satz:\n",
    "        komplex = \", mit Parenthese\"\n",
    "\n",
    "        if \".\" in satz: #Dritte Ebene: Satztyp\n",
    "            typ = \"Deklarativsatz\"\n",
    "        elif \"?\" in satz:\n",
    "            typ = \"Interrogativsatz\"\n",
    "        elif \"!\" in satz:\n",
    "            typ = \"Imperativsatz\"\n",
    "\n",
    "    else:\n",
    "        komplex = \"\" #Nicht komplex, keine Ausgabe.\n",
    "\n",
    "        if \".\" in satz: #Dritte Ebene: Satztyp\n",
    "            typ = \"Deklarativsatz\"\n",
    "        elif \"?\" in satz:\n",
    "            typ = \"Interrogativsatz\"\n",
    "        elif \"!\" in satz:\n",
    "            typ = \"Imperativsatz\"\n",
    "\n",
    "    print(typ + komplex + \"; Anzahl der Zeichen:\", len(satz))\n",
    "\n",
    "else:\n",
    "    print(\"Es handelt sich hier nicht um einen vollständigen Satz!\")\n"
   ]
  },
  {
   "cell_type": "code",
   "execution_count": null,
   "metadata": {},
   "outputs": [],
   "source": []
  }
 ],
 "metadata": {
  "kernelspec": {
   "display_name": "Python 3 (ipykernel)",
   "language": "python",
   "name": "python3"
  },
  "language_info": {
   "codemirror_mode": {
    "name": "ipython",
    "version": 3
   },
   "file_extension": ".py",
   "mimetype": "text/x-python",
   "name": "python",
   "nbconvert_exporter": "python",
   "pygments_lexer": "ipython3",
   "version": "3.11.5"
  }
 },
 "nbformat": 4,
 "nbformat_minor": 2
}
