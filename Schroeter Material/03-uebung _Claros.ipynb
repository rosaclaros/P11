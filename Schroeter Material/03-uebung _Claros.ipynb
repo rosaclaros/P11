{
 "cells": [
  {
   "cell_type": "markdown",
   "metadata": {},
   "source": [
    "**Seminar 'Einführung in die prozedurale und objektorientierte Programmierung mit Python'**\n",
    "\n",
    "# Übung zu Thema 3: Konditionale Kontrollstrukturen"
   ]
  },
  {
   "cell_type": "markdown",
   "metadata": {},
   "source": [
    "### Aufgabe 1: Taschenrechner mit Auswahl der Grundrechenarten und Speicherung des Ergebnisses\n",
    "\n",
    "Programmieren Sie einen Taschenrechner, der zwei Zahlen entweder addiert, subtrahiert, multipliziert oder dividiert. Die entstehenden Gleichungen, z.B. `5 + 5 = 10` sollen im Anschluss in eine Textdatei geschrieben werden, deren Name vom Benutzer des Skriptes manuell eingegeben werden kann. Dabei sollen vergangene Rechnungen nicht aus der Textdatei gelöscht, sondern permanent erhalten bleiben, die jeweils neuen Rechnungen sollen in einer neuen Zeile angefügt werden, so dass am Ende eine Liste mit allen Rechnungen entsteht, welche im laufe der Zeit vorgenommen wurden.\n",
    "\n",
    "Das Skript soll Folgendes enthalten:\n",
    "- Möglichkeit zur **manuellen Eingabe** der zwei Zahlen.\n",
    "- Möglichkeit zur **manuellen Auswahl** der vier Grundrechenarten (Mithilfe eines Konditionals).\n",
    "- Möglichkeit zur **Eingabe** des Namens der Textdatei.\n",
    "- **Ausführung der gewählten Rechenart** auf die zwei eingegebenen Zahlen.\n",
    "- Schreiben der vollständigen Gleichung in die **Textdatei** mit dem eingegebenen Dateinamen.\n",
    "\n",
    "Hierbei ist darauf zu achten, dass abgespeicherte Gleichungen bei erneuter Ausführung des Skriptes nicht aus der Textdatei gelöscht werden (richtigen Modus beim Öffnen der Datei wählen)!"
   ]
  },
  {
   "cell_type": "code",
   "execution_count": null,
   "metadata": {},
   "outputs": [],
   "source": [
    "# Aufgabe 1\n",
    "\n",
    "import io\n",
    "\n",
    "text_name = input(\"Wählen Sie einen Name (Name.txt): \")\n",
    "nummer1 = int(input(\"Wählen Sie einen Nummer aus: \"))\n",
    "nummer2 = int(input(\"Wählen Sie einen zweiten Nummer aus: \"))\n",
    "aktion = input(\"Möchten Sie die beiden Nummern addieren, subtrahieren, multiplizieren oder dividieren: \")\n",
    "\n",
    "r_pointer = io.open(f\"../Dokumente/{text_name}\", \"a\", encoding=\"utf8\")\n",
    "\n",
    "if \"addieren\" in aktion or \"Addieren\" in aktion or \"+\" in aktion:\n",
    "    nummer3 = nummer1 + nummer2\n",
    "    ergebnis = f\"{nummer1} + {nummer2} = {nummer3}\"\n",
    "    \n",
    "elif \"subtrahieren\" in aktion or \"-\" in aktion or \"Subtrahieren\" in aktion:\n",
    "    nummer4 = nummer1 - nummer2\n",
    "    ergebnis = f\"{nummer1} - {nummer2} = {nummer4}\\n\"\n",
    "\n",
    "elif \"multiplizieren\" in aktion or \"Multiplizieren\" in aktion or \"*\" in aktion:\n",
    "    nummer5 = nummer1 * nummer2\n",
    "    ergebnis = f\"{nummer1} * {nummer2} = {nummer5}\\n\"\n",
    "    \n",
    "\n",
    "elif \"dividieren\" in aktion or \"Dividieren\" in aktion or \"/\" in aktion:\n",
    "    if aktion == 0:\n",
    "        print(\"Zero kann nicht dividiert werden!\")\n",
    "    else:\n",
    "        nummer6 = nummer1 / nummer2\n",
    "        ergebnis = f\"{nummer1} / {nummer2} = {nummer6}\"\n",
    "        \n",
    "else:\n",
    "    print(\"Möchten Sie addieren, subtrahieren, mutliplizieren oder dividieren.\")\n",
    "    \n",
    "\n",
    "r_pointer.write(ergebnis)          \n",
    "r_pointer.close()\n",
    "\n",
    "print(f\"Die Ergebnis finden Sie in der Textdatei {text_name}.\")\n",
    "\n",
    "\n",
    "#IHR SKRIPT"
   ]
  },
  {
   "cell_type": "markdown",
   "metadata": {},
   "source": [
    "### Aufgabe 2: Bewerten Sie die Ergebnisse folgender Vergleichsoperationen\n",
    "\n",
    "Es folgen eine Reihe von Vergleichsoperationen. Überlegen Sie, ob die Vergleiche `true` oder `false` ergeben:\n",
    "- `(1 < 5) and not (5 < 1)`\n",
    "- `not (\"Damm\" in \"Der Damm ist gebrochen.\" and \"war\" in \"Der Damm ist gebrochen\")`\n",
    "- `not (\"Damm\" in \"Der Damm ist gebrochen.\" or \"war\" in \"Der Damm ist gebrochen\")`\n",
    "- `False or (True and (False or not True))`\n",
    "- `(25/5 != 6) and (9*3 is 27)`\n",
    "- `(3 * \"Das Haus\") == \"Das Haus Das Haus Das Haus\"`\n",
    "- `\"Elefant\" not in {\"Name\":\"Elefant\",\"Gattung\":\"Säugetier\"}`\n",
    "- `(\"Rose\" in (\"Gänseblümchen\",\"Tulpe\",\"Rose\",\"Geranie\") and \"Rose\" in [\"Veilchen\",\"Nelke\",\"Kaktus\"]) or not (20%6 < 1)`\n",
    "\n",
    "Zur Selbstkontrolle können Sie die Vergleichsoperationen in die folgende Code-Zelle kopieren und ausführen."
   ]
  },
  {
   "cell_type": "code",
   "execution_count": 1,
   "metadata": {},
   "outputs": [
    {
     "data": {
      "text/plain": [
       "True"
      ]
     },
     "execution_count": 1,
     "metadata": {},
     "output_type": "execute_result"
    }
   ],
   "source": [
    "(1 < 5) and not (5 < 1)"
   ]
  },
  {
   "cell_type": "code",
   "execution_count": 2,
   "metadata": {},
   "outputs": [
    {
     "data": {
      "text/plain": [
       "True"
      ]
     },
     "execution_count": 2,
     "metadata": {},
     "output_type": "execute_result"
    }
   ],
   "source": [
    "not (\"Damm\" in \"Der Damm ist gebrochen.\" and \"war\" in \"Der Damm ist gebrochen\")"
   ]
  },
  {
   "cell_type": "code",
   "execution_count": 3,
   "metadata": {
    "scrolled": true
   },
   "outputs": [
    {
     "data": {
      "text/plain": [
       "False"
      ]
     },
     "execution_count": 3,
     "metadata": {},
     "output_type": "execute_result"
    }
   ],
   "source": [
    "not (\"Damm\" in \"Der Damm ist gebrochen.\" or \"war\" in \"Der Damm ist gebrochen\")"
   ]
  },
  {
   "cell_type": "code",
   "execution_count": 4,
   "metadata": {},
   "outputs": [
    {
     "data": {
      "text/plain": [
       "False"
      ]
     },
     "execution_count": 4,
     "metadata": {},
     "output_type": "execute_result"
    }
   ],
   "source": [
    "False or (True and (False or not True))"
   ]
  },
  {
   "cell_type": "code",
   "execution_count": 4,
   "metadata": {},
   "outputs": [
    {
     "data": {
      "text/plain": [
       "True"
      ]
     },
     "execution_count": 4,
     "metadata": {},
     "output_type": "execute_result"
    }
   ],
   "source": [
    "(25/5 != 6) and (9*3 == 27)"
   ]
  },
  {
   "cell_type": "code",
   "execution_count": 6,
   "metadata": {},
   "outputs": [
    {
     "data": {
      "text/plain": [
       "False"
      ]
     },
     "execution_count": 6,
     "metadata": {},
     "output_type": "execute_result"
    }
   ],
   "source": [
    "(3 * \"Das Haus\") == \"Das Haus Das Haus Das Haus\""
   ]
  },
  {
   "cell_type": "code",
   "execution_count": 7,
   "metadata": {},
   "outputs": [
    {
     "data": {
      "text/plain": [
       "True"
      ]
     },
     "execution_count": 7,
     "metadata": {},
     "output_type": "execute_result"
    }
   ],
   "source": [
    "\"Elefant\" not in {\"Name\":\"Elefant\",\"Gattung\":\"Säugetier\"}"
   ]
  },
  {
   "cell_type": "code",
   "execution_count": 8,
   "metadata": {},
   "outputs": [
    {
     "data": {
      "text/plain": [
       "True"
      ]
     },
     "execution_count": 8,
     "metadata": {},
     "output_type": "execute_result"
    }
   ],
   "source": [
    "(\"Rose\" in (\"Gänseblümchen\",\"Tulpe\",\"Rose\",\"Geranie\") and \"Rose\" in [\"Veilchen\",\"Nelke\",\"Kaktus\"]) or not (20%6 < 1)"
   ]
  },
  {
   "cell_type": "markdown",
   "metadata": {},
   "source": [
    "### Aufgabe 3: Zeit-Artikel: Bernie Sanders Lieblingslinker\n",
    "\n",
    "Lesen Sie den Zeit-Artikel \"Bernie Sanders Lieblingslinker\" aus der Textdatei `Sanders_Artikel.txt` ein.\n",
    "\n",
    "1) Schreiben Sie ein Skript, welches im gesamten Text prüft, ob die Wörter `Sanders` oder `Clinton`häufiger vertreten sind. \n",
    "\n",
    "2) Danach soll eine Reihe kurzer Skript-Stücke die folgenden Fragen beantworten:\n",
    "- Wie viele Zeichen hat der gesamte Text (auch Interpunktion und Leerzeichen)?\n",
    "- Wie viele Absätze hat der Text?\n",
    "- Wie viele Sätze hat der erste Absatz (Überlegen Sie hierzu eine Möglichkeit, das zu messen)?\n",
    "- Wie viele Wörter hat der erste Absatz näherungsweise (Überlegen Sie hierzu eine Möglichkeit, das zu messen)?\n",
    "\n",
    "Das Skript soll Folgendes enthalten:\n",
    "\n",
    "- Die separate **Zählung** der Häufigkeit der Strings `Sanders`und `Clinton` (1).\n",
    "- Die Ausgabe der **ermittelten Häufigkeiten** (2).\n",
    "- Die **Erklärung einer der beiden Personen zum Sieger** auf Basis der ermittelten Häufigkeiten aus (1) (Mithilfe eines Konditionals).\n"
   ]
  },
  {
   "cell_type": "code",
   "execution_count": 3,
   "metadata": {},
   "outputs": [
    {
     "name": "stdout",
     "output_type": "stream",
     "text": [
      "Sanders ist der Sieger!\n",
      "Der gesamte Text hat 1278 Zeichen.\n",
      "Der Text hat 12 Absätze.\n",
      "Der erste Absatz hat 8 Sätze.\n",
      "Der erste Absatz hat 97 Wörter.\n"
     ]
    }
   ],
   "source": [
    "# Aufgabe 3\n",
    "import io\n",
    "r_pointer = io.open (\"../Übung/Sanders_Artikel.txt\", \"r\", encoding=\"utf8\")\n",
    "artikel_inhalt = r_pointer.read()\n",
    "\n",
    "sanders_count = artikel_inhalt.count('Sanders')\n",
    "clinton_count = artikel_inhalt.count('Clinton')\n",
    "absatz_count = artikel_inhalt.count('\\n')\n",
    "satz_count1 = artikel_inhalt.count('.')\n",
    "komma_count = artikel_inhalt.count(',')\n",
    "interpunktion_count1 = artikel_inhalt.count(':')\n",
    "interpunktion_count2 = artikel_inhalt.count('``')\n",
    "leerzeichen_count = artikel_inhalt.count(' ')\n",
    "strich_count = artikel_inhalt.count('-')\n",
    "first_paragraph_end = artikel_inhalt.index('\\n') # .find to detect first paragraph in the txt. file\n",
    "first_paragraph = artikel_inhalt[:658]\n",
    "first_paragraph_satze = first_paragraph.count('.')\n",
    "first_paragraph_leerzeichen = first_paragraph.count(' ')\n",
    "first_paragraph_wortzahl = first_paragraph_leerzeichen - 1\n",
    "total_interpunktion_leerzeichen = komma_count + interpunktion_count1 + interpunktion_count2 + leerzeichen_count + strich_count\n",
    "\n",
    "if sanders_count >= clinton_count:\n",
    "    print(\"Sanders ist der Sieger!\")\n",
    "else: \n",
    "    print(\"Clinton ist die Siegerin!\")\n",
    "    \n",
    "print(f\"Der gesamte Text hat {total_interpunktion_leerzeichen} Zeichen.\")\n",
    "print(f\"Der Text hat {absatz_count} Absätze.\")\n",
    "print(f\"Der erste Absatz hat {first_paragraph_satze} Sätze.\")\n",
    "print(f\"Der erste Absatz hat {first_paragraph_wortzahl} Wörter.\")\n",
    "\n",
    "r_pointer.close()\n",
    "\n",
    "\n",
    "\n",
    "\n",
    "\n",
    "\n",
    "\n",
    "\n",
    "\n",
    "#IHR SKRIPT"
   ]
  }
 ],
 "metadata": {
  "kernelspec": {
   "display_name": "Python 3 (ipykernel)",
   "language": "python",
   "name": "python3"
  },
  "language_info": {
   "codemirror_mode": {
    "name": "ipython",
    "version": 3
   },
   "file_extension": ".py",
   "mimetype": "text/x-python",
   "name": "python",
   "nbconvert_exporter": "python",
   "pygments_lexer": "ipython3",
   "version": "3.11.5"
  }
 },
 "nbformat": 4,
 "nbformat_minor": 2
}
