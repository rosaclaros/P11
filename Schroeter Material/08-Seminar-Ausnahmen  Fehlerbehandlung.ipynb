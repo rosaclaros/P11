{
 "cells": [
  {
   "cell_type": "markdown",
   "metadata": {},
   "source": [
    "**Seminar 'Einführung in die prozedurale und objektorientierte Programmierung mit Python'**\n",
    "\n",
    "![Figure progr](https://www.dh-lehre.gwi.uni-muenchen.de/wp-content/uploads/img/python1819/icons8-buch-48.png)\n",
    "\n",
    "# Thema 8: Ausnahmen & Fehlerbehandlung\n",
    "\n",
    "> Ziel dieser Sitzung ist es mit Hilfe von **Exceptions (Ausnahmen)** Programmfehler oder Ausnahmen, die zur Laufzeit eines Pythonprogramms auftreten können abzufangen. Hierdurch werden Ihre Programme sicherer und robuster, da sie so nun nicht mehr gleich nach den Auftreten eines Fehlers abbrechen. \n",
    "\n",
    "Wenn in einem Pythonprogramm Ausnahmen oder Fehler auftreten, gehören diese zu den `built-in Exceptions`. Die Exception-Hierarchie in Python ist vielfältig und groß. Hier ein kleiner Auszug mit Ausnahmen und Fehlern, die Ihnen vielleicht schon begegnet sind:\n",
    "```\n",
    "BaseException\n",
    " ...\n",
    " +-- Exception\n",
    "      ...\n",
    "      +-- AttributeError\n",
    "      ...\n",
    "      +-- ImportError\n",
    "          +-- ModuleNotFoundError\n",
    "      ...\n",
    "          +-- FileNotFoundError\n",
    "      ...\n",
    "      +-- SyntaxError\n",
    "      ...\n",
    "      +-- TypeError\n",
    "      ...\n",
    "```\n",
    "      \n",
    "Die volle Hierarchie finden Sie hier: https://docs.python.org/3/library/exceptions.html.\n",
    "\n",
    "- Ein `Syntax Error` sollte und kann nicht während des Programmablaufes behandelt werden, da dieser auf ein grundsätzliches Problem mit dem Programm hinweist und das Programm so auch nicht abläuft bzw. funktionsfähig ist.\n",
    "\n",
    "- Andere Fehler, die zur Laufzeit auftreten, können jedoch behandelt werden, ohne dass ein kritisches Problem für den weiteren Ablauf des Progammes entsteht. Diese werden als `Exceptions` bezeichnet. Beispiele hierfür sind `Type Error`, `Zero Division Error` oder `FileNotFoundError`.\n",
    "\n",
    "## Abfangen von Exceptions\n",
    "\n",
    "Bisher brach ein Pythonprogramm zu dem Zeitpunkt in dem der Python-Interpreter auf einen Fehler stieß ab. Wurde etwa eine Zahl durch 0 geteilt, eine Datei eingelesen, die nicht vorhanden war, oder eine Variable angesprochen, die noch nicht definiert war, beendeten sich die Programme sofort an dieser Stelle, wobei ein entprechender Fehler auf die Konsole ausgedruckt wurde. Code, der nach einer solchen Ausnahme stand, konnte nicht mehr ausgeführt werden, da sich das Programm zuvor bereits beendet hatte. \n",
    "\n",
    "Solch potentiell 'gefährliche' Stellen können jedoch abgesichert werden. In Python wird hierzu ein `try` Statement, gefolgt von einer `except` Klausel geschrieben.   \n",
    "\n",
    "\n",
    "### Der try - except Block\n",
    "\n",
    "Das `try` - `except` Konstrukt funktioniert ähnlich wie ein `if` - `else` - Konditional:\n",
    "- Im **try** - Teil steht der Code, der abgesichert werden soll bzw. der die Ausnahme herbeiführen kann. \n",
    "- Im **except** - Teil stehen Anweisungen, die ausgeführt werden, wenn das vorangestellte `try` statement eine Ausnahme auslöst.\n",
    "- Nach `except` kann eine oder mehrere `Ausnahme(n)` bzw. \"Ausnahmehandler\" angegeben werden.\n",
    "\n",
    "Die Syntax von `try` - `except Ausnahme` sieht demnach folgendermaßen aus:\n",
    "\n",
    "```\n",
    "...Programmverlauf...\n",
    "\n",
    "try:\n",
    "\n",
    "\tVersuche diesen Code auszuführen\n",
    "\n",
    "except Ausnahme:\n",
    "    \n",
    "    Code der im Ausnahmefall ausgeführt wird\n",
    "\t\n",
    "...Programmverlauf...\n",
    "\n",
    "```\n",
    "Wenn mehrere Exceptions gleichzeitig abgefangen werden sollen, so werden sie als Tupel angegeben: \n",
    "```\n",
    "except (Ausnahme1, Ausnahme2, ...):\n",
    "```\n"
   ]
  },
  {
   "cell_type": "markdown",
   "metadata": {},
   "source": [
    "---\n",
    "### Einführungsbeispiel: Abfangen von Fehler bei Addition \n",
    "\n",
    "Folgende Eingabe eines Strings für beim Versuch der Addition zu einem Fehler:"
   ]
  },
  {
   "cell_type": "code",
   "execution_count": null,
   "metadata": {},
   "outputs": [],
   "source": [
    "b = \"2\"\n",
    "print(b)\n",
    "\n",
    "a = 1 + b\n",
    "print(a)\n",
    "\n",
    "print(\"Ende\")"
   ]
  },
  {
   "cell_type": "markdown",
   "metadata": {},
   "source": [
    "---\n",
    "Mit Hilfe des `try-except`-Konstrukts wird der Fehler abgefangen. \n",
    "\n",
    "Da er in dem `try`-Block auftritt, wird das Programm nun nicht mehr terminiert, sondern der `except`-Block wird ausgeführt:"
   ]
  },
  {
   "cell_type": "code",
   "execution_count": null,
   "metadata": {},
   "outputs": [],
   "source": [
    "b = \"2\"\n",
    "print(b)\n",
    "\n",
    "try: \n",
    "    a = 1 + b\n",
    "    print(a)\n",
    "except:\n",
    "    print(\"Can not calculate!\")\n",
    "    \n",
    "print(\"Ende\")"
   ]
  },
  {
   "cell_type": "markdown",
   "metadata": {},
   "source": [
    "---\n",
    "Im Folgenden wird der Wert einer neuen Output-Variable `x` im `try`-Block vor und nach der Zeile, die den Fehler produziert, verändert. \n",
    "\n",
    "Wie man am Output sieht, werden die Zeilen vor Auftreten eines Fehlers im `try`-Block also normal abgearbeitet, bei Auftreten des Fehlers wird in den `except`-Block gesprungen.\n",
    "\n",
    "Es empfiehlt sich, in den `try`-Block möglichst nur die zu prüfenden Zeilen zu schreiben."
   ]
  },
  {
   "cell_type": "code",
   "execution_count": null,
   "metadata": {},
   "outputs": [],
   "source": [
    "x = \"empty\"\n",
    "b = \"2\"\n",
    "\n",
    "try: \n",
    "    x = \"x_vor_dem_Fehler\"\n",
    "    a = 1 + b #hier entsteht der Fehler und die Anweisungen im except-Block werden ausgeführt\n",
    "    print(\"RESULT:\",a)\n",
    "    x = \"x_nach_dem_Fehler\"\n",
    "except:\n",
    "    print(\"Can not calculate!\")\n",
    "\n",
    "print(\"\\nVariablenwert x:\", x)"
   ]
  },
  {
   "cell_type": "markdown",
   "metadata": {},
   "source": [
    "---\n",
    "Nun wird in einem weiteren `try-except`-Block eine Konvertierung des Inputs in einen Integer-Wert versucht. \n",
    "\n",
    "Da dies erfolgreich ist, kann die Addition durchgeführt werden und der `try`-Block wird bis zum Ende ausgeführt. \n",
    "\n",
    "Der `except`-Block wird, da kein Fehler entsteht, nicht ausgeführt:"
   ]
  },
  {
   "cell_type": "code",
   "execution_count": null,
   "metadata": {},
   "outputs": [],
   "source": [
    "b = \"1\"\n",
    "\n",
    "try: \n",
    "    a = 1 + b\n",
    "    print(a)\n",
    "except:\n",
    "    print(\"Can not calculate!\")\n",
    "\n",
    "try:\n",
    "    print(\"Trying to convert..\")\n",
    "    a = 1 + int(b)\n",
    "    print(\"RESULT:\",a)\n",
    "except:\n",
    "    print(\"Cannot convert to int!\")\n",
    "    "
   ]
  },
  {
   "cell_type": "markdown",
   "metadata": {},
   "source": [
    "---\n",
    "### Beispiel: Abfangen Fehler  bei Division durch 0\n",
    "Wurde folgender Programmcode bisher ausgeführt, führte etwa die Usereingabe der Zahl 0 zu einem Laufzeitfehler was in einem sofortigen Programmabbruch resultierte:"
   ]
  },
  {
   "cell_type": "code",
   "execution_count": null,
   "metadata": {},
   "outputs": [],
   "source": [
    "dividend = 10\n",
    "\n",
    "divisor = input(\"Bitte geben Sie eine beliebige Zahl ein: \")\n",
    "\n",
    "ergebnis = dividend / int(divisor) \n",
    "\n",
    "print(\"Das Ergebnis lautet: \"+ str(ergebnis))\n",
    "\n",
    "print(\"Hier geht es weiter!\")"
   ]
  },
  {
   "cell_type": "markdown",
   "metadata": {},
   "source": [
    "---\n",
    "Um dieses Verhalten nun zu ändern kann die Divison innerhalb eines `try`-Statements gesetzt werden. Schlägt der Code innerhalb des `try`-Blocks fehl wird stattdessen der Code innerhalb des `except`-Blocks ausgeführt:"
   ]
  },
  {
   "cell_type": "code",
   "execution_count": null,
   "metadata": {},
   "outputs": [],
   "source": [
    "dividend = 10\n",
    "\n",
    "divisor = input(\"Bitte geben Sie eine beliebige Zahl ein: \")\n",
    "try:\n",
    "    ergebnis = dividend / int(divisor)\n",
    "    print(\"Das Ergebnis lautet: \"+ str(ergebnis))\n",
    "\n",
    "except Exception:\n",
    "    print (\"Achtung Divison durch 0!\")\n",
    "\n",
    "print(\"Hier geht es weiter!\")"
   ]
  },
  {
   "cell_type": "markdown",
   "metadata": {},
   "source": [
    "---\n",
    "Die hier verwendete Ausnahme (`Exception`) repräsentiert eine generelle Ausnahme, die ebenfalls für jeden anderen Fehler auslöst, wie etwa für den Fall, in dem anstelle einer Zahl ein String eingegeben wird."
   ]
  },
  {
   "cell_type": "markdown",
   "metadata": {},
   "source": [
    "---\n",
    "## Unterscheidung  verschiedener Ausnahmen\n",
    "\n",
    "Um die unterschiedliche Ausnahmefälle zu unterscheiden, können mehrere `except Ausnahme` Klauseln **hintereinander gehängt werden**. So lässt sich zum Beispiel die Division durch Null durch die Ausnahme ***ZeroDivisionError*** von den anderen Fehlerarten abgrenzen: "
   ]
  },
  {
   "cell_type": "code",
   "execution_count": null,
   "metadata": {},
   "outputs": [],
   "source": [
    "dividend = 10\n",
    "\n",
    "divisor = input(\"Bitte geben Sie eine beliebige Zahl ein: \")\n",
    "try:\n",
    "    ergebnis = dividend / int(divisor)\n",
    "    print(\"Das Ergebnis lautet: \"+ str(ergebnis))\n",
    "\n",
    "except ZeroDivisionError: # Ausnahme für Division durch 0\n",
    "    print (\"Achtung Divison durch 0!\")\n",
    "    \n",
    "except Exception: # Ausnahme alle anderen Fehlerarten\n",
    "    print (\"Etwas anderes ist schiefgegangen...\")\n",
    "    \n",
    "print(\"Hier geht es weiter!\")"
   ]
  },
  {
   "cell_type": "markdown",
   "metadata": {},
   "source": [
    "Es ist ratsam immer die spezifischeren Ausnahmen zuerst zu benutzen, da sie andernfalls durch das Auslösen einer allgemeineren Ausnahme nicht mehr erreicht werden. "
   ]
  },
  {
   "cell_type": "markdown",
   "metadata": {},
   "source": [
    "### Ausgabe von Standard - Fehlermeldungen\n",
    "\n",
    "Wie bei dem Import von Modulen kann auch bei der Fehlerbehandlung mit dem **Schlüsselwort `as` ein Korrelatsname vergeben** werden. Diese Variable kann nun genutzt werden, um **die eigentliche Fehlermeldung auszugeben**, die der Python-Interperter normalerweise ohne `try` und `except` liefern würde.\n"
   ]
  },
  {
   "cell_type": "code",
   "execution_count": null,
   "metadata": {},
   "outputs": [],
   "source": [
    "dividend = 10\n",
    "\n",
    "divisor = input(\"Bitte geben Sie eine beliebige Zahl ein: \")\n",
    "try:\n",
    "    ergebnis = dividend / int(divisor)\n",
    "    print(\"Das Ergebnis lautet: \"+ str(ergebnis))\n",
    "    \n",
    "except ZeroDivisionError as e: # Ausnahme für Division durch 0\n",
    "    print (\"Folgender Fehler tritt für Input \", divisor, \"auf: \", e)\n",
    "\n",
    "except Exception as e: # Ausnahme alle anderen Fehlerarten\n",
    "    print (\"Folgender Fehler tritt für Input \", divisor, \"auf: \", e)\n",
    "    "
   ]
  },
  {
   "cell_type": "markdown",
   "metadata": {},
   "source": [
    "### try - except mit else und finally\n",
    "\n",
    "Wird ein `else` Statement nach einem `try` - `except` Block gesetzt, so wird der Code innerhalb von `else` immer dann ausgeführt wenn keine Ausnahme aufgetreten ist. In unserem vorherigen Beispiel ist es z.B. sinnvoll die Ausgabe des Ergebnisses innerhalb des `else`-Blocks zu schreiben.\n",
    "\n",
    "Wird nach `try` - `except` bzw. `try` - `except` -  `else` noch eine  `finally` - Klausel gesetzt, so wird dieser Code immer ausgeführt, unabhängig davon, ob zuvor eine Ausnahme bzw. zulässiger Programmcode ausgeführt wurde:"
   ]
  },
  {
   "cell_type": "code",
   "execution_count": null,
   "metadata": {},
   "outputs": [],
   "source": [
    "dividend = 10\n",
    "\n",
    "divisor = input(\"Bitte geben Sie eine beliebige Zahl ein: \")\n",
    "try:\n",
    "    ergebnis = dividend / int(divisor)\n",
    "\n",
    "except ZeroDivisionError as e: # Ausnahme für Divison durch 0\n",
    "    print (e)\n",
    "    #print(type(e)) #gibt ein Typ der abgefangenen Exception\n",
    "\n",
    "except Exception as e: # Ausnahme alle anderen Fehlerarten\n",
    "    print (e)\n",
    "    #print(type(e))\n",
    "\n",
    "else:    # Wird ausgeführt wenn keine Ausnahme aufgetreten ist\n",
    "    print(\"Das Ergebnis lautet: \"+ str(ergebnis))\n",
    "finally:\n",
    "    print(\"Zum Schluss: finally\")"
   ]
  },
  {
   "cell_type": "markdown",
   "metadata": {},
   "source": [
    "`try` - `except` -  `else` ist somit ein probates Mittel, um Code, der nicht abgefangen werden muss trotzdem auszuführen, ohne ihn innerhalb von `try` zu setzen.\n",
    "\n",
    "`try` - `except` - `finally` wird dazu benutzt, um unabhängig vom vorherigen Programmverlauf etwas zu erledigen, wie z.B. das Schließen einer Datenbankverbindung oder einer geöffneten Datei."
   ]
  },
  {
   "cell_type": "code",
   "execution_count": null,
   "metadata": {},
   "outputs": [],
   "source": [
    "w_pointer = open(\"test.txt\", \"w\", encoding=\"utf8\")\n",
    "\n",
    "try:\n",
    "    user_input = input(\"Geben Sie eine Zahl ein:\")\n",
    "    zahl = float(user_input)\n",
    "    w_pointer.write(str(zahl))\n",
    "except Exception as e :\n",
    "        print(type(e))\n",
    "\n",
    "finally:\n",
    "    w_pointer.close()\n",
    "    print(\"Schreib-Pointer wird immer geschlossen\")"
   ]
  },
  {
   "cell_type": "markdown",
   "metadata": {},
   "source": [
    "## raise: Manuelles Auslösen von Standardausnahmen\n",
    "\n",
    "Bisher konnten nur Ausnahmen für von Python produzierte Fehler abgefangen werden. \n",
    "\n",
    "Ausnahmen können aber auch manuell ausgelöst werden: Hierzu dient das Statement `raise`. \n",
    "\n",
    "`raise` kann an einer beliebigen Stelle innerhalb eines Codeblocks benutzt werden, um eine der vordefinierten Ausnahmen auszulösen:\n"
   ]
  },
  {
   "cell_type": "code",
   "execution_count": null,
   "metadata": {},
   "outputs": [],
   "source": [
    "tiere = [\"Wal\",\"Hund\",\"Katze\",\"Maus\",\"Schwein\"]\n",
    "\n",
    "try:\n",
    "    user_input = input(\"Erraten Sie das Tier: \")\n",
    "\n",
    "    if user_input not in tiere:\n",
    "        raise Exception #Ausnahme wird manuell ausgelöst\n",
    "    elif user_input !=\"Schwein\":\n",
    "        print(user_input + \" war nicht das gesuchte Tier\")\n",
    "    else:\n",
    "        print (\"Richtig geraten!\")\n",
    "        \n",
    "except Exception:\n",
    "    print (\"Das war keines der zu erratenden Tiere!!\")"
   ]
  }
 ],
 "metadata": {
  "kernelspec": {
   "display_name": "Python 3 (ipykernel)",
   "language": "python",
   "name": "python3"
  },
  "language_info": {
   "codemirror_mode": {
    "name": "ipython",
    "version": 3
   },
   "file_extension": ".py",
   "mimetype": "text/x-python",
   "name": "python",
   "nbconvert_exporter": "python",
   "pygments_lexer": "ipython3",
   "version": "3.9.12"
  }
 },
 "nbformat": 4,
 "nbformat_minor": 2
}
