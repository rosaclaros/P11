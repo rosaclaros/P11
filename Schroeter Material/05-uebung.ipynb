{
 "cells": [
  {
   "cell_type": "markdown",
   "metadata": {},
   "source": [
    "**Seminar 'Einführung in die prozedurale und objektorientierte Programmierung mit Python'**\n",
    "\n",
    "# Übung zu Thema 5: Stringmethoden\n",
    "\n",
    "### Aufgabe 1: Erkennung von Kfz-Kennzeichen\n",
    "\n",
    "Schreiben Sie ein Programm, das die Identifikation aller im Beispieltext gesuchten Muster ermöglicht. \n",
    "\n",
    "- Lesen Sie zunächst die Datei `kennzeichen.txt` ein und speichern Sie den Inhalt in einer Liste\n",
    "- Iterieren sie mit Hilfe einer Schleife über die Liste und prüfen Sie dabei, ob es sich beim jeweiligen Listeneintrag um ein gültiges Kfz-Kennzeichen handelt.\n",
    "\n",
    "\n",
    "- Ein gültiges Kfz-Kennzeichen ist hierbei defniert durch: \n",
    "    - ein <i> Unterscheidungszeichen </i> aus genau 2 Großbuchstaben, gefolgt von\n",
    "    - einem <i>Bindestrich</i>, gefolgt von\n",
    "    - einer <i>Erkennungsnummer</i> aus genau 2 Großbuchstaben und 3 Ziffern\n",
    "    \n",
    "- Somit ist zum Beispiel: RS-MK390 ein gültiges Kennzeichen, M-D8080 ist laut der obigen Definition kein gülitges Kennzeichen.\n",
    "\n",
    "Das Skript soll Folgendes enthalten:\n",
    "- **Einlesefunktion** für die Textdatei `kennzeichen.txt`\n",
    "- **Schleife** zum Durchlaufen der Liste\n",
    "- **Bereinigung** jedes Listeneintrags von Whitespace-Charactern (links und rechts; siehe Funktion strip() Stunde 6)\n",
    "- **Test**, ob der Listeintrag ein zulässiges Kennzeichen ist mit **Ausgabe** des Testergebnisses\n",
    "\n"
   ]
  },
  {
   "cell_type": "code",
   "execution_count": null,
   "metadata": {},
   "outputs": [],
   "source": [
    "# Aufgabe 1:\n",
    "\n",
    "# IHR SKRIPT"
   ]
  },
  {
   "cell_type": "markdown",
   "metadata": {},
   "source": [
    "### Aufgabe 2: Stoppworterkennung und Tokenisierung\n",
    "\n",
    "Verändern Sie Ihren Programmcode des letzten Übungsblatts (Aufgabe 5 \"Stoppwortliste\") so, dass der Text der Datei `satzbewertung.txt` zuerst tokenisiert wird.Tokenisierung meint die Segmentierung eines Textes in Einheiten der Wortebene - nach dem Einlesen des Textes muss dieser nun also so bereinigt werden, dass nur noch die Wörter des Textes als Listenelemente vorliegen. Prüfen Sie nun erneut, wie viele Stoppwörter im Text auftreten. Auf Groß- und Kleinschreibung soll keine Rücksicht genommen werden. \n",
    "\n",
    "Das Skript soll Folgendes enthalten:\n",
    "- **Einlesefunktion** für die Textdatei `satzbewertung.txt`\n",
    "- **Einlesefunktion** für die Textdatei `stoppwoerter.txt`\n",
    "\n",
    "- **Bereinigung** jedes Listeneintrags der Stoppworliste von Whitespace-Charactern\n",
    "- Funktion zur Tokenisierung des Inhaltes von `satzbewertung.txt` (durch Stringmethoden) \n",
    "- Ausgabe der Anzahl der vorkommenden Stoppwörter"
   ]
  },
  {
   "cell_type": "code",
   "execution_count": null,
   "metadata": {},
   "outputs": [],
   "source": [
    "# Aufgabe 2:\n",
    "\n",
    "# IHR SKRIPT\n",
    "\n",
    "# Falls Sie keinen eigenen Lösungsansatz zur entsprechenden Aufgabe haben nutzen Sie den folgenden Lösungsvorschlag zu Aufgabe 5:\n",
    "'''\n",
    "\n",
    "r_pointer = open(\"satzbewertung.txt\", \"r\", encoding=\"utf8\")\n",
    "satzbewertung = r_pointer.read()\n",
    "r_pointer.close()\n",
    "\n",
    "r_pointer = open(\"stoppwoerter.txt\", \"r\", encoding=\"utf8\")\n",
    "stoppwoerter = r_pointer.readlines()\n",
    "r_pointer.close()\n",
    "\n",
    "for wort in stoppwoerter:\n",
    "    wort = wort.strip()\n",
    "    print(wort + \" : \" + str(satzbewertung.count(wort)))\n",
    "'''"
   ]
  }
 ],
 "metadata": {
  "kernelspec": {
   "display_name": "Python 3 (ipykernel)",
   "language": "python",
   "name": "python3"
  },
  "language_info": {
   "codemirror_mode": {
    "name": "ipython",
    "version": 3
   },
   "file_extension": ".py",
   "mimetype": "text/x-python",
   "name": "python",
   "nbconvert_exporter": "python",
   "pygments_lexer": "ipython3",
   "version": "3.9.12"
  }
 },
 "nbformat": 4,
 "nbformat_minor": 2
}
