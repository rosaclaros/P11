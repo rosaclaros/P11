{
 "cells": [
  {
   "cell_type": "markdown",
   "metadata": {},
   "source": [
    "**Seminar 'Einführung in die prozedurale und objektorientierte Programmierung mit Python'**\n",
    "\n",
    "![Figure progr](https://www.dh-lehre.gwi.uni-muenchen.de/wp-content/uploads/img/python1819/icons8-buch-48.png)\n",
    "\n",
    "# Thema 6: Reguläre Ausdrücke\n",
    "\n",
    "> Reguläre Ausdrücke stellen ein äußerst mächtiges Tool zur Suche und Manipulation von Strings dar. Mit Ihrer Hilfe ist es möglich, sehr flexibel nach Zeichenfolgen zu suchen, Zeichenfolgen umzustellen oder zu ersetzen. Da es sich um ein sehr umfangreiches Themengebiet handelt, können an dieser Stelle nur die grundlegende Funktionsweise der regulären Ausdrücke sowie deren Einsatz in Python erklärt werden. Auch in vielen anderen Programmiersprachen können reguläre Ausdrücke zum Einsatz kommen, die Funktionsweise ähnelt zumeist derjenigen in Python."
   ]
  },
  {
   "cell_type": "markdown",
   "metadata": {},
   "source": [
    "\n",
    "## Der Einsatz regulärer Ausdrücke\n",
    "\n",
    "Um reguläre Ausdrücke (RE) einsetzen zu können, müssen Sie zunächst das Modul `re` in Ihr Script einbinden:"
   ]
  },
  {
   "cell_type": "code",
   "execution_count": null,
   "metadata": {},
   "outputs": [],
   "source": [
    "#Importierte Module:\n",
    "import re"
   ]
  },
  {
   "cell_type": "markdown",
   "metadata": {},
   "source": [
    "Im Anschluss haben Sie die Möglichkeit, spezifische RE-Funktionen auszuführen. Wollen Sie mithilfe regulärer Ausdrücke suchen, verwenden Sie die Suchfunktion:\n",
    "\n",
    "`re.search(RE, String)`\n",
    "\n",
    "Als Rückgabewert liefert Ihnen diese Funktion ein sogenanntes Stringobjekt mit der genauen Position des gefundenen Musters, nicht jedoch das direkte Ergebnis des Suchvorgangs. Wollen Sie auf das Ergebnis des Suchvorgangs zugreifen, müssen Sie das Ergebnis der Suchfunktion in eine Variable speichern und auf diese die Methode `.group()` anwenden:\n",
    "\n",
    "`Variable.group()`\n",
    "\n",
    "Die Syntax der RE ähnelt auf den ersten Blick sehr derjenigen normaler Strings, optional ist die Voranstellung eines `r` vor die Anführungszeichen, zur besseren Unterscheidung von normalen Strings dienen:\n",
    "\n",
    "`r\"RE\"`\n",
    "\n",
    "Sie sehen nun ein Anwendungsbeispiel:"
   ]
  },
  {
   "cell_type": "code",
   "execution_count": null,
   "metadata": {},
   "outputs": [],
   "source": [
    "#Importierte Module\n",
    "import re\n",
    "\n",
    "#Suchstring\n",
    "test = \"Diesen String wollen Sie mit RE durchsuchen.\"\n",
    "print(test)\n",
    "#Suchabfrage mithilfe von: re.search()\n",
    "ergebnis = re.search(r\"[Dd].+?n\", test)\n",
    "\n",
    "#Ergebnis der Suchabfrage\n",
    "print(\"Das RE-Objekt:\", ergebnis)          \n",
    "print(\"Der gefundene String:\", ergebnis.group())"
   ]
  },
  {
   "cell_type": "markdown",
   "metadata": {},
   "source": [
    "Python findet durch die **`search`-Funktion immer das genau erste Muster** im String, auf das die RE passt, und gibt ein **RE-Match-Objekt** zurück, dessen Inhalt (das gefunden Muster) Sie über die `group()`-Methode ansprechen können."
   ]
  },
  {
   "cell_type": "markdown",
   "metadata": {},
   "source": [
    "---\n",
    "Wollen Sie *alle passenden Muster* erhalten, verwenden Sie die Funktion **`findall()`**, welche Ihnen eine **Liste mit allen passenden Mustern** zurückliefert:\n",
    "\n",
    "`re.findall(RE, String)`"
   ]
  },
  {
   "cell_type": "code",
   "execution_count": null,
   "metadata": {},
   "outputs": [],
   "source": [
    "#Importierte Module\n",
    "import re\n",
    "\n",
    "#Suchstring\n",
    "test = \"Diesen String wollen Sie mit RE durchsuchen.\"\n",
    "\n",
    "#Suchabfrage mithilfe von: re.findall()\n",
    "ergebnis_a = re.findall(r\"[Dd].+?n\", test)\n",
    "ergebnis_b = re.findall(r\"S.+? \", test)\n",
    "\n",
    "#Ergebnis der Suchabfrage\n",
    "print(ergebnis_a)\n",
    "print(ergebnis_b)"
   ]
  },
  {
   "cell_type": "markdown",
   "metadata": {},
   "source": [
    "---\n",
    "## Die Syntax regulärer Ausdrücke\n",
    "\n",
    "Reguläre Ausdrücke erlauben es Ihnen, spezifische Suchmuster für Strings zu spezifizieren und Regelmäßigkeiten im Sprachsystem auszunutzen. Auch werden RE für die automatische Strukturierung von Daten eingesetzt. Sie können Mithilfe von RE zwar nach exakten Mustern suchen, allerdings werden Sie RE auf diese Weise in der Regel nicht einsetzen, da Python hierfür den bereits bekannten String-Vergleich (Suchmuster in String) anbietet:"
   ]
  },
  {
   "cell_type": "code",
   "execution_count": null,
   "metadata": {},
   "outputs": [],
   "source": [
    "#Importierte Module\n",
    "import re\n",
    "\n",
    "# Einfacher mit gleichem Verhalten zum klassischen Stringabgleich:\n",
    "test = \"Ein einfacher String-Vergleich\"\n",
    "\n",
    "#Test auf Enthaltensein des Strings \"Ein\":\n",
    "if \"Ein\" in test:\n",
    "    print(\"String enthalten.\")\n",
    "\n",
    "#Test auf das Finden der RE r\"Ein\":\n",
    "if re.search(r\"Ein\", test):\n",
    "    print(\"String enthalten.\")\n",
    "\n",
    "# Test auf Zirkumfix ver- -en mit Ausgabe des identifizierten Verbstammes\n",
    "test_2 = \"Er hat sich im Park verlaufen.\"\n",
    "\n",
    "if re.search(r\"ver.+?en\", test_2):\n",
    "    form = re.search(r\"ver.+?en\", test_2).group() # Speicherung in Variable\n",
    "    print(form)\n",
    "    form = form.lstrip(\"ver\").rstrip(\"en\") # Entfernung von Prä- und Suffix\n",
    "    print(\"Zirkumfix 'ver- -en' identifiziert. Zirkumfigierung um den Stamm '\" + form + \"'\")"
   ]
  },
  {
   "cell_type": "markdown",
   "metadata": {},
   "source": [
    "Der wirkliche Vorteil der RE ergibt sich erst durch ihre besondere Such-Syntax. Diese Such-Syntax wird Ihnen im Folgenden anhand der Datei `sz_artikel.txt` gezeigt:"
   ]
  },
  {
   "cell_type": "code",
   "execution_count": null,
   "metadata": {},
   "outputs": [],
   "source": [
    "#Importierte Module\n",
    "import re\n",
    "import io\n",
    "\n",
    "#Auslesen der Datei und Speicherung in die Variable text:\n",
    "pointer = open(\"sz_artikel.txt\", \"r\", encoding=\"utf8\")\n",
    "text = pointer.read()\n",
    "pointer.close()"
   ]
  },
  {
   "cell_type": "markdown",
   "metadata": {},
   "source": [
    "---\n",
    "### Zeichenmengen: `[Zeichenalternativen]`\n",
    "Es können sowohl einzelne Buchstaben als auch Buchstaben- und Zahlenspannen angegeben werden, also z.B. `[a-f]`, `[A-K]` oder `[0-6]`:"
   ]
  },
  {
   "cell_type": "code",
   "execution_count": null,
   "metadata": {},
   "outputs": [],
   "source": [
    "# Beispiel 1:\n",
    "ergebnis = re.findall(r\"[ws]ie\", text)\n",
    "print(\"Bsp 1:\", ergebnis) \n",
    "\n",
    "# Beispiel 2:\n",
    "ergebnis = re.findall(r\" e[e-w] \", text)\n",
    "print(\"Bsp 2:\", ergebnis)\n",
    "\n",
    "# Beispiel 3:\n",
    "ergebnis = re.findall(r\" [0-9][0-9] Prozent\", text)\n",
    "print(\"Bsp 3:\", ergebnis)"
   ]
  },
  {
   "cell_type": "markdown",
   "metadata": {},
   "source": [
    "### Negierte Zeichenmengen: `[^Zeichenalternativen]`\n",
    "Es können auch Buchstabenmengen angegeben werden, die **nicht** an der entsprechenden Stelle auftreten dürfen:"
   ]
  },
  {
   "cell_type": "code",
   "execution_count": null,
   "metadata": {},
   "outputs": [],
   "source": [
    "# Beispiel: findet alle Vorkommen von Folgen, die auf 'ie' enden, aber nicht mit 'w' oder 's' beginnen \n",
    "ergebnis = re.findall(r\"[^ws]ie\", text)\n",
    "print(\"Bsp:\", ergebnis) \n"
   ]
  },
  {
   "cell_type": "markdown",
   "metadata": {},
   "source": [
    "### Beliebige Zeichen: `.` \n",
    "Für jeden `.` wird exakt ein beliebiges Zeichen gefunden, inklusive Leerzeichen, Tabulatoren oder Zeilenumbrüchen, es handelt sich um eine sogenannte ***Wildcard*** mit der Funktion eines Platzhalters. Soll ein '.' gefunden werden, so ist er mit `\\.` zu maskieren"
   ]
  },
  {
   "cell_type": "code",
   "execution_count": null,
   "metadata": {},
   "outputs": [],
   "source": [
    "# Beispie 1:\n",
    "ergebnis = re.findall(r\" .ie \", text)\n",
    "print(\"Bsp 1:\", ergebnis)\n",
    "\n",
    "# Beispiel 2:\n",
    "\n",
    "ergebnis = re.findall(r\"\\..... \", text)\n",
    "print(\"Bsp 2:\", ergebnis) #Ein Punkt und drei beliebige Zeichen"
   ]
  },
  {
   "cell_type": "markdown",
   "metadata": {},
   "source": [
    "### Nur Buchstaben: `\\w` \n",
    "Es werden beliebige Buchstaben und Zahlen gefunden (= alphanumerische Zeichen), keine Sonderzeichen. `\\W` findet alle komplementären Zeichen."
   ]
  },
  {
   "cell_type": "code",
   "execution_count": null,
   "metadata": {},
   "outputs": [],
   "source": [
    "# Beispiel 1:\n",
    "ergebnis = re.findall(r\" \\w\\w\\w \", text)\n",
    "print(\"Bsp 1:\", ergebnis[:10])\n",
    "\n",
    "# Beispiel 2:\n",
    "ergebnis = re.findall(r\"\\W\", text) # Alternativ: r\"[^\\w]\"\n",
    "print(\"Bsp 2:\", ergebnis[:10]) # Alle Leerzeichen, Kommata, Punkte, Zeilenumbrüche etc."
   ]
  },
  {
   "cell_type": "markdown",
   "metadata": {},
   "source": [
    "### Nur Zahlen: `\\d` \n",
    "Es werden beliebige Zahlen gefunden, ohne Sonderzeichen oder Buchstaben. `\\D` findet alle komplementären Zeichen."
   ]
  },
  {
   "cell_type": "code",
   "execution_count": null,
   "metadata": {},
   "outputs": [],
   "source": [
    "# Beispiel 1:\n",
    "ergebnis = re.findall(r\" \\d\\d \", text)\n",
    "print(\"Bsp 1:\", ergebnis)\n",
    "\n",
    "ergebnis = re.findall(r\" \\D\\D \", text)\n",
    "print(\"Bsp 2:\", ergebnis)"
   ]
  },
  {
   "cell_type": "markdown",
   "metadata": {},
   "source": [
    "### Nur Whitespace Character: `\\s`\n",
    "Es werden alle Whitespace Character gefunden, sonst nichts. `\\S` findet alle komplementären Zeichen."
   ]
  },
  {
   "cell_type": "code",
   "execution_count": null,
   "metadata": {},
   "outputs": [],
   "source": [
    "# Beispiel 1:\n",
    "ergebnis = re.findall(r\"\\s\", text)\n",
    "print(\"Bsp 1:\", ergebnis[:90])\n",
    "\n",
    "# Beispiel 2:\n",
    "ergebnis = re.findall(r\"\\S\", text)\n",
    "print(\"Bsp 2:\", ergebnis[:10]) # Alles außer Whitespace Character"
   ]
  },
  {
   "cell_type": "markdown",
   "metadata": {},
   "source": [
    "### Wortgrenzen: `\\b` \n",
    "Identifiziert die sogenannten Leer-Strings am Anfang und Ende eines Wortes. Ein Wort wird dabei definiert als Sequenz von alphanumerischen Buchstaben oder Unterstrichen, Wortanfang und Wortende werden durch Whitespace Characters oder nicht-alphanumerische Stringteile markiert. Die Identifikation eignet sich z.B. hervorragend für die Tokenisierung von Fließtexten. `\\B` findet alle Komplemente zu den Leer-Strings."
   ]
  },
  {
   "cell_type": "code",
   "execution_count": null,
   "metadata": {},
   "outputs": [],
   "source": [
    "# Beispiel 1:\n",
    "# Alle Strings mit drei Buchstaben zwischen Wortgrenzen (= Alle Wörter mit 3 Buchstaben)\n",
    "ergebnis = re.findall(r\"\\b\\w\\w\\w\\b\", text)\n",
    "print(\"Bsp 1:\",ergebnis[:10])\n",
    "\n",
    "# Beispiel 2:\n",
    "# Alle Strings mit einem Nicht-Buchstaben zwischen zwei Nicht-Wortgrenzen\n",
    "# (= Alle Sonderzeichen, die nicht direkt an ein Wort angrenzen, z.B. \" - \" oder \".\\n\\n\".)\n",
    "ergebnis = re.findall(r\"\\B\\W\\B\", text)\n",
    "print(\"Bsp 2:\",ergebnis[:10])\n",
    "\n",
    "# Beispiel 3:\n",
    "# Alle Strings mit beliebig vielen Buchstaben zwischen zwei Wortgrenzen (= Alle Wörter).\n",
    "ergebnis = re.findall(r\"\\b\\w+\\b\", text)\n",
    "print(\"Bsp 3:\",ergebnis[:10])"
   ]
  },
  {
   "cell_type": "markdown",
   "metadata": {},
   "source": [
    "---\n",
    "### Stringanfang: `^`\n",
    "Identifiziert den Leerstring vor dem ersten Character eines Strings."
   ]
  },
  {
   "cell_type": "code",
   "execution_count": null,
   "metadata": {},
   "outputs": [],
   "source": [
    "# Beispiel 1:\n",
    "ergebnis = re.findall(r\"^\", \"ein Text ist ein Text.\")\n",
    "print(\"Bsp 1:\", ergebnis)\n",
    "\n",
    "# Merke:\n",
    "ergebnis = re.search(r\"^\", \"ein Text ist ein Text.\")\n",
    "print(\"Bsp 1:\", ergebnis) # Der Stringanfang belegt die nullte Position im String\n",
    "\n",
    "# Beispiel 2:\n",
    "ergebnis = re.findall(r\"^...\", \"ein Text ist ein Text.\")\n",
    "print(\"Bsp 2:\", ergebnis) #String-Anfang und die ersten drei Buchstaben\n",
    "\n",
    "# Beispiel 3a:\n",
    "ergebnis = re.findall(r\"^ein\", \"ein Text ist ein Text.\")\n",
    "print(\"Bsp 3a:\", ergebnis) #ein nur zu Anfang\n",
    "\n",
    "# Beispiel 3b:\n",
    "ergebnis = re.findall(r\"ein\", \"ein Text ist ein Text.\")\n",
    "print(\"Bsp 3b:\", ergebnis)"
   ]
  },
  {
   "cell_type": "markdown",
   "metadata": {},
   "source": [
    "### Stringende:  `$`\n",
    "Identifiziert den Leerstring nach dem letzten Character eines Strings."
   ]
  },
  {
   "cell_type": "code",
   "execution_count": null,
   "metadata": {},
   "outputs": [],
   "source": [
    "# Beispiel 1:\n",
    "ergebnis = re.findall(r\"$\", \"ein Text ist ein Text.\")\n",
    "print(\"Bsp 1:\", ergebnis)\n",
    "\n",
    "# Merke:\n",
    "ergebnis = re.search(r\"$\", \"ein Text ist ein Text.\")\n",
    "print(\"Bsp 1:\", ergebnis) # Der Stringanfang belegt die letzte Position im String\n",
    "\n",
    "# Beispiel 2:\n",
    "ergebnis = re.findall(r\".....$\", \"ein Text ist ein Text.\")\n",
    "print(\"Bsp 2:\", ergebnis) #String-Ende und die letzten fünf Buchstaben\n",
    "\n",
    "# Beispiel 3a:\n",
    "ergebnis = re.findall(r\"Text.?$\", \"ein Text ist ein Text.\")\n",
    "print(\"Bsp 3a:\", ergebnis) #'Text' nur zum Schluss\n",
    "\n",
    "# Beispiel 3b:\n",
    "ergebnis = re.findall(r\"Text.?\", \"ein Text ist ein Text.\")\n",
    "print(\"Bsp 3b:\", ergebnis)"
   ]
  },
  {
   "cell_type": "markdown",
   "metadata": {},
   "source": [
    "---\n",
    "### Suche nach Metazeichen\n",
    "Wollen Sie nach einem der Metazeichen der Syntax regulärer Ausdrücke suchen (z.B. `|`, `$`, `+`, `*` oder `.`), dann gibt es zwei Möglichkeiten, diesen Sonderzeichen ihre spezielle Bedeutung zu nehmen, die sie innerhalb eines Regulären Ausdrucks tragen:\n",
    "- Die Verwendung von eckigen Klammern (z.B. `[|]`, `[.]`, `[+]`, ...)\n",
    "- Die Verwendung des Backslashs (z.B. `\\|`, `\\.`, `\\+`, ...)\n"
   ]
  },
  {
   "cell_type": "code",
   "execution_count": null,
   "metadata": {},
   "outputs": [],
   "source": [
    "# Beispiel 1: Punkt als Metazeichen\n",
    "ergebnis = re.findall(r\".\", \"Hallo.\")\n",
    "print(\"Bsp 1:\", ergebnis)\n",
    "\n",
    "# Beispiel 2: Punkt als Literal innerhalb einer gesuchten Zeichenmenge (durch die Angabe als Zeichen innerhalb einer Zeichenmenge ist der Punkt hier kein Metazeichen mehr)\n",
    "ergebnis = re.findall(r\"[.]\", \"Hallo.\")\n",
    "print(\"Bsp 2:\", ergebnis)\n",
    "\n",
    "# Beispiel 3: Punkt als Literal mit Backslash als Metazeichen (Escape-Character, bildet'escape sequence')\n",
    "ergebnis = re.findall(r\"\\.\", \"Hallo.\")\n",
    "print(\"Bsp 3:\", ergebnis)"
   ]
  },
  {
   "cell_type": "markdown",
   "metadata": {},
   "source": [
    "---\n",
    "### Stringalternativen: `string1|string2|...`\n",
    "Ermöglicht die Suche nach alternativen Strings."
   ]
  },
  {
   "cell_type": "code",
   "execution_count": null,
   "metadata": {},
   "outputs": [],
   "source": [
    "# Beispiel:\n",
    "ergebnis = re.findall(r\"paradies|senkungen|flucht|satz\", \"Steuersenkungen Steuerflucht\")\n",
    "print(\"Bsp 1:\", ergebnis)"
   ]
  },
  {
   "cell_type": "markdown",
   "metadata": {},
   "source": [
    "---\n",
    "## Wiederholungen mit Quantifizierungsoperatoren"
   ]
  },
  {
   "cell_type": "markdown",
   "metadata": {},
   "source": [
    "### Optionalität des vorangegangenen Ausdruckes: `?` \n",
    "Deklariert den unmittelbar vorausgegangenen Ausdruck als optional. Beachten Sie, dass die Funktion von `?` hier im Gegensatz zur Verwendung vor einem Operator `+` und `*` abweicht."
   ]
  },
  {
   "cell_type": "code",
   "execution_count": null,
   "metadata": {},
   "outputs": [],
   "source": [
    "# Beispiel 1:\n",
    "ergebnis = re.findall(r\" s?ein \",text)\n",
    "print(\"Bsp 1:\", ergebnis) #'s' ist in diesem Fall opitonal"
   ]
  },
  {
   "cell_type": "markdown",
   "metadata": {},
   "source": [
    "### Wiederholungen des vorangegangenen Ausdrucks mit exakt festgelegter Anzahl: `{n}` \n",
    "Findet den vorangegangenen Ausdruck n-Mal."
   ]
  },
  {
   "cell_type": "code",
   "execution_count": null,
   "metadata": {},
   "outputs": [],
   "source": [
    "# Beispiel 1:\n",
    "ergebnis = re.findall(r\"wol{2}en\", \"wollen , wolen , wollllllen , woen , wohnen\")\n",
    "print(\"Bsp 1:\", ergebnis)\n",
    "\n",
    "# Beispiel 2:\n",
    "ergebnis = re.findall(r\"wol{1}en\", \"wollen , wolen , wollllllen , woen , wohnen\")\n",
    "print(\"Bsp 2:\", ergebnis)\n",
    "\n",
    "# Beispiel 3:\n",
    "ergebnis = re.findall(r\"sol{2}\", text)\n",
    "print(\"Bsp 3:\", ergebnis)"
   ]
  },
  {
   "cell_type": "markdown",
   "metadata": {},
   "source": [
    "### Wiederholungen des vorangegangenen Ausdrucks mit flexibler Anzahl: `{n,m}` \n",
    "Findet den vorangegangenen Ausdruck n bis m-Mal."
   ]
  },
  {
   "cell_type": "code",
   "execution_count": null,
   "metadata": {},
   "outputs": [],
   "source": [
    "# Beispiel 1:\n",
    "ergebnis = re.findall(r\"wol{0,2}en\", \"wollen , wolen , wollllllen , woen , wohnen\")\n",
    "print(\"Bsp 1:\", ergebnis)\n",
    "\n",
    "# Beispiel 2:\n",
    "ergebnis = re.findall(r\"wol{2,8}en\", \"wollen , wolen , wollllllen , woen , wohnen\")\n",
    "print(\"Bsp 2:\", ergebnis)\n",
    "\n",
    "# Beispiel 3:\n",
    "ergebnis = re.findall(r\"\\b\\w{12,14}\\b\", text)\n",
    "print(\"Bsp 3:\", ergebnis)  # Findet alle Wörter mit 12 bis 14 Buchstaben"
   ]
  },
  {
   "cell_type": "markdown",
   "metadata": {},
   "source": [
    "### Wiederholung des vorangegangenen Ausdruckes (0 bis unendlich): `*` \n",
    "Der `*` bewirkt, dass der vorangegangene Ausdruck beliebig oft (auch 0 Mal) gefunden wird. Der Operator ist standardmäßig *greedy* und versucht auf so große Textstücke zu passen wie möglich. Soll die *Greedyness* abgeschalten werden, und nur so wenig Text gefunden werden wie möglich, so muss hinter den Operator ein `?` geschrieben werden, also `*?`."
   ]
  },
  {
   "cell_type": "code",
   "execution_count": null,
   "metadata": {},
   "outputs": [],
   "source": [
    "#Beispielsatz:\n",
    "satz = \"Hier drin wollen wir mit Wiederholung suchen.\"\n",
    "\n",
    "# Beispiel 1:\n",
    "ergebnis = re.findall(r\"Hier .* \", satz) # Der Fall mit Greedy\n",
    "print(\"Bsp 1:\", ergebnis)\n",
    "\n",
    "# Beispiel 2:\n",
    "ergebnis = re.findall(r\"Hier .*? \", satz) # Der Fall ohne Greedy\n",
    "print(\"Bsp 2:\", ergebnis)\n",
    "\n",
    "# Beispiel 3:\n",
    "ergebnis = re.findall(r\"wol.*?en\", \"wollen , wolen , wollllllen , woen , wohnen\")\n",
    "print(\"Bsp 3:\", ergebnis) # Liefert mit greedy den kompletten String"
   ]
  },
  {
   "cell_type": "markdown",
   "metadata": {},
   "source": [
    "### Wiederholung des vorangegangenen Ausdruckes (1 bis unendlich): `+` \n",
    "Der `+` bewirkt, dass der vorangegangene Ausdruck beliebig oft (aber mindestens 1 Mal) gefunden wird. Der Operator ist standardmäßig *greedy* und versucht auf so große Textstücke zu passen wie möglich. Soll die *Greedyness* abgeschalten werden, und nur so wenig Text gefunden werden wie möglich, so muss hinter den Operator ein `?` geschrieben werden, also `+?`."
   ]
  },
  {
   "cell_type": "code",
   "execution_count": null,
   "metadata": {},
   "outputs": [],
   "source": [
    "# Beispiel 1:\n",
    "ergebnis = re.findall(r\"wol+en\", \"wollen , wolen , wollllllen , woen , wohnen\")\n",
    "print(\"Bsp 1:\", ergebnis) # Findet 1 bis unendlich viele 'l' zwischen 'wo' und 'en'\n",
    "\n",
    "# Beispiel 2:\n",
    "ergebnis = re.findall(r\"wol+\", \"wollllllen\")\n",
    "print(\"Bsp 2:\", ergebnis) # Findet die maximale Anzahl an 'l' nach 'wol' (greedy)\n",
    "\n",
    "# Beispiel 3:\n",
    "ergebnis = re.findall(r\"wol+?\", \"wollllllen\")\n",
    "print(\"Bsp 3:\", ergebnis) # Findet die minimale Anzahl an 'l' nach 'wol' (not greedy)\n",
    "\n",
    "# Beispiel 4:\n",
    "ergebnis = re.findall(r\"\\b\\w+\\b\", text)\n",
    "print(\"Bsp 4:\", ergebnis[:10]) # Findet alle alphanumerischen Kombinationen zwischen Wortgrenzen (= alle Tokens)."
   ]
  },
  {
   "cell_type": "markdown",
   "metadata": {},
   "source": [
    "---\n",
    "## Gruppierung\n",
    "\n",
    "Sie haben auch die Möglichkeit, nach Gruppen von Strings zu suchen, und diese im Anschluss neu anzuordnen. Diese Möglichkeit benötigen Sie im Rahmen der Textsuche seltener, öfter jedoch bei der Verarbeitung von Datensätzen. Gruppen werden innerhalb des regulären Ausdrucks mithilfe von runden Klammern gebildet:\n",
    "\n",
    "`r\"(Gruppe1)(Gruppe2)(Gruppe3)...\"`\n",
    "\n",
    "Sie können beliebig viele Gruppen bilden. Ansteuern lassen sich die Gruppen bei Verwendung von `re.findall` im Anschluss wie die einzelnen Elemente einer Liste. (bei `re.search` über `.group(1)` usw.)"
   ]
  },
  {
   "cell_type": "code",
   "execution_count": null,
   "metadata": {},
   "outputs": [],
   "source": [
    "# Beispiel Gruppierung mit Stringalternativen:\n",
    "ergebnis = re.findall(r\"(Steuer)(paradies|senkungen|flucht|satz)\", \"Steuersenkungen Steuerflucht\")\n",
    "print(\"Bsp 1:\", ergebnis)\n",
    "#Findet alle Komposita aus Steuer + die vier angegebenen Alternativen\n",
    "\n",
    "#Beispiel mit re.search:\n",
    "ergebnis = re.search(r\"(Steuer)(paradies|senkungen|flucht|satz)\", \"Steuersenkungen Steuerflucht\")\n",
    "print(\"Bsp 2:\", ergebnis.group(1), ergebnis.group(2))"
   ]
  },
  {
   "cell_type": "markdown",
   "metadata": {},
   "source": [
    "Das Ergebnis dieser Suchabfrage ist eine Liste mit mit Tupelen: Die äußere Ebene liefert das jeweilige Muster, das innere Tupel die gefundenen Konstituenten:"
   ]
  },
  {
   "cell_type": "code",
   "execution_count": null,
   "metadata": {},
   "outputs": [],
   "source": [
    "ergebnis = re.findall(r\"(Steuer)(paradies|senkungen|flucht|satz)\", \"Steuersenkungen Steuerflucht\")\n",
    "for match in ergebnis:\n",
    "    print(match[0], match[1])"
   ]
  },
  {
   "cell_type": "markdown",
   "metadata": {},
   "source": [
    "---\n",
    "Im folgenden Skriptbeispiel werden die Prozentwerte aus dem `sz_artikel.txt` automatisch extrahiert, und im Anschluss in anderer Formatierung ausgegeben:"
   ]
  },
  {
   "cell_type": "code",
   "execution_count": null,
   "metadata": {},
   "outputs": [],
   "source": [
    "# Skriptbeispiel: Verarbeitung der Prozentwerte\n",
    "\n",
    "#Importierte Module\n",
    "import re\n",
    "\n",
    "#Auslesen der Datei und Speicherung in die Variable text:\n",
    "pointer = open(\"sz_artikel.txt\", \"r\", encoding=\"utf8\")\n",
    "text = pointer.read()\n",
    "pointer.close()\n",
    "\n",
    "#Bilden von 3 Gruppen: (Prozentwert mit optionaler Komma-Stelle)(Leerzeichen)(Wort 'Prozent')\n",
    "ergebnis = re.findall(r\"(\\d\\d.?\\d?\\d?)( )(Prozent)\", text)\n",
    "print(ergebnis)\n",
    "\n",
    "#Ansteuern der einzelnen Werte:\n",
    "for match in ergebnis:\n",
    "    print(\"Original:\\t{}{}{}\".format(match[0],match[1],match[2]))\n",
    "    print(\"Umformatiert:\\t{}wert = '{}'\".format(match[2],match[0]))\n",
    "    print(\"\\n\")"
   ]
  },
  {
   "cell_type": "markdown",
   "metadata": {},
   "source": [
    "---\n",
    "## Ersetzungen mit regulären Ausdrücken\n",
    "\n",
    "Sie können RE auch zum Ersetzen von Strings einsetzen, die Funktion ähnelt der Stringmethode `.replace()`:\n",
    "\n",
    "`re.sub(Alt(RE), Neu, String, Anzahl)`\n",
    "\n",
    "Haben Sie mithilfe der RE Gruppen gebildet, so lassen sich diese im Ersetzungsstring durch Backslash und die inkrementell vergebene Gruppennummer ansprechen, z.B. `\\1`. Die Gruppennummern werden dabei der Reihe nach vergeben, beginnend bei 1. Um die Platzhalter anzusprechen, muss der Ersetzungsstring ebenfalls als im raw-string-mode (`r'..'`) geschrieben werden. Im Folgenden sehen Sie die Ersetzungsfunktion bei der Bearbeitung von strukturierten Textdaten:"
   ]
  },
  {
   "cell_type": "code",
   "execution_count": null,
   "metadata": {},
   "outputs": [],
   "source": [
    "test_1 = \"Das hier ist Code. #Und das hier ein Kommentar\"\n",
    "\n",
    "#Entfernung von Kommentaren:\n",
    "ergebnis_1a = re.sub(r\"#.*$\", r\"\", test_1)\n",
    "print(\"ergebnis_1a: \", ergebnis_1a)\n",
    "\n",
    "#Ersetzung von Stringalternativen:\n",
    "ergebnis_1b = re.sub(r\"Code|Kommentar\", r\"___\", test_1)\n",
    "print(\"ergebnis_1d: \", ergebnis_1b)\n",
    "\n",
    "\n",
    "#Vertauschung von Gruppen:\n",
    "ergebnis_1c = re.sub(r\"(\\w+) (\\w+)$\", r\"\\2 \\1\", \"das ist Max Mustermann\")\n",
    "print(\"ergebnis_1c: \", ergebnis_1c)\n",
    "\n"
   ]
  },
  {
   "cell_type": "code",
   "execution_count": null,
   "metadata": {},
   "outputs": [],
   "source": [
    "#Bearbeiten von HTML-Dokumenten:\n",
    "test_2 = \"<p><span class='main' style ='font-size: 16px'>Das hier ist **ein Text** mit <i>HTML-Tags</i>.</span></p>\"\n",
    "\n",
    "#Entfernung der HTML-Tags:\n",
    "ergebnis_2 = re.sub(r\"<.*?>\", r\"\", test_2)\n",
    "print(\"ergebnis_2: \", ergebnis_2)\n",
    "\n",
    "#Entfernung des Textes aus der HTML:\n",
    "ergebnis_3 = re.sub(r\"(>)[. \\w-]+?(<)\", r\"\\1\\2\", test_2)\n",
    "print(\"ergebnis_3: \", ergebnis_3)\n",
    "\n",
    "#Umwandlung einer class in eine id mit Gruppenersetzung:\n",
    "ergebnis_4 = re.sub(r\"class=('.+?')\", r\"id=\\1\", test_2) #Aufgreifen der Gruppe (hier: 'main') durch den Platzhalter \\1\n",
    "print(\"ergebnis_4: \", ergebnis_4)"
   ]
  },
  {
   "cell_type": "markdown",
   "metadata": {},
   "source": [
    "---\n",
    "## Split anhand regulärer Ausdrücke\n",
    "\n",
    "RE kann auch zum Auftrennen von Strings benutzt werden, die Funktion ähnelt der Stringmethode `.split()`:\n",
    "\n",
    "`re.split(Alt(RE), String, Anzahl)`\n",
    "\n",
    "Wenn Gruppierungen im RE eingesetzt werden, werden diese zusammen mit den getrennten Teilen ausgegeben. Passt das angegebene Muster auf keinen Teil im Eingabestring, liefert `.split()` selbigen innerhalb einer Liste zurück."
   ]
  },
  {
   "cell_type": "code",
   "execution_count": null,
   "metadata": {},
   "outputs": [],
   "source": [
    "# Auftrennen eines Strings anhand von Folgen von Nicht-Wort-Zeichen:\n",
    "test_1 = \"Ja, das \\t  Wetter ;: ist *+ schön, \\n finde ich\"\n",
    "ergebnis_1 = re.split('\\W+', test_1)\n",
    "\n",
    "print(ergebnis_1)\n",
    "\n",
    "#Segementierung eines HTML Dokuments anhand des div-Tags:\n",
    "test_2 = \"<div><h4>Erster Absatz:<span>mit Untertitel</span></h4></div><div><h4>Zweiter Absatz:<span>zweitrangiges hier</span></h4></div>\"\n",
    "ergebnis_2 = re.split(r\"</?div>\", test_2)\n",
    "\n",
    "print(ergebnis_2)\n",
    "\n",
    "#Segementierung eines Strings anhand 3 stelliger Nummern mit Ausgabe der Trennungsmuster:\n",
    "\n",
    "test_3 = \"100 Woerter sind 200 mal so viel Arbeit\"\n",
    "ergebnis_3 = re.split(r\"(\\d{3})\", test_3)\n",
    "print(ergebnis_3)\n"
   ]
  }
 ],
 "metadata": {
  "kernelspec": {
   "display_name": "Python 3 (ipykernel)",
   "language": "python",
   "name": "python3"
  },
  "language_info": {
   "codemirror_mode": {
    "name": "ipython",
    "version": 3
   },
   "file_extension": ".py",
   "mimetype": "text/x-python",
   "name": "python",
   "nbconvert_exporter": "python",
   "pygments_lexer": "ipython3",
   "version": "3.11.5"
  }
 },
 "nbformat": 4,
 "nbformat_minor": 2
}
