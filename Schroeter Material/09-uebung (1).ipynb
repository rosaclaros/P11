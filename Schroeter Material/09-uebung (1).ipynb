{
 "cells": [
  {
   "cell_type": "markdown",
   "metadata": {},
   "source": [
    "**Seminar 'Einführung in die prozedurale und objektorientierte Programmierung mit Python'**\n",
    "\n",
    "# Übung zu Thema 9: Objektorientierung I"
   ]
  },
  {
   "cell_type": "markdown",
   "metadata": {},
   "source": [
    "### Aufgabe 1: Erstellen einer Klasse 'Student'\n",
    "\n",
    "Schreiben Sie eine Klasse `Student`, die folgende initiale Attribute besitzen soll:\n",
    "\n",
    "* `Vorname`, `Nachname`, `Matrikelnummer` und `Studienfach`\n",
    "\n",
    "\n",
    "1. Legen Sie eine __init__ Methode an in der diese Attribute an das jeweilige Objekte übergeben werden. Achten Sie dabei darauf, dass die Attribute **private** sind, also nicht von außerhalb der Klasse angesprochen werden können.<br><br>\n",
    "\n",
    "2. Schreiben Sie **getter-** und **setter- Methoden**, für alle alle vier Attribute und instanziieren Sie zwei beliebige Objekte der Klasse `Student`.<br><br>\n",
    " \n",
    "3. Fügen Sie der Klasse eine Methode `belegen(lehrveranstaltung)` an, die es den Instanzen der Klasse erlaubt, einen oder mehrere Lehrveranstaltungen zu belegen. Lehrvestanstaltungen können schlicht aus Strings bestehen. Diese Methode soll **public** sein, also von außerhalb der Klasse aufgerufen werden dürfen. Lassen Sie nun ihre beiden Studenten mindestens eine Lehrveranstaltung belegen.<br><br>\n",
    "\n",
    "4. Schreiben Sie eine Methode `get_info()`, die alle Attribute eines Studenten, auf den Bildschirm ausgibt. Geben Sie zudem die Anzahl sowie die Titel der belegten Lehrveranstaltungen aus. Tun Sie dies aber nur wenn mindestens eine Lehrveranstaltung belegt wurde. Auch diese Methode soll von außen aufgerufen werden können, setzen Sie sie aber als **protected** damit sie nicht mehr überschrieben werden kann.<br><br>\n",
    "\n",
    "5. Erweitern Sie die Klasse nun noch einmal um eine Methode `ablegen(index)`, die es einem Studenten erlaubt, eine Lehrveranstaltung zu verlassen, bzw. die diese aus seiner Lehrveranstaltungsliste entfernt. Das Entfernen der Lehrveranstaltung soll über den index gesteuert werden, sodass etwa die erste Veranstaltung gelöscht werden kann. Achten Sie darauf, dass mögliche Fehler, wie etwa das Ansprechen einer Lehrveranstaltung mit einem zu großen Index  als Ausnahme abgefangen werden und im Fehlerfall eine Fehlermeldung ausgedruckt wird. Suchen Sie die dafür am besten passende Ausnahme, falls Sie sie nicht finden können, kann auch eine allgemeine Ausnahme verwendet werden.\n",
    "\n",
    "Optional:\n",
    "\n",
    "* Erstellen Sie eine Zweite Klasse `Lehrveranstaltung`, die die privaten Attribute Titel und Semester besitzt. Die Klasse kann in ein importierbares Modul ausgelagert werden.\n",
    "\n",
    "* Legen Sie wiederum **getter-** und **setter- Methoden** für diese Attribute an.\n",
    "\n",
    "* Erweitern Sie das Attribut `lehrveranstaltungen` sowie alle davon betroffenen Methoden der Klasse `Student` nun so, dass sie mit Instanzen der Klasse `Lehrveranstaltung` besetzt werden können."
   ]
  },
  {
   "cell_type": "code",
   "execution_count": null,
   "metadata": {},
   "outputs": [],
   "source": [
    "# Aufgabe 1\n",
    "\n",
    "# Ihr Skript\n"
   ]
  }
 ],
 "metadata": {
  "kernelspec": {
   "display_name": "Python 3",
   "language": "python",
   "name": "python3"
  },
  "language_info": {
   "codemirror_mode": {
    "name": "ipython",
    "version": 3
   },
   "file_extension": ".py",
   "mimetype": "text/x-python",
   "name": "python",
   "nbconvert_exporter": "python",
   "pygments_lexer": "ipython3",
   "version": "3.8.3"
  }
 },
 "nbformat": 4,
 "nbformat_minor": 2
}
