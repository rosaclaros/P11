{
 "cells": [
  {
   "cell_type": "markdown",
   "metadata": {},
   "source": [
    "**Seminar 'Einführung in die prozedurale und objektorientierte Programmierung mit Python'**\n",
    "\n",
    "![Figure progr](https://www.dh-lehre.gwi.uni-muenchen.de/wp-content/uploads/img/python1819/icons8-buch-48.png)\n",
    "\n",
    "# Thema 1: Einführung in Datentypen,  Variablen & Eingabe\n",
    "\n",
    "\n",
    "\n",
    "> In dieser Seminarsitzung lernen Sie zwei fundamentale Konzepte der Programmierung kennen: Datentypen und Variablen. Zusätzlich wird besprochen, wie eine einfache Eingabeaufforderung in Python funktioniert.\n",
    "\n",
    "- Ein **Datentyp** bezeichnet einen Wertebereich mit zugehörigen Operationen, zum Beispiel die ganzen Zahlen (Integer) mit den Operationen +,-,* etc.\n",
    "- **Variablen** sind **Platzhalter**, die einen Wert innerhalb eines Datentyps annehmen können, eine Variable \"a\" kann zum Beispiel den Wert 4 annehmen, was bedeutet, dass sie vom Datentyp her eine ganze Zahl (Integer) repräsentiert.\n",
    "\n",
    "\n",
    "![Figure progr](https://www.dh-lehre.gwi.uni-muenchen.de/wp-content/uploads/img/python1819/ada_lovelace_img.jpg)"
   ]
  },
  {
   "cell_type": "markdown",
   "metadata": {},
   "source": [
    "## Übersicht über die Standard Datentypen\n",
    "\n",
    "In Python gibt es verschiedene Standard Datentypen.Grundsätzlich können elementare- und zusammengesetzte Datentypen unterschieden werden. Bei der Arbeit mit Python ist für die korrekte Ausführung genau darauf zu achten, welchem Datentyp die gerade zu verarbeitenden Daten angehören.\n",
    "\n",
    "\n",
    "### Der Datentyp `None`\n",
    "Da Python eine objektorientierte Programmiersprache ist, gibt es auch einen speziellen Datentyp namens `None`, der leere Objekte bezeichnet, die keinen anderen Datentyp haben. Diesen Datentyp lernen wir später im Semester genauer kennen.\n",
    "\n",
    "\n",
    "### Elementare Datentypen\n",
    "\n",
    "- Elementare Datentypen können nur einen einzigen Wert aus dem für sie definierten Wertbereichs annehmen.\n",
    "- Werden oft als **primitive** oder **einfache** Datentypen bezeichnet. \n",
    "\n",
    "| Datentyp  | Beispiele  | Erklärung |  Einsatzzweck | \n",
    "| :--- | :---  | :--- |  :--- | \n",
    "| Numerisch  | 125, -98,124.0  | Ganzzahlen, Gleitkommazahlen,komplexe Zahlen.  | Werden für Berechnungen aller Art verwendet.   | \n",
    "| Zeichenketten (Strings) | \"LMU\", \"Kapitel 5\" | Eine Zeichenkette von alphanumerischen Zeichen, gerahmt durch `\"...\"`.  | In der Sprachwissenschaft häufigstes Format.  | \n",
    "| Boolean  | True, False  | Logisch wahr oder falsch.  | Wird für logische Entscheidungen benötigt.  | \n",
    "\n",
    "\n",
    "### Zusammengesetzte Datentypen\n",
    "\n",
    "- Zusammengesetzte Datentypen setzen sich aus einem oder mehreren elementaren zusammen.\n",
    "- Werden oft auch als **Datenstrukturen** bezeichnet.\n",
    "- Achtung: Der Datentyp `String` kann sowohl zu den einfachen als auch zu den zusammengesetzten Datentypen gezählt werden.\n",
    "\n",
    "| Datentyp  | Beispiele  | Erklärung |  Einsatzzweck | \n",
    "| :--- | :---  | :--- |  :--- | \n",
    "| Listen  | [1,2], [\"Katze\",'Hund',2]  | Geordnete Sammlungen von Werten, die mit Komma getrennt innerhalb von `[]` stehen.  | Häufigstes Format, wenn Datensammlungen bearbeitet werden.   | \n",
    "| Tupel  | (\"Montag\",\"Dienstag\",2015)  | Geordnete Sammlungen von Werten, die mit Komma getrennt innerhalb von `()` stehen.  | Unveränderbare Gruppen von Werten, etwa (x,y) - Koordinatenpaare.   | \n",
    "| Mengen (Sets)  | {1,2,3,4,5},{\"Apfel\",\"Birne\",\"Orange\"}  | Ungeordnete Sammlung von Werten ohne doppelte Elemente, die mit Komma getrennt innerhalb von `{}` stehen.  | Typischer Einsatzbereich sind mathematische Mengenoperation wie etwa Vereinigung und Durchschnitt .  | \n",
    "| Dictionaries  | {\"Apfel\":2,\"Birne\":4,\"Orange\":5}  | Ungeordnete Menge von Schlüssel-Wert-Paaren, die mit `:` getrennt innerhalb von `{}`stehen  .  | Werden in der Sprachwissenschaft z.B. dazu verwendet um Wörterbücher bzw. Konkordanzen zu bilden  |\n",
    "| Zeichenketten (Strings) | \"LMU\", \"Kapitel 5\" | Eine Zeichenkette von alphanumerischen Zeichen, gerahmt durch `\"...\"`.  | In der Sprachwissenschaft häufigstes Format.  | "
   ]
  },
  {
   "cell_type": "markdown",
   "metadata": {},
   "source": [
    "## Numerische Datentypen\n",
    "\n",
    " | Datentyp | Beispiele | Erklärung | \n",
    " | :---  | :--- | :--- | \n",
    " | Integer  | 125, -98  | Ganzzahlen. Wird häufig eingesetzt im Rahmen von Listen oder für Zählungen etc.. | \n",
    " | Float  | 125.0, 125.48  | Gleitkommazahlen. Typischer Einsatzbereich sind statistische Berechnungen. | \n",
    " | Complex  | 1 + 2j, 4.2 + 0.5j  | Werden für komplexere mathematische Berechnungen benötigt. Werden im Kontext des Studiums nicht benötigt.  | \n",
    "\n",
    "### Operationen auf numerischen Datentypen\n",
    "\n",
    "Je nach verwendetem Datentyp lassen sich unterschiedliche Operationen ausführen, so kann man zum Beispiel zwei Integer miteinander multiplizieren, oder zwei Strings zusammenhängen. Ganzzahlen und Gleichtkommazahlen erlauben die klassischen arithmetischen Operationen:\n",
    "\n",
    "**Addition: `+`**"
   ]
  },
  {
   "cell_type": "code",
   "execution_count": null,
   "metadata": {
    "scrolled": true
   },
   "outputs": [],
   "source": [
    "print(5 + 5)\n",
    "print(1.5 + 2.5)"
   ]
  },
  {
   "cell_type": "markdown",
   "metadata": {},
   "source": [
    "**Subtraktion: `-`**"
   ]
  },
  {
   "cell_type": "code",
   "execution_count": null,
   "metadata": {},
   "outputs": [],
   "source": [
    "print(5 - 5)\n",
    "print(10.1 - 8.1)"
   ]
  },
  {
   "cell_type": "markdown",
   "metadata": {},
   "source": [
    "**Multiplikation:** `*`"
   ]
  },
  {
   "cell_type": "code",
   "execution_count": null,
   "metadata": {},
   "outputs": [],
   "source": [
    "print(5 * 5)\n",
    "print(12.3 * 8.2)"
   ]
  },
  {
   "cell_type": "markdown",
   "metadata": {},
   "source": [
    "**Division: `/`**"
   ]
  },
  {
   "cell_type": "code",
   "execution_count": null,
   "metadata": {},
   "outputs": [],
   "source": [
    "print(25 / 5)\n",
    "print(12.3 / 8.2)\n",
    "# Anmerkung: Division wandelt den Datentyp immer in Float um."
   ]
  },
  {
   "cell_type": "markdown",
   "metadata": {},
   "source": [
    "**Modulo (= Division mit Rest):** `%`"
   ]
  },
  {
   "cell_type": "code",
   "execution_count": null,
   "metadata": {},
   "outputs": [],
   "source": [
    "print(49 % 5)\n",
    "print(24 % 5)"
   ]
  },
  {
   "cell_type": "markdown",
   "metadata": {},
   "source": [
    "**Exponential:** `**` "
   ]
  },
  {
   "cell_type": "code",
   "execution_count": null,
   "metadata": {},
   "outputs": [],
   "source": [
    "print(2**3)\n",
    "print(25**5)"
   ]
  },
  {
   "cell_type": "markdown",
   "metadata": {},
   "source": [
    "**Division mit Abrundung:** `//`"
   ]
  },
  {
   "cell_type": "code",
   "execution_count": null,
   "metadata": {},
   "outputs": [],
   "source": [
    "print(49 // 5)\n",
    "print(24 // 5)"
   ]
  },
  {
   "cell_type": "markdown",
   "metadata": {},
   "source": [
    "Klammern haben normale mathematische Funktion (Punkt vor Strich etc.):"
   ]
  },
  {
   "cell_type": "code",
   "execution_count": null,
   "metadata": {},
   "outputs": [],
   "source": [
    "print(5+(1*2))\n",
    "print((5+1)/2)"
   ]
  },
  {
   "cell_type": "markdown",
   "metadata": {},
   "source": [
    "\n",
    "## Zeichenketten (Strings)\n",
    "\n",
    " | Datentyp | Beispiele | Erklärung | \n",
    " | :---  | :--- | :--- | \n",
    " | Zeichenketten (Strings) | \"LMU\", \"Kapitel 5\" | Eine Zeichenkette von alphanumerischen Zeichen, gerahmt durch `\"...\"` | In der Sprachwissenschaft häufigstes Format."
   ]
  },
  {
   "cell_type": "markdown",
   "metadata": {},
   "source": [
    "### Operationen auf Strings\n",
    "\n",
    "\n",
    "Auch Strings erlauben eine Reihe von Operationen, zumeist handelt es sich dabei um Konkatenation oder um Wiederholungen:\n",
    "\n",
    "**Konkatenation:** `+`"
   ]
  },
  {
   "cell_type": "code",
   "execution_count": null,
   "metadata": {},
   "outputs": [],
   "source": [
    "print('Das ist' + ' ' + \"ein 'lustiger' Satz\" )\n",
    "print(\"Das ist\" + \" \" + \"ein Satz\")\n",
    "print(\"Das ist\" + 25) #Anmerkung: Fehlermeldung, da Datentypen vermischt sind!"
   ]
  },
  {
   "cell_type": "markdown",
   "metadata": {},
   "source": [
    "**Wiederholung von Strings:** `*`"
   ]
  },
  {
   "cell_type": "code",
   "execution_count": null,
   "metadata": {},
   "outputs": [],
   "source": [
    "print(3 * \"Der\")\n",
    "print(3 * \"Der\" + 2 * \"Peter\")\n",
    "print(3 * (\" Der\" + 2 * \" Peter\"))"
   ]
  },
  {
   "cell_type": "markdown",
   "metadata": {},
   "source": [
    "### Konvertierung von Datentypen\n",
    "Datentypen können nicht beliebig gemischt werden, wie Sie im obigen Beispiel gesehen haben. 25 ist ein Integer und muss zunächst in einen String umgewandelt werden, um mit einem anderen String konkateniert werden zu können:"
   ]
  },
  {
   "cell_type": "code",
   "execution_count": null,
   "metadata": {},
   "outputs": [],
   "source": [
    "print(\"25\")\n",
    "print(25)\n",
    "\n",
    "#int(\"25\")\n",
    "\n",
    "#print(\"Das ist \" + str(25))"
   ]
  },
  {
   "cell_type": "markdown",
   "metadata": {},
   "source": [
    "Folgende Funktionen stehen zur Umwandlung von Datentypen zur Verfügung:\n",
    "\n",
    "**Konvertierung in einen String:** `str()`"
   ]
  },
  {
   "cell_type": "code",
   "execution_count": null,
   "metadata": {},
   "outputs": [],
   "source": [
    "print(str(125))\n",
    "print(str(125.48))\n",
    "print(str(True))"
   ]
  },
  {
   "cell_type": "markdown",
   "metadata": {},
   "source": [
    "**Konvertierung in eine Ganzzahl:** `int()`"
   ]
  },
  {
   "cell_type": "code",
   "execution_count": null,
   "metadata": {},
   "outputs": [],
   "source": [
    "print(int(125.48))\n",
    "print(int(\"125\"))\n",
    "print(int(True))\n",
    "print(int(\"Hallo Welt\")) # ERROR - keine Zahl!"
   ]
  },
  {
   "cell_type": "markdown",
   "metadata": {},
   "source": [
    "**Konvertierung in eine Gleitkommazahl:** `float()`"
   ]
  },
  {
   "cell_type": "code",
   "execution_count": 1,
   "metadata": {},
   "outputs": [
    {
     "name": "stdout",
     "output_type": "stream",
     "text": [
      "125.0\n",
      "0.0\n",
      "125.0\n"
     ]
    },
    {
     "ename": "ValueError",
     "evalue": "could not convert string to float: 'Hallo Welt'",
     "output_type": "error",
     "traceback": [
      "\u001b[1;31m---------------------------------------------------------------------------\u001b[0m",
      "\u001b[1;31mValueError\u001b[0m                                Traceback (most recent call last)",
      "Cell \u001b[1;32mIn[1], line 4\u001b[0m\n\u001b[0;32m      2\u001b[0m \u001b[38;5;28mprint\u001b[39m(\u001b[38;5;28mfloat\u001b[39m(\u001b[38;5;28;01mFalse\u001b[39;00m))\n\u001b[0;32m      3\u001b[0m \u001b[38;5;28mprint\u001b[39m(\u001b[38;5;28mfloat\u001b[39m(\u001b[38;5;241m125\u001b[39m))\n\u001b[1;32m----> 4\u001b[0m \u001b[38;5;28mprint\u001b[39m(\u001b[38;5;28mfloat\u001b[39m(\u001b[38;5;124m\"\u001b[39m\u001b[38;5;124mHallo Welt\u001b[39m\u001b[38;5;124m\"\u001b[39m))\n",
      "\u001b[1;31mValueError\u001b[0m: could not convert string to float: 'Hallo Welt'"
     ]
    }
   ],
   "source": [
    "print(float(\"125\"))\n",
    "print(float(False))\n",
    "print(float(125))\n",
    "print(float(\"Hallo Welt\")) # ERROR - keine Zahl!"
   ]
  },
  {
   "cell_type": "markdown",
   "metadata": {},
   "source": [
    "### Ausgabe des Datentyps\n",
    "\n",
    "Um herauszufinden, welchen Datentyp ein Ausdruck besitzt kann das Kommando `type()` benutzt werden."
   ]
  },
  {
   "cell_type": "code",
   "execution_count": null,
   "metadata": {},
   "outputs": [],
   "source": [
    "print(type(1))\n",
    "print(type(True))\n",
    "print(type(\"Abc\"))"
   ]
  },
  {
   "cell_type": "markdown",
   "metadata": {},
   "source": [
    "**Kombination von Konvertierung und Typenausgabe:**"
   ]
  },
  {
   "cell_type": "code",
   "execution_count": null,
   "metadata": {},
   "outputs": [],
   "source": [
    "print(type(float(5)))\n",
    "print(type(str(204)))"
   ]
  },
  {
   "cell_type": "markdown",
   "metadata": {},
   "source": [
    "## Variablen\n",
    "Ein zentrales Prinzip der üblichen Programmiersprachen sind Variablen: Hierbei handelt es sich im Grunde um Platzhalter, die mit einem Wert gefüllt werden, den sie so lange behalten, bis der Wert ausgetauscht wird.\n",
    "\n",
    "### Zuweisung von Variablen\n",
    "\n",
    "\n",
    "Die Syntax zur Zuweisung von Werten zu Variablen lautet:\n",
    "\n",
    "`Variablenname = Wert`\n",
    "\n",
    "Zuweisung einer **Variablen vom Typ Ganzzahl**:"
   ]
  },
  {
   "cell_type": "code",
   "execution_count": null,
   "metadata": {},
   "outputs": [],
   "source": [
    "matrikelnummer = 2227597\n",
    "print(matrikelnummer)"
   ]
  },
  {
   "cell_type": "markdown",
   "metadata": {},
   "source": [
    "Zuweisung einer **Variablen vom Typ \"String\"**:"
   ]
  },
  {
   "cell_type": "code",
   "execution_count": null,
   "metadata": {},
   "outputs": [],
   "source": [
    "name = \"Anna\"\n",
    "print(name)"
   ]
  },
  {
   "cell_type": "markdown",
   "metadata": {},
   "source": [
    "Zuweisung einer **Variablen vom Typ Gleitkommazahl**:"
   ]
  },
  {
   "cell_type": "code",
   "execution_count": null,
   "metadata": {},
   "outputs": [],
   "source": [
    "groesse = 1.75"
   ]
  },
  {
   "cell_type": "markdown",
   "metadata": {},
   "source": [
    "Zuweisung einer **Variablen vom Typ Wahrheitswert**:"
   ]
  },
  {
   "cell_type": "code",
   "execution_count": null,
   "metadata": {},
   "outputs": [],
   "source": [
    "am_leben = True"
   ]
  },
  {
   "cell_type": "markdown",
   "metadata": {},
   "source": [
    "Im interaktiven Seminarskript sind alle zugewiesenen Variablen auch über einzelne Code-Blöcke hinweg zugänglich. Geben Sie die oberen Variablen und deren Datentyp mithilfe der `print()`-Funktion aus:"
   ]
  },
  {
   "cell_type": "code",
   "execution_count": null,
   "metadata": {},
   "outputs": [],
   "source": [
    "print(name)"
   ]
  },
  {
   "cell_type": "markdown",
   "metadata": {},
   "source": [
    "Variablen können immer neue Werte zugewiesen werden, der Datentyp verändert sich je nach zugewiesenem Wert:"
   ]
  },
  {
   "cell_type": "code",
   "execution_count": null,
   "metadata": {},
   "outputs": [],
   "source": [
    "# Erstmalige Zuweisung eines Wertes:\n",
    "alter1 = 23\n",
    "\n",
    "# Überschreiben von 23 mit 24:\n",
    "alter2 = 24\n",
    "\n",
    "# Ausgabe 1:\n",
    "print(alter1)\n",
    "print(alter2)\n",
    "\n",
    "# Überschreiben von 24 mit \"vierundzwanzig\":\n",
    "alter = \"vierundzwanzig\"\n",
    "\n",
    "# Ausgabe 2:\n",
    "print(alter)\n",
    "\n",
    "alter = 26\n",
    "print(alter)"
   ]
  },
  {
   "cell_type": "markdown",
   "metadata": {},
   "source": [
    "### Mehrfachzuweisungen von Variablen\n",
    "\n",
    "In Python ist es auch erlaubt mehrere Variablen auf einmal zuzuweisen.\n",
    "\n",
    "Die Syntax zur mehrfachen Zuweisung eines Wertes für verschiedene Variablen lautet:\n",
    "\n",
    "`Variablenname1=Variablenname2=.. = Wert`\n",
    "\n",
    "Die Syntax zur zu Zuweisung verschiedener Werte zu verschiedenen Variablen lautet:\n",
    "\n",
    "`Variablenname1,Variablenname2,.. = Wert1,Wert2,..`\n"
   ]
  },
  {
   "cell_type": "code",
   "execution_count": null,
   "metadata": {},
   "outputs": [],
   "source": [
    "# Zuweisung eines Wertes auf drei Variablen:\n",
    "a=b=c= 49\n",
    "\n",
    "print(a)\n",
    "print(b)\n",
    "print(c)\n",
    "\n",
    "# Zuweisung verschiedener Werte auf drei Variablen:\n",
    "a,b,c = \"Apfel\",45.2,\"Peter\"\n",
    "\n",
    "print(a)\n",
    "print(b)\n",
    "print(c)\n"
   ]
  },
  {
   "cell_type": "markdown",
   "metadata": {},
   "source": [
    "### Bennennung von Variablen\n",
    "\n",
    "Ein Variablenname kann relativ frei gewählt werden.\n",
    "Es gibt jedoch einige Einschräkungen, die zu beachten sind:\n",
    "- Keine Ziffer als erstes Zeichen.\n",
    "- Keine Leerzeichen.\n",
    "- Keine Umlaute.\n",
    "- Unterstriche(`_`) sind erlaubt.\n",
    "\n",
    "Grundsätzlich bietet es sich an gut verständliche Variablennamen zu wählen. Gute Variablennamen beschreiben, was sie bedeuten, nicht, was für ein Typ sie sind, z.B. \"alter\", \"groesse\" anstatt \"zahl\", \"wert\" oder \"meter\".\n",
    "\n",
    "Zudem ist bei der Bennennung von Variablen auf Groß- und Kleinschreibung zu achten, Variablennamen sind also **case sensitive**.\n"
   ]
  },
  {
   "cell_type": "markdown",
   "metadata": {},
   "source": [
    "### Operationen mit Variablen\n",
    "\n",
    "Variablen können in Ausdrücken anstelle von Konstanten verwendet werden. Dabei verhalten sie sich wie die ihnen zugewiesenen Werte. Anstelle der Variablen wird also im Augenblick ihrer Verarbeitung im Ausdruck der jeweilige auktuelle Wert eingesetzt. Die arithmetischen und Stringoperationen funktionieren folglich auch für Variablen:"
   ]
  },
  {
   "cell_type": "code",
   "execution_count": null,
   "metadata": {},
   "outputs": [],
   "source": [
    "# Zuweisung von 4 Variablen:\n",
    "string_1 = \"Der Baum\"\n",
    "string_2 = \"ist braun.\"\n",
    "integer_1 = 125\n",
    "float_1 = 12.5\n",
    "\n",
    "# Einige klassische Operationen mit diesen Variablen:\n",
    "print(integer_1 + float_1)\n",
    "print(integer_1 // float_1)\n",
    "print(3 * (string_1 + \" \" + string_2))"
   ]
  },
  {
   "cell_type": "markdown",
   "metadata": {},
   "source": [
    "Inhalte von Variablen können auch aus anderen Variablen und/oder mithilfe von Operationen erzeugt werden:"
   ]
  },
  {
   "cell_type": "code",
   "execution_count": null,
   "metadata": {},
   "outputs": [],
   "source": [
    "# Zuweisung von 4 Variablen:\n",
    "str_1 = \"Der Baum\"\n",
    "str_2 = \"ist braun.\"\n",
    "num_1 = 15\n",
    "num_2 = 30\n",
    "\n",
    "# Zuweisung neuer Variablen auf Basis der zuvor verwendeten Variablen und unter Zuhilfenhame von Operationen:\n",
    "str_final = str_1 + \" \" + str_2\n",
    "num_3 = (num_1 * num_2) / 15\n",
    "num_1 = num_1 + 2\n",
    "\n",
    "# Ausgabe der neuen Variablenwerte:\n",
    "print(str_final)\n",
    "print(num_3)\n",
    "print(num_1)"
   ]
  },
  {
   "cell_type": "markdown",
   "metadata": {},
   "source": [
    "### Zuweisungsoperatoren\n",
    "\n",
    "Neben dem bekannten `=` als Zuweisungsoperator existieren noch weitere solcher Operatoren, welche als Shortcuts dienen können. Allen Zuweisungsoperatoren ist gemeinsam, dass sie mit dem rechten Operanden eine Operation auf dem linken Operanden ausführen und das Ergebnis dem linken Operanden zuweisen.\n",
    "\n",
    "**Addition:** `a += b entspricht a = a + b`"
   ]
  },
  {
   "cell_type": "code",
   "execution_count": null,
   "metadata": {},
   "outputs": [],
   "source": [
    "# Erzeugung zweier Variablen\n",
    "a = 10\n",
    "b = 5\n",
    "\n",
    "a += b\n",
    "print(a)"
   ]
  },
  {
   "cell_type": "markdown",
   "metadata": {},
   "source": [
    "**Subtraktion:** `a -= b entspricht a = a - b`"
   ]
  },
  {
   "cell_type": "code",
   "execution_count": null,
   "metadata": {},
   "outputs": [],
   "source": [
    "# Erzeugung zweier Variablen\n",
    "a = 10\n",
    "b = 5\n",
    "\n",
    "a -= b\n",
    "print(a)"
   ]
  },
  {
   "cell_type": "markdown",
   "metadata": {},
   "source": [
    "**Multiplikation:** `a *= b entspricht a = a * b`"
   ]
  },
  {
   "cell_type": "code",
   "execution_count": null,
   "metadata": {},
   "outputs": [],
   "source": [
    "# Erzeugung zweier Variablen\n",
    "a = 10\n",
    "b = 5\n",
    "\n",
    "a *= b\n",
    "print(a)"
   ]
  },
  {
   "cell_type": "markdown",
   "metadata": {},
   "source": [
    "**Division:** `a /= b entspricht a = a / b`"
   ]
  },
  {
   "cell_type": "code",
   "execution_count": null,
   "metadata": {},
   "outputs": [],
   "source": [
    "# Erzeugung zweier Variablen\n",
    "a = 10\n",
    "b = 5\n",
    "\n",
    "a /= b\n",
    "print(a)"
   ]
  },
  {
   "cell_type": "markdown",
   "metadata": {},
   "source": [
    "**Modulo:** `a %= b entspricht a = a % b`"
   ]
  },
  {
   "cell_type": "code",
   "execution_count": null,
   "metadata": {},
   "outputs": [],
   "source": [
    "# Erzeugung zweier Variablen\n",
    "a = 10\n",
    "b = 5\n",
    "\n",
    "a %= b\n",
    "print(a)"
   ]
  },
  {
   "cell_type": "markdown",
   "metadata": {},
   "source": [
    "**Exponential:** `a **= b entspricht a = a ** b`"
   ]
  },
  {
   "cell_type": "code",
   "execution_count": null,
   "metadata": {},
   "outputs": [],
   "source": [
    "# Erzeugung zweier Variablen\n",
    "a = 10\n",
    "b = 5\n",
    "\n",
    "a **= b\n",
    "print(a)"
   ]
  },
  {
   "cell_type": "markdown",
   "metadata": {},
   "source": [
    "**Division mit Abrundung:** `a //= b entspricht a = a // b`"
   ]
  },
  {
   "cell_type": "code",
   "execution_count": null,
   "metadata": {},
   "outputs": [],
   "source": [
    "# Erzeugung zweier Variablen\n",
    "a = 10\n",
    "b = 5\n",
    "\n",
    "a //= b\n",
    "print(a)"
   ]
  },
  {
   "cell_type": "markdown",
   "metadata": {},
   "source": [
    "## Eingabe\n",
    "Die Möglichkeit, Skripte durch Eingabe von gewissen Werten zu steuern, ist grundlegend für die flexible und vor allem benutzerfreundliche Programmierung mit Python. Auf diese Weise muss der Programmcode nicht jedes Mal neu angepasst werden, wenn beispielsweise Dateien eingelesen werden sollen, das Script ermöglicht es dem Benutzer, den Dateinamen jedes Mal individuell einzugeben. Die Funktion für die Eingabe von Text lautet:\n",
    "\n",
    "`input(Aufforderungstext)`\n",
    "\n",
    "Damit die Eingabe nicht verloren geht, empfiehlt es sich, den Eingabewert in eine Variable zu speichern. Den Aufforderungstext können Sie frei wählen, er ist jedoch auch weglassbar:\n"
   ]
  },
  {
   "cell_type": "code",
   "execution_count": 2,
   "metadata": {},
   "outputs": [
    {
     "name": "stdout",
     "output_type": "stream",
     "text": [
      "Was ist deine Lieblingszahl?5\n",
      "5\n",
      "<class 'int'>\n"
     ]
    }
   ],
   "source": [
    "lieblingszahl = int(input(\"Was ist deine Lieblingszahl?\"))\n",
    "\n",
    "print(lieblingszahl)\n",
    "print(type(lieblingszahl))"
   ]
  },
  {
   "cell_type": "markdown",
   "metadata": {},
   "source": [
    "Ein kleines Skript soll die Funktionsweise der Texteingabe verdeutlichen:"
   ]
  },
  {
   "cell_type": "code",
   "execution_count": 1,
   "metadata": {},
   "outputs": [
    {
     "name": "stdout",
     "output_type": "stream",
     "text": [
      "-- Einfache Texteingabe --\n",
      "\n",
      "\n",
      "Welcher Text soll gespeichert werden? hallo\n",
      "Sie haben folgenden Text eingegeben: hallo\n"
     ]
    }
   ],
   "source": [
    "# Skript: Texteingabe\n",
    "\n",
    "print(\"-- Einfache Texteingabe --\") # Titel des Skriptes\n",
    "print(\"\\n\") # Erzeugung einer Leerzeile\n",
    "\n",
    "text = input(\"Welcher Text soll gespeichert werden? \") # Eingabe\n",
    "print(\"Sie haben folgenden Text eingegeben:\", text) # Ausgabe"
   ]
  },
  {
   "cell_type": "markdown",
   "metadata": {},
   "source": [
    "Eingegebene Information wird grundsätzlich als String gewertet. Eine Umwandlung der Eingabe ist also immer dann erforderlich, wenn die eingegebene Information zur Berechnung genutzt werden soll:"
   ]
  },
  {
   "cell_type": "code",
   "execution_count": null,
   "metadata": {},
   "outputs": [],
   "source": [
    "zahl = input(\"Geben Sie bitte eine Zahl ein: \")\n",
    "print(3*int(zahl)) #Entfernen Sie die Funktion int(), ist die arithmetische Operation fehlerhaft."
   ]
  }
 ],
 "metadata": {
  "kernelspec": {
   "display_name": "Python 3 (ipykernel)",
   "language": "python",
   "name": "python3"
  },
  "language_info": {
   "codemirror_mode": {
    "name": "ipython",
    "version": 3
   },
   "file_extension": ".py",
   "mimetype": "text/x-python",
   "name": "python",
   "nbconvert_exporter": "python",
   "pygments_lexer": "ipython3",
   "version": "3.11.5"
  }
 },
 "nbformat": 4,
 "nbformat_minor": 2
}
