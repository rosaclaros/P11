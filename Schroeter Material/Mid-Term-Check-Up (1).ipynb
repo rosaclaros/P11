{
 "cells": [
  {
   "cell_type": "markdown",
   "metadata": {},
   "source": [
    "**Seminar 'Einführung in die prozedurale und objektorientierte Programmierung mit Python'**\n",
    "\n",
    "![Figure progr](https://www.dh-lehre.gwi.uni-muenchen.de/wp-content/uploads/img/python1819/icons8-einmachglas-48.png)\n",
    "\n",
    "# Mid Term Check Up\n",
    "\n",
    "> Diese Übungssammlung fasst alle bisher vermittelten Übungssarten zusammen und dient als Grundlage zur Klausurvorbereitung.\n",
    "> Inhaltliche Grundlage sind die Themen 1 bis 3.\n",
    "> Beachten Sie, dass es bei den meisten Aufgaben mehrere richtige Lösungsansätze gibt."
   ]
  },
  {
   "cell_type": "markdown",
   "metadata": {},
   "source": [
    "## Übungen zum Thema *Variablen, Datentypen, Datenoperationen, Eingabe*"
   ]
  },
  {
   "cell_type": "markdown",
   "metadata": {},
   "source": [
    "### Aufgabe 1: Fehlerproduktion aufgrund von Datentypen\n",
    "Das folgende Programm produziert aufgrund differenter Datentypen einen Fehler. Überprüfen und verbessern Sie den Programmcode."
   ]
  },
  {
   "cell_type": "code",
   "execution_count": null,
   "metadata": {},
   "outputs": [],
   "source": [
    "# Aufgabe 1\n",
    "zahl = 3\n",
    "text = \"Das Ergebnis ist: \"\n",
    "ergebnis = 3*7\n",
    "\n",
    "print(text + zahl + \" x 7 = \" + ergebnis)"
   ]
  },
  {
   "cell_type": "markdown",
   "metadata": {},
   "source": [
    "### Aufgabe 2: Der Eingabemanipulator\n",
    "Schreiben Sie ein kleines Programm, das folgende Anforderungen erfüllt:\n",
    "\n",
    "- **Eingabemöglichkeit** eines beliebigen Wortes\n",
    "- **Speichern** der Eingabe in einer Variable\n",
    "- **Einfügen** des gespeicherten Inputs in einen Satz und **Ausgabe** dieses Satzes\n",
    "\n",
    "Der Bezutzer gibt also beispielsweise das Wort \"Banane\" ein, das Programm macht daraus den Satz \"Ich mag Banane\"."
   ]
  },
  {
   "cell_type": "code",
   "execution_count": null,
   "metadata": {},
   "outputs": [],
   "source": [
    "# Aufgabe 2\n",
    "\n",
    "# Ihr Skript"
   ]
  },
  {
   "cell_type": "markdown",
   "metadata": {},
   "source": [
    "### Aufgabe 3: Vorsicht bei der Variablendeklaration\n",
    "Im folgenden Programm ist bei der Variablendeklaration und beim Variablenaufruf etwas schiefgelaufen. Verbessern Sie (Es gibt 6 Fehler).\n",
    "Der Output sollte nach der Verbesserung folgendermaßen aussehen:\n",
    "\n",
    "`Die Rechnung ist:  123 \n",
    "Das Ergebnis ist:  17.571428571428573`"
   ]
  },
  {
   "cell_type": "code",
   "execution_count": null,
   "metadata": {},
   "outputs": [],
   "source": [
    "# Aufgabe 3\n",
    "\n",
    "meine_zahl = 123\n",
    "rechnung = meine_zahl/7\n",
    "text = \"\\nDie Rechnung ist: \"\n",
    "text = \"\\nDas Ergebnis ist: \"\n",
    "\n",
    "print(text, meine_zahl, text, ergebnis)"
   ]
  },
  {
   "cell_type": "markdown",
   "metadata": {},
   "source": [
    "### Aufgabe 4: Der Mehrwertsteuerberechner\n",
    "Schreiben Sie ein Programm für Verkäufer, das die Mehrwertsteuer auf einen eingegebenen Preis aufrechnet. Das Programm soll folgende Anforderungen erfüllen:\n",
    "\n",
    "- **Eingabemöglichkeit** für einen (Einkaufs-)Preis\n",
    "- **Umwandlung** der Eingabe in den benötigten **Datentyp**\n",
    "- **Berechnung** der Mehrwertsteuer von 19%\n",
    "- **Ausgabe** des neuen Preises inklusive Mehrwertsteuer"
   ]
  },
  {
   "cell_type": "code",
   "execution_count": null,
   "metadata": {},
   "outputs": [],
   "source": [
    "# Aufgabe 4\n",
    "\n",
    "# Ihr Skript"
   ]
  },
  {
   "cell_type": "markdown",
   "metadata": {},
   "source": [
    "## Übungen zum Thema *Listen, Listenoperationen, Dateiverarbeitung*"
   ]
  },
  {
   "cell_type": "markdown",
   "metadata": {},
   "source": [
    "### Aufgabe 5: Basis der Dateiverarbeitung\n",
    "Programmieren Sie ein Skript zum Einlesen einer Datei (*source.txt*) und schreiben Sie deren Inhalt in eine andere Datei (*target.txt*).\n",
    "\n",
    "Das Skript soll Folgendes enthalten:\n",
    "\n",
    "- **Einlesen** des Dateiinhaltes aus *source.txt*\n",
    "- **Befüllen** der Datei *target.txt*"
   ]
  },
  {
   "cell_type": "code",
   "execution_count": null,
   "metadata": {},
   "outputs": [],
   "source": [
    "# Aufgabe 5\n",
    "\n",
    "# Ihr Skript"
   ]
  },
  {
   "cell_type": "markdown",
   "metadata": {},
   "source": [
    "### Aufgabe 6: Anwahl von Listenelementen\n",
    "Wählen Sie die Elemente der Liste `liste` so an, dass der Output lautet: `Wir wünschen euch 1 schönes Halloween !`"
   ]
  },
  {
   "cell_type": "code",
   "execution_count": null,
   "metadata": {},
   "outputs": [],
   "source": [
    "# Aufgabe 6\n",
    "liste = [\"euch\", [[\"Ich\", \"wünsche\"], [\"Du\", \"wünschst\"], [\"Er\", \"wünscht\"], \n",
    "                  [\"Sie\", \"wünscht\"], [\"Es\", \"wünscht\"], [\"Wir\", \"wünschen\"], \n",
    "                  [\"Ihr\", \"wünscht\"], [\"Sie\", \"wünschen\"]], [\"Ostern\", \"Nikolaus\", \"Wochenende\", \"Halloween\"], \n",
    "         [1, 2, 3, 4, 5, 6, 7, 8, 9, 10], [[\"schönes\", \"lustiges\", \"frohes\"], \"!\"]]\n",
    "\n",
    "# Ihr Skript"
   ]
  },
  {
   "cell_type": "markdown",
   "metadata": {},
   "source": [
    "### Aufgabe 7: Methoden auf Listen\n",
    "Gegeben sind die drei Listen `namen_de`, `namen_en`, und `namen_it`. Folgen Sie den kleinen Anweisungen in den Kommentaren, um verschiedene Listen-Methoden zu üben. "
   ]
  },
  {
   "cell_type": "code",
   "execution_count": null,
   "metadata": {},
   "outputs": [],
   "source": [
    "# Aufgabe 7\n",
    "namen_de = [\"Hans\", \"Fritz\", \"Maria\", \"Leopold\", \"Antonia\", \"Sepp\", \"Franziska\"]\n",
    "namen_en = [\"James\", \"Charles\", \"Ben\", \"Lennart\", \"Glenn\", \"Luke\", \"Mary\", \"Lynn\", \"Elisabeth\"]\n",
    "namen_it = [\"Carlo\", \"Sofia\", \"Giulia\", \"Giorgia\", \"Francesco\", \"Alessandro\" ]\n",
    "\n",
    "# Ermitteln Sie die Länge aller Namenslisten:\n",
    "\n",
    "    # Ihr Skript\n",
    "    \n",
    "# Fügen Sie an der ersten Stelle aller Listen den Namen \"Anna\" hinzu:\n",
    "\n",
    "    # Ihr Skript\n",
    "    \n",
    "# Alle Listen sollen nun 8 Elemente enthalten,\n",
    "# Fügen Sie Elemente an, wo welche fehlen und entfernen Sie Elemente vom Ende einer Liste, falls diese zu lang ist:\n",
    "\n",
    "    # Ihr Skript\n",
    "    \n",
    "# erstellen Sie eine neue Namensliste, welche Sie mit allen Namen der drei bisherigen Listen füllen:\n",
    "\n",
    "    # Ihr Skript\n",
    "    \n",
    "# Sortieren Sie ihre neue Liste alphabetisch:\n",
    "\n",
    "    # Ihr Skript"
   ]
  },
  {
   "cell_type": "markdown",
   "metadata": {},
   "source": [
    "### Aufgabe 8: weihnachtlich verschachteltes Dictionary\n",
    "Erstellen Sie mit Hilfe eines Dictionaries einen Übersichtsplan für Ihre Weihnachtsgeschenke.\n",
    "\n",
    "Der Weihnachtsgeschenke-Plan soll folgende Strukturierungsmerkmale enthalten:\n",
    "\n",
    "- **Namen der beschenkten Personen** (Index)\n",
    "- **Ordnungsnummer**, pro Geschenk bei 1 neu beginnend (Index)\n",
    "- **Geschenk(bezeichnung)** (Wert)\n",
    "- **Übergabezeitpunkt** (Wert)\n",
    "\n",
    "Das Dictionary soll es erlauben, alle Geschenke für jede Person zusammen mit dem Übergabezeitpunkt abzufragen. Zusätzlich soll es für jede beschenkte Person möglich sein zu bestimmen, welches das erste, zweite etc. Geschenk ist."
   ]
  },
  {
   "cell_type": "code",
   "execution_count": null,
   "metadata": {},
   "outputs": [],
   "source": [
    "# Aufgabe 8\n",
    "\n",
    "# Ihr Skript"
   ]
  },
  {
   "cell_type": "markdown",
   "metadata": {},
   "source": [
    "## Übungen zum Thema *Konditionale Kontrollstrukturen*"
   ]
  },
  {
   "cell_type": "markdown",
   "metadata": {},
   "source": [
    "### Aufgabe 9: True or False?\n",
    "Ermitteln Sie von Hand, welche der folgenden Operationen wahr sein wird, und welche falsch:\n",
    "\n",
    "- `(10+7-3 == 15) or not (12/6 == 2)`\n",
    "- `not (7 < 1) and (1 < 7)`\n",
    "- `(21/8 != 3) and (7*3 == 21)`\n",
    "- `not str(10) or 116 is 116`\n",
    "- `not (\"Hase\" in \"wo Fuchs und Has' sich gute Nacht sagen\" and \"Hase\" in \"wo Fuchs und Has' sich gute Nacht sagen\")` \n",
    "- `not (\"Hase\" in \"wo Fuchs und Has' sich gute Nacht sagen\" or \"Hase\" in \"wo Fuchs und Has' sich gute Nacht sagen\")`\n",
    "- `False or (True or (False or not 1))`\n",
    "- `\"Hund\" in [\"Der\",\"Hund\",\"ist\",\"nass\"] and 15 in (14,15,16) and \"Adresse\" in {\"Adresse\":\"Ringstraße 32\"}`\n",
    "- `(2 * \"Das\", \"Geschenk\") == \"Das Geschenk Das Geschenk\"`\n",
    "- `\"Tannenbaum\" not in {\"Name\":\"Tannenbaum\",\"Gattung\":\"Pflanze\"}`\n",
    "- `(\"Vanille\" in [\"Anis\",\"Nelke\",\"Zimt\"] and \"Lebkuchen\" in (\"Zimtstern\",\"Lebkuchen\")) or (type(\"Weihnachtsmann\") is str)`\n"
   ]
  },
  {
   "cell_type": "markdown",
   "metadata": {},
   "source": [
    "### Aufgabe 10: Alterseinstufung\n",
    "Erstellen Sie ein Programm, das das Alter des Benutzers herausfindet und ihm dann anzeigt, ob er Alkohol trinken darf oder nicht.\n",
    "\n",
    "Der Benutzer soll sein Geburtsjahr eingeben und dann anzeigt bekommen, ob er **(1)** keinen Alkohol trinken darf **(2)** nur in Maßen Alkohol trinken darf oder **(3)** in seinem eigenen Ermessen Alkohol trinken darf. \n",
    "\n",
    "- (1) Er ist unter 16 Jahren alt.\n",
    "- (2) Er ist 16 Jahre oder zwischen 16 und 18 Jahren alt.\n",
    "- (3) Er ist 18 Jahre alt oder älter.\n",
    "\n",
    "Achten Sie auch auf Fälle in denen der Benutzer *genau* 16 oder 18 Jahre alt ist.\n",
    "\n",
    "*Tipp:* Verwenden Sie einen logischen Operator.\n",
    "*Profi-Tipp:* Versuchen Sie sich gerne auch an der Arbeit mit dem Python-Modul `datetime`: https://docs.python.org/3/library/datetime.html. Um dieses zu importieren, schreiben Sie zu Beginn ihres Codes `from datetime import date`"
   ]
  },
  {
   "cell_type": "code",
   "execution_count": null,
   "metadata": {},
   "outputs": [],
   "source": [
    "# Aufgabe 10\n",
    "\n",
    "# Ihr Skript"
   ]
  },
  {
   "cell_type": "markdown",
   "metadata": {},
   "source": [
    "### Aufgabe 11: Wortbewertung\n",
    "Schreiben Sie ein Programm, das ein eingegebenes Wort auf verschiedene Kriterien hin überprüft und die Bewertung des Wortes ausgibt.\n",
    "\n",
    "Ihr Programm sollte folgendes beinhalten:\n",
    "\n",
    "- Möglichkeit zur **Eingabe** eines Wortes\n",
    "- **Überprüfen** des Wortes anhand der folgenden Kriterien:\n",
    "    - War die **Eingabe ein Wort**? (Hinweis: Wortlänge)\n",
    "    - **Länge des Wortes** in Abstufungen (sehr kurzes Wort, kurzes Wort, mittel-langes Wort, ...)\n",
    "    - **Position des Wortes im Lexikon** anhand der Überprüfung des Anfangsbuchstabens (Wort beginnt mit A/B/C: Position vorne im Lexikon; Wort beginnt mit X/Y/Z: Position hinten im Lexikon\n",
    "- **Speichern** der jeweils zutreffenden Kriterien\n",
    "- **Ausgabe** der Bewertung des Wortes\n",
    "\n",
    "*Tipp:* Gehen Sie davon aus, dass der Programm-Nutzer seinen Input stets klein schreibt."
   ]
  },
  {
   "cell_type": "code",
   "execution_count": null,
   "metadata": {},
   "outputs": [],
   "source": [
    "# Aufgabe 11\n",
    "\n",
    "# Ihr Skript"
   ]
  },
  {
   "cell_type": "markdown",
   "metadata": {},
   "source": [
    "### Aufgabe 12: Ausleseprogramm \n",
    "Sie arbeiten mit anderen zusammen in einem Projekt zur Verarbeitung lyrischer Texte und Ihre Aufgabe ist es jetzt den Teil eines Programmes zu erstellen, der für das Auslesen der Texte zuständig ist.\n",
    "\n",
    "Es gibt zwei verschiedene Methoden, mit denen die Texte in einem späteren Schritt analysiert werden: **(1)** Der Text wird als Ganzes auf Auffälligkeiten untersucht oder **(2)** der Text wird zeilenweise untersucht. \n",
    "\n",
    "Nun sollen Sie eine Lösung entwickeln, bei der der Benutzer aufgefordert wird den Namen der Textdatei anzugeben und er soll zwischen den Methoden **(1)** und **(2)** wählen können. \n",
    "Lassen Sie Ihr Programm zur Überprüfung den Text ausgeben. \n",
    "\n",
    "Ein Ein-/Ausgabe-Beispiel könnte so aussehen: \n",
    "\n",
    "`Geben Sie den Namen der Textdatei an:` \n",
    "`goethe.txt`\n",
    "\n",
    "`Wählen Sie die Methode aus: (1)= Ganzer Text (2)= Absatzweise`\n",
    "`2`\n",
    "\n",
    "`Text wurde zeilenweise eingelesen`\n",
    "\n",
    "`['Das Beste\\n', \"Wenn dir's in Kopf und Herzen schwirrt,\\n\", 'Was willst du Bessres haben!\\n', 'Wer nicht mehr liebt und nicht mehr irrt,\\n', 'Der lasse sich begraben.\\n', 'Goethe']`"
   ]
  },
  {
   "cell_type": "code",
   "execution_count": null,
   "metadata": {},
   "outputs": [],
   "source": [
    "# Aufgabe 12\n",
    "\n",
    "# Ihr Skript"
   ]
  },
  {
   "cell_type": "markdown",
   "metadata": {},
   "source": [
    "### Aufgabe 13: Programm erklären\n",
    "\n",
    "Erklären Sie in eigenen Worten die Funktionsweise des untenstehenden Programms. Nutzen Sie hierfür die Kommentarfunktion an den  mit `# TODO: Kommentar` markierten Stellen."
   ]
  },
  {
   "cell_type": "code",
   "execution_count": null,
   "metadata": {},
   "outputs": [],
   "source": [
    "# Aufgabe 13\n",
    "\n",
    "adventsbotschaft = \".-------------------------------------------------------------------.   \\n| *      '            .         *      .                      *     |\\n|        _  _ * .   _______________________  *          *        .  |\\n|      _(\\)(/)_____/\\_`_\\ \\/_______________\\    Frohe Weihnachten   |\\n|     |`.)XX(=====/ /,---\\*\\----------------\\                 *     |\\n|   * |||`()_\\____\\// \\ / \\ \\`.              \\           mit      . |\\n|      `| |        Y   \\___\\ \\________________\\   *                 |\\n|        `|_________\\  /   / /                /        Python :)    |\\n|  .                 \\/___/_/________________/           .          |\\n'-------------------------------------------------------------------'\"\n",
    "\n",
    "# Ab hier muss jede Zeile kommentiert werden:\n",
    "\n",
    "geheimes_passwort = \"SehrGeheim1234\" # TODO: Kommentar\n",
    "test = False  # TODO: Kommentar\n",
    "output = \"\" # TODO: Kommentar\n",
    "\n",
    "rateversuch = input(\"Um eine Adventsbotschaft zu erhalten, geheimes Passwort eingeben >> \") # TODO: Kommentar\n",
    "\n",
    "if rateversuch == geheimes_passwort: # TODO: Kommentar\n",
    "    test = True # TODO: Kommentar\n",
    "    output = \"\\nPrima, das Passwort war richtig! Hier kommt Deine Adventsbotschaft:\\n\" # TODO: Kommentar\n",
    "\n",
    "else: # TODO: Kommentar\n",
    "    \n",
    "    if len(rateversuch) < len(geheimes_passwort): # TODO: Kommentar\n",
    "        output = \"\\nDas eingegebene Passwort war leider zu kurz ...\" # TODO: Kommentar\n",
    "    \n",
    "    elif len(rateversuch) > len(geheimes_passwort): # TODO: Kommentar\n",
    "        output = \"\\nDas eingegebene Passwort war leider zu lang ...\" # TODO: Kommentar\n",
    "    \n",
    "    elif len(rateversuch) == len(geheimes_passwort): # TODO: Kommentar\n",
    "        output = \"\\nDas eingegebene Passwort hatte zwar die richtige Länge, war aber trotzdem falsch ...\"  # TODO: Kommentar\n",
    "    \n",
    "    else: # TODO: Kommentar\n",
    "        output = \"\\nHier ist etwas gewaltig schiefgelaufen ...\"  # TODO: Kommentar\n",
    "        \n",
    "print(output)  # TODO: Kommentar\n",
    "\n",
    "if test is not False:  # TODO: Kommentar\n",
    "    print(adventsbotschaft)  # TODO: Kommentar"
   ]
  }
 ],
 "metadata": {
  "kernelspec": {
   "display_name": "Python 3 (ipykernel)",
   "language": "python",
   "name": "python3"
  },
  "language_info": {
   "codemirror_mode": {
    "name": "ipython",
    "version": 3
   },
   "file_extension": ".py",
   "mimetype": "text/x-python",
   "name": "python",
   "nbconvert_exporter": "python",
   "pygments_lexer": "ipython3",
   "version": "3.9.12"
  }
 },
 "nbformat": 4,
 "nbformat_minor": 2
}
