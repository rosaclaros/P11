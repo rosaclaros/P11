{
 "cells": [
  {
   "cell_type": "markdown",
   "metadata": {},
   "source": [
    "**Seminar 'Einführung in die prozedurale und objektorientierte Programmierung mit Python'**\n",
    "\n",
    "![Figure progr](https://www.dh-lehre.gwi.uni-muenchen.de/wp-content/uploads/img/python1819/icons8-buch-48.png)\n",
    "\n",
    "# Thema 2: Listen, Listenoperationen & Dateiverarbeitung\n",
    "> Die dritte Sitzung widmet sich dem Thema der zusammengesetzten Datentypen insbesondere **Listen**. Zusätzlich beschäftigt sich die Stunde mit dem Einlesen und Schreiben von Dateien.\n",
    "\n",
    "## Listen (Arrays)\n",
    "\n",
    "- Bei Listen handelt es sich um einen zusammengesetzten Datentyp, der eine Sammlung von Elementen darstellt.\n",
    "- Oft werden Listen als *Felder* oder engl. *Arrays* bezeichnet.\n",
    "- In der Korpuslinguistik eignen sich Listen zur Darstellung von tokenisierten Texten, wobei jedes Wort einem Element entspricht.\n",
    "\n",
    "### Listen (im engeren Sinne)\n",
    "\n",
    "Folgende Syntax wird zur Erstellung von Listen eingesetzt:\n",
    "\n",
    "`[Wert1, Wert2, Wert3,...]`\n",
    "\n",
    "Das folgende Beispiel zeigt die Zuweisung einer Namensliste zur Variable `namen` und die Erstellung einer gemischen Liste `gemischte_liste`:"
   ]
  },
  {
   "cell_type": "code",
   "execution_count": 4,
   "metadata": {},
   "outputs": [],
   "source": [
    "namen = [\"Anna\", \"Peter\", \"Teresa\", \"Johannes\"]\n",
    "\n",
    "gemischte_liste = [\"Annika\", 25, 50.2, True]"
   ]
  },
  {
   "cell_type": "markdown",
   "metadata": {},
   "source": [
    "Listen können also Elemente beherbergen, auch wenn die einzelnen Elemente unterschiedliche Datentypen besetzen.\n",
    "\n",
    "#### Der Index Operator: [index] \n",
    "\n",
    "Die Werte in der Liste sind mit einem Index versehen, der bei **0** beginnt und sich pro Listenelement um 1 erhöht. Will man aus einer bestehenden Liste einen Wert lesen, funktioniert dies unter Angabe des Index-Wertes `[i]` in eckigen Klammern:"
   ]
  },
  {
   "cell_type": "code",
   "execution_count": 5,
   "metadata": {
    "scrolled": true
   },
   "outputs": [
    {
     "name": "stdout",
     "output_type": "stream",
     "text": [
      "Anna\n",
      "Peter\n",
      "Teresa\n",
      "Johannes\n",
      "Annika\n",
      "25\n",
      "50.2\n",
      "True\n"
     ]
    }
   ],
   "source": [
    "# Ausgeben der Elemente aus der Namensliste:\n",
    "print(namen[0])\n",
    "print(namen[1])\n",
    "print(namen[2])\n",
    "print(namen[3])\n",
    "\n",
    "# Ausgeben der Elemente aus der gemischten Liste:\n",
    "print(gemischte_liste[0])\n",
    "print(gemischte_liste[1])\n",
    "print(gemischte_liste[2])\n",
    "print(gemischte_liste[3])"
   ]
  },
  {
   "cell_type": "markdown",
   "metadata": {},
   "source": [
    "**Achtung:** Das erste Element wird nicht mit `1` sondern mit `0` angesprochen, im Beispiel der Namensliste lässt sich der letzte- bzw. der vierte Eintrag demnach nicht mit dem Index `4` sondern mit `3` auswählen.\n",
    "\n",
    "Wird ein Index verwendet, der zu groß ist, wirft der Python Interpreter beim Ausführen des Programms einen Fehler: `IndexError: list index out of range`, da er das angesprochene Elemente nicht finden kann.\n",
    "\n",
    "#### Die Länge von Listen\n",
    "\n",
    "Die Länge einer Liste ergibt sich aus der **Anzahl der Elemente**, die sie enhält. Beide Beispiellisten haben somit die Länge 4.\n",
    "Um die Länge einer Liste zu ermitteln, kann die Funktion `len()` benutzt werden:\n"
   ]
  },
  {
   "cell_type": "code",
   "execution_count": 6,
   "metadata": {},
   "outputs": [
    {
     "name": "stdout",
     "output_type": "stream",
     "text": [
      "4\n",
      "4\n"
     ]
    }
   ],
   "source": [
    "print(len(namen))\n",
    "print(len(gemischte_liste))"
   ]
  },
  {
   "cell_type": "markdown",
   "metadata": {},
   "source": [
    "#### Negative Indizes\n",
    "\n",
    "Listenelemente können durch Angabe negativer Index-Werte `[-i]` auch vom Listenende her angesteuert werden:"
   ]
  },
  {
   "cell_type": "code",
   "execution_count": 7,
   "metadata": {},
   "outputs": [
    {
     "name": "stdout",
     "output_type": "stream",
     "text": [
      "Johannes\n",
      "Peter\n"
     ]
    }
   ],
   "source": [
    "print(namen[-1]) # entspricht namen[4-1]\n",
    "print(namen[-3]) # entsprichte namen[4-3]"
   ]
  },
  {
   "cell_type": "markdown",
   "metadata": {},
   "source": [
    "Das Anprechen von Listenelementen mittels `[-i]` ist eine abkürzende Schreibweise für: `[\"Länge der Liste\"-i]`.  \n",
    "\n",
    "#### Indexbereiche\n",
    "\n",
    "Ebenfalls möglich ist das Auslesen mehrerer Listenelemente, in eckigen Klammern muss dazu ein Indexbereich angegeben werden. Der Startwert ist inklusiv, der Endwert exklusiv:"
   ]
  },
  {
   "cell_type": "code",
   "execution_count": 12,
   "metadata": {},
   "outputs": [
    {
     "name": "stdout",
     "output_type": "stream",
     "text": [
      "['Lara', 'Johannes']\n",
      "[50.2, True]\n"
     ]
    }
   ],
   "source": [
    "print(namen[1:3]) # gibt  die Elemente an Indizes 1 und 2 aus.\n",
    "print(gemischte_liste[2:4]) # gibt die Elemente an Indizes 2 und 3 aus."
   ]
  },
  {
   "cell_type": "markdown",
   "metadata": {},
   "source": [
    "Wird nur entweder die obere oder die untere Grenze besetzt, können alle Listenelemente bis zu einem, bzw. ab einem bestimmten Index angesprochen werden. Bei zu großen Werten ensteht hierbei kein Fehler:"
   ]
  },
  {
   "cell_type": "code",
   "execution_count": 13,
   "metadata": {},
   "outputs": [
    {
     "name": "stdout",
     "output_type": "stream",
     "text": [
      "['Anna', 'Lara']\n",
      "[50.2, True]\n",
      "['Anna', 'Lara', 'Johannes']\n"
     ]
    }
   ],
   "source": [
    "print(namen[:2]) #gibt alle Elemente bis zu Index 2 aus.\n",
    "print(gemischte_liste[2:]) #gibt alle Elemente ab Index 2 aus.\n",
    "print(namen[:200]) # gibt alle Werte aus, obwohl die Liste nur die Länge 4 hat. "
   ]
  },
  {
   "cell_type": "markdown",
   "metadata": {},
   "source": [
    "### Operationen auf Listen\n",
    "Python erlaubt es, Listen auf vielfältige Art und Weise zu verändern, zu erweitern, und Informationen aus ihnen auszugeben. Für die folgenden Beispiele werden zunächst zwei Listen erstellt:"
   ]
  },
  {
   "cell_type": "code",
   "execution_count": 14,
   "metadata": {},
   "outputs": [],
   "source": [
    "namen = [\"Anna\", \"Peter\", \"Teresa\", \"Johannes\"]\n",
    "numbers = [1, 4, 7, 9, 15, 375]"
   ]
  },
  {
   "cell_type": "markdown",
   "metadata": {},
   "source": [
    "**Änderungen an einzelnen Listeneinträgen** können durch Angabe der Ersetzungsposition und Überschreiben des Wertes vorgenommen werden:"
   ]
  },
  {
   "cell_type": "code",
   "execution_count": 15,
   "metadata": {},
   "outputs": [
    {
     "name": "stdout",
     "output_type": "stream",
     "text": [
      "['Anna', 'Peter', 'Lara', 'Johannes']\n",
      "[1, 4, 7, 9, 700, 375]\n"
     ]
    }
   ],
   "source": [
    "namen[2] = \"Lara\"\n",
    "numbers[4] = 700\n",
    "\n",
    "print(namen)\n",
    "print(numbers)"
   ]
  },
  {
   "cell_type": "markdown",
   "metadata": {},
   "source": [
    "Listeneinträge werden mit Hilfe von `del` unter Angabe der gewünschten Indexposition **entfernt**:"
   ]
  },
  {
   "cell_type": "code",
   "execution_count": 16,
   "metadata": {},
   "outputs": [
    {
     "name": "stdout",
     "output_type": "stream",
     "text": [
      "['Anna', 'Lara', 'Johannes']\n",
      "[1, 4, 7, 9, 700]\n"
     ]
    }
   ],
   "source": [
    "del namen[1] # entfernt das zweite Element (Index 1)\n",
    "del numbers[-1] # entfernt das letzte Element (Index 5)\n",
    "\n",
    "print(namen)\n",
    "print(numbers)"
   ]
  },
  {
   "cell_type": "markdown",
   "metadata": {},
   "source": [
    "Wollen Sie wissen, wie viele Elemente eine spezifische Liste enthält, so ermitteln sie die **Zahl der Elemente** mithilfe der Funktion `len()`:"
   ]
  },
  {
   "cell_type": "code",
   "execution_count": 17,
   "metadata": {},
   "outputs": [
    {
     "name": "stdout",
     "output_type": "stream",
     "text": [
      "3\n",
      "5\n"
     ]
    }
   ],
   "source": [
    "print(len(namen))\n",
    "print(len(numbers))"
   ]
  },
  {
   "cell_type": "markdown",
   "metadata": {},
   "source": [
    "Zur Ermittlung des **niedrigsten Listenwertes** verwenden Sie die Funktion `min()`, zur Ermittlung des **höchsten Listenwertes** die Funktion `max()`:"
   ]
  },
  {
   "cell_type": "code",
   "execution_count": 18,
   "metadata": {},
   "outputs": [
    {
     "name": "stdout",
     "output_type": "stream",
     "text": [
      "700\n",
      "Lara\n",
      "1\n",
      "Anna\n"
     ]
    }
   ],
   "source": [
    "print(max(numbers))\n",
    "print(max(namen))\n",
    "# ANMERKUNG: Bei Strings wird der höchste Buchstabe im Alphabet ermittelt.\n",
    "#Für gemischte Listen ist diese Operation nicht zulässig.\n",
    "\n",
    "\n",
    "print(min(numbers))\n",
    "print(min(namen))\n",
    "# ANMERKUNG: Bei Strings wird der niedrigste Buchstabe im Alphabet ermittelt.\n",
    "#Für gemischte Listen ist diese Operation nicht zulässig."
   ]
  },
  {
   "cell_type": "markdown",
   "metadata": {},
   "source": [
    "Mit Hilfe des `+`-Operators können Listen **vereinigt** (konkateniert) werden:"
   ]
  },
  {
   "cell_type": "code",
   "execution_count": 4,
   "metadata": {},
   "outputs": [
    {
     "name": "stdout",
     "output_type": "stream",
     "text": [
      "['Anna', 'Peter', 'Lara', 'Johannes', 1, 4, 7, 9, 700, 375]\n",
      "['Anna', 'Peter', 'Lara', 'Johannes', 1, 4, 7, 9, 700, 375, 1, 4, 7, 9, 700, 375]\n"
     ]
    }
   ],
   "source": [
    "mixed = namen + numbers\n",
    "\n",
    "print(mixed)\n",
    "\n",
    "mixed.extend(numbers)\n",
    "print(mixed)"
   ]
  },
  {
   "cell_type": "markdown",
   "metadata": {},
   "source": [
    "# Methoden auf Listen\n",
    "\n",
    "Neben den bisher beschriebenen Operationen existieren auch eine Reihe sogenannter Methoden, die auf Listen anwendbar sind:\n",
    "\n",
    "\n",
    "| Methode | Erklärung | Beispiel |\n",
    "| :---| :---| :---|\n",
    "| `append(WERT)` | Hängt ein Element an das Ende der Liste an. | `numbers.append(42)`  |\n",
    "| `extend(WERT)` | Hängt die Werte einer anderen Liste an das Ende der ersten Liste an. | `numbers.append(namen)`  |\n",
    "| `insert(INDEX,WERT)` | Fügt ein Element an einer Indexposition in die Liste ein. | `namen.insert(1,\"Hannelore\")`  |\n",
    "| `count(WERT)` | Zählt, wie häufig ein Listenelement in der Liste vorkommt. | `numbers.count(7)`  |\n",
    "| `reverse()` | Kehrt die Reihenfolge der Listenelemente um. | `namen.reverse()`  |\n",
    "| `sort()` | Sortiert die Elemente der Liste aufsteigend. Wenn absteigend sortiert werden soll, kann .sort(reverse=true) verwendet werden. | `numbers.sort()`  |\n",
    "| `index(WERT)` | Liefert den Index, an dem ein bestimmtes Element zum ersten Mal in der Liste auftritt. | `namen.index(\"Anna\")`  |\n",
    "| `remove(WERT)` | Entfernt ein bestimmtes Element beim ersten Vorkommen aus der Liste. | `namen.remove(\"Anna\")` |\n",
    "| `pop(INDEX)` | Entfernt ein Element an dem angegebenen Index und liefert den Wert des entfernten Elements zurück. Wird pop ohne Parameter aufgerufen, wird das letzte Element entfernt.  | `numbers.pop(2)` | \n",
    " \n",
    "\n",
    "Methoden werden mittels des Punkt-Operators (`.`) auf Variablen bestimmten Datentyps angewendet. \n",
    "\n",
    "In den folgenden Code-Zellen werden die Listenmethoden an drei Listen (`numbers`,`numbers2` und `namen`) gezeigt:"
   ]
  },
  {
   "cell_type": "code",
   "execution_count": 1,
   "metadata": {},
   "outputs": [
    {
     "name": "stdout",
     "output_type": "stream",
     "text": [
      "['Anna', 'Peter']\n",
      "[1, 4, 7, 7]\n",
      "[20, 30, 40]\n"
     ]
    }
   ],
   "source": [
    "# Erstellung von drei Variablen, die jeweils eine Liste enthalten:\n",
    "\n",
    "namen = [\"Anna\", \"Peter\"]\n",
    "numbers = [1, 4, 7, 7]\n",
    "numbers2 = [20,30,40]\n",
    "\n",
    "print(namen)\n",
    "print(numbers)\n",
    "print(numbers2)"
   ]
  },
  {
   "cell_type": "markdown",
   "metadata": {},
   "source": [
    "Die Listenmethode `append(WERT)`"
   ]
  },
  {
   "cell_type": "code",
   "execution_count": 2,
   "metadata": {},
   "outputs": [
    {
     "name": "stdout",
     "output_type": "stream",
     "text": [
      "['Anna', 'Peter', 'Mathilda']\n",
      "[1, 4, 7, 7, 42]\n"
     ]
    }
   ],
   "source": [
    "namen.append('Mathilda') \n",
    "numbers.append(42) \n",
    "\n",
    "print(namen)\n",
    "print(numbers)"
   ]
  },
  {
   "cell_type": "markdown",
   "metadata": {},
   "source": [
    "Die Listenmethode `extend(WERT)`"
   ]
  },
  {
   "cell_type": "code",
   "execution_count": 3,
   "metadata": {},
   "outputs": [
    {
     "name": "stdout",
     "output_type": "stream",
     "text": [
      "[1, 4, 7, 7, 42, 20, 30, 40]\n"
     ]
    }
   ],
   "source": [
    "numbers.extend(numbers2) \n",
    "\n",
    "print(numbers)"
   ]
  },
  {
   "cell_type": "markdown",
   "metadata": {},
   "source": [
    "Die Listenmethode `insert(INDEX,WERT)`"
   ]
  },
  {
   "cell_type": "code",
   "execution_count": 4,
   "metadata": {},
   "outputs": [
    {
     "name": "stdout",
     "output_type": "stream",
     "text": [
      "['Anna', 'Hannelore', 'Peter', 'Mathilda']\n",
      "[1, 42, 4, 7, 7, 42, 20, 30, 40]\n"
     ]
    }
   ],
   "source": [
    "namen.insert(1,\"Hannelore\")\n",
    "numbers.insert(1,42)\n",
    "\n",
    "# ANMERKUNG: Alle weiteren Werte werden um eine Indexposition nach rechts verschoben.\n",
    "print(namen)\n",
    "print(numbers)"
   ]
  },
  {
   "cell_type": "markdown",
   "metadata": {},
   "source": [
    "Die Listenmethode `count(WERT)`"
   ]
  },
  {
   "cell_type": "code",
   "execution_count": null,
   "metadata": {},
   "outputs": [],
   "source": [
    "print(namen.count(\"Anna\"))\n",
    "print(numbers.count(7)) "
   ]
  },
  {
   "cell_type": "markdown",
   "metadata": {},
   "source": [
    "Die Listenmethode `index(WERT)`"
   ]
  },
  {
   "cell_type": "code",
   "execution_count": 5,
   "metadata": {},
   "outputs": [
    {
     "name": "stdout",
     "output_type": "stream",
     "text": [
      "0\n",
      "2\n"
     ]
    }
   ],
   "source": [
    "print(namen.index(\"Anna\"))\n",
    "print(numbers.index(7))"
   ]
  },
  {
   "cell_type": "markdown",
   "metadata": {},
   "source": [
    "Die Listenmethode `reverse()`"
   ]
  },
  {
   "cell_type": "code",
   "execution_count": 6,
   "metadata": {},
   "outputs": [
    {
     "name": "stdout",
     "output_type": "stream",
     "text": [
      "['Johannes', 'Lara', 'Peter', 'Anna']\n",
      "[375, 700, 9, 7, 4, 1]\n"
     ]
    }
   ],
   "source": [
    "namen.reverse()\n",
    "numbers.reverse()\n",
    "\n",
    "print(namen)\n",
    "print(numbers)"
   ]
  },
  {
   "cell_type": "markdown",
   "metadata": {},
   "source": [
    "Die Listenmethode `sort()`"
   ]
  },
  {
   "cell_type": "code",
   "execution_count": 7,
   "metadata": {},
   "outputs": [
    {
     "name": "stdout",
     "output_type": "stream",
     "text": [
      "['Anna', 'Johannes', 'Lara', 'Peter']\n",
      "[1, 4, 7, 9, 375, 700]\n"
     ]
    }
   ],
   "source": [
    "namen.sort()\n",
    "numbers.sort() \n",
    "\n",
    "print(namen)\n",
    "print(numbers)"
   ]
  },
  {
   "cell_type": "markdown",
   "metadata": {},
   "source": [
    "Die Listenmethode `remove(WERT)`"
   ]
  },
  {
   "cell_type": "code",
   "execution_count": 8,
   "metadata": {},
   "outputs": [
    {
     "ename": "ValueError",
     "evalue": "list.remove(x): x not in list",
     "output_type": "error",
     "traceback": [
      "\u001b[1;31m---------------------------------------------------------------------------\u001b[0m",
      "\u001b[1;31mValueError\u001b[0m                                Traceback (most recent call last)",
      "Cell \u001b[1;32mIn[8], line 2\u001b[0m\n\u001b[0;32m      1\u001b[0m namen\u001b[38;5;241m.\u001b[39mremove(\u001b[38;5;124m\"\u001b[39m\u001b[38;5;124mAnna\u001b[39m\u001b[38;5;124m\"\u001b[39m) \n\u001b[1;32m----> 2\u001b[0m numbers\u001b[38;5;241m.\u001b[39mremove(\u001b[38;5;241m42\u001b[39m)\n\u001b[0;32m      4\u001b[0m \u001b[38;5;28mprint\u001b[39m(namen)\n\u001b[0;32m      5\u001b[0m \u001b[38;5;28mprint\u001b[39m(numbers)\n",
      "\u001b[1;31mValueError\u001b[0m: list.remove(x): x not in list"
     ]
    }
   ],
   "source": [
    "namen.remove(\"Anna\") \n",
    "numbers.remove(42)\n",
    "\n",
    "print(namen)\n",
    "print(numbers)"
   ]
  },
  {
   "cell_type": "markdown",
   "metadata": {},
   "source": [
    "Die Listenmethode `pop(WERT)`"
   ]
  },
  {
   "cell_type": "code",
   "execution_count": 9,
   "metadata": {},
   "outputs": [
    {
     "name": "stdout",
     "output_type": "stream",
     "text": [
      "['Johannes', 'Lara']\n",
      "Ausgabe des entfernten Elements: Peter\n"
     ]
    }
   ],
   "source": [
    "last_elem = namen.pop()\n",
    "\n",
    "print(namen)\n",
    "print(\"Ausgabe des entfernten Elements:\",last_elem)"
   ]
  },
  {
   "cell_type": "markdown",
   "metadata": {},
   "source": [
    "### Mehrdimensionale Listen\n",
    "\n",
    "Listen dürfen wie eingangs erwähnt Elemente beliebiger Datentypen enhalten, wobei diese sogar gemischt werden dürfen. Somit kann eine Liste auch selbst wieder eine Liste als Element enthalten. Das folgende Beispiel soll dies verdeutlichen: "
   ]
  },
  {
   "cell_type": "code",
   "execution_count": 10,
   "metadata": {},
   "outputs": [
    {
     "name": "stdout",
     "output_type": "stream",
     "text": [
      "[1, 2, 3, [3, 4, 5]]\n"
     ]
    }
   ],
   "source": [
    "erste_liste = [1,2,3]\n",
    "zweite_liste = [3,4,5]\n",
    "\n",
    "erste_liste.append(zweite_liste)\n",
    "\n",
    "print(erste_liste)"
   ]
  },
  {
   "cell_type": "markdown",
   "metadata": {},
   "source": [
    "Im Gegensatz zur vorhin gesehenen Methode `extend()` wird nun die komplette Liste 2 als **ein Element** an die erste Liste gehängt. Die Länge der ersten Liste beträgt nun nicht 6 sondern **4**, da sie als letztes Element nun selbst wieder eine Liste enthält:"
   ]
  },
  {
   "cell_type": "code",
   "execution_count": null,
   "metadata": {},
   "outputs": [],
   "source": [
    "print(\"Das vierte Element der ersten Liste:\",erste_liste[3])\n",
    "print(\"Länge der Liste:\",len(erste_liste))"
   ]
  },
  {
   "cell_type": "markdown",
   "metadata": {},
   "source": [
    "Soll nun ein spezifisches Element aus der der zweiten Liste angesprochen werden, die nun aber in der ersten Liste enthalten ist, kann Folgendes geschrieben werden:"
   ]
  },
  {
   "cell_type": "code",
   "execution_count": null,
   "metadata": {},
   "outputs": [],
   "source": [
    "print(erste_liste[3][0])"
   ]
  },
  {
   "cell_type": "markdown",
   "metadata": {},
   "source": [
    "`print(erste_liste[3][0])` spricht das erste Elemente des vierten Elements der ersten Liste. Also das erste Element der verschachtelten Liste. Beispielsweise kann so eine **zweidimensonale Liste** oder **Matrix** erzeugt werden:"
   ]
  },
  {
   "cell_type": "code",
   "execution_count": null,
   "metadata": {},
   "outputs": [],
   "source": [
    "matrix = [[1,2,3],[4,5,6],[7,8,9]]"
   ]
  },
  {
   "cell_type": "markdown",
   "metadata": {},
   "source": [
    "Um nun etwa die \"5\", also das zweite Element aus der zweiten Liste, anzusprechen, kann wieder der Index-Operator doppelt hintereinander genutzt werden: "
   ]
  },
  {
   "cell_type": "code",
   "execution_count": null,
   "metadata": {},
   "outputs": [],
   "source": [
    "print(matrix[1][1])"
   ]
  },
  {
   "cell_type": "markdown",
   "metadata": {},
   "source": [
    "Bei der Verschachtelung von Listen sind keine Grenzen gesetzt, anbei ein Beispiel einer 5-dimensionalen Liste:"
   ]
  },
  {
   "cell_type": "code",
   "execution_count": null,
   "metadata": {},
   "outputs": [],
   "source": [
    "multi_list = [\n",
    "    [\n",
    "        [\n",
    "            [\n",
    "                [\"Apfel\",\n",
    "                 \"Birne\",\n",
    "                 \"Orange\"\n",
    "                ]\n",
    "                \n",
    "            ]\n",
    "        ]\n",
    "    ],\n",
    "     [\n",
    "        [\n",
    "            [\n",
    "                [\"Auto\",\n",
    "                 \"Zug\",\n",
    "                 \"Fahrrad\"\n",
    "                ]\n",
    "                \n",
    "            ]\n",
    "        ]\n",
    "    ]\n",
    "]\n",
    "\n",
    "print(\"Birne:\",multi_list[0][0][0][0][1]) \n",
    "print(\"Fahrrad\",multi_list[1][0][0][0][2])"
   ]
  },
  {
   "cell_type": "markdown",
   "metadata": {},
   "source": [
    "## Strings als zusammengesetzter Datentyp\n",
    "\n",
    "Obwohl eine Zeichenkette nur ein Objekt darstellt, sind Zeichenketten genau genommen aber gar keine elementaren Datentypen sondern wie Listen zusammengesetzte Datentypen.\n",
    "\n",
    "Somit sieht die korrigierte Übersicht über die Datentypen folgendermaßen aus:\n",
    "\n",
    "### Elementare Datentypen\n",
    "\n",
    " | Datentyp  | Beispiele  | Erklärung |  Einsatzzweck | \n",
    " | :--- | :---  | :--- |  :--- | \n",
    " | Numerisch  | 125, -98,124.0  | Ganzzahlen, Gleitkommazahlen,komplexe Zahlen.  | Werden für Berechnungen aller Art verwendet.   | \n",
    " | Boolean  | True, False  | Logisch wahr oder falsch.  | Wird für logische Entscheidungen benötigt.  | \n",
    "\n",
    "\n",
    "### Zusammengesetzte Datentypen\n",
    "\n",
    " | Datentyp  | Beispiele  | Erklärung |  Einsatzzweck | \n",
    " | :--- | :---  | :--- |  :--- | \n",
    " | Listen  | [1,2], [\"Katze\",'Hund',2]  | Geordnete Sammlungen von Werten, die mit Komma getrennt innerhalb von `[]` stehen.  | Häufigstes Format, wenn Datensammlungen bearbeitet werden.   | \n",
    " | Zeichenketten (Strings) | \"LMU\", \"Kapitel 5\" | Eine Zeichenkette von alphanumerischen Zeichen, gerahmt durch `\"...\"`.  | In der Sprachwissenschaft häufigstes Format.  | \n",
    " | Tupel  | (\"Montag\",\"Dienstag\",2015)  | Geordnete Sammlungen von Werten, die mit Komma getrennt innerhalb von `()` stehen.  | Unveränderbare Gruppen von Werten, etwa (x,y) - Koordinatenpaare.   | \n",
    " | Mengen (Sets)  | {1,2,3,4,5},{\"Apfel\",\"Birne\",\"Orange\"}  | Ungeordnete Sammlung von Werten ohne doppelte Elemente, die mit Komma getrennt innerhalb von `{}` stehen.  | Typischer Einsatzbereich sind mathematische Mengenoperation wie etwa Vereinigung und Durchschnitt .  | \n",
    " | Dictionaries  | {\"Apfel\":2,\"Birne\":4,\"Orange\":5}  | Ungeordnete Menge von Schlüssel-Wert-Paaren, die mit `:` getrennt innerhalb von `{}`stehen  .  | Werden in der Sprachwissenschaft z.B. dazu verwendet um Wörterbücher bzw. Konkordanzen zu bilden  | \n",
    "\n",
    "\n",
    "Strings können deshalb ebenfalls mit Hilfe des Index-Operators angesteuert werden. Wenn etwa ein einzelnes Zeichen eines Strings angesprochen werden soll, kann Folgendes geschrieben werden:"
   ]
  },
  {
   "cell_type": "code",
   "execution_count": 1,
   "metadata": {},
   "outputs": [
    {
     "name": "stdout",
     "output_type": "stream",
     "text": [
      "D\n",
      "e\n",
      "r\n",
      " \n",
      "A\n",
      "p\n"
     ]
    }
   ],
   "source": [
    "text = \"Der Apfel ist grün\"\n",
    "print(text[0])\n",
    "print(text[1])\n",
    "print(text[2])\n",
    "print(text[3])\n",
    "print(text[4])\n",
    "print(text[5])"
   ]
  },
  {
   "cell_type": "markdown",
   "metadata": {},
   "source": [
    "Sowohl die Ausgabe der Länge, als auch das Angeben bestimmter Bereiche funktioniert auf Strings genau wie zuvor auf den Listen."
   ]
  },
  {
   "cell_type": "code",
   "execution_count": 2,
   "metadata": {},
   "outputs": [
    {
     "name": "stdout",
     "output_type": "stream",
     "text": [
      "n\n",
      "Der\n",
      "Der Apfel ist grün\n",
      "18\n"
     ]
    }
   ],
   "source": [
    "print(text[-1])  # gibt das letzte Zeichen aus.\n",
    "print(text[0:3]) # gibt  die Zeichen an Indizes 1 und 2 aus.\n",
    "print(text[:20]) # gibt  die Zeichen an Indizes 1 und 2 aus.\n",
    "print(len(text)) # gibt die Länge der Zeichenkette aus."
   ]
  },
  {
   "cell_type": "markdown",
   "metadata": {},
   "source": [
    "## Tupel\n",
    "\n",
    "Tupel verhalten sich wie Listen mit dem Unterschied, dass sie unveränderlich sind. Es ist also nicht möglich, Elemente zu ändern oder Einträge anzuhängen. Tupel sollen an dieser Stelle nur der Vollständigkeit halber erwähnt werden, sie werden in der Linguistik in der Regel nicht eingesetzt. Die Syntax zur Erstellung von Tupeln ist wie folgt:\n",
    "\n",
    "`(Wert1, Wert2, Wert3,...)`\n",
    "\n",
    "Das folgende Beispiel zeigt ein Namenstupel , das der Variable `namen` zugewiesen wird:"
   ]
  },
  {
   "cell_type": "code",
   "execution_count": null,
   "metadata": {},
   "outputs": [],
   "source": [
    "namen = (\"Anna\", \"Peter\", \"Teresa\", \"Johannes\")"
   ]
  },
  {
   "cell_type": "markdown",
   "metadata": {},
   "source": [
    "Einzelne Elemente im Tupel werden wie Listenelemente angesteuert:"
   ]
  },
  {
   "cell_type": "code",
   "execution_count": null,
   "metadata": {},
   "outputs": [],
   "source": [
    "print(namen[0])\n",
    "print(namen[1])"
   ]
  },
  {
   "cell_type": "markdown",
   "metadata": {},
   "source": [
    "## Mengen (Sets)\n",
    "\n",
    "Mengen sind ebenfalls ähnlich wie Listen oder Tupel Sammlungen von Elementen. In einer Menge darf ein bestimmtes Element jedoch nur jeweils ein einziges Mal auftreten. Hierdurch kann es oft sinnvoll sein, Mengen zu benutzen, etwa wenn schnell das Vokabular eines Textes ermittelt werden soll. Die Syntax zur Erstellung von Mengen lautet wie folgt:\n",
    "\n",
    "`{Wert1, Wert2, Wert3,...}`\n",
    "\n",
    "Nachfolgend ein Beispiel einer Menge `zahlen`:"
   ]
  },
  {
   "cell_type": "code",
   "execution_count": null,
   "metadata": {},
   "outputs": [],
   "source": [
    "zahlen = {1,2,3,4,5,6}"
   ]
  },
  {
   "cell_type": "markdown",
   "metadata": {},
   "source": [
    "Mengen können auch durch die Funktionen `set()` und `frozenset()` erzeugt werden. Wird frozenset() benutzt, kann die Menge gleich den Tupeln nicht mehr nachträglich verändert werden. Als Parameter kann jeder andere zusammengesetzte Datentyp verwendet werden, etwa eine Liste:"
   ]
  },
  {
   "cell_type": "code",
   "execution_count": 3,
   "metadata": {},
   "outputs": [
    {
     "name": "stdout",
     "output_type": "stream",
     "text": [
      "{'Hahn', 'der', 'Hund', 'Fuchs'}\n",
      "frozenset({'Hahn', 'der', 'Hund', 'Fuchs'})\n"
     ]
    }
   ],
   "source": [
    "liste = [\"der\",\"Hahn\",\"der\",\"Hund\",\"der\",\"Fuchs\"] \n",
    "\n",
    "menge = set(liste)\n",
    "statische_menge = frozenset(liste)\n",
    "\n",
    "print(menge)\n",
    "print(statische_menge)"
   ]
  },
  {
   "cell_type": "markdown",
   "metadata": {},
   "source": [
    "## Dictionaries\n",
    "Ein Dictionary ist eine Sammlung von Schlüssel-Wert-Paaren. In anderen Worten verhalten sich Dictionaries wie Listen, nur dass zum Auslesen oder Einfügen eines Wertes keine Index-Zahl sondern ein Schlüssel verwendet wird. Schlüssel sind üblicherweise von Typ String.\n",
    "\n",
    "`{Schlüssel1:Wert1, Schlüssel2:Wert2, Schlüssel3:Wert3, ...}`\n",
    "\n",
    "Die Ansteuerung der einzelnen Werte erfolgt wie bei Listen und Tupeln über die Angabe des Schlüssels in eckigen Klammern:"
   ]
  },
  {
   "cell_type": "code",
   "execution_count": null,
   "metadata": {},
   "outputs": [],
   "source": [
    "# Zuweisung eines Wohnort-Dictionary:\n",
    "wohnort = {\"Peter\": \"München\", \"Teresa\": \"Wien\"}\n",
    "\n",
    "# Auswahl eines Wertes über den Schlüssel:\n",
    "print(wohnort[\"Peter\"])\n",
    "print(wohnort[\"Teresa\"])"
   ]
  },
  {
   "cell_type": "markdown",
   "metadata": {},
   "source": [
    "Die Werte eines Dictionaries können von einem beliebigen Datentyp sein, also Integer, String etc., aber auch Listen und wiederum Dictionaries. Im Fall von Dictionaries mit Listen als Werten sieht das folgendermaßen aus:\n",
    "\n",
    "`{Schlüssel1: [Wert1,Wert2...], Schlüssel2: [Wert1,Wert2...]...}`\n",
    "\n",
    "Das Anwählen einzelner Einträge erfolgt nun einerseits über den Schlüssel und zusätzlich über die Position innerhalb der eingebetteten Liste:"
   ]
  },
  {
   "cell_type": "code",
   "execution_count": 11,
   "metadata": {},
   "outputs": [
    {
     "name": "stdout",
     "output_type": "stream",
     "text": [
      "['Lesen', 'Häkeln']\n",
      "['Fußball']\n",
      "Lesen\n",
      "Häkeln\n",
      "Fußball\n"
     ]
    }
   ],
   "source": [
    "# Ein Dictionary mit zwei eingebetteten Listen:\n",
    "hobbies = {\"Peter\": [\"Lesen\", \"Häkeln\"], \"Anna\": [\"Fußball\"]}\n",
    "\n",
    "# Auswahl der eingebetteten Listen:\n",
    "print(hobbies[\"Peter\"])\n",
    "print(hobbies[\"Anna\"])\n",
    "\n",
    "# Die Auswahl spezifischer Werte:\n",
    "print(hobbies[\"Peter\"][0])\n",
    "print(hobbies[\"Peter\"][1])\n",
    "\n",
    "print(hobbies[\"Anna\"][0])\n",
    "#print(hobbies[\"Anna\"][1]) # Fehler: Listenwert nicht vorhanden (out of range)!"
   ]
  },
  {
   "cell_type": "markdown",
   "metadata": {},
   "source": [
    "## Dateiverarbeitung\n",
    "\n",
    "In der Regel werden Sie keine Texte verarbeiten, die Sie zuvor manuell eingegeben haben. Vielmehr werden Sie Textdateien einlesen, den Inhalt verwerten und im Anschluss in neuer Form ausgeben wollen. Der Größe der zu verarbeitenden Textdateien wird dabei lediglich durch den Arbeitsspeicher und die Python-Version (32- oder 64-Bit) Grenzen gesetzt: Je nach Konfiguration liegt die maximale Größe eines eingelesenen Textes bei 32-Bit Python im Rahmen von 2 bis 3 Gigabyte, bei 64-Bit Python setzt nur die Größe des Arbeitsspeichers eine Limitierung. Sie können also so große Textdateien verarbeiten, die sich mit keinem Texteditor mehr ohne Absturz öffnen lassen.\n",
    "\n",
    "### Öffnen von Dateien und Öffnungsmodus\n",
    "\n",
    "Um eine Textdatei zu öffnen, ist es notwendig, zuerst einen Pointer auf die Datei zu setzten, aus der Sie lesen wollen. Der Pointer enthält zwei Informationen, den Namen der zu öffnenden Datei bzw. den Dateipfad sowie den Modus, in dem die Datei geöffnet wird. Die Syntax der Pointer-Funktion lautet:\n",
    "\n",
    "`open(Dateiname,Modus)`\n",
    "\n",
    "Das Ergebnis dieses Funktion muss direkt in eine Variable geschrieben werden, auf die später die tatsächliche Leseoperation zugreifen kann. Im Folgenden wird davon ausgegangen, dass sich eine Datei mit dem Namen `lesetest.txt` im Ordner Dokumente von jupyter befindet. Ein Lese-Pointer auf die Datei wird folgendermaßen gesetzt:"
   ]
  },
  {
   "cell_type": "code",
   "execution_count": null,
   "metadata": {},
   "outputs": [],
   "source": [
    "r_pointer = open(\"../Dokumente/lesetest.txt\", \"r\")"
   ]
  },
  {
   "cell_type": "markdown",
   "metadata": {},
   "source": [
    "Das Problem dieser Leseoperation liegt darin, dass sie Sonderzeichen (ä,ö,ü,ß etc.) nicht korrekt kodiert und an dieser Stelle Fehlermeldungen ausgibt. Um diese Problematik zu umgehen, müssen Sie ein sogenanntes **Modul** importieren. Module dienen dazu, die Grundfunktionen von Python über ebendiese hinaus zu erweitern. Um die Kodierung korrekt auszuführen, importieren Sie das Modul io zu Beginn Ihres Skripts, auch die open-Funktion muss angepasst werden: Sie erhält ein io-Präfix (einen Namensraum) und die Kodierung ist explizit anzugeben (wählen Sie in der Regel utf8):"
   ]
  },
  {
   "cell_type": "code",
   "execution_count": null,
   "metadata": {},
   "outputs": [],
   "source": [
    "import io\n",
    "\n",
    "r_pointer = io.open(\"../Dokumente/lesetest.txt\", \"r\", encoding=\"utf8\")"
   ]
  },
  {
   "cell_type": "markdown",
   "metadata": {},
   "source": [
    "Folgende Modi existieren für das Öffnen von Dateien:\n",
    "\n",
    "| Modus  | Beschreibung |\n",
    "| :------------- | :------------ | \n",
    "| r  | Öffnet eine Datei zum Auslesen des Inhaltes (read only). Die Datei wird von Anfang an gelesen.  |\n",
    "| r+  | Öffnet eine Datei zum Lesen und Schreiben. Die Datei wird von Anfang an gelesen. **Vermeiden Sie diesen Modus aus Sicherheitsgründen.**  |\n",
    "| w  | Öffnet eine Datei im Schreibmodus (write). Löscht dabei den gesamten Inhalt einer Datei bzw. erzeugt die Datei wenn sie nicht existiert.  |\n",
    "| w+  | Öffnet eine Datei zum Lesen und Schreiben. Löscht dabei den gesamten Inhalt einer Datei bzw. erzeugt die Datei wenn sie nicht existiert. **Wenden Sie diesen Modus nicht an, er kann leicht Dateien ungewollt zerstören!**  |\n",
    "| a  | Öffnet eine Datei im Schreibmodus 'anhängen' (append). Wenn die Datei nicht existiert, wird sie erzeugt. Löscht nicht den Inhalt der Datei, sondern schreibt immer an das jeweilige Ende der Datei.  |\n",
    "| a+  | Öffnet die Datei im Lese- und Schreibmodus 'anhängen'. Wenn die Datei nicht existiert, wird sie erzeugt. Löscht nicht den Inhalt der Datei, sondern schreibt immer an das jeweilige Ende der Datei. **Vermeiden Sie diesen Modus aus Sicherheitsgründen.**  |\n",
    "\n",
    "Nach dem Setzen des Pointers kann das eigentliche Auslesen des Dateiinhaltes erfolgen. Hierzu verwenden sie eine von drei Auslesemethoden, die alle folgende Syntax aufweisen:\n",
    "\n",
    "`Pointername.Auslesemodus()`\n",
    "\n",
    "Das Ergebnis ist der eingelesene Text, den Sie in eine Variable speichern, um ihn nach dem Ausleseprozess nicht wieder zu verlieren. Es gibt drei Lesemethoden:\n",
    "\n",
    "**Auslesen des gesamten Dateiinhaltes in eine Variable:** `read()`"
   ]
  },
  {
   "cell_type": "code",
   "execution_count": null,
   "metadata": {},
   "outputs": [],
   "source": [
    "r_pointer = io.open(\"../Dokumente/lesetest.txt\", \"r\", encoding=\"utf8\")\n",
    "textinhalt = r_pointer.read()\n",
    "\n",
    "print(textinhalt)"
   ]
  },
  {
   "cell_type": "markdown",
   "metadata": {},
   "source": [
    "**Auslesen des Dateiinhaltes Zeile für Zeile:** `readline()`\n",
    "\n",
    "Die Methode `readline()` liest das Dokument Zeile für Zeile aus, wobei jeder erneute Aufruf der Methode eine Zeile nach vorne springt. Diese Methode kann genutzt werden, wenn sehr große Dateien erwartet werden, deren vollständiges Einlesen den Arbeitsspeicher überfordern würde."
   ]
  },
  {
   "cell_type": "code",
   "execution_count": null,
   "metadata": {},
   "outputs": [],
   "source": [
    "r_pointer = io.open(\"../Dokumente/lesetest.txt\", \"r\", encoding=\"utf8\")\n",
    "\n",
    "# Zeile 1:\n",
    "textinhalt = r_pointer.readline()\n",
    "print(textinhalt)\n",
    "\n",
    "# Zeile 2:\n",
    "textinhalt = r_pointer.readline()\n",
    "print(textinhalt)"
   ]
  },
  {
   "cell_type": "markdown",
   "metadata": {},
   "source": [
    "**Auslesen des gesamten Dateiinhaltes als Liste:** `readlines()`\n",
    "\n",
    "Alle Zeilen werden als separate Elemente einer Liste gespeichert."
   ]
  },
  {
   "cell_type": "code",
   "execution_count": null,
   "metadata": {},
   "outputs": [],
   "source": [
    "r_pointer = io.open(\"../Dokumente/lesetest.txt\", \"r\", encoding=\"utf8\")\n",
    "\n",
    "textinhalt = r_pointer.readlines()\n",
    "\n",
    "print(\"Zeile 1: \" + textinhalt[0])\n",
    "print(\"Zeile 2: \" + textinhalt[1])\n",
    "print(\"Zeile 3: \" + textinhalt[2])"
   ]
  },
  {
   "cell_type": "markdown",
   "metadata": {},
   "source": [
    "Am Ende des Ausleseprozesses schließen Sie den Pointer wieder `Pointername.close()`."
   ]
  },
  {
   "cell_type": "code",
   "execution_count": null,
   "metadata": {},
   "outputs": [],
   "source": [
    "r_pointer.close()"
   ]
  },
  {
   "cell_type": "markdown",
   "metadata": {},
   "source": [
    "### Schreiben in Dateien\n",
    "\n",
    "Um in eine Textdatei zu schreiben, gehen Sie vor wie beim Auslesen einer Datei, verwenden Sie statt eines Lesemodus wie `r` aber einen Schreibmodus. Das Schreiben selbst erfolgt über die Methode `write()`:\n",
    "\n",
    "`Pointername.write(Schreibinhalt)`\n",
    "\n",
    "Existiert die Datei mit dem angegebenen Dateinamen nicht, so wird sie neu angelegt. Am Ende des Schreibprozesses schließen Sie den Pointer (`Pointername.close()`)."
   ]
  },
  {
   "cell_type": "code",
   "execution_count": null,
   "metadata": {},
   "outputs": [],
   "source": [
    "import io\n",
    "r_pointer = io.open(\"../Dokumente/schreibtest.txt\", \"w\", encoding=\"utf8\")\n",
    "\n",
    "r_pointer.write(\"Das hier wollen wir in eine Datei schreiben.\\nEs wäre schön, wenn es funktioniert.\")\n",
    "\n",
    "r_pointer.close()"
   ]
  },
  {
   "cell_type": "markdown",
   "metadata": {},
   "source": [
    "### Absolute und relative Dateipfade\n",
    "\n",
    "Zum Auslesen oder Schreiben von Dateien oder zum Einbinden von externen Skript-Bestandteilen ist es erforderlich, auf Dateien zu verweisen. Verweise erfolgen über die Angabe des Pfades zum Ort, an dem die Zieldatei liegt. Grundsätzlich existieren zwei Arten von Pfadangaben:\n",
    "\n",
    "#### Absolute Pfadangaben\n",
    "\n",
    "Absolute Pfadangaben gehen von einem Laufwerk, einer Festplatte oder einem anderen Datenträger aus und durchlaufen hierarchisch die Ordnerstrukturen des Datenträgers bis zur Zieldatei, z.B.:\n",
    "\n",
    "`C:/Dokumente/Python/Projekt_1/lesetest.txt`\n",
    "\n",
    "Wird beispielsweise der Ordner Python verschoben, so läuft der Verweis ins Leere.\n",
    "\n",
    "\n",
    "#### Relative Pfadangaben\n",
    "\n",
    "Bei relativen Pfadangaben wird nicht von einem Laufwerk ausgegangen, Ausgangspunkt ist in diesem Fall das jeweilige Python-Skript. Die Pfadangabe erfolgt relativ zu diesem Skript:\n",
    "\n",
    "Liegen Skript und Zieldatei im gleichen Verzeichnis, so genügt für den korrekten Verweis die Nennung des Dateinamens:\n",
    "\n",
    "`lesetest.txt`\n",
    "\n",
    "Soll vom Skript aus ein oder mehrere Verzeichnisse nach unten gegangen werden, so werden Slashes verwendet wie bei der absoluten Pfadangabe:\n",
    "\n",
    "`Projekt_1/lesetest.txt`\n",
    "\n",
    "Das Skript liegt im Ordner `Python`, `lesetest.txt` im Unterordner `Projekt_1`.\n",
    "\n",
    "\n",
    "`Python/Projekt_1/lesetest.txt`\n",
    "\n",
    "Das Skript liegt im Ordner `Dokumente`, `lesetest.txt` im Unterordner `Projekt_1`.\n",
    "\n",
    "\n",
    "Soll in höhere Verzeichnisse gesprungen werden, so wird `../` verwendet, um jeweils ein Verzeichnis nach oben zu springen:\n",
    "\n",
    "`../lesetest.txt`\n",
    "\n",
    "Das Skript liegt im Ordner `Projekt_1`, `lesetest.txt` im übergeordneten Verzeichnis `Python`.\n",
    "\n",
    "\n",
    "`../../lesetest.txt`\n",
    "\n",
    "Das Skript liegt im Ordner `Projekt_1`, `lesetest.txt` im übergeordneten Verzeichnis `Dokumente`."
   ]
  }
 ],
 "metadata": {
  "kernelspec": {
   "display_name": "Python 3 (ipykernel)",
   "language": "python",
   "name": "python3"
  },
  "language_info": {
   "codemirror_mode": {
    "name": "ipython",
    "version": 3
   },
   "file_extension": ".py",
   "mimetype": "text/x-python",
   "name": "python",
   "nbconvert_exporter": "python",
   "pygments_lexer": "ipython3",
   "version": "3.11.5"
  }
 },
 "nbformat": 4,
 "nbformat_minor": 2
}
