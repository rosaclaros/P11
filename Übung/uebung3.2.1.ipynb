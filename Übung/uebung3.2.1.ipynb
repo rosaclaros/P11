{
 "cells": [
  {
   "cell_type": "code",
   "execution_count": null,
   "id": "535f7314-2071-4b5f-b7fd-583be36d5781",
   "metadata": {},
   "outputs": [],
   "source": [
    "import random\n",
    "\n",
    "# Übung 1.1\n",
    "\n",
    "\n",
    "\n",
    "\n",
    "# Übung 1.2\n",
    "def vorkommen_in_liste(zahl, liste):\n",
    "    \n",
    "    ergebnis = []\n",
    "    \n",
    "    for i in range(0, len(liste)):\n",
    "        \n",
    "        if len(liste[i]) == zahl:\n",
    "        \n",
    "            ergebnis.append(i)\n",
    "    \n",
    "    return ergebnis\n",
    "\n",
    "# [i for i in range(0, len(liste)) if len(liste[1]) == 4]\n",
    "        \n",
    "liste = [\"Heute\", \"ist\", \"nicht\",\"alle\", \"Tage\", \"ich\", \"komm\", \"wieder\", \"keine\", \"Frage\"]\n",
    "\n",
    "# Übung 1.3\n",
    "\n",
    "def wuerfeln(n):\n",
    "    random.randint(1, n)\n",
    "\n",
    "def ratespiel(n, max):\n",
    "    erraten = False\n",
    "    raten_zahl = wuerfeln(n)\n",
    "    counter = 1\n",
    "\n",
    "    while counter < max:\n",
    "        eingabe = int(input(\"Rate ein Zahl\"))\n",
    "        if eingabe == raten_zahl:\n",
    "            return f\"Du hast richtig erraten und musst {counter * 10} Cent bezahlen\"  \n",
    "        else:\n",
    "            print(f\"Falsch geraten! Du bist bei der {counter}. Versuch. Zahle {counter * 10} Cent!\")   \n",
    "            counter += 1     \n",
    "        \n",
    "    else:\n",
    "        return f\"Du hast in {counter} Versuche der Zahl nicht erraten. Du muss {counter * 10} Cent zahlen\"\n",
    "    \n",
    "# Übung 1.4\n",
    "\n",
    "meine_to_dos = [\"lernen\", \"aufraeumen\", \"kochen\", \"lernen\", \"aufraeumen\" ]\n",
    "\n",
    "def entfernung(liste):\n",
    "    \n",
    "    neue_liste = []\n",
    "    for element in liste:\n",
    "        \n",
    "        if element not in neue_liste:\n",
    "            neue_liste.append(element)\n",
    "    \n",
    "    return neue_liste"
   ]
  },
  {
   "cell_type": "code",
   "execution_count": null,
   "metadata": {},
   "outputs": [
    {
     "data": {
      "text/plain": [
       "['lernen', 'aufraeumen', 'kochen']"
      ]
     },
     "execution_count": 2,
     "metadata": {},
     "output_type": "execute_result"
    }
   ],
   "source": [
    "entfernung(meine_to_dos)"
   ]
  },
  {
   "cell_type": "code",
   "execution_count": null,
   "metadata": {},
   "outputs": [
    {
     "data": {
      "text/plain": [
       "{'aufraeumen', 'kochen', 'lernen'}"
      ]
     },
     "execution_count": 3,
     "metadata": {},
     "output_type": "execute_result"
    }
   ],
   "source": [
    "set(meine_to_dos)"
   ]
  },
  {
   "cell_type": "code",
   "execution_count": null,
   "metadata": {},
   "outputs": [],
   "source": [
    "urlaubsreif = {\n",
    "\"t-Shirts\" : \"ja\", \"Hosen\" : \"ja\",\n",
    "\"Sonnencreme\" : \"nein\", \"Snacks\" : \"ja\",\n",
    "\"Perso\" : \"nein\", \"Ladekabel\" : \"nein\", \"Wanderschuhe\" : \"ja\"\n",
    "}\n",
    "\n"
   ]
  },
  {
   "cell_type": "code",
   "execution_count": null,
   "metadata": {},
   "outputs": [
    {
     "data": {
      "text/plain": [
       "'nein'"
      ]
     },
     "execution_count": 3,
     "metadata": {},
     "output_type": "execute_result"
    }
   ],
   "source": [
    "urlaubsreif[\"Sonnencreme\"]"
   ]
  },
  {
   "cell_type": "code",
   "execution_count": null,
   "metadata": {},
   "outputs": [],
   "source": [
    "urlaubsreif[\"Personalausweis\"] = [\"Ja\"]"
   ]
  },
  {
   "cell_type": "code",
   "execution_count": null,
   "metadata": {},
   "outputs": [
    {
     "data": {
      "text/plain": [
       "['Ja']"
      ]
     },
     "execution_count": 5,
     "metadata": {},
     "output_type": "execute_result"
    }
   ],
   "source": [
    "urlaubsreif[\"Personalausweis\"]"
   ]
  },
  {
   "cell_type": "code",
   "execution_count": null,
   "metadata": {},
   "outputs": [],
   "source": [
    "suche = urlaubsreif.keys()"
   ]
  },
  {
   "cell_type": "code",
   "execution_count": null,
   "metadata": {},
   "outputs": [
    {
     "name": "stdout",
     "output_type": "stream",
     "text": [
      "dict_keys(['t-Shirts', 'Hosen', 'Sonnencreme', 'Snacks', 'Perso', 'Ladekabel', 'Wanderschuhe', 'Personalausweis'])\n"
     ]
    }
   ],
   "source": [
    "print(suche)"
   ]
  },
  {
   "cell_type": "code",
   "execution_count": null,
   "metadata": {},
   "outputs": [
    {
     "data": {
      "text/plain": [
       "dict_keys(['t-Shirts', 'Hosen', 'Sonnencreme', 'Snacks', 'Perso', 'Ladekabel', 'Wanderschuhe', 'Personalausweis'])"
      ]
     },
     "execution_count": 8,
     "metadata": {},
     "output_type": "execute_result"
    }
   ],
   "source": [
    "urlaubsreif.keys()"
   ]
  },
  {
   "cell_type": "code",
   "execution_count": null,
   "metadata": {},
   "outputs": [],
   "source": [
    "urlaubsreif[\"Sonnenbrille\"] = [\"Ja\"]"
   ]
  },
  {
   "cell_type": "code",
   "execution_count": null,
   "metadata": {},
   "outputs": [],
   "source": [
    "urlaubsreif.update({\"Wanderschuhe\":\"ja\", \"Flipflops\":\"ja\"})\n",
    "\n",
    "\n"
   ]
  },
  {
   "cell_type": "code",
   "execution_count": null,
   "metadata": {},
   "outputs": [
    {
     "data": {
      "text/plain": [
       "'ja'"
      ]
     },
     "execution_count": 15,
     "metadata": {},
     "output_type": "execute_result"
    }
   ],
   "source": [
    "urlaubsreif[\"Wanderschuhe\"]"
   ]
  },
  {
   "cell_type": "code",
   "execution_count": null,
   "metadata": {},
   "outputs": [
    {
     "data": {
      "text/plain": [
       "'ja'"
      ]
     },
     "execution_count": 16,
     "metadata": {},
     "output_type": "execute_result"
    }
   ],
   "source": [
    "urlaubsreif[\"Wanderschuhe\"]"
   ]
  },
  {
   "cell_type": "code",
   "execution_count": null,
   "metadata": {},
   "outputs": [
    {
     "data": {
      "text/plain": [
       "'ja'"
      ]
     },
     "execution_count": 17,
     "metadata": {},
     "output_type": "execute_result"
    }
   ],
   "source": [
    "urlaubsreif.pop(\"Wanderschuhe\")"
   ]
  },
  {
   "cell_type": "code",
   "execution_count": null,
   "metadata": {},
   "outputs": [
    {
     "name": "stdout",
     "output_type": "stream",
     "text": [
      "{'t-Shirts': 'ja', 'Hosen': 'ja', 'Sonnencreme': 'nein', 'Snacks': 'ja', 'Perso': 'nein', 'Ladekabel': 'nein', 'Personalausweis': ['Ja'], 'Sonnenbrille': ['Ja'], 'Flipflops': 'ja'}\n"
     ]
    }
   ],
   "source": [
    "print(urlaubsreif)"
   ]
  },
  {
   "cell_type": "code",
   "execution_count": null,
   "metadata": {},
   "outputs": [],
   "source": [
    "urlaubsreif[\"Personalausweis\"] = \"Ja\""
   ]
  },
  {
   "cell_type": "code",
   "execution_count": null,
   "metadata": {},
   "outputs": [],
   "source": [
    "urlaubsreif[\"Sonnebrille\"] = \"Ja\""
   ]
  },
  {
   "cell_type": "code",
   "execution_count": null,
   "metadata": {},
   "outputs": [],
   "source": [
    "urlaubsreif[\"Wanderschuhe\"] = \"Ja\""
   ]
  },
  {
   "cell_type": "code",
   "execution_count": null,
   "metadata": {},
   "outputs": [
    {
     "name": "stdout",
     "output_type": "stream",
     "text": [
      "dict_keys(['t-Shirts', 'Hosen', 'Sonnencreme', 'Snacks', 'Perso', 'Ladekabel', 'Personalausweis', 'Sonnenbrille', 'Flipflops', 'Sonnebrille', 'Wanderschuhe'])\n"
     ]
    }
   ],
   "source": [
    "x = urlaubsreif.keys()\n",
    "print(x)\n",
    "\n"
   ]
  },
  {
   "cell_type": "code",
   "execution_count": null,
   "metadata": {},
   "outputs": [
    {
     "data": {
      "text/plain": [
       "11"
      ]
     },
     "execution_count": 25,
     "metadata": {},
     "output_type": "execute_result"
    }
   ],
   "source": [
    "len(urlaubsreif)"
   ]
  },
  {
   "cell_type": "code",
   "execution_count": null,
   "metadata": {},
   "outputs": [
    {
     "name": "stdout",
     "output_type": "stream",
     "text": [
      "{'t-Shirts': 'ja', 'Hosen': 'ja', 'Sonnencreme': 'nein', 'Snacks': 'ja', 'Perso': 'nein', 'Ladekabel': 'nein', 'Personalausweis': 'Ja', 'Sonnenbrille': ['Ja'], 'Flipflops': 'ja', 'Sonnebrille': 'Ja', 'Wanderschuhe': 'Nein'}\n"
     ]
    }
   ],
   "source": [
    "urlaubsreif[\"Wanderschuhe\"] = \"Nein\"\n",
    "print(urlaubsreif)\n",
    "\n"
   ]
  },
  {
   "cell_type": "code",
   "execution_count": null,
   "metadata": {},
   "outputs": [
    {
     "name": "stdout",
     "output_type": "stream",
     "text": [
      "{'t-Shirts': 'ja', 'Hosen': 'ja', 'Sonnencreme': 'nein', 'Snacks': 'ja', 'Perso': 'nein', 'Ladekabel': 'nein', 'Sonnenbrille': ['Ja'], 'Flipflops': 'ja'}\n"
     ]
    }
   ],
   "source": [
    "urlaubsreif.pop(\"Sonnebrille\")\n",
    "urlaubsreif.pop(\"Wanderschuhe\")\n",
    "urlaubsreif.pop(\"Personalausweis\")\n",
    "print(urlaubsreif)\n",
    "\n"
   ]
  },
  {
   "cell_type": "code",
   "execution_count": null,
   "metadata": {},
   "outputs": [],
   "source": [
    "urlaubsreif[\"Sonnenbrille\"] = \"Ja\""
   ]
  },
  {
   "cell_type": "code",
   "execution_count": null,
   "metadata": {},
   "outputs": [
    {
     "name": "stdout",
     "output_type": "stream",
     "text": [
      "{'t-Shirts': 'ja', 'Hosen': 'ja', 'Sonnencreme': 'nein', 'Snacks': 'ja', 'Perso': 'nein', 'Ladekabel': 'nein', 'Sonnenbrille': 'Ja', 'Flipflops': 'ja'}\n"
     ]
    }
   ],
   "source": [
    "print(urlaubsreif)"
   ]
  },
  {
   "cell_type": "code",
   "execution_count": null,
   "metadata": {},
   "outputs": [
    {
     "data": {
      "text/plain": [
       "8"
      ]
     },
     "execution_count": 33,
     "metadata": {},
     "output_type": "execute_result"
    }
   ],
   "source": [
    "len(urlaubsreif)"
   ]
  },
  {
   "cell_type": "code",
   "execution_count": null,
   "metadata": {},
   "outputs": [
    {
     "data": {
      "text/plain": [
       "dict_values(['ja', 'ja', 'nein', 'ja', 'nein', 'nein', 'Ja', 'ja'])"
      ]
     },
     "execution_count": 35,
     "metadata": {},
     "output_type": "execute_result"
    }
   ],
   "source": [
    "urlaubsreif.values()"
   ]
  },
  {
   "cell_type": "code",
   "execution_count": null,
   "metadata": {},
   "outputs": [
    {
     "data": {
      "text/plain": [
       "['ja', 'ja', 'nein', 'ja', 'nein', 'nein', 'Ja', 'ja']"
      ]
     },
     "execution_count": 37,
     "metadata": {},
     "output_type": "execute_result"
    }
   ],
   "source": [
    "list(urlaubsreif.values())\n",
    "\n",
    "\n"
   ]
  }
 ],
 "metadata": {
  "language_info": {
   "codemirror_mode": {
    "name": "ipython",
    "version": 3
   },
   "file_extension": ".py",
   "mimetype": "text/x-python",
   "name": "python",
   "nbconvert_exporter": "python",
   "pygments_lexer": "ipython3",
   "version": 3
  }
 },
 "nbformat": 4,
 "nbformat_minor": 2
}
