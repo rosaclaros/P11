{
 "cells": [
  {
   "cell_type": "markdown",
   "metadata": {},
   "source": [
    "Restarted Python 3.12.7"
   ]
  },
  {
   "cell_type": "code",
   "execution_count": null,
   "id": "8e35b96e-937d-4cd1-aabc-ed532792f81c",
   "metadata": {},
   "outputs": [],
   "source": [
    "import random\n",
    "\n",
    "def vorkommen_in_liste(zahl, liste):\n",
    "    \n",
    "    ergebnis = []\n",
    "    \n",
    "    for i in range(0, len(liste)):\n",
    "        \n",
    "        if len(liste[i]) == zahl:\n",
    "        \n",
    "            ergebnis.append(i)\n",
    "    \n",
    "    return ergebnis\n",
    "\n",
    "# [i for i in range(0, len(liste)) if len(liste[1]) == 4]\n",
    "        \n",
    "liste = [\"Heute\", \"ist\", \"nicht\",\"alle\", \"Tage\", \"ich\", \"komm\", \"wieder\", \"keine\", \"Frage\"]\n",
    "\n",
    "def wuerfeln(n):\n",
    "    random.randint(1, n)\n",
    "\n",
    "def ratespiel(n, max):\n",
    "    erraten = False\n",
    "    raten_zahl = wuerfeln(n)\n",
    "    counter = 1\n",
    "\n",
    "    while counter < max:\n",
    "        eingabe = int(input(\"Rate ein Zahl\"))\n",
    "        if eingabe == raten_zahl:\n",
    "            return f\"Du hast richtig erraten und musst {counter * 10} Cent bezahlen\"  \n",
    "        else:\n",
    "            print(f\"Falsch geraten! Du bist bei der {counter}. Versuch. Zahle {counter * 10} Cent!\")   \n",
    "            counter += 1     \n",
    "        \n",
    "    else:\n",
    "        return f\"Du hast in {counter} Versuche der Zahl nicht erraten. Du muss {counter * 10} Cent zahlen\"\n",
    "    \n",
    "#"
   ]
  },
  {
   "cell_type": "code",
   "execution_count": null,
   "metadata": {},
   "outputs": [
    {
     "name": "stdout",
     "output_type": "stream",
     "text": [
      "Falsch geraten! Du bist bei der 1. Versuch. Zahle 10 Cent!\n",
      "Falsch geraten! Du bist bei der 2. Versuch. Zahle 20 Cent!\n",
      "Falsch geraten! Du bist bei der 3. Versuch. Zahle 30 Cent!\n",
      "Falsch geraten! Du bist bei der 4. Versuch. Zahle 40 Cent!\n"
     ]
    },
    {
     "data": {
      "text/plain": [
       "'Du hast in 5 Versuche der Zahl nicht erraten. Du muss 50 Cent zahlen'"
      ]
     },
     "execution_count": 2,
     "metadata": {},
     "output_type": "execute_result"
    }
   ],
   "source": [
    "ratespiel(10, 5)"
   ]
  },
  {
   "cell_type": "code",
   "execution_count": null,
   "metadata": {},
   "outputs": [],
   "source": []
  }
 ],
 "metadata": {
  "kernelspec": {
   "display_name": "Python 3",
   "language": "python",
   "name": "python3"
  },
  "language_info": {
   "codemirror_mode": {
    "name": "ipython",
    "version": 3
   },
   "file_extension": ".py",
   "mimetype": "text/x-python",
   "name": "python",
   "nbconvert_exporter": "python",
   "pygments_lexer": "ipython3",
   "version": "3.12.7"
  }
 },
 "nbformat": 4,
 "nbformat_minor": 2
}
