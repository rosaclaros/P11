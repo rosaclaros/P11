{
 "cells": [
  {
   "cell_type": "code",
   "execution_count": null,
   "metadata": {},
   "outputs": [],
   "source": [
    "import textgrids\n",
    "\n",
    "\n"
   ]
  },
  {
   "cell_type": "code",
   "execution_count": null,
   "metadata": {},
   "outputs": [],
   "source": [
    "import os\n",
    "import os.path\n",
    "import wave\n",
    "\n"
   ]
  },
  {
   "cell_type": "code",
   "execution_count": null,
   "metadata": {},
   "outputs": [],
   "source": [
    "def sucheSegmentNachLabel(tiername, grid, label):\n",
    "    tier = grid(tiername)\n",
    "    return [segment for segment in tier if segment.text == label]\n",
    "\n"
   ]
  },
  {
   "cell_type": "code",
   "execution_count": null,
   "metadata": {},
   "outputs": [
    {
     "ename": "TypeError",
     "evalue": "'TextGrid' object is not callable",
     "output_type": "error",
     "traceback": [
      "\u001b[1;31m---------------------------------------------------------------------------\u001b[0m",
      "\u001b[1;31mTypeError\u001b[0m                                 Traceback (most recent call last)",
      "Cell \u001b[1;32mIn[14], line 1\u001b[0m\n\u001b[1;32m----> 1\u001b[0m segementliste \u001b[39m=\u001b[39m sucheSegmentNachLabel(\u001b[39m'\u001b[39;49m\u001b[39mORT-MAU\u001b[39;49m\u001b[39m'\u001b[39;49m, grid,\u001b[39m'\u001b[39;49m\u001b[39mBundeskanzler\u001b[39;49m\u001b[39m'\u001b[39;49m)\n",
      "Cell \u001b[1;32mIn[13], line 2\u001b[0m, in \u001b[0;36msucheSegmentNachLabel\u001b[1;34m(tiername, grid, label)\u001b[0m\n\u001b[0;32m      1\u001b[0m \u001b[39mdef\u001b[39;00m \u001b[39msucheSegmentNachLabel\u001b[39m(tiername, grid, label):\n\u001b[1;32m----> 2\u001b[0m     tier \u001b[39m=\u001b[39m grid(tiername)\n\u001b[0;32m      3\u001b[0m     \u001b[39mreturn\u001b[39;00m [segment \u001b[39mfor\u001b[39;00m segment \u001b[39min\u001b[39;00m tier \u001b[39mif\u001b[39;00m segment\u001b[39m.\u001b[39mtext \u001b[39m==\u001b[39m label]\n",
      "\u001b[1;31mTypeError\u001b[0m: 'TextGrid' object is not callable"
     ]
    }
   ],
   "source": [
    "segementliste = sucheSegmentNachLabel('ORT-MAU', grid,'Bundeskanzler')"
   ]
  },
  {
   "cell_type": "code",
   "execution_count": null,
   "metadata": {},
   "outputs": [],
   "source": [
    "def sucheSegmentNachLabel(tiername, grid, label):\n",
    "    tier = grid[tiername]\n",
    "    return [segment for segment in tier if segment.text == label]\n",
    "\n"
   ]
  },
  {
   "cell_type": "code",
   "execution_count": null,
   "metadata": {},
   "outputs": [],
   "source": [
    "segementliste = sucheSegmentNachLabel('ORT-MAU', grid,'Bundeskanzler')"
   ]
  },
  {
   "cell_type": "code",
   "execution_count": null,
   "metadata": {},
   "outputs": [
    {
     "ename": "NameError",
     "evalue": "name 'segmentliste' is not defined",
     "output_type": "error",
     "traceback": [
      "\u001b[1;31m---------------------------------------------------------------------------\u001b[0m",
      "\u001b[1;31mNameError\u001b[0m                                 Traceback (most recent call last)",
      "Cell \u001b[1;32mIn[17], line 1\u001b[0m\n\u001b[1;32m----> 1\u001b[0m segmentliste\n",
      "\u001b[1;31mNameError\u001b[0m: name 'segmentliste' is not defined"
     ]
    }
   ],
   "source": [
    "segmentliste"
   ]
  },
  {
   "cell_type": "code",
   "execution_count": null,
   "metadata": {},
   "outputs": [
    {
     "data": {
      "text/plain": [
       "[<Interval text=\"Bundeskanzler\" xmin=0.177098 xmax=0.807075>]"
      ]
     },
     "execution_count": 18,
     "metadata": {},
     "output_type": "execute_result"
    }
   ],
   "source": [
    "segementliste"
   ]
  },
  {
   "cell_type": "code",
   "execution_count": null,
   "metadata": {},
   "outputs": [],
   "source": [
    "def sucheSegmenteImZeitraum (tiername, grid, von, bis):\n",
    "    tier = grid[tiername]\n",
    "    return [segment for segment in tier if (segment.xmin >= von and segment.xmax <= bis)]\n",
    "\n"
   ]
  },
  {
   "cell_type": "code",
   "execution_count": null,
   "metadata": {},
   "outputs": [],
   "source": [
    "wortsegment = segementliste[0]"
   ]
  },
  {
   "cell_type": "code",
   "execution_count": null,
   "metadata": {},
   "outputs": [
    {
     "ename": "NameError",
     "evalue": "name 'tiername' is not defined",
     "output_type": "error",
     "traceback": [
      "\u001b[1;31m---------------------------------------------------------------------------\u001b[0m",
      "\u001b[1;31mNameError\u001b[0m                                 Traceback (most recent call last)",
      "Cell \u001b[1;32mIn[21], line 1\u001b[0m\n\u001b[1;32m----> 1\u001b[0m lautsegmente \u001b[39m=\u001b[39m sucheSegmenteImZeitraum(tiername, grid, wortsegment\u001b[39m.\u001b[39mxmin, wortsegment\u001b[39m.\u001b[39mxmax)\n",
      "\u001b[1;31mNameError\u001b[0m: name 'tiername' is not defined"
     ]
    }
   ],
   "source": [
    "lautsegmente = sucheSegmenteImZeitraum(tiername, grid, wortsegment.xmin, wortsegment.xmax)"
   ]
  },
  {
   "cell_type": "code",
   "execution_count": null,
   "metadata": {},
   "outputs": [],
   "source": [
    "lautsegmente = sucheSegmenteImZeitraum('ORT-MAU', grid, wortsegment.xmin, wortsegment.xmax)"
   ]
  },
  {
   "cell_type": "code",
   "execution_count": null,
   "metadata": {},
   "outputs": [
    {
     "data": {
      "text/plain": [
       "[<Interval text=\"Bundeskanzler\" xmin=0.177098 xmax=0.807075>]"
      ]
     },
     "execution_count": 23,
     "metadata": {},
     "output_type": "execute_result"
    }
   ],
   "source": [
    "lautsegmente"
   ]
  },
  {
   "cell_type": "code",
   "execution_count": null,
   "metadata": {},
   "outputs": [],
   "source": [
    "lautsegmente = sucheSegmenteImZeitraum('MAU', grid, wortsegment.xmin, wortsegment.xmax)"
   ]
  },
  {
   "cell_type": "code",
   "execution_count": null,
   "metadata": {},
   "outputs": [
    {
     "data": {
      "text/plain": [
       "[<Interval text=\"b\" xmin=0.177098 xmax=0.247075>,\n",
       " <Interval text=\"ʊ\" xmin=0.247075 xmax=0.32712>,\n",
       " <Interval text=\"n\" xmin=0.32712 xmax=0.36712>,\n",
       " <Interval text=\"ə\" xmin=0.36712 xmax=0.437098>,\n",
       " <Interval text=\"s\" xmin=0.437098 xmax=0.467075>,\n",
       " <Interval text=\"k\" xmin=0.467075 xmax=0.56712>,\n",
       " <Interval text=\"a\" xmin=0.56712 xmax=0.597098>,\n",
       " <Interval text=\"n\" xmin=0.597098 xmax=0.637098>,\n",
       " <Interval text=\"ts\" xmin=0.637098 xmax=0.707075>,\n",
       " <Interval text=\"l\" xmin=0.707075 xmax=0.757098>,\n",
       " <Interval text=\"ɐ\" xmin=0.757098 xmax=0.807075>]"
      ]
     },
     "execution_count": 25,
     "metadata": {},
     "output_type": "execute_result"
    }
   ],
   "source": [
    "lautsegmente"
   ]
  },
  {
   "cell_type": "code",
   "execution_count": null,
   "metadata": {},
   "outputs": [],
   "source": [
    "# sucht auf der Ebene tiername nach einem Segment mit einem bestimmten Label\n",
    "def sucheSegmentNachLabel(tier, grid, label):\n",
    "    return [segment for segment in tier if segment.text == label]\n",
    "\n",
    "# segementliste = sucheSegmentNachLabel('ORT-MAU', grid,'Bundeskanzler')\n",
    "    \n",
    "# sucht auf der Ebene Tiername nach allen Segmenten innerhalb eines Zeitraums\n",
    "\n",
    "def sucheSegmenteImZeitraum (tiervon, grid, von, bis):\n",
    "    return [segment for segment in tiervon if (segment.xmin >= von and segment.xmax <= bis)]\n",
    "\n"
   ]
  },
  {
   "cell_type": "code",
   "execution_count": null,
   "metadata": {},
   "outputs": [],
   "source": [
    "worttier = grid['ORT-MAU']"
   ]
  },
  {
   "cell_type": "code",
   "execution_count": null,
   "metadata": {},
   "outputs": [],
   "source": [
    "lauttier = grid['MAU']"
   ]
  },
  {
   "cell_type": "code",
   "execution_count": null,
   "metadata": {},
   "outputs": [
    {
     "ename": "TypeError",
     "evalue": "sucheSegmentNachLabel() missing 1 required positional argument: 'label'",
     "output_type": "error",
     "traceback": [
      "\u001b[1;31m---------------------------------------------------------------------------\u001b[0m",
      "\u001b[1;31mTypeError\u001b[0m                                 Traceback (most recent call last)",
      "Cell \u001b[1;32mIn[29], line 1\u001b[0m\n\u001b[1;32m----> 1\u001b[0m wortsegment \u001b[39m=\u001b[39m sucheSegmentNachLabel(worttier, \u001b[39m'\u001b[39;49m\u001b[39mBundeskanzler\u001b[39;49m\u001b[39m'\u001b[39;49m)\n",
      "\u001b[1;31mTypeError\u001b[0m: sucheSegmentNachLabel() missing 1 required positional argument: 'label'"
     ]
    }
   ],
   "source": [
    "wortsegment = sucheSegmentNachLabel(worttier, 'Bundeskanzler')"
   ]
  },
  {
   "cell_type": "code",
   "execution_count": null,
   "metadata": {},
   "outputs": [],
   "source": [
    "# sucht auf der Ebene tiername nach einem Segment mit einem bestimmten Label\n",
    "def sucheSegmentNachLabel(tier, label):\n",
    "    return [segment for segment in tier if segment.text == label]\n",
    "\n",
    "# segementliste = sucheSegmentNachLabel('ORT-MAU', grid,'Bundeskanzler')\n",
    "    \n",
    "# sucht auf der Ebene Tiername nach allen Segmenten innerhalb eines Zeitraums\n",
    "\n",
    "def sucheSegmenteImZeitraum (tiervon, bis):\n",
    "    return [segment for segment in tier if (segment.xmin >= von and segment.xmax <= bis)]\n",
    "\n"
   ]
  },
  {
   "cell_type": "code",
   "execution_count": null,
   "metadata": {},
   "outputs": [],
   "source": [
    "worttier = grid['ORT-MAU']"
   ]
  },
  {
   "cell_type": "code",
   "execution_count": null,
   "metadata": {},
   "outputs": [],
   "source": [
    "lauttier = grid['MAU']"
   ]
  },
  {
   "cell_type": "code",
   "execution_count": null,
   "metadata": {},
   "outputs": [],
   "source": [
    "wortsegment = sucheSegmentNachLabel(worttier, 'Bundeskanzler')"
   ]
  },
  {
   "cell_type": "code",
   "execution_count": null,
   "metadata": {},
   "outputs": [
    {
     "data": {
      "text/plain": [
       "1"
      ]
     },
     "execution_count": 34,
     "metadata": {},
     "output_type": "execute_result"
    }
   ],
   "source": [
    "len(wortsegment)"
   ]
  },
  {
   "cell_type": "code",
   "execution_count": null,
   "metadata": {},
   "outputs": [
    {
     "data": {
      "text/plain": [
       "0.177098"
      ]
     },
     "execution_count": 35,
     "metadata": {},
     "output_type": "execute_result"
    }
   ],
   "source": [
    "wortsegment[0].xmin"
   ]
  },
  {
   "cell_type": "code",
   "execution_count": null,
   "metadata": {},
   "outputs": [],
   "source": [
    "def sucheSegmentNachLabel(tier, label):\n",
    "    return [segment for segment in tier if segment.text == label]\n",
    "\n",
    "# segementliste = sucheSegmentNachLabel('ORT-MAU', grid,'Bundeskanzler')\n",
    "    \n",
    "# sucht auf der Ebene Tiername nach allen Segmenten innerhalb eines Zeitraums\n",
    "\n",
    "def sucheSegmenteImZeitraum (tier, von, bis):\n",
    "    return [segment for segment in tier if (segment.xmin >= von and segment.xmax <= bis)]\n",
    "\n"
   ]
  },
  {
   "cell_type": "code",
   "execution_count": null,
   "metadata": {},
   "outputs": [],
   "source": [
    "worttier = grid['ORT-MAU']"
   ]
  },
  {
   "cell_type": "code",
   "execution_count": null,
   "metadata": {},
   "outputs": [],
   "source": [
    "lauttier = grid['MAU']"
   ]
  },
  {
   "cell_type": "code",
   "execution_count": null,
   "metadata": {},
   "outputs": [],
   "source": [
    "wortsegment = sucheSegmentNachLabel(worttier, 'Bundeskanzler')"
   ]
  },
  {
   "cell_type": "code",
   "execution_count": null,
   "metadata": {},
   "outputs": [],
   "source": [
    "lautsegmente = sucheSegmenteImZeitraum(lauttier, wortsegment[0].xmin, wortsegment[0].xmax )"
   ]
  },
  {
   "cell_type": "code",
   "execution_count": null,
   "metadata": {},
   "outputs": [],
   "source": [
    "lautsegmente = sucheSegmenteImZeitraum(lauttier, 1.0, 2.0)"
   ]
  },
  {
   "cell_type": "code",
   "execution_count": null,
   "metadata": {},
   "outputs": [
    {
     "data": {
      "text/plain": [
       "[<Interval text=\"øː\" xmin=1.007075 xmax=1.06712>,\n",
       " <Interval text=\"d\" xmin=1.06712 xmax=1.10712>,\n",
       " <Interval text=\"ɐ\" xmin=1.10712 xmax=1.177098>,\n",
       " <Interval text=\"h\" xmin=1.177098 xmax=1.227075>,\n",
       " <Interval text=\"a\" xmin=1.227075 xmax=1.277098>,\n",
       " <Interval text=\"t\" xmin=1.277098 xmax=1.337098>,\n",
       " <Interval text=\"d\" xmin=1.337098 xmax=1.387075>,\n",
       " <Interval text=\"eː\" xmin=1.387075 xmax=1.437098>,\n",
       " <Interval text=\"m\" xmin=1.437098 xmax=1.547075>,\n",
       " <Interval text=\"d\" xmin=1.547075 xmax=1.597098>,\n",
       " <Interval text=\"ɔʏ\" xmin=1.597098 xmax=1.697098>,\n",
       " <Interval text=\"t\" xmin=1.697098 xmax=1.727075>,\n",
       " <Interval text=\"ʃ\" xmin=1.727075 xmax=1.817098>,\n",
       " <Interval text=\"n\" xmin=1.817098 xmax=1.937098>,\n",
       " <Interval text=\"b\" xmin=1.937098 xmax=1.967075>]"
      ]
     },
     "execution_count": 42,
     "metadata": {},
     "output_type": "execute_result"
    }
   ],
   "source": [
    "lautsegmente"
   ]
  },
  {
   "cell_type": "code",
   "execution_count": null,
   "metadata": {},
   "outputs": [],
   "source": [
    "def sucheSegementNachLabelfolge(tier, folge):\n",
    "    if len(tier) == 0:\n",
    "        return None\n",
    "    elif len(folge) == 0:\n",
    "        return []\n",
    "    elif tier[0] == folge[0]:\n",
    "        return tier[0].append(sucheSegementNachLabelfolge(tier[1:], folge[1:]))\n",
    "    else:\n",
    "        return sucheSegementNachLabelfolge(tier[1:], folge)\n",
    "\n"
   ]
  },
  {
   "cell_type": "code",
   "execution_count": null,
   "metadata": {},
   "outputs": [
    {
     "ename": "AttributeError",
     "evalue": "'int' object has no attribute 'append'",
     "output_type": "error",
     "traceback": [
      "\u001b[1;31m---------------------------------------------------------------------------\u001b[0m",
      "\u001b[1;31mAttributeError\u001b[0m                            Traceback (most recent call last)",
      "Cell \u001b[1;32mIn[44], line 1\u001b[0m\n\u001b[1;32m----> 1\u001b[0m sucheSegementNachLabelfolge([\u001b[39m1\u001b[39;49m, \u001b[39m2\u001b[39;49m, \u001b[39m3\u001b[39;49m, \u001b[39m4\u001b[39;49m, \u001b[39m5\u001b[39;49m], [\u001b[39m3\u001b[39;49m,\u001b[39m4\u001b[39;49m])\n",
      "Cell \u001b[1;32mIn[43], line 9\u001b[0m, in \u001b[0;36msucheSegementNachLabelfolge\u001b[1;34m(tier, folge)\u001b[0m\n\u001b[0;32m      7\u001b[0m     \u001b[39mreturn\u001b[39;00m tier[\u001b[39m0\u001b[39m]\u001b[39m.\u001b[39mappend(sucheSegementNachLabelfolge(tier[\u001b[39m1\u001b[39m:], folge[\u001b[39m1\u001b[39m:]))\n\u001b[0;32m      8\u001b[0m \u001b[39melse\u001b[39;00m:\n\u001b[1;32m----> 9\u001b[0m     \u001b[39mreturn\u001b[39;00m sucheSegementNachLabelfolge(tier[\u001b[39m1\u001b[39;49m:], folge)\n",
      "Cell \u001b[1;32mIn[43], line 9\u001b[0m, in \u001b[0;36msucheSegementNachLabelfolge\u001b[1;34m(tier, folge)\u001b[0m\n\u001b[0;32m      7\u001b[0m     \u001b[39mreturn\u001b[39;00m tier[\u001b[39m0\u001b[39m]\u001b[39m.\u001b[39mappend(sucheSegementNachLabelfolge(tier[\u001b[39m1\u001b[39m:], folge[\u001b[39m1\u001b[39m:]))\n\u001b[0;32m      8\u001b[0m \u001b[39melse\u001b[39;00m:\n\u001b[1;32m----> 9\u001b[0m     \u001b[39mreturn\u001b[39;00m sucheSegementNachLabelfolge(tier[\u001b[39m1\u001b[39;49m:], folge)\n",
      "Cell \u001b[1;32mIn[43], line 7\u001b[0m, in \u001b[0;36msucheSegementNachLabelfolge\u001b[1;34m(tier, folge)\u001b[0m\n\u001b[0;32m      5\u001b[0m     \u001b[39mreturn\u001b[39;00m []\n\u001b[0;32m      6\u001b[0m \u001b[39melif\u001b[39;00m tier[\u001b[39m0\u001b[39m] \u001b[39m==\u001b[39m folge[\u001b[39m0\u001b[39m]:\n\u001b[1;32m----> 7\u001b[0m     \u001b[39mreturn\u001b[39;00m tier[\u001b[39m0\u001b[39;49m]\u001b[39m.\u001b[39;49mappend(sucheSegementNachLabelfolge(tier[\u001b[39m1\u001b[39m:], folge[\u001b[39m1\u001b[39m:]))\n\u001b[0;32m      8\u001b[0m \u001b[39melse\u001b[39;00m:\n\u001b[0;32m      9\u001b[0m     \u001b[39mreturn\u001b[39;00m sucheSegementNachLabelfolge(tier[\u001b[39m1\u001b[39m:], folge)\n",
      "\u001b[1;31mAttributeError\u001b[0m: 'int' object has no attribute 'append'"
     ]
    }
   ],
   "source": [
    "sucheSegementNachLabelfolge([1, 2, 3, 4, 5], [3,4])"
   ]
  },
  {
   "cell_type": "code",
   "execution_count": null,
   "metadata": {},
   "outputs": [],
   "source": [
    "def sucheSegementNachLabelfolge(tier, folge):\n",
    "    if len(tier) == 0:\n",
    "        return None\n",
    "    elif len(folge) == 0:\n",
    "        return []\n",
    "    elif tier[0] == folge[0]:\n",
    "        return [tier[0]].append(sucheSegementNachLabelfolge(tier[1:], folge[1:]))\n",
    "    else:\n",
    "        return sucheSegementNachLabelfolge(tier[1:], folge)\n",
    "\n"
   ]
  },
  {
   "cell_type": "code",
   "execution_count": null,
   "metadata": {},
   "outputs": [],
   "source": [
    "sucheSegementNachLabelfolge([1, 2, 3, 4, 5], [3,4])\n",
    "\n",
    "\n",
    "\n"
   ]
  },
  {
   "cell_type": "code",
   "execution_count": null,
   "metadata": {},
   "outputs": [
    {
     "ename": "NameError",
     "evalue": "name 'suche' is not defined",
     "output_type": "error",
     "traceback": [
      "\u001b[1;31m---------------------------------------------------------------------------\u001b[0m",
      "\u001b[1;31mNameError\u001b[0m                                 Traceback (most recent call last)",
      "Cell \u001b[1;32mIn[47], line 1\u001b[0m\n\u001b[1;32m----> 1\u001b[0m wortsegment \u001b[39m=\u001b[39m suche\n",
      "\u001b[1;31mNameError\u001b[0m: name 'suche' is not defined"
     ]
    }
   ],
   "source": [
    "wortsegment = suche"
   ]
  },
  {
   "cell_type": "code",
   "execution_count": null,
   "metadata": {},
   "outputs": [
    {
     "ename": "NameError",
     "evalue": "name 'vs' is not defined",
     "output_type": "error",
     "traceback": [
      "\u001b[1;31m---------------------------------------------------------------------------\u001b[0m",
      "\u001b[1;31mNameError\u001b[0m                                 Traceback (most recent call last)",
      "Cell \u001b[1;32mIn[48], line 3\u001b[0m\n\u001b[0;32m      1\u001b[0m wortsegment \u001b[39m=\u001b[39m sucheSegmentNachLabel(worttier, \u001b[39m'\u001b[39m\u001b[39mBundeskanzler\u001b[39m\u001b[39m'\u001b[39m)\n\u001b[0;32m      2\u001b[0m ws \u001b[39m=\u001b[39m wortsegment[\u001b[39m0\u001b[39m]\n\u001b[1;32m----> 3\u001b[0m lautsegmente \u001b[39m=\u001b[39m sucheSegmenteImZeitraum(lauttier, ws\u001b[39m.\u001b[39mxmin, vs\u001b[39m.\u001b[39mxmax)\n",
      "\u001b[1;31mNameError\u001b[0m: name 'vs' is not defined"
     ]
    }
   ],
   "source": [
    "wortsegment = sucheSegmentNachLabel(worttier, 'Bundeskanzler')\n",
    "ws = wortsegment[0]\n",
    "lautsegmente = sucheSegmenteImZeitraum(lauttier, ws.xmin, vs.xmax)\n",
    "\n"
   ]
  },
  {
   "cell_type": "code",
   "execution_count": null,
   "metadata": {},
   "outputs": [],
   "source": [
    "wortsegment = sucheSegmentNachLabel(worttier, 'Bundeskanzler')\n",
    "ws = wortsegment[0]\n",
    "lautsegmente = sucheSegmenteImZeitraum(lauttier, ws.xmin, ws.xmax)\n",
    "\n",
    "\n",
    "\n"
   ]
  },
  {
   "cell_type": "code",
   "execution_count": null,
   "metadata": {},
   "outputs": [
    {
     "data": {
      "text/plain": [
       "[<Interval text=\"b\" xmin=0.177098 xmax=0.247075>,\n",
       " <Interval text=\"ʊ\" xmin=0.247075 xmax=0.32712>,\n",
       " <Interval text=\"n\" xmin=0.32712 xmax=0.36712>,\n",
       " <Interval text=\"ə\" xmin=0.36712 xmax=0.437098>,\n",
       " <Interval text=\"s\" xmin=0.437098 xmax=0.467075>,\n",
       " <Interval text=\"k\" xmin=0.467075 xmax=0.56712>,\n",
       " <Interval text=\"a\" xmin=0.56712 xmax=0.597098>,\n",
       " <Interval text=\"n\" xmin=0.597098 xmax=0.637098>,\n",
       " <Interval text=\"ts\" xmin=0.637098 xmax=0.707075>,\n",
       " <Interval text=\"l\" xmin=0.707075 xmax=0.757098>,\n",
       " <Interval text=\"ɐ\" xmin=0.757098 xmax=0.807075>]"
      ]
     },
     "execution_count": 50,
     "metadata": {},
     "output_type": "execute_result"
    }
   ],
   "source": [
    "lautsegmente"
   ]
  },
  {
   "cell_type": "code",
   "execution_count": null,
   "metadata": {},
   "outputs": [],
   "source": [
    "s_segmente = sucheSegmentNachLabel(lautsegmente, 's')"
   ]
  },
  {
   "cell_type": "code",
   "execution_count": null,
   "metadata": {},
   "outputs": [
    {
     "data": {
      "text/plain": [
       "[<Interval text=\"s\" xmin=0.437098 xmax=0.467075>]"
      ]
     },
     "execution_count": 52,
     "metadata": {},
     "output_type": "execute_result"
    }
   ],
   "source": [
    "s_segmente"
   ]
  }
 ],
 "metadata": {
  "language_info": {
   "codemirror_mode": {
    "name": "ipython",
    "version": 3
   },
   "file_extension": ".py",
   "mimetype": "text/x-python",
   "name": "python",
   "nbconvert_exporter": "python",
   "pygments_lexer": "ipython3",
   "version": 3
  }
 },
 "nbformat": 4,
 "nbformat_minor": 2
}
